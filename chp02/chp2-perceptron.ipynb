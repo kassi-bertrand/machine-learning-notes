{
 "cells": [
  {
   "cell_type": "markdown",
   "id": "226d0d18",
   "metadata": {},
   "source": [
    "# Implementation of a Perceptron in Python"
   ]
  },
  {
   "cell_type": "code",
   "execution_count": 1,
   "id": "96580fb6",
   "metadata": {},
   "outputs": [],
   "source": [
    "import numpy as np\n",
    "\n",
    "class Perceptron(object):\n",
    "    \"\"\"Perceptron classifier\n",
    "    \n",
    "    Paramaters\n",
    "    -----------\n",
    "    eta: float\n",
    "        Learning rate (between 0.0 and 1.0)\n",
    "    \n",
    "    n_iter: int\n",
    "        The epoch\n",
    "    \n",
    "    random_state: int\n",
    "        A seed number to generate random number to initialize the weights\n",
    "        \n",
    "    Attributes\n",
    "    ----------\n",
    "    w_ : 1-d array\n",
    "        Weights after fitting aka learning.\n",
    "    \n",
    "    errors_: list\n",
    "        Number of misclassifications in EACH epoch.\n",
    "    \"\"\"\n",
    "    \n",
    "    def __init__(self, eta=0.01, n_iter=50, random_state=1):\n",
    "        self.eta = eta\n",
    "        self.n_iter = n_iter\n",
    "        self.random_state = random_state\n",
    "    \n",
    "    def fit(self, X, y):\n",
    "        \"\"\"\n",
    "        Fit Perceptron on training data\n",
    "        \n",
    "        Paramaters\n",
    "        ----------\n",
    "        X: array-like, or matrix. Shape is [n_examples, n_features]\n",
    "        Training dataset. A matrix containing n examples (lines), each with n features(columns).\n",
    "        \n",
    "        y: array-like. Shape is [n_examples]\n",
    "        n Target values. Where the nth value is the target value for\n",
    "        the nth training example in X\n",
    "        \n",
    "        Returns\n",
    "        ----------\n",
    "        self : object\n",
    "        \n",
    "        \"\"\"\n",
    "        rgen = np.random.RandomState(self.random_state)\n",
    "        self.w_ = rgen.normal(loc=0.0, scale=0.01,\n",
    "                             size=1 + X.shape[1])\n",
    "        self.errors_= []\n",
    "        \n",
    "        for _ in range(self.n_iter):\n",
    "            errors = 0\n",
    "            \n",
    "            for xi, target in zip(X, y): #xi is the \"current\" training example\n",
    "                update = self.eta * (target - self.predict(xi))\n",
    "                self.w_[1:] += update * xi\n",
    "                self.w_[0] += update\n",
    "                errors += int(update != 0.0) #increment errors by 1 if update is not zero (algo misclassified)\n",
    "            \n",
    "            self.errors_.append(errors) #add the numbers of mistakes for this epoch\n",
    "            \n",
    "        return self\n",
    "        \n",
    "    def net_input(self, X):\n",
    "        \"\"\"Calculate net input (i.e. linear combination)\"\"\"\n",
    "        return np.dot(X, self.w_[1:]) + self.w_[0] #the bias unit\n",
    "        \n",
    "    def predict(self, X):\n",
    "        \"\"\"Return class label after unit step\"\"\"\n",
    "        return np.where(self.net_input(X) >= 0.0, 1, -1) #Where net input is > 0, put 1, otherwise put -1"
   ]
  },
  {
   "cell_type": "markdown",
   "id": "b3187284",
   "metadata": {},
   "source": [
    "# Training the perceptron\n",
    "\n",
    "Now, we will test the perceptron using:\n",
    "1. Two features (two columns): The **sepal length** and **petal length** \n",
    "2. Two flower classes: **Setosa** and **Versicolor**\n",
    "\n",
    "We chose two consider only two classes because our perceptron is a **binary** classifier.\n",
    "However, considering only two features is allow us to visualize the decision regions in a *scatterplot* for learning. Our preceptron can handle more than two features."
   ]
  },
  {
   "cell_type": "markdown",
   "id": "3ff2ed2b",
   "metadata": {},
   "source": [
    "### Loading the Iris dataset into a panda dataframe"
   ]
  },
  {
   "cell_type": "code",
   "execution_count": 2,
   "id": "6499a344",
   "metadata": {},
   "outputs": [
    {
     "name": "stdout",
     "output_type": "stream",
     "text": [
      "       0    1    2    3               4\n",
      "145  6.7  3.0  5.2  2.3  Iris-virginica\n",
      "146  6.3  2.5  5.0  1.9  Iris-virginica\n",
      "147  6.5  3.0  5.2  2.0  Iris-virginica\n",
      "148  6.2  3.4  5.4  2.3  Iris-virginica\n",
      "149  5.9  3.0  5.1  1.8  Iris-virginica\n"
     ]
    }
   ],
   "source": [
    "import os\n",
    "import pandas as pd\n",
    "\n",
    "#load the dataset into Panda dataframe\n",
    "df = pd.read_csv('./iris.data',\n",
    "                 header=None,\n",
    "                 encoding='utf-8')\n",
    "\n",
    "#print the last five line to make sure the data is there\n",
    "print(df.tail())"
   ]
  },
  {
   "cell_type": "markdown",
   "id": "1db11916",
   "metadata": {},
   "source": [
    "### Form the training data to feed the perceptron\n",
    "\n",
    "As previously mentioned, we will be using two features(sepal and petal lengths), and two class labels: versicolor (1) and setosa (-1)"
   ]
  },
  {
   "cell_type": "code",
   "execution_count": 3,
   "id": "05c9e630",
   "metadata": {},
   "outputs": [],
   "source": [
    "import matplotlib.pyplot as plt\n",
    "\n",
    "#select setosa and versicolor labels (4th column) and turn them to 1 or -1\n",
    "y = df.iloc[0:100, 4].values\n",
    "y = np.where(y == 'Iris-setosa', -1, 1)\n",
    "\n",
    "#Create a matrix only containing the sepal length and petal length\n",
    "#We grab the first \"100 lines\", and the \"first\" and \"third\" columns\n",
    "X = df.iloc[0:100, [0, 2]].values\n",
    "\n",
    "#print(X)"
   ]
  },
  {
   "cell_type": "markdown",
   "id": "c8b5c11c",
   "metadata": {},
   "source": [
    "### Plot the data"
   ]
  },
  {
   "cell_type": "code",
   "execution_count": 4,
   "id": "56ed04fd",
   "metadata": {},
   "outputs": [
    {
     "data": {
      "image/png": "[encoded data removed]",
      "text/plain": [
       "<Figure size 640x480 with 1 Axes>"
      ]
     },
     "metadata": {},
     "output_type": "display_data"
    }
   ],
   "source": [
    "plt.scatter(X[:50, 0], X[:50, 1],\n",
    "           color='red', marker='o', label='setosa')\n",
    "\n",
    "plt.scatter(X[50:100, 0], X[50:100, 1],\n",
    "           color='blue', marker='x', label='versicolor')\n",
    "\n",
    "plt.xlabel('sepal length [cm]')\n",
    "plt.ylabel('petal length [cm]')\n",
    "plt.legend(loc='upper left')\n",
    "\n",
    "#display the graph\n",
    "plt.show()"
   ]
  },
  {
   "cell_type": "markdown",
   "id": "a9e67c90",
   "metadata": {},
   "source": [
    "As you can see in the above graph, the two classes are **linearly separable** (can be separated by a linear decision boundary). So, we know that the perceptron classifier we wrote earlier, will do a good job. But don't take my word for it, let's see it in action."
   ]
  },
  {
   "cell_type": "markdown",
   "id": "ab9b1853",
   "metadata": {},
   "source": [
    "### Let's feed the training data into the perceptron"
   ]
  },
  {
   "cell_type": "code",
   "execution_count": 5,
   "id": "aad2f26e",
   "metadata": {},
   "outputs": [
    {
     "data": {
      "text/plain": [
       "<__main__.Perceptron at 0x27ff6c1d700>"
      ]
     },
     "execution_count": 5,
     "metadata": {},
     "output_type": "execute_result"
    }
   ],
   "source": [
    "#Our new shiny perceptron :)\n",
    "perceptron = Perceptron(eta=0.1, n_iter=10)\n",
    "\n",
    "#Train the perceptron with the training set \"X\", and the label column \"y\"\n",
    "#Both \"X\", and \"y\" were defined in Cell 3 of this notebook\n",
    "perceptron.fit(X, y)"
   ]
  },
  {
   "cell_type": "markdown",
   "id": "6725e8c4",
   "metadata": {},
   "source": [
    "We finished training the perceptron, but let's plot the number of times our perceptron made a mistake for each epoch to see how it performed from one iteration to another."
   ]
  },
  {
   "cell_type": "code",
   "execution_count": 6,
   "id": "6d4cf10a",
   "metadata": {
    "scrolled": false
   },
   "outputs": [
    {
     "data": {
      "image/png": "[encoded data removed]",
      "text/plain": [
       "<Figure size 640x480 with 1 Axes>"
      ]
     },
     "metadata": {},
     "output_type": "display_data"
    }
   ],
   "source": [
    "plt.plot(range(1, len(perceptron.errors_) + 1),\n",
    "        perceptron.errors_, marker='o')\n",
    "\n",
    "plt.xlabel('Epochs')\n",
    "plt.ylabel('Number of updates(i.e. misclassification)')\n",
    "\n",
    "#show the graph\n",
    "plt.show()"
   ]
  },
  {
   "cell_type": "markdown",
   "id": "73b7204f",
   "metadata": {},
   "source": [
    "We set the epoch to `10` when creating the perceptron. That means we asked our perceptron to **iterate** of the training set 10 times. In order words, each training example in the training set was processed 10 times by the perceptron.\n",
    "\n",
    "We can also see that after the ***sixth*** iteration on the training set, *the perceptron no longer makes mistakes*, so it no longer updates `w_`, the weight vector. That's why the number of updates remains zero.\n",
    "\n",
    "Because the number of updates stabilizes after the sixth epoch, we say that the perceptron **converges** at this epoch."
   ]
  },
  {
   "cell_type": "code",
   "execution_count": null,
   "id": "0c3b332d",
   "metadata": {},
   "outputs": [],
   "source": []
  }
 ],
 "metadata": {
  "kernelspec": {
   "display_name": "Python 3 (ipykernel)",
   "language": "python",
   "name": "python3"
  },
  "language_info": {
   "codemirror_mode": {
    "name": "ipython",
    "version": 3
   },
   "file_extension": ".py",
   "mimetype": "text/x-python",
   "name": "python",
   "nbconvert_exporter": "python",
   "pygments_lexer": "ipython3",
   "version": "3.9.13"
  }
 },
 "nbformat": 4,
 "nbformat_minor": 5
}
