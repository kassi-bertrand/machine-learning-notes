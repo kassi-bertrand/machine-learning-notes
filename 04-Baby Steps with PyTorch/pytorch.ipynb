{
 "cells": [
  {
   "cell_type": "markdown",
   "id": "4169438a",
   "metadata": {},
   "source": [
    "# PyTorch Baby Steps"
   ]
  },
  {
   "cell_type": "markdown",
   "id": "4fcedc64",
   "metadata": {},
   "source": [
    "In this notebook, I will explore basic PyTorch concepts"
   ]
  },
  {
   "cell_type": "markdown",
   "id": "34f0572d",
   "metadata": {},
   "source": [
    "## Tensors"
   ]
  },
  {
   "attachments": {},
   "cell_type": "markdown",
   "id": "85b8276f",
   "metadata": {},
   "source": [
    "A **Tensor** is just a multidimensional array. PyTorch's tensors are like NumPy's `ndarray`s (which I have been using till now). But unlike `ndarray`s, PyTorch's **Tensors** can run on GPUs, or other hardware accelerators.\n",
    "\n",
    "Let's get our hands dirty, and create some tensors"
   ]
  },
  {
   "cell_type": "markdown",
   "id": "30a8c6f8",
   "metadata": {},
   "source": []
  }
 ],
 "metadata": {
  "kernelspec": {
   "display_name": "base",
   "language": "python",
   "name": "python3"
  },
  "language_info": {
   "codemirror_mode": {
    "name": "ipython",
    "version": 3
   },
   "file_extension": ".py",
   "mimetype": "text/x-python",
   "name": "python",
   "nbconvert_exporter": "python",
   "pygments_lexer": "ipython3",
   "version": "3.9.13 (main, Aug 25 2022, 23:26:10) \n[GCC 11.2.0]"
  },
  "vscode": {
   "interpreter": {
    "hash": "40952425ce1129038402cc907e37f9a4c307be9e49316edd40e9084dac1145ab"
   }
  }
 },
 "nbformat": 4,
 "nbformat_minor": 5
}
