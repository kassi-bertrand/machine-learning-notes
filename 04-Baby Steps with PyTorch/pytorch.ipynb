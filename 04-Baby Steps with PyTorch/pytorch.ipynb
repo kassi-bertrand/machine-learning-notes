{
 "cells": [
  {
   "cell_type": "markdown",
   "id": "4169438a",
   "metadata": {},
   "source": [
    "# PyTorch Baby Steps"
   ]
  },
  {
   "cell_type": "markdown",
   "id": "4fcedc64",
   "metadata": {},
   "source": [
    "In this notebook, I will explore basic PyTorch concepts"
   ]
  },
  {
   "cell_type": "markdown",
   "id": "34f0572d",
   "metadata": {},
   "source": [
    "## Tensors"
   ]
  },
  {
   "attachments": {},
   "cell_type": "markdown",
   "id": "85b8276f",
   "metadata": {},
   "source": [
    "A **Tensor** is just a multidimensional array. PyTorch's tensors are like NumPy's `ndarray`s (which I have been using till now). But unlike `ndarray`s, PyTorch's **Tensors** can run on GPUs, or other hardware accelerators."
   ]
  },
  {
   "attachments": {},
   "cell_type": "markdown",
   "id": "30a8c6f8",
   "metadata": {},
   "source": [
    "Tensors are at the CENTER of everything we do in PyTorch. For instance, the inputs, the outputs and even the learning weights of our deep learning models will stored in **Tensors**."
   ]
  },
  {
   "attachments": {},
   "cell_type": "markdown",
   "id": "165d6ddd",
   "metadata": {},
   "source": [
    "Let's get our hands dirty, and create some tensors."
   ]
  },
  {
   "attachments": {},
   "cell_type": "markdown",
   "id": "be40402a",
   "metadata": {},
   "source": [
    "Before starting with PyTorch, we must first import the `torch` module"
   ]
  },
  {
   "cell_type": "code",
   "execution_count": 1,
   "id": "a69bf97e",
   "metadata": {},
   "outputs": [],
   "source": [
    "import torch"
   ]
  },
  {
   "cell_type": "code",
   "execution_count": 2,
   "id": "697e4aaa",
   "metadata": {},
   "outputs": [
    {
     "name": "stdout",
     "output_type": "stream",
     "text": [
      "tensor([[0., 0., 0.],\n",
      "        [0., 0., 0.],\n",
      "        [0., 0., 0.],\n",
      "        [0., 0., 0.],\n",
      "        [0., 0., 0.],\n",
      "        [0., 0., 0.]])\n",
      "torch.float32\n"
     ]
    }
   ],
   "source": [
    "t = torch.zeros(6, 3)\n",
    "print(t)\n",
    "print(t.dtype)"
   ]
  },
  {
   "attachments": {},
   "cell_type": "markdown",
   "id": "30fa417e",
   "metadata": {},
   "source": [
    "We just created $6 \\times 3$ matrix (i.e. tensor) filled with zeros. We printed its content, then printed the datatype. \n",
    "\n",
    "By default, PyTorch fills out tensors with 32-bit wide floating point numbers. But guess what we can change it. Here is how:"
   ]
  },
  {
   "cell_type": "code",
   "execution_count": 3,
   "id": "3c2a07e3",
   "metadata": {},
   "outputs": [
    {
     "name": "stdout",
     "output_type": "stream",
     "text": [
      "tensor([[0, 0, 0],\n",
      "        [0, 0, 0],\n",
      "        [0, 0, 0],\n",
      "        [0, 0, 0],\n",
      "        [0, 0, 0],\n",
      "        [0, 0, 0]], dtype=torch.int16)\n"
     ]
    }
   ],
   "source": [
    "t = torch.zeros((6, 3), dtype=torch.int16)\n",
    "print(t)"
   ]
  },
  {
   "attachments": {},
   "cell_type": "markdown",
   "id": "6da5953e",
   "metadata": {},
   "source": [
    "We can created another $6 \\times 3$ tensor, but this time, filled with `int` values. You will also notice that when printing this matrix, PyTorch printed the type to **remind us that we are not using the initial default datatype**."
   ]
  },
  {
   "attachments": {},
   "cell_type": "markdown",
   "id": "2701ef2b",
   "metadata": {},
   "source": [
    "Earlier, we told PyTorch that we want to create a tensor with `int` values. But it's just for *that* tensor. Meaning, if we create another tensor\n",
    "\n",
    "What if we want PyTorch to work with `int` values or some other datatype. To acheive that we need to use PyTorch's [`set_default_type`](https://pytorch.org/docs/stable/generated/torch.set_default_dtype.html) to set its default datatype."
   ]
  },
  {
   "attachments": {},
   "cell_type": "markdown",
   "id": "9802ea42",
   "metadata": {},
   "source": [
    "Remember when we were building the MLP? How did we first initialize the weights? **Randomly**.\n",
    "\n",
    "PyTorch also allows us to create tensors filled with random values. Here is a demo:"
   ]
  },
  {
   "cell_type": "code",
   "execution_count": 4,
   "id": "9d7e620f",
   "metadata": {},
   "outputs": [
    {
     "name": "stdout",
     "output_type": "stream",
     "text": [
      "A random 2x2 tensor:\n",
      "tensor([[0.3126, 0.3791],\n",
      "        [0.3087, 0.0736]])\n",
      "\n",
      "Another random 2x2 tensor:\n",
      "tensor([[0.4216, 0.0691],\n",
      "        [0.2332, 0.4047]])\n"
     ]
    }
   ],
   "source": [
    "torch.manual_seed(1729)\n",
    "\n",
    "r1 = torch.rand(2, 2)\n",
    "print(\"A random 2x2 tensor:\")\n",
    "print(r1)\n",
    "\n",
    "r2 = torch.rand(2, 2)\n",
    "print(\"\\nAnother random 2x2 tensor:\")\n",
    "print(r2)"
   ]
  },
  {
   "attachments": {},
   "cell_type": "markdown",
   "id": "5012bb81",
   "metadata": {},
   "source": [
    "# Matrix Operations"
   ]
  },
  {
   "attachments": {},
   "cell_type": "markdown",
   "id": "a72a0fd2",
   "metadata": {},
   "source": [
    "Tensors are multidimensional arrays (i.e. matrices). Consequently, we can also perform matrix operations with Tensors."
   ]
  },
  {
   "attachments": {},
   "cell_type": "markdown",
   "id": "2ec73073",
   "metadata": {},
   "source": [
    "### Addtion"
   ]
  },
  {
   "cell_type": "code",
   "execution_count": 5,
   "id": "07826a14",
   "metadata": {},
   "outputs": [
    {
     "name": "stdout",
     "output_type": "stream",
     "text": [
      "tensor([2, 3])\n",
      "tensor([2, 2])\n",
      "tensor([4, 5])\n"
     ]
    }
   ],
   "source": [
    "#Create two 1D tensors with values in [1,4)\n",
    "a = torch.randint(1, 4, (2,))\n",
    "b = torch.randint(1, 4, (2,))\n",
    "print(a)\n",
    "print(b)\n",
    "\n",
    "#Added both \"a\" and \"b\" together and print result\n",
    "c = torch.add(a, b)\n",
    "print(c)"
   ]
  },
  {
   "cell_type": "code",
   "execution_count": null,
   "id": "5ce2d1cb",
   "metadata": {},
   "outputs": [],
   "source": []
  }
 ],
 "metadata": {
  "kernelspec": {
   "display_name": "base",
   "language": "python",
   "name": "python3"
  },
  "language_info": {
   "codemirror_mode": {
    "name": "ipython",
    "version": 3
   },
   "file_extension": ".py",
   "mimetype": "text/x-python",
   "name": "python",
   "nbconvert_exporter": "python",
   "pygments_lexer": "ipython3",
   "version": "3.9.13"
  },
  "vscode": {
   "interpreter": {
    "hash": "40952425ce1129038402cc907e37f9a4c307be9e49316edd40e9084dac1145ab"
   }
  }
 },
 "nbformat": 4,
 "nbformat_minor": 5
}
