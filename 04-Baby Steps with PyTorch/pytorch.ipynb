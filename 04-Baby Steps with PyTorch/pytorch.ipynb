{
 "cells": [
  {
   "cell_type": "markdown",
   "id": "4169438a",
   "metadata": {},
   "source": [
    "# PyTorch Baby Steps"
   ]
  },
  {
   "cell_type": "markdown",
   "id": "4fcedc64",
   "metadata": {},
   "source": [
    "In this notebook, I will explore basic PyTorch concepts"
   ]
  },
  {
   "cell_type": "markdown",
   "id": "34f0572d",
   "metadata": {},
   "source": [
    "## Tensors"
   ]
  },
  {
   "attachments": {},
   "cell_type": "markdown",
   "id": "85b8276f",
   "metadata": {},
   "source": [
    "A **Tensor** is just a multidimensional array. PyTorch's tensors are like NumPy's `ndarray`s (which I have been using till now). But unlike `ndarray`s, PyTorch's **Tensors** can run on GPUs, or other hardware accelerators."
   ]
  },
  {
   "attachments": {},
   "cell_type": "markdown",
   "id": "30a8c6f8",
   "metadata": {},
   "source": [
    "Tensors are at the CENTER of everything we do in PyTorch. For instance, the inputs, the outputs and even the learning weights of our deep learning models will stored in **Tensors**."
   ]
  },
  {
   "attachments": {},
   "cell_type": "markdown",
   "id": "165d6ddd",
   "metadata": {},
   "source": [
    "Let's get our hands dirty, and create some tensors."
   ]
  },
  {
   "attachments": {},
   "cell_type": "markdown",
   "id": "be40402a",
   "metadata": {},
   "source": [
    "Before starting with PyTorch, we must first import its module"
   ]
  },
  {
   "cell_type": "code",
   "execution_count": 3,
   "id": "a69bf97e",
   "metadata": {},
   "outputs": [],
   "source": [
    "import torch"
   ]
  },
  {
   "cell_type": "code",
   "execution_count": 4,
   "id": "697e4aaa",
   "metadata": {},
   "outputs": [
    {
     "name": "stdout",
     "output_type": "stream",
     "text": [
      "tensor([[0., 0., 0.],\n",
      "        [0., 0., 0.],\n",
      "        [0., 0., 0.],\n",
      "        [0., 0., 0.],\n",
      "        [0., 0., 0.],\n",
      "        [0., 0., 0.]])\n",
      "torch.float32\n"
     ]
    }
   ],
   "source": [
    "t = torch.zeros(6, 3)\n",
    "print(t)\n",
    "print(t.dtype)"
   ]
  },
  {
   "attachments": {},
   "cell_type": "markdown",
   "id": "30fa417e",
   "metadata": {},
   "source": [
    "We just created $6 \\times 3$ matrix (i.e. tensor) filled with zeros. We printed its content, then printed the datatype. \n",
    "\n",
    "By default, PyTorch fills out tensors with 32-bit wide floating point numbers. But guess what we can change it. Here is how:"
   ]
  },
  {
   "cell_type": "code",
   "execution_count": 6,
   "id": "3c2a07e3",
   "metadata": {},
   "outputs": [
    {
     "name": "stdout",
     "output_type": "stream",
     "text": [
      "tensor([[0, 0, 0],\n",
      "        [0, 0, 0],\n",
      "        [0, 0, 0],\n",
      "        [0, 0, 0],\n",
      "        [0, 0, 0],\n",
      "        [0, 0, 0]], dtype=torch.int16)\n"
     ]
    }
   ],
   "source": [
    "t = torch.zeros((6, 3), dtype=torch.int16)\n",
    "print(t)"
   ]
  },
  {
   "attachments": {},
   "cell_type": "markdown",
   "id": "6da5953e",
   "metadata": {},
   "source": [
    "We can created another $6 \\times 3$ tensor, but this time, filled with `int` values. You will also notice that when printing this matrix, PyTorch printed the type to **remind us that we are using its default datatype**."
   ]
  },
  {
   "cell_type": "markdown",
   "id": "2701ef2b",
   "metadata": {},
   "source": []
  }
 ],
 "metadata": {
  "kernelspec": {
   "display_name": "base",
   "language": "python",
   "name": "python3"
  },
  "language_info": {
   "codemirror_mode": {
    "name": "ipython",
    "version": 3
   },
   "file_extension": ".py",
   "mimetype": "text/x-python",
   "name": "python",
   "nbconvert_exporter": "python",
   "pygments_lexer": "ipython3",
   "version": "3.9.13"
  },
  "vscode": {
   "interpreter": {
    "hash": "40952425ce1129038402cc907e37f9a4c307be9e49316edd40e9084dac1145ab"
   }
  }
 },
 "nbformat": 4,
 "nbformat_minor": 5
}
