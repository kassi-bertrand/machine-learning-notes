{
 "cells": [
  {
   "attachments": {},
   "cell_type": "markdown",
   "id": "df494796",
   "metadata": {},
   "source": [
    "# What is Micrograd?\n",
    "\n",
    "\"**Micrograd**\" is small autograd engine. The word **Autograd** is short for \"**Automatic Gradient**\". Autograd is also the name of PyTorch's automatic differentiation system.\n",
    "\n",
    "What \"Micrograd\" does, is that it implements the \"Backpropagation\" algorithm. \"Backprop\" helps us **efficiently compute the gradient of a loss/error function with respect to the weights of a given neural network**.\n",
    "\n",
    "With the gradient, we can iterativelly tune/tweak the weights of a network to minimize our loss function.\n",
    "\n",
    "I am building Micrograd following **Andrej Karpathy** [YouTube](https://youtu.be/VMj-3S1tku0) video."
   ]
  },
  {
   "attachments": {},
   "cell_type": "markdown",
   "id": "38bc8718",
   "metadata": {},
   "source": [
    "# Why Am I learning this? 💡🧠\n",
    "\n",
    "1. I want **Deep understanding**. As a newcomer, I do not want to fall into the rush of building the \"cool\" stuff. I would like to practice patience, taking the time to learn... I want to believe that it will pay ten fold in the future.\n",
    "\n",
    "2. According to Andrej, **Backpropagation is at the CORE of any modern deep learning frameworks**, like PyTorch, JAX, TensorFlow, etc... I believe him.\n",
    "\n",
    "3. My supervisor told me that PyTorch's Autograd is useful when debugging a neural network, and debugging is an important part of neural network development. So, taking some time to understand what happens under the hood might pay in the future? We'll see. I can only connect the dots looking backward. 😉"
   ]
  },
  {
   "attachments": {},
   "cell_type": "markdown",
   "id": "5d11c584",
   "metadata": {},
   "source": [
    "# What can Micrograd do?\n",
    "\n"
   ]
  }
 ],
 "metadata": {
  "kernelspec": {
   "display_name": "base",
   "language": "python",
   "name": "python3"
  },
  "language_info": {
   "codemirror_mode": {
    "name": "ipython",
    "version": 3
   },
   "file_extension": ".py",
   "mimetype": "text/x-python",
   "name": "python",
   "nbconvert_exporter": "python",
   "pygments_lexer": "ipython3",
   "version": "3.9.13 (main, Aug 25 2022, 23:26:10) \n[GCC 11.2.0]"
  },
  "vscode": {
   "interpreter": {
    "hash": "40952425ce1129038402cc907e37f9a4c307be9e49316edd40e9084dac1145ab"
   }
  }
 },
 "nbformat": 4,
 "nbformat_minor": 5
}
