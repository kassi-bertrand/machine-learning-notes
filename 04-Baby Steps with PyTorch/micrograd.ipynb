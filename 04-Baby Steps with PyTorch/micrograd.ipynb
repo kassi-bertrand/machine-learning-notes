{
 "cells": [
  {
   "cell_type": "markdown",
   "id": "df494796",
   "metadata": {},
   "source": [
    "# What is Micrograd?\n",
    "\n",
    "\"**Micrograd**\" is small autograd engine. The word **Autograd** is short for \"**Automatic Gradient**\". Autograd is also the name of PyTorch's automatic differentiation system.\n",
    "\n",
    "What \"Micrograd\" does, is that it implements the \"Backpropagation\" algorithm. \"Backprop\" helps us **efficiently compute the gradient of a loss/error function with respect to the weights of a given neural network**.\n",
    "\n",
    "With the gradient, we can iterativelly tune/tweak the weights of a network to minimize our loss function.\n",
    "\n",
    "I am building Micrograd following **Andrej Karpathy** [YouTube](https://youtu.be/VMj-3S1tku0) video."
   ]
  },
  {
   "cell_type": "markdown",
   "id": "38bc8718",
   "metadata": {},
   "source": [
    "# Why Am I learning this? 💡🧠\n",
    "\n",
    "1. I want **Deep understanding**. As a newcomer, I do not want to fall into the rush of building the \"cool\" stuff. I would like to practice patience, taking the time to **learn what led to the cool stuff**... I want to believe that it will pay ten fold in the future.\n",
    "\n",
    "2. According to Andrej, **Backpropagation is at the CORE of any modern deep learning frameworks**, like PyTorch, JAX, TensorFlow, etc... I believe him.\n",
    "\n",
    "3. My supervisor told me that PyTorch's Autograd is useful when debugging a neural network, and debugging is an important part of neural network development. So, taking some time to understand what happens under the hood might pay in the future? We'll see. I can only connect the dots looking backward. 😉"
   ]
  },
  {
   "cell_type": "markdown",
   "id": "5d11c584",
   "metadata": {},
   "source": [
    "# What can Micrograd do?\n",
    "\n"
   ]
  },
  {
   "cell_type": "markdown",
   "id": "2e09f36c",
   "metadata": {},
   "source": [
    "At [1:30](https://youtu.be/VMj-3S1tku0?t=90) of his video, Andrej outlines the following capabilities:"
   ]
  },
  {
   "cell_type": "markdown",
   "id": "aff6fb06",
   "metadata": {},
   "source": [
    "1. Micrograd (and also Autograd) helps us **build expression graphs** which are mathematical expressions represented as graphs. As we compose mathematical expressions, Micrograd will *dynamically* build an expression graph in the background.\n",
    "\n",
    "2. We can **compute the forward passes**, meaning Micrograd will return output(s) if we give it some input(s).\n",
    "\n",
    "3. The big deal, Andrej said, is that we can use the output of an expression graph and call a function called `backward` that will **initialize backpropagation** at that node, and will recursively apply the chain rule backward through the graph."
   ]
  },
  {
   "cell_type": "markdown",
   "id": "0e2352a8",
   "metadata": {},
   "source": [
    "Since Neural networks are mathematical expressions, we can use tools like Micrograd to describe them!"
   ]
  },
  {
   "cell_type": "markdown",
   "id": "5525550e",
   "metadata": {},
   "source": [
    "# Let's Implement Micrograd 🛠️"
   ]
  },
  {
   "cell_type": "markdown",
   "id": "efb59d26",
   "metadata": {},
   "source": [
    "## Some theory first 📜"
   ]
  },
  {
   "cell_type": "markdown",
   "id": "815b047c",
   "metadata": {},
   "source": [
    "Let's start with a refresh of what a derivative is, at the intuitive level, and what information it gives us."
   ]
  },
  {
   "cell_type": "code",
   "execution_count": 1,
   "id": "fee24e75",
   "metadata": {},
   "outputs": [],
   "source": [
    "import math\n",
    "import numpy as np\n",
    "import matplotlib.pyplot as plt\n",
    "%matplotlib inline"
   ]
  },
  {
   "cell_type": "markdown",
   "id": "be76b7e7",
   "metadata": {},
   "source": [
    "Let consider the following function: $f(x) = 3x^{2} - 4x + 5$.\n",
    "\n",
    "In Python, $f$ would be written like this:"
   ]
  },
  {
   "cell_type": "code",
   "execution_count": 2,
   "id": "59080557",
   "metadata": {},
   "outputs": [],
   "source": [
    "def f(x):\n",
    "    return 3*x**2 - 4*x + 5"
   ]
  },
  {
   "cell_type": "code",
   "execution_count": 3,
   "id": "41d3d892",
   "metadata": {},
   "outputs": [
    {
     "data": {
      "text/plain": [
       "20.0"
      ]
     },
     "execution_count": 3,
     "metadata": {},
     "output_type": "execute_result"
    }
   ],
   "source": [
    "#We can call the function with 3.0\n",
    "f(3.0)"
   ]
  },
  {
   "cell_type": "markdown",
   "id": "e4166d40",
   "metadata": {},
   "source": [
    "We can also **plot** the function to get a sense of its shape. But by the look of it, we can see that it is going to be a parabola."
   ]
  },
  {
   "cell_type": "code",
   "execution_count": 4,
   "id": "78560c2c",
   "metadata": {},
   "outputs": [
    {
     "data": {
      "text/plain": [
       "[<matplotlib.lines.Line2D at 0x7f6d480a97f0>]"
      ]
     },
     "execution_count": 4,
     "metadata": {},
     "output_type": "execute_result"
    },
    {
     "data": {
      "image/png": "[encoded data removed]",
      "text/plain": [
       "<Figure size 640x480 with 1 Axes>"
      ]
     },
     "metadata": {},
     "output_type": "display_data"
    }
   ],
   "source": [
    "#1- Let's generate a set of numbers in [-5, 5)\n",
    "xs = np.arange(-5, 5, 0.25)\n",
    "#2- Apply f on the x values within the np array\n",
    "ys = f(xs)\n",
    "#3- Plot using Matplotlib\n",
    "plt.plot(xs, ys)"
   ]
  },
  {
   "cell_type": "markdown",
   "id": "2faadbba",
   "metadata": {},
   "source": [
    "What does taking the derivative of this function $f$ at any point $x$ tell us? It helps us answer the following questions:\n",
    "\n",
    "- If we add a small quantity $h$ to a given $x$, how is $f$ going to respond? Is it going to increase/decrease 🤷‍♂️\n",
    "\n",
    "- How fast will $f$ increase/decrease? In other words, what is the \"rate\" or the \"speed\" at which $f$ increase/decrease when $x$ changes 🤷‍♂️\n",
    "\n",
    "When taking the derivative we apply the following: $\\lim_{h\\to 0} \\frac{f(x + h) - f(x)}{h}$ and this formula is the answer to both of our questions"
   ]
  },
  {
   "cell_type": "code",
   "execution_count": 5,
   "id": "c5fae8a1",
   "metadata": {},
   "outputs": [
    {
     "data": {
      "text/plain": [
       "14.00300000000243"
      ]
     },
     "execution_count": 5,
     "metadata": {},
     "output_type": "execute_result"
    }
   ],
   "source": [
    "h = 0.001 #relatively small \"h\"\n",
    "x = 3.0\n",
    "(f(x + h) - f(x)) / h"
   ]
  },
  {
   "cell_type": "code",
   "execution_count": 6,
   "id": "7a1c4a88",
   "metadata": {},
   "outputs": [
    {
     "data": {
      "text/plain": [
       "14.000001158365194"
      ]
     },
     "execution_count": 6,
     "metadata": {},
     "output_type": "execute_result"
    }
   ],
   "source": [
    "h = 0.000000001 #an even smaller \"h\"\n",
    "x = 3.0\n",
    "(f(x + h) - f(x)) / h"
   ]
  },
  {
   "cell_type": "markdown",
   "id": "10af600f",
   "metadata": {},
   "source": [
    "This is a numerical approximation of the rate of change (slope) of $f$ when $x = 3$.  It tells us that at when $x = 3$, the function $f$ is \"increasing\" at a rate of $14$.\n",
    "\n",
    "If $h$ could get infinitely small, our expression would converge to the exact value of the slope of the line tangent to the curve at $x = 3$, which is $14$."
   ]
  },
  {
   "cell_type": "markdown",
   "id": "61c0b515",
   "metadata": {},
   "source": [
    "Let's now consider a function with multiple (3) inputs."
   ]
  },
  {
   "cell_type": "code",
   "execution_count": 7,
   "id": "8df32a66",
   "metadata": {},
   "outputs": [],
   "source": [
    "a = 2.0\n",
    "b = -3.0\n",
    "c = 10.0\n",
    "d = a*b + c"
   ]
  },
  {
   "cell_type": "markdown",
   "id": "dd8d8fde",
   "metadata": {},
   "source": [
    "The function ($ab + c$) can also be represented using the following expression graph:"
   ]
  },
  {
   "cell_type": "markdown",
   "id": "a8d24c34",
   "metadata": {},
   "source": [
    "![Expression graph](./images/img-1.jpg)"
   ]
  },
  {
   "cell_type": "markdown",
   "id": "dc1c36a6",
   "metadata": {},
   "source": [
    "It has $3$ inputs ($a$, $b$, and $c$), and $1$ output ($d$)."
   ]
  },
  {
   "cell_type": "code",
   "execution_count": 8,
   "id": "89761ead",
   "metadata": {},
   "outputs": [
    {
     "name": "stdout",
     "output_type": "stream",
     "text": [
      "4.0\n"
     ]
    }
   ],
   "source": [
    "print(d)"
   ]
  },
  {
   "cell_type": "markdown",
   "id": "15b4f3ac",
   "metadata": {},
   "source": [
    "Again, if we take the derivative of this expression with respect to one of its input variable, what would that tell us? 🤔\n",
    "\n",
    "It would tell us **how the output $d$ would respond** (increase/decrease) and **how fast**... if one of the inputs were to **change**."
   ]
  },
  {
   "cell_type": "markdown",
   "id": "38a3ec3d",
   "metadata": {},
   "source": [
    "Let's illustrate this by considering input $a$. What happens if we take the derivative of the expression with respect to $a$. In other words, if $a$ were to change a little bit, how would $d$ change, and by how much?"
   ]
  },
  {
   "cell_type": "code",
   "execution_count": 9,
   "id": "f3a67bdd",
   "metadata": {},
   "outputs": [
    {
     "name": "stdout",
     "output_type": "stream",
     "text": [
      "d1: 4.0\n",
      "d2: 3.999699999999999\n",
      "slope (or rate of change): -3.000000000010772\n"
     ]
    }
   ],
   "source": [
    "h = 0.0001\n",
    "\n",
    "#inputs\n",
    "a = 2.0\n",
    "b = -3.0\n",
    "c = 10.0\n",
    "\n",
    "d1 = a*b + c\n",
    "a += h # 'a' changes a little bit\n",
    "d2 = a*b + c\n",
    "\n",
    "print('d1:', d1)\n",
    "print('d2:', d2)\n",
    "print('slope (or rate of change):', (d2 - d1) / h)"
   ]
  },
  {
   "cell_type": "markdown",
   "id": "86309977",
   "metadata": {},
   "source": [
    "See? When I increase $a$ a tiny bit, $(ab)$ becomes more negative; and when added to $c$ it results in a smaller value.\n",
    "\n",
    "So by increasing $a$, I caused  the output $d$ to **decrease**. That's why $d_{2}$ is **smaller** than $d_{1}$, and the rate of this change (this decrease) was: $3$.\n",
    "\n",
    "The result we got was a numerical approximation. But we can get to an exact answer using a little bit of calculus:\n",
    "\n",
    "$\\frac{\\partial}{\\partial a}(ab + c) = b$ and in our case $b$ is $-3$\n",
    "\n",
    "**Experiment 🧪: How would $d$ respond if you changed $b$ or $c$?**"
   ]
  },
  {
   "cell_type": "markdown",
   "id": "388f1ab2",
   "metadata": {},
   "source": [
    "## Can we talk about Neural networks now?  🤷\n",
    "\n",
    "Hummm, no ¯\\\\\\_(ツ)\\_/¯ \n",
    "\n",
    "But we are getting there. Slowly. \n",
    "\n",
    "But, I would like us to keep in mind that... neural networks are also mathematical expressions like the last expression we looked at. It's going to come handy.\n",
    "\n",
    "What is going to happen now instead is that we are going to write a core object of Micrograd: the `Value` class."
   ]
  },
  {
   "attachments": {},
   "cell_type": "markdown",
   "id": "fdcfd660",
   "metadata": {},
   "source": [
    "`Value` is a wrapper class. Its job to wrap a Python numeric value. In addition, a `Value` object has the following capabilities:\n",
    "\n",
    "1. **It maintains pointers to the `Value` objects that were used to obtain it**. For instance, if we multiply a `Value` object `a` with another `Value` object `b` ... and obtain a new `Value` object `c`, the `Value` object `c` will contain pointers to `Value` objects `a` and `b`. In fact, `a` and `b` will be called *children* of `c`.\n",
    "\n",
    "2. **It records the type of the operation that was used to obtain it**. If we consider the same `Value` objects `a`, `b` and `c`. `Value` object `c` will contain an information that will let us know that `c` was obtained by the addition of `a` and `b`. Here is an image to illustrate the two previous points:\n",
    "\n",
    "![illustration](./images/img-2.jpg)"
   ]
  },
  {
   "cell_type": "code",
   "execution_count": 33,
   "id": "32cf014d",
   "metadata": {},
   "outputs": [
    {
     "data": {
      "text/plain": [
       "Value(data = -8.0)"
      ]
     },
     "execution_count": 33,
     "metadata": {},
     "output_type": "execute_result"
    }
   ],
   "source": [
    "class Value:\n",
    "    def __init__(self, data, _children=(), _op='', label='') -> None:\n",
    "        self.data = data\n",
    "        self._prev = set(_children)\n",
    "        self._op = _op\n",
    "        self.grad = 0 #the derivative of the ouptut with respect to this Value.\n",
    "        self.label = label\n",
    "\n",
    "    def __repr__(self) -> str:\n",
    "        return f\"Value(data = {self.data})\"\n",
    "\n",
    "    def __add__(self, other):\n",
    "        out = Value(self.data + other.data, (self, other), '+')\n",
    "        return out\n",
    "\n",
    "    def __mul__(self, other):\n",
    "        out = Value(self.data * other.data, (self, other), '*')\n",
    "        return out\n",
    "\n",
    "    def tanh(self):\n",
    "        x = self.data\n",
    "        t = (math.exp(2*x) - 1)/(math.exp(2*x) + 1)\n",
    "        out = Value(t, (self, ), _op='tanh')\n",
    "        return out\n",
    "    \n",
    "a = Value(2.0, label='a')\n",
    "b = Value(-3.0, label='b')\n",
    "c = Value(10.0, label='c')\n",
    "e = a*b ; e.label = 'e'\n",
    "d = e + c ; d.label= 'd'\n",
    "\n",
    "f = Value(-2.0, label='f')\n",
    "L = d * f; L.label = 'L'\n",
    "L"
   ]
  },
  {
   "attachments": {},
   "cell_type": "markdown",
   "id": "e617af96",
   "metadata": {},
   "source": [
    "With the above implementation, we can perform additions and multiplications on `Value` objects and each object resutlting from either operations maintains a pointer to the `Value` objects that were used to create it. Those `Value` objects are accessible through the `prev` attribute, which is a set of tuples (i.e. pairs).\n",
    "\n",
    "Using this simple data structure, we can compose mathematical expressions and have the expression graphs built in the background. That's pretty cool.\n",
    "\n",
    "Andrej pushed it a step further by providing the following code snippet. Its job is to help us visualize the expression graphs we are building out using the the **graphiz**. Each node in the expression graph contains:\n",
    "\n",
    "- A **label**: The name of the node\n",
    "- A **data**: The numerical value of node\n",
    "- A **gradient**: The derivative of the output with respect to the node"
   ]
  },
  {
   "cell_type": "code",
   "execution_count": 34,
   "id": "6c33542c",
   "metadata": {},
   "outputs": [],
   "source": [
    "from graphviz import Digraph\n",
    "\n",
    "def trace(root):\n",
    "  # builds a set of all nodes and edges in a graph\n",
    "  nodes, edges = set(), set()\n",
    "  def build(v):\n",
    "    if v not in nodes:\n",
    "      nodes.add(v)\n",
    "      for child in v._prev:\n",
    "        edges.add((child, v))\n",
    "        build(child)\n",
    "  build(root)\n",
    "  return nodes, edges\n",
    "\n",
    "def draw_dot(root):\n",
    "  dot = Digraph(format='svg', graph_attr={'rankdir': 'LR'}) # LR = left to right\n",
    "  \n",
    "  nodes, edges = trace(root)\n",
    "  for n in nodes:\n",
    "    uid = str(id(n))\n",
    "    # for any value in the graph, create a rectangular ('record') node for it\n",
    "    dot.node(name = uid, label = \"{ %s | data %.4f | grad %.4f }\" % (n.label, n.data, n.grad), shape='record')\n",
    "    if n._op:\n",
    "      # if this value is a result of some operation, create an op node for it\n",
    "      dot.node(name = uid + n._op, label = n._op)\n",
    "      # and connect this node to it\n",
    "      dot.edge(uid + n._op, uid)\n",
    "\n",
    "  for n1, n2 in edges:\n",
    "    # connect n1 to the op node of n2\n",
    "    dot.edge(str(id(n1)), str(id(n2)) + n2._op)\n",
    "\n",
    "  return dot"
   ]
  },
  {
   "cell_type": "code",
   "execution_count": 35,
   "id": "28761e83",
   "metadata": {},
   "outputs": [
    {
     "data": {
      "image/svg+xml": "<?xml version=\"1.0\" encoding=\"UTF-8\" standalone=\"no\"?>\n<!DOCTYPE svg PUBLIC \"-//W3C//DTD SVG 1.1//EN\"\n \"http://www.w3.org/Graphics/SVG/1.1/DTD/svg11.dtd\">\n<!-- Generated by graphviz version 2.50.0 (0)\n -->\n<!-- Pages: 1 -->\n<svg width=\"1332pt\" height=\"128pt\"\n viewBox=\"0.00 0.00 1332.00 128.00\" xmlns=\"http://www.w3.org/2000/svg\" xmlns:xlink=\"http://www.w3.org/1999/xlink\">\n<g id=\"graph0\" class=\"graph\" transform=\"scale(1 1) rotate(0) translate(4 124)\">\n<polygon fill=\"white\" stroke=\"transparent\" points=\"-4,4 -4,-124 1328,-124 1328,4 -4,4\"/>\n<!-- 140107017094192 -->\n<g id=\"node1\" class=\"node\">\n<title>140107017094192</title>\n<polygon fill=\"none\" stroke=\"black\" points=\"728.5,-27.5 728.5,-63.5 960.5,-63.5 960.5,-27.5 728.5,-27.5\"/>\n<text text-anchor=\"middle\" x=\"741.5\" y=\"-41.8\" font-family=\"Times,serif\" font-size=\"14.00\">d</text>\n<polyline fill=\"none\" stroke=\"black\" points=\"754.5,-27.5 754.5,-63.5 \"/>\n<text text-anchor=\"middle\" x=\"805.5\" y=\"-41.8\" font-family=\"Times,serif\" font-size=\"14.00\">data 4.0000</text>\n<polyline fill=\"none\" stroke=\"black\" points=\"856.5,-27.5 856.5,-63.5 \"/>\n<text text-anchor=\"middle\" x=\"908.5\" y=\"-41.8\" font-family=\"Times,serif\" font-size=\"14.00\">grad 0.0000</text>\n</g>\n<!-- 140107017093376* -->\n<g id=\"node6\" class=\"node\">\n<title>140107017093376*</title>\n<ellipse fill=\"none\" stroke=\"black\" cx=\"1024\" cy=\"-72.5\" rx=\"27\" ry=\"18\"/>\n<text text-anchor=\"middle\" x=\"1024\" y=\"-68.8\" font-family=\"Times,serif\" font-size=\"14.00\">*</text>\n</g>\n<!-- 140107017094192&#45;&gt;140107017093376* -->\n<g id=\"edge6\" class=\"edge\">\n<title>140107017094192&#45;&gt;140107017093376*</title>\n<path fill=\"none\" stroke=\"black\" d=\"M960.92,-63.06C970.4,-64.5 979.44,-65.87 987.54,-67.11\"/>\n<polygon fill=\"black\" stroke=\"black\" points=\"987.19,-70.59 997.6,-68.64 988.24,-63.67 987.19,-70.59\"/>\n</g>\n<!-- 140107017094192+ -->\n<g id=\"node2\" class=\"node\">\n<title>140107017094192+</title>\n<ellipse fill=\"none\" stroke=\"black\" cx=\"665\" cy=\"-45.5\" rx=\"27\" ry=\"18\"/>\n<text text-anchor=\"middle\" x=\"665\" y=\"-41.8\" font-family=\"Times,serif\" font-size=\"14.00\">+</text>\n</g>\n<!-- 140107017094192+&#45;&gt;140107017094192 -->\n<g id=\"edge1\" class=\"edge\">\n<title>140107017094192+&#45;&gt;140107017094192</title>\n<path fill=\"none\" stroke=\"black\" d=\"M692.19,-45.5C699.78,-45.5 708.61,-45.5 718.11,-45.5\"/>\n<polygon fill=\"black\" stroke=\"black\" points=\"718.24,-49 728.24,-45.5 718.24,-42 718.24,-49\"/>\n</g>\n<!-- 140107017093712 -->\n<g id=\"node3\" class=\"node\">\n<title>140107017093712</title>\n<polygon fill=\"none\" stroke=\"black\" points=\"728,-82.5 728,-118.5 961,-118.5 961,-82.5 728,-82.5\"/>\n<text text-anchor=\"middle\" x=\"739\" y=\"-96.8\" font-family=\"Times,serif\" font-size=\"14.00\">f</text>\n<polyline fill=\"none\" stroke=\"black\" points=\"750,-82.5 750,-118.5 \"/>\n<text text-anchor=\"middle\" x=\"803.5\" y=\"-96.8\" font-family=\"Times,serif\" font-size=\"14.00\">data &#45;2.0000</text>\n<polyline fill=\"none\" stroke=\"black\" points=\"857,-82.5 857,-118.5 \"/>\n<text text-anchor=\"middle\" x=\"909\" y=\"-96.8\" font-family=\"Times,serif\" font-size=\"14.00\">grad 0.0000</text>\n</g>\n<!-- 140107017093712&#45;&gt;140107017093376* -->\n<g id=\"edge8\" class=\"edge\">\n<title>140107017093712&#45;&gt;140107017093376*</title>\n<path fill=\"none\" stroke=\"black\" d=\"M959.67,-82.49C969.61,-80.92 979.08,-79.43 987.53,-78.1\"/>\n<polygon fill=\"black\" stroke=\"black\" points=\"988.31,-81.52 997.64,-76.5 987.22,-74.6 988.31,-81.52\"/>\n</g>\n<!-- 140107017095392 -->\n<g id=\"node4\" class=\"node\">\n<title>140107017095392</title>\n<polygon fill=\"none\" stroke=\"black\" points=\"3,-83.5 3,-119.5 234,-119.5 234,-83.5 3,-83.5\"/>\n<text text-anchor=\"middle\" x=\"15.5\" y=\"-97.8\" font-family=\"Times,serif\" font-size=\"14.00\">a</text>\n<polyline fill=\"none\" stroke=\"black\" points=\"28,-83.5 28,-119.5 \"/>\n<text text-anchor=\"middle\" x=\"79\" y=\"-97.8\" font-family=\"Times,serif\" font-size=\"14.00\">data 2.0000</text>\n<polyline fill=\"none\" stroke=\"black\" points=\"130,-83.5 130,-119.5 \"/>\n<text text-anchor=\"middle\" x=\"182\" y=\"-97.8\" font-family=\"Times,serif\" font-size=\"14.00\">grad 0.0000</text>\n</g>\n<!-- 140107017093472* -->\n<g id=\"node8\" class=\"node\">\n<title>140107017093472*</title>\n<ellipse fill=\"none\" stroke=\"black\" cx=\"300\" cy=\"-73.5\" rx=\"27\" ry=\"18\"/>\n<text text-anchor=\"middle\" x=\"300\" y=\"-69.8\" font-family=\"Times,serif\" font-size=\"14.00\">*</text>\n</g>\n<!-- 140107017095392&#45;&gt;140107017093472* -->\n<g id=\"edge5\" class=\"edge\">\n<title>140107017095392&#45;&gt;140107017093472*</title>\n<path fill=\"none\" stroke=\"black\" d=\"M234.2,-83.61C244.76,-81.96 254.83,-80.39 263.74,-79\"/>\n<polygon fill=\"black\" stroke=\"black\" points=\"264.3,-82.46 273.64,-77.46 263.22,-75.54 264.3,-82.46\"/>\n</g>\n<!-- 140107017093376 -->\n<g id=\"node5\" class=\"node\">\n<title>140107017093376</title>\n<polygon fill=\"none\" stroke=\"black\" points=\"1087,-54.5 1087,-90.5 1324,-90.5 1324,-54.5 1087,-54.5\"/>\n<text text-anchor=\"middle\" x=\"1100\" y=\"-68.8\" font-family=\"Times,serif\" font-size=\"14.00\">L</text>\n<polyline fill=\"none\" stroke=\"black\" points=\"1113,-54.5 1113,-90.5 \"/>\n<text text-anchor=\"middle\" x=\"1166.5\" y=\"-68.8\" font-family=\"Times,serif\" font-size=\"14.00\">data &#45;8.0000</text>\n<polyline fill=\"none\" stroke=\"black\" points=\"1220,-54.5 1220,-90.5 \"/>\n<text text-anchor=\"middle\" x=\"1272\" y=\"-68.8\" font-family=\"Times,serif\" font-size=\"14.00\">grad 0.0000</text>\n</g>\n<!-- 140107017093376*&#45;&gt;140107017093376 -->\n<g id=\"edge2\" class=\"edge\">\n<title>140107017093376*&#45;&gt;140107017093376</title>\n<path fill=\"none\" stroke=\"black\" d=\"M1051.1,-72.5C1058.61,-72.5 1067.33,-72.5 1076.75,-72.5\"/>\n<polygon fill=\"black\" stroke=\"black\" points=\"1076.78,-76 1086.78,-72.5 1076.78,-69 1076.78,-76\"/>\n</g>\n<!-- 140107017093472 -->\n<g id=\"node7\" class=\"node\">\n<title>140107017093472</title>\n<polygon fill=\"none\" stroke=\"black\" points=\"364.5,-55.5 364.5,-91.5 600.5,-91.5 600.5,-55.5 364.5,-55.5\"/>\n<text text-anchor=\"middle\" x=\"377\" y=\"-69.8\" font-family=\"Times,serif\" font-size=\"14.00\">e</text>\n<polyline fill=\"none\" stroke=\"black\" points=\"389.5,-55.5 389.5,-91.5 \"/>\n<text text-anchor=\"middle\" x=\"443\" y=\"-69.8\" font-family=\"Times,serif\" font-size=\"14.00\">data &#45;6.0000</text>\n<polyline fill=\"none\" stroke=\"black\" points=\"496.5,-55.5 496.5,-91.5 \"/>\n<text text-anchor=\"middle\" x=\"548.5\" y=\"-69.8\" font-family=\"Times,serif\" font-size=\"14.00\">grad 0.0000</text>\n</g>\n<!-- 140107017093472&#45;&gt;140107017094192+ -->\n<g id=\"edge4\" class=\"edge\">\n<title>140107017093472&#45;&gt;140107017094192+</title>\n<path fill=\"none\" stroke=\"black\" d=\"M599.6,-55.49C609.91,-53.89 619.74,-52.37 628.46,-51.01\"/>\n<polygon fill=\"black\" stroke=\"black\" points=\"629.18,-54.44 638.52,-49.45 628.1,-47.53 629.18,-54.44\"/>\n</g>\n<!-- 140107017093472*&#45;&gt;140107017093472 -->\n<g id=\"edge3\" class=\"edge\">\n<title>140107017093472*&#45;&gt;140107017093472</title>\n<path fill=\"none\" stroke=\"black\" d=\"M327.25,-73.5C335.09,-73.5 344.27,-73.5 354.17,-73.5\"/>\n<polygon fill=\"black\" stroke=\"black\" points=\"354.28,-77 364.28,-73.5 354.28,-70 354.28,-77\"/>\n</g>\n<!-- 140107017095104 -->\n<g id=\"node9\" class=\"node\">\n<title>140107017095104</title>\n<polygon fill=\"none\" stroke=\"black\" points=\"363,-0.5 363,-36.5 602,-36.5 602,-0.5 363,-0.5\"/>\n<text text-anchor=\"middle\" x=\"375\" y=\"-14.8\" font-family=\"Times,serif\" font-size=\"14.00\">c</text>\n<polyline fill=\"none\" stroke=\"black\" points=\"387,-0.5 387,-36.5 \"/>\n<text text-anchor=\"middle\" x=\"442.5\" y=\"-14.8\" font-family=\"Times,serif\" font-size=\"14.00\">data 10.0000</text>\n<polyline fill=\"none\" stroke=\"black\" points=\"498,-0.5 498,-36.5 \"/>\n<text text-anchor=\"middle\" x=\"550\" y=\"-14.8\" font-family=\"Times,serif\" font-size=\"14.00\">grad 0.0000</text>\n</g>\n<!-- 140107017095104&#45;&gt;140107017094192+ -->\n<g id=\"edge9\" class=\"edge\">\n<title>140107017095104&#45;&gt;140107017094192+</title>\n<path fill=\"none\" stroke=\"black\" d=\"M602.13,-36.25C611.53,-37.65 620.47,-38.99 628.48,-40.19\"/>\n<polygon fill=\"black\" stroke=\"black\" points=\"628.03,-43.66 638.44,-41.68 629.07,-36.74 628.03,-43.66\"/>\n</g>\n<!-- 140107017095152 -->\n<g id=\"node10\" class=\"node\">\n<title>140107017095152</title>\n<polygon fill=\"none\" stroke=\"black\" points=\"0,-28.5 0,-64.5 237,-64.5 237,-28.5 0,-28.5\"/>\n<text text-anchor=\"middle\" x=\"13\" y=\"-42.8\" font-family=\"Times,serif\" font-size=\"14.00\">b</text>\n<polyline fill=\"none\" stroke=\"black\" points=\"26,-28.5 26,-64.5 \"/>\n<text text-anchor=\"middle\" x=\"79.5\" y=\"-42.8\" font-family=\"Times,serif\" font-size=\"14.00\">data &#45;3.0000</text>\n<polyline fill=\"none\" stroke=\"black\" points=\"133,-28.5 133,-64.5 \"/>\n<text text-anchor=\"middle\" x=\"185\" y=\"-42.8\" font-family=\"Times,serif\" font-size=\"14.00\">grad 0.0000</text>\n</g>\n<!-- 140107017095152&#45;&gt;140107017093472* -->\n<g id=\"edge7\" class=\"edge\">\n<title>140107017095152&#45;&gt;140107017093472*</title>\n<path fill=\"none\" stroke=\"black\" d=\"M237.23,-64.21C246.6,-65.62 255.52,-66.96 263.52,-68.16\"/>\n<polygon fill=\"black\" stroke=\"black\" points=\"263.06,-71.63 273.47,-69.66 264.1,-64.71 263.06,-71.63\"/>\n</g>\n</g>\n</svg>\n",
      "text/plain": [
       "<graphviz.graphs.Digraph at 0x7f6d34ff4280>"
      ]
     },
     "execution_count": 35,
     "metadata": {},
     "output_type": "execute_result"
    }
   ],
   "source": [
    "draw_dot(L)"
   ]
  },
  {
   "attachments": {},
   "cell_type": "markdown",
   "id": "81421f9e",
   "metadata": {},
   "source": [
    "So far, we are able to compute the forward pass of a mathematical expression. What are going to do now is important because we'll try to run backpropagation. We'll start at the end, and compute the gradient. We'll compute the partial derivative of `L`, the output, with respect to each node in the expression graph."
   ]
  },
  {
   "attachments": {},
   "cell_type": "markdown",
   "id": "d41b0f7f",
   "metadata": {},
   "source": [
    "# Manual backpropagation example\n",
    "\n",
    "Using the expression graph generated earlier, we will compute backpropagation **manually**.\n",
    "\n",
    "We start with **node `L`**.\n",
    "\n",
    "Question: **What is the derivative of Node `L` with respect to itself?**\n",
    "\n",
    "$\\frac{\\partial L}{\\partial L} = 1$\n",
    "\n",
    "It is **1**. So,"
   ]
  },
  {
   "cell_type": "code",
   "execution_count": 36,
   "id": "ca76c091",
   "metadata": {},
   "outputs": [],
   "source": [
    "L.grad = 1.0"
   ]
  },
  {
   "attachments": {},
   "cell_type": "markdown",
   "id": "cc474a77",
   "metadata": {},
   "source": [
    "We continue with **node `d`** and **node `f`**.\n",
    "\n",
    "$\\longrightarrow$ Question: **What is the derivative of Node `L` with respect to Node `d`?** In other words, *how does the value in node `L` reacts when the one in node `d` changes a little bit?*\n",
    "\n",
    "$\\frac{\\partial L}{\\partial d} = \\frac{\\partial}{\\partial d}(d \\times f) = f$\n",
    "\n",
    "`grad` in node `d` is the value in node `f`. It implies that if we change the value in Node `d`, we expect the value in Node `L` to **decrease** at a rate of `2.0`.\n",
    "\n",
    "$\\longrightarrow$ Question: **What is the derivative of Node `L` with respect to Node `f`?** In other words, *how does the value in node `L` reacts when the one in node `f` changes a little bit?*\n",
    "\n",
    "$\\frac{\\partial L}{\\partial f} = \\frac{\\partial}{\\partial f}(d \\times f) = d$\n",
    "\n",
    "`grad` in node `f` is the value in node `d`. It means that if we change the value Node `f`, we expect the value in Node `L` to **increase** at a rate of `4.0`.\n",
    "\n",
    "so,"
   ]
  },
  {
   "cell_type": "code",
   "execution_count": 37,
   "id": "fd9ecaaf",
   "metadata": {},
   "outputs": [],
   "source": [
    "d.grad = -2\n",
    "f.grad = 4.0"
   ]
  },
  {
   "attachments": {},
   "cell_type": "markdown",
   "id": "c021fef7",
   "metadata": {},
   "source": [
    "We continue with **node `c`** and **node `e`**\n",
    "\n",
    "$\\longrightarrow$ **Question: What is the derivative of Node `L` with respect to Node `c`?** In other words, *how does the value in node `L` reacts when the one in node `c` changes a little bit?*\n",
    "\n",
    "$\\frac{\\partial L}{\\partial c} = \\frac{\\partial L}{\\partial d} \\times \\frac{\\partial d}{\\partial c} = \\frac{\\partial L}{\\partial d} \\times \\frac{\\partial}{\\partial c}(c + e) = \\frac{\\partial L}{\\partial d} \\times 1 = \\frac{\\partial L}{\\partial d}$\n",
    "\n",
    "Remember, we computed $\\frac{\\partial L}{\\partial d}$ earlier. It is currently stored in `d.grad`.\n",
    "\n",
    "$\\longrightarrow$ **Question: What is the derivative of Node `L` with respect to Node `e`?** In other words, *how does the value in node `L` reacts when the one in node `e` changes a little bit?*\n",
    "\n",
    "$\\frac{\\partial L}{\\partial e} = \\frac{\\partial L}{\\partial d} \\times \\frac{\\partial d}{\\partial e} = \\frac{\\partial L}{\\partial d} \\times \\frac{\\partial}{\\partial e}(c + e) = \\frac{\\partial L}{\\partial d} \\times 1 = \\frac{\\partial L}{\\partial d}$\n",
    "\n",
    "Again, the term $\\frac{\\partial L}{\\partial d}$ repeats."
   ]
  },
  {
   "cell_type": "code",
   "execution_count": 38,
   "id": "19fa29ee",
   "metadata": {},
   "outputs": [],
   "source": [
    "c.grad = -2.0\n",
    "e.grad = -2.0"
   ]
  },
  {
   "attachments": {},
   "cell_type": "markdown",
   "id": "c78fe27e",
   "metadata": {},
   "source": [
    "Please notice how `d.grad` was forwarded (or routed) to both nodes `c` and `e`. In other words, the `grad` in Node `d` was forwarded to all of its children.\n",
    "\n",
    "Again notice, both $\\frac{\\partial d}{\\partial c}$ and $\\frac{\\partial d}{\\partial e}$ are called \"**local**\" derivatives. They only give us info on this part of the graph:\n",
    "\n",
    "![Portion](./images/img-3.jpg)\n",
    "\n",
    "They tell us how changing the values in `c` and `e` by a tiny amount influences the value in `d`. This portion does not know anything about the rest of graph it is embedded in.\n",
    "\n",
    "If you paid close attention so far, you'd notice that we computed $\\frac{\\partial L}{\\partial c}$ and $\\frac{\\partial L}{\\partial e}$ using the chain rule. \n",
    "\n",
    "But, we can say that we obtained $\\frac{\\partial L}{\\partial c}$ and $\\frac{\\partial L}{\\partial e}$ by multiplying \"local\" gradients with $\\frac{\\partial L}{\\partial d}$ which is the grad value of the node **parent** to Node `c` and Node `e`. Can you see? It is an important observation.🤔"
   ]
  },
  {
   "attachments": {},
   "cell_type": "markdown",
   "id": "de990001",
   "metadata": {},
   "source": [
    "Let's finish with **node `a`** and **node `b`**\n",
    "\n",
    "$\\longrightarrow$ **Question: What is the derivative of Node `L` with respect to Node `a`?** In other words, how does the value in Node `L` reacts when the one in Node `a` changes a little bit?\n",
    "\n",
    "We can do it two ways. Using the following formula:\n",
    "\n",
    "$\\frac{\\partial L}{\\partial a} = \\frac{\\partial L}{\\partial d} \\times \\frac{\\partial d}{\\partial e} \\times \\frac{\\partial e}{\\partial a}$\n",
    "\n",
    "Or, we can leverage the observation we made earlier. We can obtain $\\frac{\\partial L}{\\partial a}$ by multiplying local derivative $\\frac{\\partial e}{\\partial a}$ with $\\frac{\\partial L}{\\partial e}$, which is the gradient of the node parent to `a` (Node `e`)... which we computed *already* and is stored in `e.grad`.\n",
    "\n",
    "$\\frac{\\partial L}{\\partial a} = \\frac{\\partial L}{\\partial e} \\times \\frac{\\partial e}{\\partial a}$\n",
    "\n",
    "$\\longrightarrow$ **Question: What is the derivative of Node `L` with respect to Node `b`?** In other words, how does the value in Node `L` reacts when the one in Node `b` changes a little bit?\n",
    "\n",
    "Here again, we can use our observation and write:\n",
    "\n",
    "$\\frac{\\partial L}{\\partial b} = \\frac{\\partial L}{\\partial e} \\times \\frac{\\partial e}{\\partial b}$"
   ]
  },
  {
   "cell_type": "code",
   "execution_count": 39,
   "id": "92c97c8f",
   "metadata": {},
   "outputs": [],
   "source": [
    "a.grad = -2.0 * -3.0\n",
    "b.grad = -2.0 * 2.0"
   ]
  },
  {
   "attachments": {},
   "cell_type": "markdown",
   "id": "f82e8334",
   "metadata": {},
   "source": [
    "***\n",
    "\n",
    "With all the gradient computed, redrawing our graph now gives the following:"
   ]
  },
  {
   "cell_type": "code",
   "execution_count": 40,
   "id": "4589f385",
   "metadata": {},
   "outputs": [
    {
     "data": {
      "image/svg+xml": "<?xml version=\"1.0\" encoding=\"UTF-8\" standalone=\"no\"?>\n<!DOCTYPE svg PUBLIC \"-//W3C//DTD SVG 1.1//EN\"\n \"http://www.w3.org/Graphics/SVG/1.1/DTD/svg11.dtd\">\n<!-- Generated by graphviz version 2.50.0 (0)\n -->\n<!-- Pages: 1 -->\n<svg width=\"1343pt\" height=\"128pt\"\n viewBox=\"0.00 0.00 1343.00 128.00\" xmlns=\"http://www.w3.org/2000/svg\" xmlns:xlink=\"http://www.w3.org/1999/xlink\">\n<g id=\"graph0\" class=\"graph\" transform=\"scale(1 1) rotate(0) translate(4 124)\">\n<polygon fill=\"white\" stroke=\"transparent\" points=\"-4,4 -4,-124 1339,-124 1339,4 -4,4\"/>\n<!-- 140107017094192 -->\n<g id=\"node1\" class=\"node\">\n<title>140107017094192</title>\n<polygon fill=\"none\" stroke=\"black\" points=\"736,-27.5 736,-63.5 972,-63.5 972,-27.5 736,-27.5\"/>\n<text text-anchor=\"middle\" x=\"749\" y=\"-41.8\" font-family=\"Times,serif\" font-size=\"14.00\">d</text>\n<polyline fill=\"none\" stroke=\"black\" points=\"762,-27.5 762,-63.5 \"/>\n<text text-anchor=\"middle\" x=\"813\" y=\"-41.8\" font-family=\"Times,serif\" font-size=\"14.00\">data 4.0000</text>\n<polyline fill=\"none\" stroke=\"black\" points=\"864,-27.5 864,-63.5 \"/>\n<text text-anchor=\"middle\" x=\"918\" y=\"-41.8\" font-family=\"Times,serif\" font-size=\"14.00\">grad &#45;2.0000</text>\n</g>\n<!-- 140107017093376* -->\n<g id=\"node6\" class=\"node\">\n<title>140107017093376*</title>\n<ellipse fill=\"none\" stroke=\"black\" cx=\"1035\" cy=\"-72.5\" rx=\"27\" ry=\"18\"/>\n<text text-anchor=\"middle\" x=\"1035\" y=\"-68.8\" font-family=\"Times,serif\" font-size=\"14.00\">*</text>\n</g>\n<!-- 140107017094192&#45;&gt;140107017093376* -->\n<g id=\"edge6\" class=\"edge\">\n<title>140107017094192&#45;&gt;140107017093376*</title>\n<path fill=\"none\" stroke=\"black\" d=\"M972.15,-63.17C981.53,-64.58 990.46,-65.93 998.46,-67.14\"/>\n<polygon fill=\"black\" stroke=\"black\" points=\"998.01,-70.61 1008.42,-68.64 999.06,-63.69 998.01,-70.61\"/>\n</g>\n<!-- 140107017094192+ -->\n<g id=\"node2\" class=\"node\">\n<title>140107017094192+</title>\n<ellipse fill=\"none\" stroke=\"black\" cx=\"673\" cy=\"-45.5\" rx=\"27\" ry=\"18\"/>\n<text text-anchor=\"middle\" x=\"673\" y=\"-41.8\" font-family=\"Times,serif\" font-size=\"14.00\">+</text>\n</g>\n<!-- 140107017094192+&#45;&gt;140107017094192 -->\n<g id=\"edge1\" class=\"edge\">\n<title>140107017094192+&#45;&gt;140107017094192</title>\n<path fill=\"none\" stroke=\"black\" d=\"M700.03,-45.5C707.58,-45.5 716.38,-45.5 725.87,-45.5\"/>\n<polygon fill=\"black\" stroke=\"black\" points=\"725.99,-49 735.99,-45.5 725.99,-42 725.99,-49\"/>\n</g>\n<!-- 140107017093712 -->\n<g id=\"node3\" class=\"node\">\n<title>140107017093712</title>\n<polygon fill=\"none\" stroke=\"black\" points=\"737.5,-82.5 737.5,-118.5 970.5,-118.5 970.5,-82.5 737.5,-82.5\"/>\n<text text-anchor=\"middle\" x=\"748.5\" y=\"-96.8\" font-family=\"Times,serif\" font-size=\"14.00\">f</text>\n<polyline fill=\"none\" stroke=\"black\" points=\"759.5,-82.5 759.5,-118.5 \"/>\n<text text-anchor=\"middle\" x=\"813\" y=\"-96.8\" font-family=\"Times,serif\" font-size=\"14.00\">data &#45;2.0000</text>\n<polyline fill=\"none\" stroke=\"black\" points=\"866.5,-82.5 866.5,-118.5 \"/>\n<text text-anchor=\"middle\" x=\"918.5\" y=\"-96.8\" font-family=\"Times,serif\" font-size=\"14.00\">grad 4.0000</text>\n</g>\n<!-- 140107017093712&#45;&gt;140107017093376* -->\n<g id=\"edge8\" class=\"edge\">\n<title>140107017093712&#45;&gt;140107017093376*</title>\n<path fill=\"none\" stroke=\"black\" d=\"M970.13,-82.49C980.27,-80.91 989.92,-79.4 998.51,-78.05\"/>\n<polygon fill=\"black\" stroke=\"black\" points=\"999.09,-81.5 1008.43,-76.5 998.01,-74.59 999.09,-81.5\"/>\n</g>\n<!-- 140107017095392 -->\n<g id=\"node4\" class=\"node\">\n<title>140107017095392</title>\n<polygon fill=\"none\" stroke=\"black\" points=\"5,-83.5 5,-119.5 236,-119.5 236,-83.5 5,-83.5\"/>\n<text text-anchor=\"middle\" x=\"17.5\" y=\"-97.8\" font-family=\"Times,serif\" font-size=\"14.00\">a</text>\n<polyline fill=\"none\" stroke=\"black\" points=\"30,-83.5 30,-119.5 \"/>\n<text text-anchor=\"middle\" x=\"81\" y=\"-97.8\" font-family=\"Times,serif\" font-size=\"14.00\">data 2.0000</text>\n<polyline fill=\"none\" stroke=\"black\" points=\"132,-83.5 132,-119.5 \"/>\n<text text-anchor=\"middle\" x=\"184\" y=\"-97.8\" font-family=\"Times,serif\" font-size=\"14.00\">grad 6.0000</text>\n</g>\n<!-- 140107017093472* -->\n<g id=\"node8\" class=\"node\">\n<title>140107017093472*</title>\n<ellipse fill=\"none\" stroke=\"black\" cx=\"304\" cy=\"-73.5\" rx=\"27\" ry=\"18\"/>\n<text text-anchor=\"middle\" x=\"304\" y=\"-69.8\" font-family=\"Times,serif\" font-size=\"14.00\">*</text>\n</g>\n<!-- 140107017095392&#45;&gt;140107017093472* -->\n<g id=\"edge5\" class=\"edge\">\n<title>140107017095392&#45;&gt;140107017093472*</title>\n<path fill=\"none\" stroke=\"black\" d=\"M236.19,-83.81C247.37,-82.08 258.02,-80.44 267.41,-78.99\"/>\n<polygon fill=\"black\" stroke=\"black\" points=\"268.08,-82.43 277.43,-77.44 267.01,-75.51 268.08,-82.43\"/>\n</g>\n<!-- 140107017093376 -->\n<g id=\"node5\" class=\"node\">\n<title>140107017093376</title>\n<polygon fill=\"none\" stroke=\"black\" points=\"1098,-54.5 1098,-90.5 1335,-90.5 1335,-54.5 1098,-54.5\"/>\n<text text-anchor=\"middle\" x=\"1111\" y=\"-68.8\" font-family=\"Times,serif\" font-size=\"14.00\">L</text>\n<polyline fill=\"none\" stroke=\"black\" points=\"1124,-54.5 1124,-90.5 \"/>\n<text text-anchor=\"middle\" x=\"1177.5\" y=\"-68.8\" font-family=\"Times,serif\" font-size=\"14.00\">data &#45;8.0000</text>\n<polyline fill=\"none\" stroke=\"black\" points=\"1231,-54.5 1231,-90.5 \"/>\n<text text-anchor=\"middle\" x=\"1283\" y=\"-68.8\" font-family=\"Times,serif\" font-size=\"14.00\">grad 1.0000</text>\n</g>\n<!-- 140107017093376*&#45;&gt;140107017093376 -->\n<g id=\"edge2\" class=\"edge\">\n<title>140107017093376*&#45;&gt;140107017093376</title>\n<path fill=\"none\" stroke=\"black\" d=\"M1062.1,-72.5C1069.61,-72.5 1078.33,-72.5 1087.75,-72.5\"/>\n<polygon fill=\"black\" stroke=\"black\" points=\"1087.78,-76 1097.78,-72.5 1087.78,-69 1087.78,-76\"/>\n</g>\n<!-- 140107017093472 -->\n<g id=\"node7\" class=\"node\">\n<title>140107017093472</title>\n<polygon fill=\"none\" stroke=\"black\" points=\"368.5,-55.5 368.5,-91.5 608.5,-91.5 608.5,-55.5 368.5,-55.5\"/>\n<text text-anchor=\"middle\" x=\"381\" y=\"-69.8\" font-family=\"Times,serif\" font-size=\"14.00\">e</text>\n<polyline fill=\"none\" stroke=\"black\" points=\"393.5,-55.5 393.5,-91.5 \"/>\n<text text-anchor=\"middle\" x=\"447\" y=\"-69.8\" font-family=\"Times,serif\" font-size=\"14.00\">data &#45;6.0000</text>\n<polyline fill=\"none\" stroke=\"black\" points=\"500.5,-55.5 500.5,-91.5 \"/>\n<text text-anchor=\"middle\" x=\"554.5\" y=\"-69.8\" font-family=\"Times,serif\" font-size=\"14.00\">grad &#45;2.0000</text>\n</g>\n<!-- 140107017093472&#45;&gt;140107017094192+ -->\n<g id=\"edge4\" class=\"edge\">\n<title>140107017093472&#45;&gt;140107017094192+</title>\n<path fill=\"none\" stroke=\"black\" d=\"M606.89,-55.49C617.53,-53.86 627.65,-52.3 636.61,-50.93\"/>\n<polygon fill=\"black\" stroke=\"black\" points=\"637.2,-54.38 646.55,-49.4 636.14,-47.46 637.2,-54.38\"/>\n</g>\n<!-- 140107017093472*&#45;&gt;140107017093472 -->\n<g id=\"edge3\" class=\"edge\">\n<title>140107017093472*&#45;&gt;140107017093472</title>\n<path fill=\"none\" stroke=\"black\" d=\"M331.15,-73.5C338.98,-73.5 348.16,-73.5 358.06,-73.5\"/>\n<polygon fill=\"black\" stroke=\"black\" points=\"358.19,-77 368.19,-73.5 358.19,-70 358.19,-77\"/>\n</g>\n<!-- 140107017095104 -->\n<g id=\"node9\" class=\"node\">\n<title>140107017095104</title>\n<polygon fill=\"none\" stroke=\"black\" points=\"367,-0.5 367,-36.5 610,-36.5 610,-0.5 367,-0.5\"/>\n<text text-anchor=\"middle\" x=\"379\" y=\"-14.8\" font-family=\"Times,serif\" font-size=\"14.00\">c</text>\n<polyline fill=\"none\" stroke=\"black\" points=\"391,-0.5 391,-36.5 \"/>\n<text text-anchor=\"middle\" x=\"446.5\" y=\"-14.8\" font-family=\"Times,serif\" font-size=\"14.00\">data 10.0000</text>\n<polyline fill=\"none\" stroke=\"black\" points=\"502,-0.5 502,-36.5 \"/>\n<text text-anchor=\"middle\" x=\"556\" y=\"-14.8\" font-family=\"Times,serif\" font-size=\"14.00\">grad &#45;2.0000</text>\n</g>\n<!-- 140107017095104&#45;&gt;140107017094192+ -->\n<g id=\"edge9\" class=\"edge\">\n<title>140107017095104&#45;&gt;140107017094192+</title>\n<path fill=\"none\" stroke=\"black\" d=\"M610.21,-36.36C619.62,-37.75 628.55,-39.07 636.56,-40.26\"/>\n<polygon fill=\"black\" stroke=\"black\" points=\"636.1,-43.73 646.5,-41.73 637.12,-36.8 636.1,-43.73\"/>\n</g>\n<!-- 140107017095152 -->\n<g id=\"node10\" class=\"node\">\n<title>140107017095152</title>\n<polygon fill=\"none\" stroke=\"black\" points=\"0,-28.5 0,-64.5 241,-64.5 241,-28.5 0,-28.5\"/>\n<text text-anchor=\"middle\" x=\"13\" y=\"-42.8\" font-family=\"Times,serif\" font-size=\"14.00\">b</text>\n<polyline fill=\"none\" stroke=\"black\" points=\"26,-28.5 26,-64.5 \"/>\n<text text-anchor=\"middle\" x=\"79.5\" y=\"-42.8\" font-family=\"Times,serif\" font-size=\"14.00\">data &#45;3.0000</text>\n<polyline fill=\"none\" stroke=\"black\" points=\"133,-28.5 133,-64.5 \"/>\n<text text-anchor=\"middle\" x=\"187\" y=\"-42.8\" font-family=\"Times,serif\" font-size=\"14.00\">grad &#45;4.0000</text>\n</g>\n<!-- 140107017095152&#45;&gt;140107017093472* -->\n<g id=\"edge7\" class=\"edge\">\n<title>140107017095152&#45;&gt;140107017093472*</title>\n<path fill=\"none\" stroke=\"black\" d=\"M241.05,-64.28C250.46,-65.68 259.41,-67.02 267.44,-68.21\"/>\n<polygon fill=\"black\" stroke=\"black\" points=\"267.01,-71.68 277.41,-69.69 268.04,-64.76 267.01,-71.68\"/>\n</g>\n</g>\n</svg>\n",
      "text/plain": [
       "<graphviz.graphs.Digraph at 0x7f6d34ff4550>"
      ]
     },
     "execution_count": 40,
     "metadata": {},
     "output_type": "execute_result"
    }
   ],
   "source": [
    "draw_dot(L)"
   ]
  },
  {
   "attachments": {},
   "cell_type": "markdown",
   "id": "99f29319",
   "metadata": {},
   "source": [
    "Okay, we computed the gradient (partial derivatives) of the output with respect to each node in the expression graph. But why is it useful? 🤔\n",
    "\n",
    "Consider this question: **Can we nudge our inputs to try to make the value in node `L` go up?**\n",
    "\n",
    "If we want the value in Node `L` to go up (become less negative)... we need to nudge the inputs (leaf  nodes) of our graph a *tiny amount* in the **direction of the gradient**.\n",
    "\n",
    "Think about it of a second, it makes sense. This is how I personally approached it. I asked myself the following question:\n",
    "\n",
    "- What is the meaning of a gradient?\n",
    "\n",
    "The gradient of a multi-variable function, is a **vector**. It represents the direction one should choose to reach a local/global maximum **fastest**. It shows the direction of greatest increase.\n",
    "\n",
    "I imagine myself standing at a random position (black dot) on a hill:\n",
    "\n",
    "![Kassi on a hill](./images/img-4.jpg)\n",
    "\n",
    "And asking myself, **which direction should I choose to reach the top faster?**. I have a lot of options (red arrows). They will surely make me get closer to the top. But will I get there faster than someone who chose to move in the direction of the green arrow? NO!\n",
    "\n",
    "Depending on my current position, computing the gradient helps me determine the direction of fastest increase (the green vector). So if I update my current position using the coordinates of the gradient vector, **my new position would not be closer to the top, but I would have got there the fastest**!\n",
    "\n",
    "Coming back to our expression graph...\n",
    "\n",
    "The `data` values of the input Nodes of the expression graph represents my current position, and their respective `grad` values represent the coordinate of gradient vector (the green vector). So, if I update my current position using the coordinates of gradient, I should effectively **increase** the value in Node `L`.\n",
    "\n",
    "Here is how it goes in practice:"
   ]
  },
  {
   "cell_type": "code",
   "execution_count": 41,
   "id": "e8532529",
   "metadata": {},
   "outputs": [
    {
     "name": "stdout",
     "output_type": "stream",
     "text": [
      "-7.286496\n"
     ]
    }
   ],
   "source": [
    "#SMALL step from our current position  in the direction of the gradient\n",
    "a.data += 0.01 * a.grad\n",
    "b.data += 0.01 * b.grad\n",
    "c.data += 0.01 * c.grad\n",
    "f.data += 0.01 * f.grad\n",
    "\n",
    "#We recompute the forward pass (that is new value of L)\n",
    "e = a * b\n",
    "d = e + c\n",
    "L = d * f\n",
    "\n",
    "#display it\n",
    "print(L.data)\n"
   ]
  },
  {
   "attachments": {},
   "cell_type": "markdown",
   "id": "e867c6ca",
   "metadata": {},
   "source": [
    "See!?\n",
    "\n",
    "The value in Node `L` increased. It became less negative.\n",
    "\n",
    "What we went through, is one example of an optimization step that will perform in the future. Extremely useful and powerfull in training neural networks. We are getting there, so buckle up! 🚀"
   ]
  },
  {
   "attachments": {},
   "cell_type": "markdown",
   "id": "c954914f",
   "metadata": {},
   "source": [
    "Oof! 😮‍💨 \n",
    "\n",
    "Let's rest a little bit, and digest what we learned\n",
    "\n",
    "![Rest GIF](./images/img-gif-1.gif)"
   ]
  },
  {
   "attachments": {},
   "cell_type": "markdown",
   "id": "7b6761e0",
   "metadata": {},
   "source": [
    "# Manual backpropagation with a neuron\n",
    "\n",
    "In this section, we explore another example of backpropagation, but with a neuron this time. This example a little complex, but a lot more useful than the previous.\n",
    "\n",
    "We will build a 2-inputs neuron. Essentially, we'll try to build a neuron like the following:\n",
    "\n",
    "![2 input neuron](./images/img-5.jpg)\n",
    "\n",
    "`b` is the **bias**. It tells us how hard it is for this neuron to fire. A high bias means \"hard to trigger\" whereas a low bias means \"very easy to trigger\".\n",
    "\n",
    "For this example, we'll be using `tanh` as our activation function. It looks like this:"
   ]
  },
  {
   "cell_type": "code",
   "execution_count": 42,
   "id": "b610169e",
   "metadata": {},
   "outputs": [
    {
     "data": {
      "image/png": "[encoded data removed]",
      "text/plain": [
       "<Figure size 640x480 with 1 Axes>"
      ]
     },
     "metadata": {},
     "output_type": "display_data"
    }
   ],
   "source": [
    "#Numpy provides a definition for \"tanh\"\n",
    "import numpy as np\n",
    "plt.plot(np.arange(-5 ,5, 0.2), np.tanh(np.arange(-5, 5, 0.2)))\n",
    "plt.grid()"
   ]
  },
  {
   "attachments": {},
   "cell_type": "markdown",
   "id": "23b883ec",
   "metadata": {},
   "source": [
    "It looks a bit like the `sigmoid` function, don't you think? I do 🤷"
   ]
  },
  {
   "attachments": {},
   "cell_type": "markdown",
   "id": "a6121774",
   "metadata": {},
   "source": [
    "Let's now build our 2-input neuron. To do that, we will compose the mathematical expression describing this neuron, using the `Value` object. Here is how it goes:"
   ]
  },
  {
   "cell_type": "code",
   "execution_count": 45,
   "id": "7feb45f4",
   "metadata": {},
   "outputs": [],
   "source": [
    "#--- Inputs 1 & 2\n",
    "x1 = Value(2.0, label='x1')\n",
    "x2 = Value(0.0, label='x2')\n",
    "#---- Weights 1 & 2\n",
    "w1 = Value(-3.0, label='w1')\n",
    "w2 = Value(1.0, label='w2')\n",
    "#--- bias\n",
    "b = Value(6.7, label='b')\n",
    "\n",
    "#net sum = x1*w1 + x2*w2 + b\n",
    "x1w1 = x1*w1; x1w1.label = 'x1*w1'\n",
    "x2w2 = x2*w2; x2w2.label = 'x2*w2'\n",
    "x1w1x2w2 = x1w1 + x2w2; x1w1x2w2.label = 'x1w1 + x2w2'\n",
    "n = x1w1x2w2 + b; n.label = 'n'\n",
    "\n",
    "# 'n' goes through activation function\n",
    "#giving the final result.\n",
    "o = n.tanh(); o.label='o'"
   ]
  },
  {
   "attachments": {},
   "cell_type": "markdown",
   "id": "037809ee",
   "metadata": {},
   "source": [
    "Let's graph the above expression using the `draw_dot` helper:"
   ]
  },
  {
   "cell_type": "code",
   "execution_count": 46,
   "id": "5ea183ea",
   "metadata": {},
   "outputs": [
    {
     "data": {
      "image/svg+xml": "<?xml version=\"1.0\" encoding=\"UTF-8\" standalone=\"no\"?>\n<!DOCTYPE svg PUBLIC \"-//W3C//DTD SVG 1.1//EN\"\n \"http://www.w3.org/Graphics/SVG/1.1/DTD/svg11.dtd\">\n<!-- Generated by graphviz version 2.50.0 (0)\n -->\n<!-- Pages: 1 -->\n<svg width=\"1832pt\" height=\"210pt\"\n viewBox=\"0.00 0.00 1831.69 210.00\" xmlns=\"http://www.w3.org/2000/svg\" xmlns:xlink=\"http://www.w3.org/1999/xlink\">\n<g id=\"graph0\" class=\"graph\" transform=\"scale(1 1) rotate(0) translate(4 206)\">\n<polygon fill=\"white\" stroke=\"transparent\" points=\"-4,4 -4,-206 1827.69,-206 1827.69,4 -4,4\"/>\n<!-- 140107004869120 -->\n<g id=\"node1\" class=\"node\">\n<title>140107004869120</title>\n<polygon fill=\"none\" stroke=\"black\" points=\"2.5,-165.5 2.5,-201.5 246.5,-201.5 246.5,-165.5 2.5,-165.5\"/>\n<text text-anchor=\"middle\" x=\"21.5\" y=\"-179.8\" font-family=\"Times,serif\" font-size=\"14.00\">w2</text>\n<polyline fill=\"none\" stroke=\"black\" points=\"40.5,-165.5 40.5,-201.5 \"/>\n<text text-anchor=\"middle\" x=\"91.5\" y=\"-179.8\" font-family=\"Times,serif\" font-size=\"14.00\">data 1.0000</text>\n<polyline fill=\"none\" stroke=\"black\" points=\"142.5,-165.5 142.5,-201.5 \"/>\n<text text-anchor=\"middle\" x=\"194.5\" y=\"-179.8\" font-family=\"Times,serif\" font-size=\"14.00\">grad 0.0000</text>\n</g>\n<!-- 140107004870128* -->\n<g id=\"node15\" class=\"node\">\n<title>140107004870128*</title>\n<ellipse fill=\"none\" stroke=\"black\" cx=\"312\" cy=\"-128.5\" rx=\"27\" ry=\"18\"/>\n<text text-anchor=\"middle\" x=\"312\" y=\"-124.8\" font-family=\"Times,serif\" font-size=\"14.00\">*</text>\n</g>\n<!-- 140107004869120&#45;&gt;140107004870128* -->\n<g id=\"edge6\" class=\"edge\">\n<title>140107004869120&#45;&gt;140107004870128*</title>\n<path fill=\"none\" stroke=\"black\" d=\"M218.13,-165.46C228.63,-162.77 239.1,-159.78 249,-156.5 259.71,-152.96 271.05,-148.16 281.07,-143.54\"/>\n<polygon fill=\"black\" stroke=\"black\" points=\"282.67,-146.66 290.2,-139.21 279.67,-140.33 282.67,-146.66\"/>\n</g>\n<!-- 140107004867680 -->\n<g id=\"node2\" class=\"node\">\n<title>140107004867680</title>\n<polygon fill=\"none\" stroke=\"black\" points=\"1225,-54.5 1225,-90.5 1457,-90.5 1457,-54.5 1225,-54.5\"/>\n<text text-anchor=\"middle\" x=\"1238\" y=\"-68.8\" font-family=\"Times,serif\" font-size=\"14.00\">n</text>\n<polyline fill=\"none\" stroke=\"black\" points=\"1251,-54.5 1251,-90.5 \"/>\n<text text-anchor=\"middle\" x=\"1302\" y=\"-68.8\" font-family=\"Times,serif\" font-size=\"14.00\">data 0.7000</text>\n<polyline fill=\"none\" stroke=\"black\" points=\"1353,-54.5 1353,-90.5 \"/>\n<text text-anchor=\"middle\" x=\"1405\" y=\"-68.8\" font-family=\"Times,serif\" font-size=\"14.00\">grad 0.0000</text>\n</g>\n<!-- 140107004869264tanh -->\n<g id=\"node6\" class=\"node\">\n<title>140107004869264tanh</title>\n<ellipse fill=\"none\" stroke=\"black\" cx=\"1524.85\" cy=\"-72.5\" rx=\"31.7\" ry=\"18\"/>\n<text text-anchor=\"middle\" x=\"1524.85\" y=\"-68.8\" font-family=\"Times,serif\" font-size=\"14.00\">tanh</text>\n</g>\n<!-- 140107004867680&#45;&gt;140107004869264tanh -->\n<g id=\"edge12\" class=\"edge\">\n<title>140107004867680&#45;&gt;140107004869264tanh</title>\n<path fill=\"none\" stroke=\"black\" d=\"M1457.17,-72.5C1466.08,-72.5 1474.66,-72.5 1482.53,-72.5\"/>\n<polygon fill=\"black\" stroke=\"black\" points=\"1482.78,-76 1492.78,-72.5 1482.78,-69 1482.78,-76\"/>\n</g>\n<!-- 140107004867680+ -->\n<g id=\"node3\" class=\"node\">\n<title>140107004867680+</title>\n<ellipse fill=\"none\" stroke=\"black\" cx=\"1162\" cy=\"-72.5\" rx=\"27\" ry=\"18\"/>\n<text text-anchor=\"middle\" x=\"1162\" y=\"-68.8\" font-family=\"Times,serif\" font-size=\"14.00\">+</text>\n</g>\n<!-- 140107004867680+&#45;&gt;140107004867680 -->\n<g id=\"edge1\" class=\"edge\">\n<title>140107004867680+&#45;&gt;140107004867680</title>\n<path fill=\"none\" stroke=\"black\" d=\"M1189.12,-72.5C1196.53,-72.5 1205.14,-72.5 1214.4,-72.5\"/>\n<polygon fill=\"black\" stroke=\"black\" points=\"1214.69,-76 1224.69,-72.5 1214.69,-69 1214.69,-76\"/>\n</g>\n<!-- 140107004868736 -->\n<g id=\"node4\" class=\"node\">\n<title>140107004868736</title>\n<polygon fill=\"none\" stroke=\"black\" points=\"820.5,-27.5 820.5,-63.5 1052.5,-63.5 1052.5,-27.5 820.5,-27.5\"/>\n<text text-anchor=\"middle\" x=\"833.5\" y=\"-41.8\" font-family=\"Times,serif\" font-size=\"14.00\">b</text>\n<polyline fill=\"none\" stroke=\"black\" points=\"846.5,-27.5 846.5,-63.5 \"/>\n<text text-anchor=\"middle\" x=\"897.5\" y=\"-41.8\" font-family=\"Times,serif\" font-size=\"14.00\">data 6.7000</text>\n<polyline fill=\"none\" stroke=\"black\" points=\"948.5,-27.5 948.5,-63.5 \"/>\n<text text-anchor=\"middle\" x=\"1000.5\" y=\"-41.8\" font-family=\"Times,serif\" font-size=\"14.00\">grad 0.0000</text>\n</g>\n<!-- 140107004868736&#45;&gt;140107004867680+ -->\n<g id=\"edge11\" class=\"edge\">\n<title>140107004868736&#45;&gt;140107004867680+</title>\n<path fill=\"none\" stroke=\"black\" d=\"M1052.52,-59.4C1078.82,-62.57 1104.87,-65.72 1124.85,-68.13\"/>\n<polygon fill=\"black\" stroke=\"black\" points=\"1124.65,-71.63 1135,-69.36 1125.49,-64.68 1124.65,-71.63\"/>\n</g>\n<!-- 140107004869264 -->\n<g id=\"node5\" class=\"node\">\n<title>140107004869264</title>\n<polygon fill=\"none\" stroke=\"black\" points=\"1592.69,-54.5 1592.69,-90.5 1823.69,-90.5 1823.69,-54.5 1592.69,-54.5\"/>\n<text text-anchor=\"middle\" x=\"1605.19\" y=\"-68.8\" font-family=\"Times,serif\" font-size=\"14.00\">o</text>\n<polyline fill=\"none\" stroke=\"black\" points=\"1617.69,-54.5 1617.69,-90.5 \"/>\n<text text-anchor=\"middle\" x=\"1668.69\" y=\"-68.8\" font-family=\"Times,serif\" font-size=\"14.00\">data 0.6044</text>\n<polyline fill=\"none\" stroke=\"black\" points=\"1719.69,-54.5 1719.69,-90.5 \"/>\n<text text-anchor=\"middle\" x=\"1771.69\" y=\"-68.8\" font-family=\"Times,serif\" font-size=\"14.00\">grad 0.0000</text>\n</g>\n<!-- 140107004869264tanh&#45;&gt;140107004869264 -->\n<g id=\"edge2\" class=\"edge\">\n<title>140107004869264tanh&#45;&gt;140107004869264</title>\n<path fill=\"none\" stroke=\"black\" d=\"M1557.02,-72.5C1564.61,-72.5 1573.19,-72.5 1582.31,-72.5\"/>\n<polygon fill=\"black\" stroke=\"black\" points=\"1582.4,-76 1592.4,-72.5 1582.4,-69 1582.4,-76\"/>\n</g>\n<!-- 140107004870368 -->\n<g id=\"node7\" class=\"node\">\n<title>140107004870368</title>\n<polygon fill=\"none\" stroke=\"black\" points=\"375,-55.5 375,-91.5 648,-91.5 648,-55.5 375,-55.5\"/>\n<text text-anchor=\"middle\" x=\"406\" y=\"-69.8\" font-family=\"Times,serif\" font-size=\"14.00\">x1*w1</text>\n<polyline fill=\"none\" stroke=\"black\" points=\"437,-55.5 437,-91.5 \"/>\n<text text-anchor=\"middle\" x=\"490.5\" y=\"-69.8\" font-family=\"Times,serif\" font-size=\"14.00\">data &#45;6.0000</text>\n<polyline fill=\"none\" stroke=\"black\" points=\"544,-55.5 544,-91.5 \"/>\n<text text-anchor=\"middle\" x=\"596\" y=\"-69.8\" font-family=\"Times,serif\" font-size=\"14.00\">grad 0.0000</text>\n</g>\n<!-- 140107004868448+ -->\n<g id=\"node12\" class=\"node\">\n<title>140107004868448+</title>\n<ellipse fill=\"none\" stroke=\"black\" cx=\"711\" cy=\"-100.5\" rx=\"27\" ry=\"18\"/>\n<text text-anchor=\"middle\" x=\"711\" y=\"-96.8\" font-family=\"Times,serif\" font-size=\"14.00\">+</text>\n</g>\n<!-- 140107004870368&#45;&gt;140107004868448+ -->\n<g id=\"edge8\" class=\"edge\">\n<title>140107004870368&#45;&gt;140107004868448+</title>\n<path fill=\"none\" stroke=\"black\" d=\"M644.24,-91.51C655.12,-93 665.4,-94.4 674.45,-95.64\"/>\n<polygon fill=\"black\" stroke=\"black\" points=\"674.11,-99.13 684.49,-97.01 675.05,-92.19 674.11,-99.13\"/>\n</g>\n<!-- 140107004870368* -->\n<g id=\"node8\" class=\"node\">\n<title>140107004870368*</title>\n<ellipse fill=\"none\" stroke=\"black\" cx=\"312\" cy=\"-73.5\" rx=\"27\" ry=\"18\"/>\n<text text-anchor=\"middle\" x=\"312\" y=\"-69.8\" font-family=\"Times,serif\" font-size=\"14.00\">*</text>\n</g>\n<!-- 140107004870368*&#45;&gt;140107004870368 -->\n<g id=\"edge3\" class=\"edge\">\n<title>140107004870368*&#45;&gt;140107004870368</title>\n<path fill=\"none\" stroke=\"black\" d=\"M339.23,-73.5C346.7,-73.5 355.41,-73.5 364.87,-73.5\"/>\n<polygon fill=\"black\" stroke=\"black\" points=\"364.98,-77 374.98,-73.5 364.98,-70 364.98,-77\"/>\n</g>\n<!-- 140107017096448 -->\n<g id=\"node9\" class=\"node\">\n<title>140107017096448</title>\n<polygon fill=\"none\" stroke=\"black\" points=\"4.5,-55.5 4.5,-91.5 244.5,-91.5 244.5,-55.5 4.5,-55.5\"/>\n<text text-anchor=\"middle\" x=\"21.5\" y=\"-69.8\" font-family=\"Times,serif\" font-size=\"14.00\">x1</text>\n<polyline fill=\"none\" stroke=\"black\" points=\"38.5,-55.5 38.5,-91.5 \"/>\n<text text-anchor=\"middle\" x=\"89.5\" y=\"-69.8\" font-family=\"Times,serif\" font-size=\"14.00\">data 2.0000</text>\n<polyline fill=\"none\" stroke=\"black\" points=\"140.5,-55.5 140.5,-91.5 \"/>\n<text text-anchor=\"middle\" x=\"192.5\" y=\"-69.8\" font-family=\"Times,serif\" font-size=\"14.00\">grad 0.0000</text>\n</g>\n<!-- 140107017096448&#45;&gt;140107004870368* -->\n<g id=\"edge9\" class=\"edge\">\n<title>140107017096448&#45;&gt;140107004870368*</title>\n<path fill=\"none\" stroke=\"black\" d=\"M244.55,-73.5C255.31,-73.5 265.54,-73.5 274.62,-73.5\"/>\n<polygon fill=\"black\" stroke=\"black\" points=\"274.7,-77 284.7,-73.5 274.7,-70 274.7,-77\"/>\n</g>\n<!-- 140107017095968 -->\n<g id=\"node10\" class=\"node\">\n<title>140107017095968</title>\n<polygon fill=\"none\" stroke=\"black\" points=\"4.5,-110.5 4.5,-146.5 244.5,-146.5 244.5,-110.5 4.5,-110.5\"/>\n<text text-anchor=\"middle\" x=\"21.5\" y=\"-124.8\" font-family=\"Times,serif\" font-size=\"14.00\">x2</text>\n<polyline fill=\"none\" stroke=\"black\" points=\"38.5,-110.5 38.5,-146.5 \"/>\n<text text-anchor=\"middle\" x=\"89.5\" y=\"-124.8\" font-family=\"Times,serif\" font-size=\"14.00\">data 0.0000</text>\n<polyline fill=\"none\" stroke=\"black\" points=\"140.5,-110.5 140.5,-146.5 \"/>\n<text text-anchor=\"middle\" x=\"192.5\" y=\"-124.8\" font-family=\"Times,serif\" font-size=\"14.00\">grad 0.0000</text>\n</g>\n<!-- 140107017095968&#45;&gt;140107004870128* -->\n<g id=\"edge7\" class=\"edge\">\n<title>140107017095968&#45;&gt;140107004870128*</title>\n<path fill=\"none\" stroke=\"black\" d=\"M244.55,-128.5C255.31,-128.5 265.54,-128.5 274.62,-128.5\"/>\n<polygon fill=\"black\" stroke=\"black\" points=\"274.7,-132 284.7,-128.5 274.7,-125 274.7,-132\"/>\n</g>\n<!-- 140107004868448 -->\n<g id=\"node11\" class=\"node\">\n<title>140107004868448</title>\n<polygon fill=\"none\" stroke=\"black\" points=\"774,-82.5 774,-118.5 1099,-118.5 1099,-82.5 774,-82.5\"/>\n<text text-anchor=\"middle\" x=\"831\" y=\"-96.8\" font-family=\"Times,serif\" font-size=\"14.00\">x1w1 + x2w2</text>\n<polyline fill=\"none\" stroke=\"black\" points=\"888,-82.5 888,-118.5 \"/>\n<text text-anchor=\"middle\" x=\"941.5\" y=\"-96.8\" font-family=\"Times,serif\" font-size=\"14.00\">data &#45;6.0000</text>\n<polyline fill=\"none\" stroke=\"black\" points=\"995,-82.5 995,-118.5 \"/>\n<text text-anchor=\"middle\" x=\"1047\" y=\"-96.8\" font-family=\"Times,serif\" font-size=\"14.00\">grad 0.0000</text>\n</g>\n<!-- 140107004868448&#45;&gt;140107004867680+ -->\n<g id=\"edge13\" class=\"edge\">\n<title>140107004868448&#45;&gt;140107004867680+</title>\n<path fill=\"none\" stroke=\"black\" d=\"M1081.26,-82.49C1097.41,-80.47 1112.59,-78.56 1125.28,-76.97\"/>\n<polygon fill=\"black\" stroke=\"black\" points=\"1125.84,-80.43 1135.32,-75.72 1124.96,-73.49 1125.84,-80.43\"/>\n</g>\n<!-- 140107004868448+&#45;&gt;140107004868448 -->\n<g id=\"edge4\" class=\"edge\">\n<title>140107004868448+&#45;&gt;140107004868448</title>\n<path fill=\"none\" stroke=\"black\" d=\"M738.08,-100.5C745.51,-100.5 754.21,-100.5 763.74,-100.5\"/>\n<polygon fill=\"black\" stroke=\"black\" points=\"763.95,-104 773.95,-100.5 763.95,-97 763.95,-104\"/>\n</g>\n<!-- 140107004868496 -->\n<g id=\"node13\" class=\"node\">\n<title>140107004868496</title>\n<polygon fill=\"none\" stroke=\"black\" points=\"0,-0.5 0,-36.5 249,-36.5 249,-0.5 0,-0.5\"/>\n<text text-anchor=\"middle\" x=\"19\" y=\"-14.8\" font-family=\"Times,serif\" font-size=\"14.00\">w1</text>\n<polyline fill=\"none\" stroke=\"black\" points=\"38,-0.5 38,-36.5 \"/>\n<text text-anchor=\"middle\" x=\"91.5\" y=\"-14.8\" font-family=\"Times,serif\" font-size=\"14.00\">data &#45;3.0000</text>\n<polyline fill=\"none\" stroke=\"black\" points=\"145,-0.5 145,-36.5 \"/>\n<text text-anchor=\"middle\" x=\"197\" y=\"-14.8\" font-family=\"Times,serif\" font-size=\"14.00\">grad 0.0000</text>\n</g>\n<!-- 140107004868496&#45;&gt;140107004870368* -->\n<g id=\"edge14\" class=\"edge\">\n<title>140107004868496&#45;&gt;140107004870368*</title>\n<path fill=\"none\" stroke=\"black\" d=\"M214.42,-36.55C226.15,-39.54 237.93,-42.87 249,-46.5 259.46,-49.93 270.57,-54.47 280.46,-58.84\"/>\n<polygon fill=\"black\" stroke=\"black\" points=\"279.31,-62.17 289.87,-63.12 282.21,-55.79 279.31,-62.17\"/>\n</g>\n<!-- 140107004870128 -->\n<g id=\"node14\" class=\"node\">\n<title>140107004870128</title>\n<polygon fill=\"none\" stroke=\"black\" points=\"377.5,-110.5 377.5,-146.5 645.5,-146.5 645.5,-110.5 377.5,-110.5\"/>\n<text text-anchor=\"middle\" x=\"408.5\" y=\"-124.8\" font-family=\"Times,serif\" font-size=\"14.00\">x2*w2</text>\n<polyline fill=\"none\" stroke=\"black\" points=\"439.5,-110.5 439.5,-146.5 \"/>\n<text text-anchor=\"middle\" x=\"490.5\" y=\"-124.8\" font-family=\"Times,serif\" font-size=\"14.00\">data 0.0000</text>\n<polyline fill=\"none\" stroke=\"black\" points=\"541.5,-110.5 541.5,-146.5 \"/>\n<text text-anchor=\"middle\" x=\"593.5\" y=\"-124.8\" font-family=\"Times,serif\" font-size=\"14.00\">grad 0.0000</text>\n</g>\n<!-- 140107004870128&#45;&gt;140107004868448+ -->\n<g id=\"edge10\" class=\"edge\">\n<title>140107004870128&#45;&gt;140107004868448+</title>\n<path fill=\"none\" stroke=\"black\" d=\"M639.53,-110.49C652.09,-108.71 663.99,-107.02 674.3,-105.56\"/>\n<polygon fill=\"black\" stroke=\"black\" points=\"675.03,-108.99 684.44,-104.12 674.05,-102.06 675.03,-108.99\"/>\n</g>\n<!-- 140107004870128*&#45;&gt;140107004870128 -->\n<g id=\"edge5\" class=\"edge\">\n<title>140107004870128*&#45;&gt;140107004870128</title>\n<path fill=\"none\" stroke=\"black\" d=\"M339.23,-128.5C347.26,-128.5 356.72,-128.5 366.99,-128.5\"/>\n<polygon fill=\"black\" stroke=\"black\" points=\"367.08,-132 377.08,-128.5 367.08,-125 367.08,-132\"/>\n</g>\n</g>\n</svg>\n",
      "text/plain": [
       "<graphviz.graphs.Digraph at 0x7f6d34fc0700>"
      ]
     },
     "execution_count": 46,
     "metadata": {},
     "output_type": "execute_result"
    }
   ],
   "source": [
    "draw_dot(o)"
   ]
  },
  {
   "cell_type": "code",
   "execution_count": null,
   "id": "3777d56e",
   "metadata": {},
   "outputs": [],
   "source": []
  }
 ],
 "metadata": {
  "kernelspec": {
   "display_name": "Python 3 (ipykernel)",
   "language": "python",
   "name": "python3"
  },
  "language_info": {
   "codemirror_mode": {
    "name": "ipython",
    "version": 3
   },
   "file_extension": ".py",
   "mimetype": "text/x-python",
   "name": "python",
   "nbconvert_exporter": "python",
   "pygments_lexer": "ipython3",
   "version": "3.9.13"
  },
  "vscode": {
   "interpreter": {
    "hash": "916dbcbb3f70747c44a77c7bcd40155683ae19c65e1c03b4aa3499c5328201f1"
   }
  }
 },
 "nbformat": 4,
 "nbformat_minor": 5
}
