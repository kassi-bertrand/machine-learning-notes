{
 "cells": [
  {
   "cell_type": "markdown",
   "id": "df494796",
   "metadata": {},
   "source": [
    "# What is Micrograd?\n",
    "\n",
    "\"**Micrograd**\" is small autograd engine. The word **Autograd** is short for \"**Automatic Gradient**\". Autograd is also the name of PyTorch's automatic differentiation system.\n",
    "\n",
    "What \"Micrograd\" does, is that it implements the \"Backpropagation\" algorithm. \"Backprop\" helps us **efficiently compute the gradient of a loss/error function with respect to the weights of a given neural network**.\n",
    "\n",
    "With the gradient, we can iterativelly tune/tweak the weights of a network to minimize our loss function.\n",
    "\n",
    "I am building Micrograd following **Andrej Karpathy** [YouTube](https://youtu.be/VMj-3S1tku0) video."
   ]
  },
  {
   "cell_type": "markdown",
   "id": "38bc8718",
   "metadata": {},
   "source": [
    "# Why Am I learning this? 💡🧠\n",
    "\n",
    "1. I want **Deep understanding**. As a newcomer, I do not want to fall into the rush of building the \"cool\" stuff. I would like to practice patience, taking the time to **learn what led to the cool stuff**... I want to believe that it will pay ten fold in the future.\n",
    "\n",
    "2. According to Andrej, **Backpropagation is at the CORE of any modern deep learning frameworks**, like PyTorch, JAX, TensorFlow, etc... I believe him.\n",
    "\n",
    "3. My supervisor told me that PyTorch's Autograd is useful when debugging a neural network, and debugging is an important part of neural network development. So, taking some time to understand what happens under the hood might pay in the future? We'll see. I can only connect the dots looking backward. 😉"
   ]
  },
  {
   "cell_type": "markdown",
   "id": "5d11c584",
   "metadata": {},
   "source": [
    "# What can Micrograd do?\n",
    "\n"
   ]
  },
  {
   "cell_type": "markdown",
   "id": "2e09f36c",
   "metadata": {},
   "source": [
    "At [1:30](https://youtu.be/VMj-3S1tku0?t=90) of his video, Andrej outlines the following capabilities:"
   ]
  },
  {
   "cell_type": "markdown",
   "id": "aff6fb06",
   "metadata": {},
   "source": [
    "1. Micrograd (and also Autograd) helps us **build expression graphs** which are mathematical expressions represented as graphs. As we compose mathematical expressions, Micrograd will *dynamically* build an expression graph in the background.\n",
    "\n",
    "2. We can **compute the forward passes**, meaning Micrograd will return output(s) if we give it some input(s).\n",
    "\n",
    "3. The big deal, Andrej said, is that we can use the output of an expression graph and call a function called `backward` that will **initialize backpropagation** at that node, and will recursively apply the chain rule backward through the graph."
   ]
  },
  {
   "cell_type": "markdown",
   "id": "0e2352a8",
   "metadata": {},
   "source": [
    "Since Neural networks are mathematical expressions, we can use tools like Micrograd to describe them!"
   ]
  },
  {
   "cell_type": "markdown",
   "id": "5525550e",
   "metadata": {},
   "source": [
    "# Let's Implement Micrograd 🛠️"
   ]
  },
  {
   "cell_type": "markdown",
   "id": "efb59d26",
   "metadata": {},
   "source": [
    "## Some theory first 📜"
   ]
  },
  {
   "cell_type": "markdown",
   "id": "815b047c",
   "metadata": {},
   "source": [
    "Let's start with a refresh of what a derivative is, at the intuitive level, and what information it gives us."
   ]
  },
  {
   "cell_type": "code",
   "execution_count": 1,
   "id": "fee24e75",
   "metadata": {},
   "outputs": [],
   "source": [
    "import math\n",
    "import numpy as np\n",
    "import matplotlib.pyplot as plt\n",
    "%matplotlib inline"
   ]
  },
  {
   "cell_type": "markdown",
   "id": "be76b7e7",
   "metadata": {},
   "source": [
    "Let consider the following function: $f(x) = 3x^{2} - 4x + 5$.\n",
    "\n",
    "In Python, $f$ would be written like this:"
   ]
  },
  {
   "cell_type": "code",
   "execution_count": 2,
   "id": "59080557",
   "metadata": {},
   "outputs": [],
   "source": [
    "def f(x):\n",
    "    return 3*x**2 - 4*x + 5"
   ]
  },
  {
   "cell_type": "code",
   "execution_count": 3,
   "id": "41d3d892",
   "metadata": {},
   "outputs": [
    {
     "data": {
      "text/plain": [
       "20.0"
      ]
     },
     "execution_count": 3,
     "metadata": {},
     "output_type": "execute_result"
    }
   ],
   "source": [
    "#We can call the function with 3.0\n",
    "f(3.0)"
   ]
  },
  {
   "cell_type": "markdown",
   "id": "e4166d40",
   "metadata": {},
   "source": [
    "We can also **plot** the function to get a sense of its shape. But by the look of it, we can see that it is going to be a parabola."
   ]
  },
  {
   "cell_type": "code",
   "execution_count": 4,
   "id": "78560c2c",
   "metadata": {},
   "outputs": [
    {
     "data": {
      "text/plain": [
       "[<matplotlib.lines.Line2D at 0x7fb73e5957f0>]"
      ]
     },
     "execution_count": 4,
     "metadata": {},
     "output_type": "execute_result"
    },
    {
     "data": {
      "image/png": "[encoded data removed]",
      "text/plain": [
       "<Figure size 640x480 with 1 Axes>"
      ]
     },
     "metadata": {},
     "output_type": "display_data"
    }
   ],
   "source": [
    "#1- Let's generate a set of numbers in [-5, 5)\n",
    "xs = np.arange(-5, 5, 0.25)\n",
    "#2- Apply f on the x values within the np array\n",
    "ys = f(xs)\n",
    "#3- Plot using Matplotlib\n",
    "plt.plot(xs, ys)"
   ]
  },
  {
   "cell_type": "markdown",
   "id": "2faadbba",
   "metadata": {},
   "source": [
    "What does taking the derivative of this function $f$ at any point $x$ tell us? It helps us answer the following questions:\n",
    "\n",
    "- If we add a small quantity $h$ to a given $x$, how is $f$ going to respond? Is it going to increase/decrease 🤷‍♂️\n",
    "\n",
    "- How fast will $f$ increase/decrease? In other words, what is the \"rate\" or the \"speed\" at which $f$ increase/decrease when $x$ changes 🤷‍♂️\n",
    "\n",
    "When taking the derivative we apply the following: $\\lim_{h\\to 0} \\frac{f(x + h) - f(x)}{h}$ and this formula is the answer to both of our questions"
   ]
  },
  {
   "cell_type": "code",
   "execution_count": 5,
   "id": "c5fae8a1",
   "metadata": {},
   "outputs": [
    {
     "data": {
      "text/plain": [
       "14.00300000000243"
      ]
     },
     "execution_count": 5,
     "metadata": {},
     "output_type": "execute_result"
    }
   ],
   "source": [
    "h = 0.001 #relatively small \"h\"\n",
    "x = 3.0\n",
    "(f(x + h) - f(x)) / h"
   ]
  },
  {
   "cell_type": "code",
   "execution_count": 6,
   "id": "7a1c4a88",
   "metadata": {},
   "outputs": [
    {
     "data": {
      "text/plain": [
       "14.000001158365194"
      ]
     },
     "execution_count": 6,
     "metadata": {},
     "output_type": "execute_result"
    }
   ],
   "source": [
    "h = 0.000000001 #an even smaller \"h\"\n",
    "x = 3.0\n",
    "(f(x + h) - f(x)) / h"
   ]
  },
  {
   "cell_type": "markdown",
   "id": "10af600f",
   "metadata": {},
   "source": [
    "This is a numerical approximation of the rate of change (slope) of $f$ when $x = 3$.  It tells us that at when $x = 3$, the function $f$ is \"increasing\" at a rate of $14$.\n",
    "\n",
    "If $h$ could get infinitely small, our expression would converge to the exact value of the slope of the line tangent to the curve at $x = 3$, which is $14$."
   ]
  },
  {
   "cell_type": "markdown",
   "id": "61c0b515",
   "metadata": {},
   "source": [
    "Let's now consider a function with multiple (3) inputs."
   ]
  },
  {
   "cell_type": "code",
   "execution_count": 7,
   "id": "8df32a66",
   "metadata": {},
   "outputs": [],
   "source": [
    "a = 2.0\n",
    "b = -3.0\n",
    "c = 10.0\n",
    "d = a*b + c"
   ]
  },
  {
   "cell_type": "markdown",
   "id": "dd8d8fde",
   "metadata": {},
   "source": [
    "The function ($ab + c$) can also be represented using the following expression graph:"
   ]
  },
  {
   "cell_type": "markdown",
   "id": "a8d24c34",
   "metadata": {},
   "source": [
    "![Expression graph](./images/img-1.jpg)"
   ]
  },
  {
   "cell_type": "markdown",
   "id": "dc1c36a6",
   "metadata": {},
   "source": [
    "It has $3$ inputs ($a$, $b$, and $c$), and $1$ output ($d$)."
   ]
  },
  {
   "cell_type": "code",
   "execution_count": 8,
   "id": "89761ead",
   "metadata": {},
   "outputs": [
    {
     "name": "stdout",
     "output_type": "stream",
     "text": [
      "4.0\n"
     ]
    }
   ],
   "source": [
    "print(d)"
   ]
  },
  {
   "cell_type": "markdown",
   "id": "15b4f3ac",
   "metadata": {},
   "source": [
    "Again, if we take the derivative of this expression with respect to one of its input variable, what would that tell us? 🤔\n",
    "\n",
    "It would tell us **how the output $d$ would respond** (increase/decrease) and **how fast**... if one of the inputs were to **change**."
   ]
  },
  {
   "cell_type": "markdown",
   "id": "38a3ec3d",
   "metadata": {},
   "source": [
    "Let's illustrate this by considering input $a$. What happens if we take the derivative of the expression with respect to $a$. In other words, if $a$ were to change a little bit, how would $d$ change, and by how much?"
   ]
  },
  {
   "cell_type": "code",
   "execution_count": 9,
   "id": "f3a67bdd",
   "metadata": {},
   "outputs": [
    {
     "name": "stdout",
     "output_type": "stream",
     "text": [
      "d1: 4.0\n",
      "d2: 3.999699999999999\n",
      "slope (or rate of change): -3.000000000010772\n"
     ]
    }
   ],
   "source": [
    "h = 0.0001\n",
    "\n",
    "#inputs\n",
    "a = 2.0\n",
    "b = -3.0\n",
    "c = 10.0\n",
    "\n",
    "d1 = a*b + c\n",
    "a += h # 'a' changes a little bit\n",
    "d2 = a*b + c\n",
    "\n",
    "print('d1:', d1)\n",
    "print('d2:', d2)\n",
    "print('slope (or rate of change):', (d2 - d1) / h)"
   ]
  },
  {
   "cell_type": "markdown",
   "id": "86309977",
   "metadata": {},
   "source": [
    "See? When I increase $a$ a tiny bit, $(ab)$ becomes more negative; and when added to $c$ it results in a smaller value.\n",
    "\n",
    "So by increasing $a$, I caused  the output $d$ to **decrease**. That's why $d_{2}$ is **smaller** than $d_{1}$, and the rate of this change (this decrease) was: $3$.\n",
    "\n",
    "The result we got was a numerical approximation. But we can get to an exact answer using a little bit of calculus:\n",
    "\n",
    "$\\frac{\\partial}{\\partial a}(ab + c) = b$ and in our case $b$ is $-3$\n",
    "\n",
    "**Experiment 🧪: How would $d$ respond if you changed $b$ or $c$?**"
   ]
  },
  {
   "cell_type": "markdown",
   "id": "388f1ab2",
   "metadata": {},
   "source": [
    "## Can we talk about Neural networks now?  🤷\n",
    "\n",
    "Hummm, no ¯\\\\\\_(ツ)\\_/¯ \n",
    "\n",
    "But we are getting there. Slowly. \n",
    "\n",
    "But, I would like us to keep in mind that... neural networks are also mathematical expressions like the last expression we looked at. It's going to come handy.\n",
    "\n",
    "What is going to happen now instead is that we are going to write a core object of Micrograd: the `Value` class."
   ]
  },
  {
   "attachments": {},
   "cell_type": "markdown",
   "id": "fdcfd660",
   "metadata": {},
   "source": [
    "`Value` is a wrapper class. Its job to wrap a Python numeric value. In addition, a `Value` object has the following capabilities:\n",
    "\n",
    "1. **It maintains pointers to the `Value` objects that were used to obtain it**. For instance, if we multiply a `Value` object `a` with another `Value` object `b` ... and obtain a new `Value` object `c`, the `Value` object `c` will contain pointers to `Value` objects `a` and `b`. In fact, `a` and `b` will be called *children* of `c`.\n",
    "\n",
    "2. **It records the type of the operation that was used to obtain it**. If we consider the same `Value` objects `a`, `b` and `c`. `Value` object `c` will contain an information that will let us know that `c` was obtained by the addition of `a` and `b`. Here is an image to illustrate the two previous points:\n",
    "\n",
    "![illustration](./images/img-2.jpg)"
   ]
  },
  {
   "cell_type": "code",
   "execution_count": 10,
   "id": "32cf014d",
   "metadata": {},
   "outputs": [
    {
     "data": {
      "text/plain": [
       "Value(data = -8.0)"
      ]
     },
     "execution_count": 10,
     "metadata": {},
     "output_type": "execute_result"
    }
   ],
   "source": [
    "class Value:\n",
    "    def __init__(self, data, _children=(), _op='', label='') -> None:\n",
    "        self.data = data\n",
    "        self._prev = set(_children)\n",
    "        self._op = _op\n",
    "        self.grad = 0 #the derivative of the ouptut with respect to this Value.\n",
    "        self.label = label\n",
    "\n",
    "    def __repr__(self) -> str:\n",
    "        return f\"Value(data = {self.data})\"\n",
    "\n",
    "    def __add__(self, other):\n",
    "        out = Value(self.data + other.data, (self, other), '+')\n",
    "        return out\n",
    "\n",
    "    def __mul__(self, other):\n",
    "        out = Value(self.data * other.data, (self, other), '*')\n",
    "        return out\n",
    "    \n",
    "a = Value(2.0, label='a')\n",
    "b = Value(-3.0, label='b')\n",
    "c = Value(10.0, label='c')\n",
    "e = a*b ; e.label = 'e'\n",
    "d = e + c ; d.label= 'd'\n",
    "\n",
    "f = Value(-2.0, label='f')\n",
    "L = d * f; L.label = 'L'\n",
    "L"
   ]
  },
  {
   "attachments": {},
   "cell_type": "markdown",
   "id": "e617af96",
   "metadata": {},
   "source": [
    "With the above implementation, we can perform additions and multiplications on `Value` objects and each object resutlting from either operations maintains a pointer to the `Value` objects that were used to create it. Those `Value` objects are accessible through the `prev` attribute, which is a set of tuples (i.e. pairs).\n",
    "\n",
    "Using this simple data structure, we can compose mathematical expressions and have the expression graphs built in the background. That's pretty cool.\n",
    "\n",
    "Andrej pushed it a step further by providing the following code snippet. Its job is to help us visualize the expression graphs we are building out using the the **graphiz**. Each node in the expression graph contains:\n",
    "\n",
    "- A **label**: The name of the node\n",
    "- A **data**: The numerical value of node\n",
    "- A **gradient**: The derivative of the output with respect to the node"
   ]
  },
  {
   "cell_type": "code",
   "execution_count": 11,
   "id": "6c33542c",
   "metadata": {},
   "outputs": [],
   "source": [
    "from graphviz import Digraph\n",
    "\n",
    "def trace(root):\n",
    "  # builds a set of all nodes and edges in a graph\n",
    "  nodes, edges = set(), set()\n",
    "  def build(v):\n",
    "    if v not in nodes:\n",
    "      nodes.add(v)\n",
    "      for child in v._prev:\n",
    "        edges.add((child, v))\n",
    "        build(child)\n",
    "  build(root)\n",
    "  return nodes, edges\n",
    "\n",
    "def draw_dot(root):\n",
    "  dot = Digraph(format='svg', graph_attr={'rankdir': 'LR'}) # LR = left to right\n",
    "  \n",
    "  nodes, edges = trace(root)\n",
    "  for n in nodes:\n",
    "    uid = str(id(n))\n",
    "    # for any value in the graph, create a rectangular ('record') node for it\n",
    "    dot.node(name = uid, label = \"{ %s | data %.4f | grad %.4f }\" % (n.label, n.data, n.grad), shape='record')\n",
    "    if n._op:\n",
    "      # if this value is a result of some operation, create an op node for it\n",
    "      dot.node(name = uid + n._op, label = n._op)\n",
    "      # and connect this node to it\n",
    "      dot.edge(uid + n._op, uid)\n",
    "\n",
    "  for n1, n2 in edges:\n",
    "    # connect n1 to the op node of n2\n",
    "    dot.edge(str(id(n1)), str(id(n2)) + n2._op)\n",
    "\n",
    "  return dot"
   ]
  },
  {
   "cell_type": "code",
   "execution_count": 12,
   "id": "28761e83",
   "metadata": {},
   "outputs": [
    {
     "data": {
      "image/svg+xml": "<?xml version=\"1.0\" encoding=\"UTF-8\" standalone=\"no\"?>\n<!DOCTYPE svg PUBLIC \"-//W3C//DTD SVG 1.1//EN\"\n \"http://www.w3.org/Graphics/SVG/1.1/DTD/svg11.dtd\">\n<!-- Generated by graphviz version 2.50.0 (0)\n -->\n<!-- Pages: 1 -->\n<svg width=\"1332pt\" height=\"156pt\"\n viewBox=\"0.00 0.00 1332.00 156.00\" xmlns=\"http://www.w3.org/2000/svg\" xmlns:xlink=\"http://www.w3.org/1999/xlink\">\n<g id=\"graph0\" class=\"graph\" transform=\"scale(1 1) rotate(0) translate(4 152)\">\n<polygon fill=\"white\" stroke=\"transparent\" points=\"-4,4 -4,-152 1328,-152 1328,4 -4,4\"/>\n<!-- 140425001504336 -->\n<g id=\"node1\" class=\"node\">\n<title>140425001504336</title>\n<polygon fill=\"none\" stroke=\"black\" points=\"1087,-27.5 1087,-63.5 1324,-63.5 1324,-27.5 1087,-27.5\"/>\n<text text-anchor=\"middle\" x=\"1100\" y=\"-41.8\" font-family=\"Times,serif\" font-size=\"14.00\">L</text>\n<polyline fill=\"none\" stroke=\"black\" points=\"1113,-27.5 1113,-63.5 \"/>\n<text text-anchor=\"middle\" x=\"1166.5\" y=\"-41.8\" font-family=\"Times,serif\" font-size=\"14.00\">data &#45;8.0000</text>\n<polyline fill=\"none\" stroke=\"black\" points=\"1220,-27.5 1220,-63.5 \"/>\n<text text-anchor=\"middle\" x=\"1272\" y=\"-41.8\" font-family=\"Times,serif\" font-size=\"14.00\">grad 0.0000</text>\n</g>\n<!-- 140425001504336* -->\n<g id=\"node2\" class=\"node\">\n<title>140425001504336*</title>\n<ellipse fill=\"none\" stroke=\"black\" cx=\"1024\" cy=\"-45.5\" rx=\"27\" ry=\"18\"/>\n<text text-anchor=\"middle\" x=\"1024\" y=\"-41.8\" font-family=\"Times,serif\" font-size=\"14.00\">*</text>\n</g>\n<!-- 140425001504336*&#45;&gt;140425001504336 -->\n<g id=\"edge1\" class=\"edge\">\n<title>140425001504336*&#45;&gt;140425001504336</title>\n<path fill=\"none\" stroke=\"black\" d=\"M1051.1,-45.5C1058.61,-45.5 1067.33,-45.5 1076.75,-45.5\"/>\n<polygon fill=\"black\" stroke=\"black\" points=\"1076.78,-49 1086.78,-45.5 1076.78,-42 1076.78,-49\"/>\n</g>\n<!-- 140425001602256 -->\n<g id=\"node3\" class=\"node\">\n<title>140425001602256</title>\n<polygon fill=\"none\" stroke=\"black\" points=\"3,-111.5 3,-147.5 234,-147.5 234,-111.5 3,-111.5\"/>\n<text text-anchor=\"middle\" x=\"15.5\" y=\"-125.8\" font-family=\"Times,serif\" font-size=\"14.00\">a</text>\n<polyline fill=\"none\" stroke=\"black\" points=\"28,-111.5 28,-147.5 \"/>\n<text text-anchor=\"middle\" x=\"79\" y=\"-125.8\" font-family=\"Times,serif\" font-size=\"14.00\">data 2.0000</text>\n<polyline fill=\"none\" stroke=\"black\" points=\"130,-111.5 130,-147.5 \"/>\n<text text-anchor=\"middle\" x=\"182\" y=\"-125.8\" font-family=\"Times,serif\" font-size=\"14.00\">grad 0.0000</text>\n</g>\n<!-- 140425001504000* -->\n<g id=\"node5\" class=\"node\">\n<title>140425001504000*</title>\n<ellipse fill=\"none\" stroke=\"black\" cx=\"300\" cy=\"-101.5\" rx=\"27\" ry=\"18\"/>\n<text text-anchor=\"middle\" x=\"300\" y=\"-97.8\" font-family=\"Times,serif\" font-size=\"14.00\">*</text>\n</g>\n<!-- 140425001602256&#45;&gt;140425001504000* -->\n<g id=\"edge9\" class=\"edge\">\n<title>140425001602256&#45;&gt;140425001504000*</title>\n<path fill=\"none\" stroke=\"black\" d=\"M234.2,-111.61C244.76,-109.96 254.83,-108.39 263.74,-107\"/>\n<polygon fill=\"black\" stroke=\"black\" points=\"264.3,-110.46 273.64,-105.46 263.22,-103.54 264.3,-110.46\"/>\n</g>\n<!-- 140425001504000 -->\n<g id=\"node4\" class=\"node\">\n<title>140425001504000</title>\n<polygon fill=\"none\" stroke=\"black\" points=\"364.5,-83.5 364.5,-119.5 600.5,-119.5 600.5,-83.5 364.5,-83.5\"/>\n<text text-anchor=\"middle\" x=\"377\" y=\"-97.8\" font-family=\"Times,serif\" font-size=\"14.00\">e</text>\n<polyline fill=\"none\" stroke=\"black\" points=\"389.5,-83.5 389.5,-119.5 \"/>\n<text text-anchor=\"middle\" x=\"443\" y=\"-97.8\" font-family=\"Times,serif\" font-size=\"14.00\">data &#45;6.0000</text>\n<polyline fill=\"none\" stroke=\"black\" points=\"496.5,-83.5 496.5,-119.5 \"/>\n<text text-anchor=\"middle\" x=\"548.5\" y=\"-97.8\" font-family=\"Times,serif\" font-size=\"14.00\">grad 0.0000</text>\n</g>\n<!-- 140425001504144+ -->\n<g id=\"node9\" class=\"node\">\n<title>140425001504144+</title>\n<ellipse fill=\"none\" stroke=\"black\" cx=\"665\" cy=\"-73.5\" rx=\"27\" ry=\"18\"/>\n<text text-anchor=\"middle\" x=\"665\" y=\"-69.8\" font-family=\"Times,serif\" font-size=\"14.00\">+</text>\n</g>\n<!-- 140425001504000&#45;&gt;140425001504144+ -->\n<g id=\"edge7\" class=\"edge\">\n<title>140425001504000&#45;&gt;140425001504144+</title>\n<path fill=\"none\" stroke=\"black\" d=\"M599.6,-83.49C609.91,-81.89 619.74,-80.37 628.46,-79.01\"/>\n<polygon fill=\"black\" stroke=\"black\" points=\"629.18,-82.44 638.52,-77.45 628.1,-75.53 629.18,-82.44\"/>\n</g>\n<!-- 140425001504000*&#45;&gt;140425001504000 -->\n<g id=\"edge2\" class=\"edge\">\n<title>140425001504000*&#45;&gt;140425001504000</title>\n<path fill=\"none\" stroke=\"black\" d=\"M327.25,-101.5C335.09,-101.5 344.27,-101.5 354.17,-101.5\"/>\n<polygon fill=\"black\" stroke=\"black\" points=\"354.28,-105 364.28,-101.5 354.28,-98 354.28,-105\"/>\n</g>\n<!-- 140425001625392 -->\n<g id=\"node6\" class=\"node\">\n<title>140425001625392</title>\n<polygon fill=\"none\" stroke=\"black\" points=\"363,-28.5 363,-64.5 602,-64.5 602,-28.5 363,-28.5\"/>\n<text text-anchor=\"middle\" x=\"375\" y=\"-42.8\" font-family=\"Times,serif\" font-size=\"14.00\">c</text>\n<polyline fill=\"none\" stroke=\"black\" points=\"387,-28.5 387,-64.5 \"/>\n<text text-anchor=\"middle\" x=\"442.5\" y=\"-42.8\" font-family=\"Times,serif\" font-size=\"14.00\">data 10.0000</text>\n<polyline fill=\"none\" stroke=\"black\" points=\"498,-28.5 498,-64.5 \"/>\n<text text-anchor=\"middle\" x=\"550\" y=\"-42.8\" font-family=\"Times,serif\" font-size=\"14.00\">grad 0.0000</text>\n</g>\n<!-- 140425001625392&#45;&gt;140425001504144+ -->\n<g id=\"edge8\" class=\"edge\">\n<title>140425001625392&#45;&gt;140425001504144+</title>\n<path fill=\"none\" stroke=\"black\" d=\"M602.13,-64.25C611.53,-65.65 620.47,-66.99 628.48,-68.19\"/>\n<polygon fill=\"black\" stroke=\"black\" points=\"628.03,-71.66 638.44,-69.68 629.07,-64.74 628.03,-71.66\"/>\n</g>\n<!-- 140425010019680 -->\n<g id=\"node7\" class=\"node\">\n<title>140425010019680</title>\n<polygon fill=\"none\" stroke=\"black\" points=\"0,-56.5 0,-92.5 237,-92.5 237,-56.5 0,-56.5\"/>\n<text text-anchor=\"middle\" x=\"13\" y=\"-70.8\" font-family=\"Times,serif\" font-size=\"14.00\">b</text>\n<polyline fill=\"none\" stroke=\"black\" points=\"26,-56.5 26,-92.5 \"/>\n<text text-anchor=\"middle\" x=\"79.5\" y=\"-70.8\" font-family=\"Times,serif\" font-size=\"14.00\">data &#45;3.0000</text>\n<polyline fill=\"none\" stroke=\"black\" points=\"133,-56.5 133,-92.5 \"/>\n<text text-anchor=\"middle\" x=\"185\" y=\"-70.8\" font-family=\"Times,serif\" font-size=\"14.00\">grad 0.0000</text>\n</g>\n<!-- 140425010019680&#45;&gt;140425001504000* -->\n<g id=\"edge5\" class=\"edge\">\n<title>140425010019680&#45;&gt;140425001504000*</title>\n<path fill=\"none\" stroke=\"black\" d=\"M237.23,-92.21C246.6,-93.62 255.52,-94.96 263.52,-96.16\"/>\n<polygon fill=\"black\" stroke=\"black\" points=\"263.06,-99.63 273.47,-97.66 264.1,-92.71 263.06,-99.63\"/>\n</g>\n<!-- 140425001504144 -->\n<g id=\"node8\" class=\"node\">\n<title>140425001504144</title>\n<polygon fill=\"none\" stroke=\"black\" points=\"728.5,-55.5 728.5,-91.5 960.5,-91.5 960.5,-55.5 728.5,-55.5\"/>\n<text text-anchor=\"middle\" x=\"741.5\" y=\"-69.8\" font-family=\"Times,serif\" font-size=\"14.00\">d</text>\n<polyline fill=\"none\" stroke=\"black\" points=\"754.5,-55.5 754.5,-91.5 \"/>\n<text text-anchor=\"middle\" x=\"805.5\" y=\"-69.8\" font-family=\"Times,serif\" font-size=\"14.00\">data 4.0000</text>\n<polyline fill=\"none\" stroke=\"black\" points=\"856.5,-55.5 856.5,-91.5 \"/>\n<text text-anchor=\"middle\" x=\"908.5\" y=\"-69.8\" font-family=\"Times,serif\" font-size=\"14.00\">grad 0.0000</text>\n</g>\n<!-- 140425001504144&#45;&gt;140425001504336* -->\n<g id=\"edge4\" class=\"edge\">\n<title>140425001504144&#45;&gt;140425001504336*</title>\n<path fill=\"none\" stroke=\"black\" d=\"M959.67,-55.49C969.61,-53.92 979.08,-52.43 987.53,-51.1\"/>\n<polygon fill=\"black\" stroke=\"black\" points=\"988.31,-54.52 997.64,-49.5 987.22,-47.6 988.31,-54.52\"/>\n</g>\n<!-- 140425001504144+&#45;&gt;140425001504144 -->\n<g id=\"edge3\" class=\"edge\">\n<title>140425001504144+&#45;&gt;140425001504144</title>\n<path fill=\"none\" stroke=\"black\" d=\"M692.19,-73.5C699.78,-73.5 708.61,-73.5 718.11,-73.5\"/>\n<polygon fill=\"black\" stroke=\"black\" points=\"718.24,-77 728.24,-73.5 718.24,-70 718.24,-77\"/>\n</g>\n<!-- 140425001504240 -->\n<g id=\"node10\" class=\"node\">\n<title>140425001504240</title>\n<polygon fill=\"none\" stroke=\"black\" points=\"728,-0.5 728,-36.5 961,-36.5 961,-0.5 728,-0.5\"/>\n<text text-anchor=\"middle\" x=\"739\" y=\"-14.8\" font-family=\"Times,serif\" font-size=\"14.00\">f</text>\n<polyline fill=\"none\" stroke=\"black\" points=\"750,-0.5 750,-36.5 \"/>\n<text text-anchor=\"middle\" x=\"803.5\" y=\"-14.8\" font-family=\"Times,serif\" font-size=\"14.00\">data &#45;2.0000</text>\n<polyline fill=\"none\" stroke=\"black\" points=\"857,-0.5 857,-36.5 \"/>\n<text text-anchor=\"middle\" x=\"909\" y=\"-14.8\" font-family=\"Times,serif\" font-size=\"14.00\">grad 0.0000</text>\n</g>\n<!-- 140425001504240&#45;&gt;140425001504336* -->\n<g id=\"edge6\" class=\"edge\">\n<title>140425001504240&#45;&gt;140425001504336*</title>\n<path fill=\"none\" stroke=\"black\" d=\"M961.42,-36.13C970.75,-37.55 979.64,-38.9 987.61,-40.12\"/>\n<polygon fill=\"black\" stroke=\"black\" points=\"987.11,-43.58 997.52,-41.62 988.16,-36.66 987.11,-43.58\"/>\n</g>\n</g>\n</svg>\n",
      "text/plain": [
       "<graphviz.graphs.Digraph at 0x7fb73e4eb790>"
      ]
     },
     "execution_count": 12,
     "metadata": {},
     "output_type": "execute_result"
    }
   ],
   "source": [
    "draw_dot(L)"
   ]
  },
  {
   "attachments": {},
   "cell_type": "markdown",
   "id": "81421f9e",
   "metadata": {},
   "source": [
    "So far, we are able to compute the forward pass of a mathematical expression. What are going to do now is important because we'll try to run backpropagation. We'll start at the end, and compute the gradient. We'll compute the partial derivative of `L`, the output, with respect to each node in the expression graph."
   ]
  },
  {
   "attachments": {},
   "cell_type": "markdown",
   "id": "d41b0f7f",
   "metadata": {},
   "source": [
    "# Manual backpropagation example\n",
    "\n",
    "Using the expression graph generated earlier, we will compute backpropagation **manually**.\n",
    "\n",
    "We start with **node `L`**.\n",
    "\n",
    "Question: **What is the derivative of Node `L` with respect to itself?**\n",
    "\n",
    "$\\frac{\\partial L}{\\partial L} = 1$\n",
    "\n",
    "It is **1**. So,"
   ]
  },
  {
   "cell_type": "code",
   "execution_count": 13,
   "id": "ca76c091",
   "metadata": {},
   "outputs": [],
   "source": [
    "L.grad = 1.0"
   ]
  },
  {
   "attachments": {},
   "cell_type": "markdown",
   "id": "cc474a77",
   "metadata": {},
   "source": [
    "We continue with **node `d`** and **node `f`**.\n",
    "\n",
    "$\\longrightarrow$ Question: **What is the derivative of Node `L` with respect to Node `d`?** In other words, *how does the value in node `L` reacts when the one in node `d` changes a little bit?*\n",
    "\n",
    "$\\frac{\\partial L}{\\partial d} = \\frac{\\partial}{\\partial d}(d \\times f) = f$\n",
    "\n",
    "`grad` in node `d` is the value in node `f`. It implies that if we change the value in Node `d`, we expect the value in Node `L` to **decrease** at a rate of `2.0`.\n",
    "\n",
    "$\\longrightarrow$ Question: **What is the derivative of Node `L` with respect to Node `f`?** In other words, *how does the value in node `L` reacts when the one in node `f` changes a little bit?*\n",
    "\n",
    "$\\frac{\\partial L}{\\partial f} = \\frac{\\partial}{\\partial f}(d \\times f) = d$\n",
    "\n",
    "`grad` in node `f` is the value in node `d`. It means that if we change the value Node `f`, we expect the value in Node `L` to **increase** at a rate of `4.0`.\n",
    "\n",
    "so,"
   ]
  },
  {
   "cell_type": "code",
   "execution_count": 14,
   "id": "fd9ecaaf",
   "metadata": {},
   "outputs": [],
   "source": [
    "d.grad = -2\n",
    "f.grad = 4.0"
   ]
  },
  {
   "attachments": {},
   "cell_type": "markdown",
   "id": "c021fef7",
   "metadata": {},
   "source": [
    "We continue with **node `c`** and **node `e`**\n",
    "\n",
    "$\\longrightarrow$ **Question: What is the derivative of Node `L` with respect to Node `c`?** In other words, *how does the value in node `L` reacts when the one in node `c` changes a little bit?*\n",
    "\n",
    "$\\frac{\\partial L}{\\partial c} = \\frac{\\partial L}{\\partial d} \\times \\frac{\\partial d}{\\partial c} = \\frac{\\partial L}{\\partial d} \\times \\frac{\\partial}{\\partial c}(c + e) = \\frac{\\partial L}{\\partial d} \\times 1 = \\frac{\\partial L}{\\partial d}$\n",
    "\n",
    "Remember, we computed $\\frac{\\partial L}{\\partial d}$ earlier. It is currently stored in `d.grad`.\n",
    "\n",
    "$\\longrightarrow$ **Question: What is the derivative of Node `L` with respect to Node `e`?** In other words, *how does the value in node `L` reacts when the one in node `e` changes a little bit?*\n",
    "\n",
    "$\\frac{\\partial L}{\\partial e} = \\frac{\\partial L}{\\partial d} \\times \\frac{\\partial d}{\\partial e} = \\frac{\\partial L}{\\partial d} \\times \\frac{\\partial}{\\partial e}(c + e) = \\frac{\\partial L}{\\partial d} \\times 1 = \\frac{\\partial L}{\\partial d}$\n",
    "\n",
    "Again, the term $\\frac{\\partial L}{\\partial d}$ repeats."
   ]
  },
  {
   "cell_type": "code",
   "execution_count": 15,
   "id": "19fa29ee",
   "metadata": {},
   "outputs": [],
   "source": [
    "c.grad = -2.0\n",
    "e.grad = -2.0"
   ]
  },
  {
   "attachments": {},
   "cell_type": "markdown",
   "id": "c78fe27e",
   "metadata": {},
   "source": [
    "Please notice how `d.grad` was forwarded (or routed) to both nodes `c` and `e`. In other words, the `grad` in Node `d` was forwarded to all of its children.\n",
    "\n",
    "Again notice, both $\\frac{\\partial d}{\\partial c}$ and $\\frac{\\partial d}{\\partial e}$ are called \"**local**\" derivatives. They only give us info on this part of the graph:\n",
    "\n",
    "![Portion](./images/img-3.jpg)\n",
    "\n",
    "They tell us how changing the values in `c` and `e` by a tiny amount influences the value in `d`. This portion does not know anything about the rest of graph it is embedded in.\n",
    "\n",
    "If you paid close attention so far, you'd notice that we computed $\\frac{\\partial L}{\\partial c}$ and $\\frac{\\partial L}{\\partial e}$ using the chain rule. \n",
    "\n",
    "But, we can say that we obtained $\\frac{\\partial L}{\\partial c}$ and $\\frac{\\partial L}{\\partial e}$ by multiplying \"local\" gradients with $\\frac{\\partial L}{\\partial d}$ which is the grad value of the node **parent** to Node `c` and Node `e`. Can you see? It is an important observation.🤔"
   ]
  },
  {
   "attachments": {},
   "cell_type": "markdown",
   "id": "de990001",
   "metadata": {},
   "source": [
    "Let's finish with **node `a`** and **node `b`**\n",
    "\n",
    "$\\longrightarrow$ **Question: What is the derivative of Node `L` with respect to Node `a`?** In other words, how does the value in Node `L` reacts when the one in Node `a` changes a little bit?\n",
    "\n",
    "We can do it two ways. Using the following formula:\n",
    "\n",
    "$\\frac{\\partial L}{\\partial a} = \\frac{\\partial L}{\\partial d} \\times \\frac{\\partial d}{\\partial e} \\times \\frac{\\partial e}{\\partial a}$\n",
    "\n",
    "Or, we can leverage the observation we made earlier. We can obtain $\\frac{\\partial L}{\\partial a}$ by multiplying local derivative $\\frac{\\partial e}{\\partial a}$ with $\\frac{\\partial L}{\\partial e}$, which is the gradient of the node parent to `a` (Node `e`)... which we computed *already* and is stored in `e.grad`.\n",
    "\n",
    "$\\frac{\\partial L}{\\partial a} = \\frac{\\partial L}{\\partial e} \\times \\frac{\\partial e}{\\partial a}$\n",
    "\n",
    "$\\longrightarrow$ **Question: What is the derivative of Node `L` with respect to Node `b`?** In other words, how does the value in Node `L` reacts when the one in Node `b` changes a little bit?\n",
    "\n",
    "Here again, we can use our observation and write:\n",
    "\n",
    "$\\frac{\\partial L}{\\partial b} = \\frac{\\partial L}{\\partial e} \\times \\frac{\\partial e}{\\partial b}$"
   ]
  },
  {
   "cell_type": "code",
   "execution_count": 16,
   "id": "92c97c8f",
   "metadata": {},
   "outputs": [],
   "source": [
    "a.grad = -2.0 * -3.0\n",
    "b.grad = -2.0 * 2.0"
   ]
  },
  {
   "attachments": {},
   "cell_type": "markdown",
   "id": "f82e8334",
   "metadata": {},
   "source": [
    "***\n",
    "\n",
    "With all the gradient computed, redrawing our graph now gives the following:"
   ]
  },
  {
   "cell_type": "code",
   "execution_count": 17,
   "id": "4589f385",
   "metadata": {},
   "outputs": [
    {
     "data": {
      "image/svg+xml": "<?xml version=\"1.0\" encoding=\"UTF-8\" standalone=\"no\"?>\n<!DOCTYPE svg PUBLIC \"-//W3C//DTD SVG 1.1//EN\"\n \"http://www.w3.org/Graphics/SVG/1.1/DTD/svg11.dtd\">\n<!-- Generated by graphviz version 2.50.0 (0)\n -->\n<!-- Pages: 1 -->\n<svg width=\"1343pt\" height=\"156pt\"\n viewBox=\"0.00 0.00 1343.00 156.00\" xmlns=\"http://www.w3.org/2000/svg\" xmlns:xlink=\"http://www.w3.org/1999/xlink\">\n<g id=\"graph0\" class=\"graph\" transform=\"scale(1 1) rotate(0) translate(4 152)\">\n<polygon fill=\"white\" stroke=\"transparent\" points=\"-4,4 -4,-152 1339,-152 1339,4 -4,4\"/>\n<!-- 140425001504336 -->\n<g id=\"node1\" class=\"node\">\n<title>140425001504336</title>\n<polygon fill=\"none\" stroke=\"black\" points=\"1098,-27.5 1098,-63.5 1335,-63.5 1335,-27.5 1098,-27.5\"/>\n<text text-anchor=\"middle\" x=\"1111\" y=\"-41.8\" font-family=\"Times,serif\" font-size=\"14.00\">L</text>\n<polyline fill=\"none\" stroke=\"black\" points=\"1124,-27.5 1124,-63.5 \"/>\n<text text-anchor=\"middle\" x=\"1177.5\" y=\"-41.8\" font-family=\"Times,serif\" font-size=\"14.00\">data &#45;8.0000</text>\n<polyline fill=\"none\" stroke=\"black\" points=\"1231,-27.5 1231,-63.5 \"/>\n<text text-anchor=\"middle\" x=\"1283\" y=\"-41.8\" font-family=\"Times,serif\" font-size=\"14.00\">grad 1.0000</text>\n</g>\n<!-- 140425001504336* -->\n<g id=\"node2\" class=\"node\">\n<title>140425001504336*</title>\n<ellipse fill=\"none\" stroke=\"black\" cx=\"1035\" cy=\"-45.5\" rx=\"27\" ry=\"18\"/>\n<text text-anchor=\"middle\" x=\"1035\" y=\"-41.8\" font-family=\"Times,serif\" font-size=\"14.00\">*</text>\n</g>\n<!-- 140425001504336*&#45;&gt;140425001504336 -->\n<g id=\"edge1\" class=\"edge\">\n<title>140425001504336*&#45;&gt;140425001504336</title>\n<path fill=\"none\" stroke=\"black\" d=\"M1062.1,-45.5C1069.61,-45.5 1078.33,-45.5 1087.75,-45.5\"/>\n<polygon fill=\"black\" stroke=\"black\" points=\"1087.78,-49 1097.78,-45.5 1087.78,-42 1087.78,-49\"/>\n</g>\n<!-- 140425001602256 -->\n<g id=\"node3\" class=\"node\">\n<title>140425001602256</title>\n<polygon fill=\"none\" stroke=\"black\" points=\"5,-111.5 5,-147.5 236,-147.5 236,-111.5 5,-111.5\"/>\n<text text-anchor=\"middle\" x=\"17.5\" y=\"-125.8\" font-family=\"Times,serif\" font-size=\"14.00\">a</text>\n<polyline fill=\"none\" stroke=\"black\" points=\"30,-111.5 30,-147.5 \"/>\n<text text-anchor=\"middle\" x=\"81\" y=\"-125.8\" font-family=\"Times,serif\" font-size=\"14.00\">data 2.0000</text>\n<polyline fill=\"none\" stroke=\"black\" points=\"132,-111.5 132,-147.5 \"/>\n<text text-anchor=\"middle\" x=\"184\" y=\"-125.8\" font-family=\"Times,serif\" font-size=\"14.00\">grad 6.0000</text>\n</g>\n<!-- 140425001504000* -->\n<g id=\"node5\" class=\"node\">\n<title>140425001504000*</title>\n<ellipse fill=\"none\" stroke=\"black\" cx=\"304\" cy=\"-101.5\" rx=\"27\" ry=\"18\"/>\n<text text-anchor=\"middle\" x=\"304\" y=\"-97.8\" font-family=\"Times,serif\" font-size=\"14.00\">*</text>\n</g>\n<!-- 140425001602256&#45;&gt;140425001504000* -->\n<g id=\"edge9\" class=\"edge\">\n<title>140425001602256&#45;&gt;140425001504000*</title>\n<path fill=\"none\" stroke=\"black\" d=\"M236.19,-111.81C247.37,-110.08 258.02,-108.44 267.41,-106.99\"/>\n<polygon fill=\"black\" stroke=\"black\" points=\"268.08,-110.43 277.43,-105.44 267.01,-103.51 268.08,-110.43\"/>\n</g>\n<!-- 140425001504000 -->\n<g id=\"node4\" class=\"node\">\n<title>140425001504000</title>\n<polygon fill=\"none\" stroke=\"black\" points=\"368.5,-83.5 368.5,-119.5 608.5,-119.5 608.5,-83.5 368.5,-83.5\"/>\n<text text-anchor=\"middle\" x=\"381\" y=\"-97.8\" font-family=\"Times,serif\" font-size=\"14.00\">e</text>\n<polyline fill=\"none\" stroke=\"black\" points=\"393.5,-83.5 393.5,-119.5 \"/>\n<text text-anchor=\"middle\" x=\"447\" y=\"-97.8\" font-family=\"Times,serif\" font-size=\"14.00\">data &#45;6.0000</text>\n<polyline fill=\"none\" stroke=\"black\" points=\"500.5,-83.5 500.5,-119.5 \"/>\n<text text-anchor=\"middle\" x=\"554.5\" y=\"-97.8\" font-family=\"Times,serif\" font-size=\"14.00\">grad &#45;2.0000</text>\n</g>\n<!-- 140425001504144+ -->\n<g id=\"node9\" class=\"node\">\n<title>140425001504144+</title>\n<ellipse fill=\"none\" stroke=\"black\" cx=\"673\" cy=\"-73.5\" rx=\"27\" ry=\"18\"/>\n<text text-anchor=\"middle\" x=\"673\" y=\"-69.8\" font-family=\"Times,serif\" font-size=\"14.00\">+</text>\n</g>\n<!-- 140425001504000&#45;&gt;140425001504144+ -->\n<g id=\"edge7\" class=\"edge\">\n<title>140425001504000&#45;&gt;140425001504144+</title>\n<path fill=\"none\" stroke=\"black\" d=\"M606.89,-83.49C617.53,-81.86 627.65,-80.3 636.61,-78.93\"/>\n<polygon fill=\"black\" stroke=\"black\" points=\"637.2,-82.38 646.55,-77.4 636.14,-75.46 637.2,-82.38\"/>\n</g>\n<!-- 140425001504000*&#45;&gt;140425001504000 -->\n<g id=\"edge2\" class=\"edge\">\n<title>140425001504000*&#45;&gt;140425001504000</title>\n<path fill=\"none\" stroke=\"black\" d=\"M331.15,-101.5C338.98,-101.5 348.16,-101.5 358.06,-101.5\"/>\n<polygon fill=\"black\" stroke=\"black\" points=\"358.19,-105 368.19,-101.5 358.19,-98 358.19,-105\"/>\n</g>\n<!-- 140425001625392 -->\n<g id=\"node6\" class=\"node\">\n<title>140425001625392</title>\n<polygon fill=\"none\" stroke=\"black\" points=\"367,-28.5 367,-64.5 610,-64.5 610,-28.5 367,-28.5\"/>\n<text text-anchor=\"middle\" x=\"379\" y=\"-42.8\" font-family=\"Times,serif\" font-size=\"14.00\">c</text>\n<polyline fill=\"none\" stroke=\"black\" points=\"391,-28.5 391,-64.5 \"/>\n<text text-anchor=\"middle\" x=\"446.5\" y=\"-42.8\" font-family=\"Times,serif\" font-size=\"14.00\">data 10.0000</text>\n<polyline fill=\"none\" stroke=\"black\" points=\"502,-28.5 502,-64.5 \"/>\n<text text-anchor=\"middle\" x=\"556\" y=\"-42.8\" font-family=\"Times,serif\" font-size=\"14.00\">grad &#45;2.0000</text>\n</g>\n<!-- 140425001625392&#45;&gt;140425001504144+ -->\n<g id=\"edge8\" class=\"edge\">\n<title>140425001625392&#45;&gt;140425001504144+</title>\n<path fill=\"none\" stroke=\"black\" d=\"M610.21,-64.36C619.62,-65.75 628.55,-67.07 636.56,-68.26\"/>\n<polygon fill=\"black\" stroke=\"black\" points=\"636.1,-71.73 646.5,-69.73 637.12,-64.8 636.1,-71.73\"/>\n</g>\n<!-- 140425010019680 -->\n<g id=\"node7\" class=\"node\">\n<title>140425010019680</title>\n<polygon fill=\"none\" stroke=\"black\" points=\"0,-56.5 0,-92.5 241,-92.5 241,-56.5 0,-56.5\"/>\n<text text-anchor=\"middle\" x=\"13\" y=\"-70.8\" font-family=\"Times,serif\" font-size=\"14.00\">b</text>\n<polyline fill=\"none\" stroke=\"black\" points=\"26,-56.5 26,-92.5 \"/>\n<text text-anchor=\"middle\" x=\"79.5\" y=\"-70.8\" font-family=\"Times,serif\" font-size=\"14.00\">data &#45;3.0000</text>\n<polyline fill=\"none\" stroke=\"black\" points=\"133,-56.5 133,-92.5 \"/>\n<text text-anchor=\"middle\" x=\"187\" y=\"-70.8\" font-family=\"Times,serif\" font-size=\"14.00\">grad &#45;4.0000</text>\n</g>\n<!-- 140425010019680&#45;&gt;140425001504000* -->\n<g id=\"edge5\" class=\"edge\">\n<title>140425010019680&#45;&gt;140425001504000*</title>\n<path fill=\"none\" stroke=\"black\" d=\"M241.05,-92.28C250.46,-93.68 259.41,-95.02 267.44,-96.21\"/>\n<polygon fill=\"black\" stroke=\"black\" points=\"267.01,-99.68 277.41,-97.69 268.04,-92.76 267.01,-99.68\"/>\n</g>\n<!-- 140425001504144 -->\n<g id=\"node8\" class=\"node\">\n<title>140425001504144</title>\n<polygon fill=\"none\" stroke=\"black\" points=\"736,-55.5 736,-91.5 972,-91.5 972,-55.5 736,-55.5\"/>\n<text text-anchor=\"middle\" x=\"749\" y=\"-69.8\" font-family=\"Times,serif\" font-size=\"14.00\">d</text>\n<polyline fill=\"none\" stroke=\"black\" points=\"762,-55.5 762,-91.5 \"/>\n<text text-anchor=\"middle\" x=\"813\" y=\"-69.8\" font-family=\"Times,serif\" font-size=\"14.00\">data 4.0000</text>\n<polyline fill=\"none\" stroke=\"black\" points=\"864,-55.5 864,-91.5 \"/>\n<text text-anchor=\"middle\" x=\"918\" y=\"-69.8\" font-family=\"Times,serif\" font-size=\"14.00\">grad &#45;2.0000</text>\n</g>\n<!-- 140425001504144&#45;&gt;140425001504336* -->\n<g id=\"edge4\" class=\"edge\">\n<title>140425001504144&#45;&gt;140425001504336*</title>\n<path fill=\"none\" stroke=\"black\" d=\"M970.13,-55.49C980.27,-53.91 989.92,-52.4 998.51,-51.05\"/>\n<polygon fill=\"black\" stroke=\"black\" points=\"999.09,-54.5 1008.43,-49.5 998.01,-47.59 999.09,-54.5\"/>\n</g>\n<!-- 140425001504144+&#45;&gt;140425001504144 -->\n<g id=\"edge3\" class=\"edge\">\n<title>140425001504144+&#45;&gt;140425001504144</title>\n<path fill=\"none\" stroke=\"black\" d=\"M700.03,-73.5C707.58,-73.5 716.38,-73.5 725.87,-73.5\"/>\n<polygon fill=\"black\" stroke=\"black\" points=\"725.99,-77 735.99,-73.5 725.99,-70 725.99,-77\"/>\n</g>\n<!-- 140425001504240 -->\n<g id=\"node10\" class=\"node\">\n<title>140425001504240</title>\n<polygon fill=\"none\" stroke=\"black\" points=\"737.5,-0.5 737.5,-36.5 970.5,-36.5 970.5,-0.5 737.5,-0.5\"/>\n<text text-anchor=\"middle\" x=\"748.5\" y=\"-14.8\" font-family=\"Times,serif\" font-size=\"14.00\">f</text>\n<polyline fill=\"none\" stroke=\"black\" points=\"759.5,-0.5 759.5,-36.5 \"/>\n<text text-anchor=\"middle\" x=\"813\" y=\"-14.8\" font-family=\"Times,serif\" font-size=\"14.00\">data &#45;2.0000</text>\n<polyline fill=\"none\" stroke=\"black\" points=\"866.5,-0.5 866.5,-36.5 \"/>\n<text text-anchor=\"middle\" x=\"918.5\" y=\"-14.8\" font-family=\"Times,serif\" font-size=\"14.00\">grad 4.0000</text>\n</g>\n<!-- 140425001504240&#45;&gt;140425001504336* -->\n<g id=\"edge6\" class=\"edge\">\n<title>140425001504240&#45;&gt;140425001504336*</title>\n<path fill=\"none\" stroke=\"black\" d=\"M970.64,-35.94C980.5,-37.43 989.9,-38.85 998.29,-40.11\"/>\n<polygon fill=\"black\" stroke=\"black\" points=\"997.94,-43.6 1008.35,-41.63 998.98,-36.68 997.94,-43.6\"/>\n</g>\n</g>\n</svg>\n",
      "text/plain": [
       "<graphviz.graphs.Digraph at 0x7fb73e4e7100>"
      ]
     },
     "execution_count": 17,
     "metadata": {},
     "output_type": "execute_result"
    }
   ],
   "source": [
    "draw_dot(L)"
   ]
  },
  {
   "attachments": {},
   "cell_type": "markdown",
   "id": "99f29319",
   "metadata": {},
   "source": [
    "Okay, we computed the gradient (partial derivatives) of the output with respect to each node in the expression graph. But why is it useful? 🤔\n",
    "\n",
    "Consider this question: **Can we nudge our inputs to try to make the value in node `L` go up?**\n",
    "\n",
    "If we want the value in Node `L` to go up (become less negative)... we need to nudge the inputs (leaf  nodes) of our graph a *tiny amount* in the **direction of the gradient**.\n",
    "\n",
    "Think about it of a second, it makes sense. This is how I personally approached it. I asked myself the following question:\n",
    "\n",
    "- What is the meaning of a gradient?\n",
    "\n",
    "The gradient of a multi-variable function, is a **vector**. It represents the direction one should choose to reach a local/global maximum **fastest**. It shows the direction of greatest increase.\n",
    "\n",
    "I imagine myself standing at a random position (black dot) on a hill:\n",
    "\n",
    "![Kassi on a hill](./images/img-4.jpg)\n",
    "\n",
    "And asking myself, **which direction should I choose to reach the top faster?**. I have a lot of options (red arrows). They will surely make me get closer to the top. But will I get there faster than someone who chose to move in the direction of the green arrow? NO!\n",
    "\n",
    "Depending on my current position, computing the gradient helps me determine the direction of fastest increase (the green vector). So if I update my current position using the coordinates of the gradient vector, **my new position would not be closer to the top, but I would have got there the fastest**!\n",
    "\n",
    "Coming back to our expression graph...\n",
    "\n",
    "The `data` values of the input Nodes of the expression graph represents my current position, and their respective `grad` values represent the coordinate of gradient vector (the green vector). So, if I update my current position using the coordinates of gradient, I should effectively **increase** the value in Node `L`.\n",
    "\n",
    "Here is how it goes in practice:"
   ]
  },
  {
   "cell_type": "code",
   "execution_count": 18,
   "id": "e8532529",
   "metadata": {},
   "outputs": [
    {
     "name": "stdout",
     "output_type": "stream",
     "text": [
      "-7.286496\n"
     ]
    }
   ],
   "source": [
    "#SMALL step from our current position  in the direction of the gradient\n",
    "a.data += 0.01 * a.grad\n",
    "b.data += 0.01 * b.grad\n",
    "c.data += 0.01 * c.grad\n",
    "f.data += 0.01 * f.grad\n",
    "\n",
    "#We recompute the forward pass (that is new value of L)\n",
    "e = a * b\n",
    "d = e + c\n",
    "L = d * f\n",
    "\n",
    "#display it\n",
    "print(L.data)\n"
   ]
  },
  {
   "attachments": {},
   "cell_type": "markdown",
   "id": "e867c6ca",
   "metadata": {},
   "source": [
    "See!?\n",
    "\n",
    "The value in Node `L` increased. It become less negative.\n",
    "\n",
    "What we went through, is one example of an optimization step that will perform in the future. Extremely useful and powerfull in training neural networks. We are getting there, so buckle up! 🚀"
   ]
  },
  {
   "attachments": {},
   "cell_type": "markdown",
   "id": "c954914f",
   "metadata": {},
   "source": [
    "Oof! 😮‍💨 \n",
    "\n",
    "Let's rest a little bit, and digest what we learned\n",
    "\n",
    "![Rest GIF](./images/img-gif-1.gif)"
   ]
  }
 ],
 "metadata": {
  "kernelspec": {
   "display_name": "Python 3 (ipykernel)",
   "language": "python",
   "name": "python3"
  },
  "language_info": {
   "codemirror_mode": {
    "name": "ipython",
    "version": 3
   },
   "file_extension": ".py",
   "mimetype": "text/x-python",
   "name": "python",
   "nbconvert_exporter": "python",
   "pygments_lexer": "ipython3",
   "version": "3.9.13"
  },
  "vscode": {
   "interpreter": {
    "hash": "916dbcbb3f70747c44a77c7bcd40155683ae19c65e1c03b4aa3499c5328201f1"
   }
  }
 },
 "nbformat": 4,
 "nbformat_minor": 5
}
