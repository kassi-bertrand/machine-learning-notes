{
 "cells": [
  {
   "cell_type": "markdown",
   "id": "df494796",
   "metadata": {},
   "source": [
    "# What is Micrograd?\n",
    "\n",
    "\"**Micrograd**\" is small autograd engine. The word **Autograd** is short for \"**Automatic Gradient**\". Autograd is also the name of PyTorch's automatic differentiation system.\n",
    "\n",
    "What \"Micrograd\" does, is that it implements the \"Backpropagation\" algorithm. \"Backprop\" helps us **efficiently compute the gradient of a loss/error function with respect to the weights of a given neural network**.\n",
    "\n",
    "With the gradient, we can iterativelly tune/tweak the weights of a network to minimize our loss function.\n",
    "\n",
    "I am building Micrograd following **Andrej Karpathy** [YouTube](https://youtu.be/VMj-3S1tku0) video."
   ]
  },
  {
   "cell_type": "markdown",
   "id": "38bc8718",
   "metadata": {},
   "source": [
    "# Why Am I learning this? 💡🧠\n",
    "\n",
    "1. I want **Deep understanding**. As a newcomer, I do not want to fall into the rush of building the \"cool\" stuff. I would like to practice patience, taking the time to **learn what led to the cool stuff**... I want to believe that it will pay ten fold in the future.\n",
    "\n",
    "2. According to Andrej, **Backpropagation is at the CORE of any modern deep learning frameworks**, like PyTorch, JAX, TensorFlow, etc... I believe him.\n",
    "\n",
    "3. My supervisor told me that PyTorch's Autograd is useful when debugging a neural network, and debugging is an important part of neural network development. So, taking some time to understand what happens under the hood might pay in the future? We'll see. I can only connect the dots looking backward. 😉"
   ]
  },
  {
   "cell_type": "markdown",
   "id": "5d11c584",
   "metadata": {},
   "source": [
    "# What can Micrograd do?\n",
    "\n"
   ]
  },
  {
   "cell_type": "markdown",
   "id": "2e09f36c",
   "metadata": {},
   "source": [
    "At [1:30](https://youtu.be/VMj-3S1tku0?t=90) of his video, Andrej outlines the following capabilities:"
   ]
  },
  {
   "cell_type": "markdown",
   "id": "aff6fb06",
   "metadata": {},
   "source": [
    "1. Micrograd (and also Autograd) helps us **build expression graphs** which are mathematical expressions represented as graphs. As we compose mathematical expressions, Micrograd will *dynamically* build an expression graph in the background.\n",
    "\n",
    "2. We can **compute the forward passes**, meaning Micrograd will return output(s) if we give it some input(s).\n",
    "\n",
    "3. The big deal, Andrej said, is that we can use the output of an expression graph and call a function called `backward` that will **initialize backpropagation** at that node, and will recursively apply the chain rule backward through the graph."
   ]
  },
  {
   "cell_type": "markdown",
   "id": "0e2352a8",
   "metadata": {},
   "source": [
    "Since Neural networks are mathematical expressions, we can use tools like Micrograd to describe them!"
   ]
  },
  {
   "cell_type": "markdown",
   "id": "5525550e",
   "metadata": {},
   "source": [
    "# Let's Implement Micrograd 🛠️"
   ]
  },
  {
   "cell_type": "markdown",
   "id": "efb59d26",
   "metadata": {},
   "source": [
    "## Some theory first 📜"
   ]
  },
  {
   "cell_type": "markdown",
   "id": "815b047c",
   "metadata": {},
   "source": [
    "Let's start with a refresh of what a derivative is, at the intuitive level, and what information it gives us."
   ]
  },
  {
   "cell_type": "code",
   "execution_count": 1,
   "id": "fee24e75",
   "metadata": {},
   "outputs": [],
   "source": [
    "import math\n",
    "import numpy as np\n",
    "import matplotlib.pyplot as plt\n",
    "%matplotlib inline"
   ]
  },
  {
   "cell_type": "markdown",
   "id": "be76b7e7",
   "metadata": {},
   "source": [
    "Let consider the following function: $f(x) = 3x^{2} - 4x + 5$.\n",
    "\n",
    "In Python, $f$ would be written like this:"
   ]
  },
  {
   "cell_type": "code",
   "execution_count": 2,
   "id": "59080557",
   "metadata": {},
   "outputs": [],
   "source": [
    "def f(x):\n",
    "    return 3*x**2 - 4*x + 5"
   ]
  },
  {
   "cell_type": "code",
   "execution_count": 3,
   "id": "41d3d892",
   "metadata": {},
   "outputs": [
    {
     "data": {
      "text/plain": [
       "20.0"
      ]
     },
     "execution_count": 3,
     "metadata": {},
     "output_type": "execute_result"
    }
   ],
   "source": [
    "#We can call the function with 3.0\n",
    "f(3.0)"
   ]
  },
  {
   "cell_type": "markdown",
   "id": "e4166d40",
   "metadata": {},
   "source": [
    "We can also **plot** the function to get a sense of its shape. But by the look of it, we can see that it is going to be a parabola."
   ]
  },
  {
   "cell_type": "code",
   "execution_count": 4,
   "id": "78560c2c",
   "metadata": {},
   "outputs": [
    {
     "data": {
      "text/plain": [
       "[<matplotlib.lines.Line2D at 0x1e4b6f23fa0>]"
      ]
     },
     "execution_count": 4,
     "metadata": {},
     "output_type": "execute_result"
    },
    {
     "data": {
      "image/png": "[encoded data removed]",
      "text/plain": [
       "<Figure size 640x480 with 1 Axes>"
      ]
     },
     "metadata": {},
     "output_type": "display_data"
    }
   ],
   "source": [
    "#1- Let's generate a set of numbers in [-5, 5)\n",
    "xs = np.arange(-5, 5, 0.25)\n",
    "#2- Apply f on the x values within the np array\n",
    "ys = f(xs)\n",
    "#3- Plot using Matplotlib\n",
    "plt.plot(xs, ys)"
   ]
  },
  {
   "cell_type": "markdown",
   "id": "2faadbba",
   "metadata": {},
   "source": [
    "What does taking the derivative of this function $f$ at any point $x$ tell us? It helps us answer the following questions:\n",
    "\n",
    "- If we add a small quantity $h$ to a given $x$, how is $f$ going to respond? Is it going to increase/decrease 🤷‍♂️\n",
    "\n",
    "- How fast will $f$ increase/decrease? In other words, what is the \"rate\" or the \"speed\" at which $f$ increase/decrease when $x$ changes 🤷‍♂️\n",
    "\n",
    "When taking the derivative we apply the following: $\\lim_{h\\to 0} \\frac{f(x + h) - f(x)}{h}$ and this formula is the answer to both of our questions"
   ]
  },
  {
   "cell_type": "code",
   "execution_count": 5,
   "id": "c5fae8a1",
   "metadata": {},
   "outputs": [
    {
     "data": {
      "text/plain": [
       "14.00300000000243"
      ]
     },
     "execution_count": 5,
     "metadata": {},
     "output_type": "execute_result"
    }
   ],
   "source": [
    "h = 0.001 #relatively small \"h\"\n",
    "x = 3.0\n",
    "(f(x + h) - f(x)) / h"
   ]
  },
  {
   "cell_type": "code",
   "execution_count": 6,
   "id": "7a1c4a88",
   "metadata": {},
   "outputs": [
    {
     "data": {
      "text/plain": [
       "14.000001158365194"
      ]
     },
     "execution_count": 6,
     "metadata": {},
     "output_type": "execute_result"
    }
   ],
   "source": [
    "h = 0.000000001 #an even smaller \"h\"\n",
    "x = 3.0\n",
    "(f(x + h) - f(x)) / h"
   ]
  },
  {
   "cell_type": "markdown",
   "id": "10af600f",
   "metadata": {},
   "source": [
    "This is a numerical approximation of the rate of change (slope) of $f$ when $x = 3$.  It tells us that at when $x = 3$, the function $f$ is \"increasing\" at a rate of $14$.\n",
    "\n",
    "If $h$ could get infinitely small, our expression would converge to the exact value of the slope of the line tangent to the curve at $x = 3$, which is $14$."
   ]
  },
  {
   "cell_type": "markdown",
   "id": "61c0b515",
   "metadata": {},
   "source": [
    "Let's now consider a function with multiple (3) inputs."
   ]
  },
  {
   "cell_type": "code",
   "execution_count": 7,
   "id": "8df32a66",
   "metadata": {},
   "outputs": [],
   "source": [
    "a = 2.0\n",
    "b = -3.0\n",
    "c = 10.0\n",
    "d = a*b + c"
   ]
  },
  {
   "cell_type": "markdown",
   "id": "dd8d8fde",
   "metadata": {},
   "source": [
    "The function ($ab + c$) can also be represented using the following expression graph:"
   ]
  },
  {
   "cell_type": "markdown",
   "id": "a8d24c34",
   "metadata": {},
   "source": [
    "![Expression graph](./images/img-1.jpg)"
   ]
  },
  {
   "cell_type": "markdown",
   "id": "dc1c36a6",
   "metadata": {},
   "source": [
    "It has $3$ inputs ($a$, $b$, and $c$), and $1$ output ($d$)."
   ]
  },
  {
   "cell_type": "code",
   "execution_count": 8,
   "id": "89761ead",
   "metadata": {},
   "outputs": [
    {
     "name": "stdout",
     "output_type": "stream",
     "text": [
      "4.0\n"
     ]
    }
   ],
   "source": [
    "print(d)"
   ]
  },
  {
   "cell_type": "markdown",
   "id": "15b4f3ac",
   "metadata": {},
   "source": [
    "Again, if we take the derivative of this expression with respect to one of its input variable, what would that tell us? 🤔\n",
    "\n",
    "It would tell us **how the output $d$ would respond** (increase/decrease) and **how fast**... if one of the inputs were to **change**."
   ]
  },
  {
   "cell_type": "markdown",
   "id": "38a3ec3d",
   "metadata": {},
   "source": [
    "Let's illustrate this by considering input $a$. What happens if we take the derivative of the expression with respect to $a$. In other words, if $a$ were to change a little bit, how would $d$ change, and by how much?"
   ]
  },
  {
   "cell_type": "code",
   "execution_count": 9,
   "id": "f3a67bdd",
   "metadata": {},
   "outputs": [
    {
     "name": "stdout",
     "output_type": "stream",
     "text": [
      "d1: 4.0\n",
      "d2: 3.999699999999999\n",
      "slope (or rate of change): -3.000000000010772\n"
     ]
    }
   ],
   "source": [
    "h = 0.0001\n",
    "\n",
    "#inputs\n",
    "a = 2.0\n",
    "b = -3.0\n",
    "c = 10.0\n",
    "\n",
    "d1 = a*b + c\n",
    "a += h # 'a' changes a little bit\n",
    "d2 = a*b + c\n",
    "\n",
    "print('d1:', d1)\n",
    "print('d2:', d2)\n",
    "print('slope (or rate of change):', (d2 - d1) / h)"
   ]
  },
  {
   "cell_type": "markdown",
   "id": "86309977",
   "metadata": {},
   "source": [
    "See? When I increase $a$ a tiny bit, $(ab)$ becomes more negative; and when added to $c$ it results in a smaller value.\n",
    "\n",
    "So by increasing $a$, I caused  the output $d$ to **decrease**. That's why $d_{2}$ is **smaller** than $d_{1}$, and the rate of this change (this decrease) was: $3$.\n",
    "\n",
    "The result we got was a numerical approximation. But we can get to an exact answer using a little bit of calculus:\n",
    "\n",
    "$\\frac{\\partial}{\\partial a}(ab + c) = b$ and in our case $b$ is $-3$\n",
    "\n",
    "**Experiment 🧪: How would $d$ respond if you changed $b$ or $c$?**"
   ]
  },
  {
   "cell_type": "markdown",
   "id": "388f1ab2",
   "metadata": {},
   "source": [
    "## Can we talk about Neural networks now?  🤷\n",
    "\n",
    "Hummm, no ¯\\\\\\_(ツ)\\_/¯ \n",
    "\n",
    "But we are getting there. Slowly. \n",
    "\n",
    "But, I would like us to keep in mind that... neural networks are also mathematical expressions like the last expression we looked at. It's going to come handy.\n",
    "\n",
    "What is going to happen now instead is that we are going to write a core object of Micrograd: the `Value` class."
   ]
  },
  {
   "attachments": {},
   "cell_type": "markdown",
   "id": "fdcfd660",
   "metadata": {},
   "source": [
    "`Value` is a wrapper class. Its job to wrap a Python numeric value. In addition, a `Value` object has the following capabilities:\n",
    "\n",
    "1. **It maintains pointers to the `Value` objects that were used to obtain it**. For instance, if we multiply a `Value` object `a` with another `Value` object `b` ... and obtain a new `Value` object `c`, the `Value` object `c` will contain pointers to `Value` objects `a` and `b`. In fact, `a` and `b` will be called *children* of `c`.\n",
    "\n",
    "2. **It records the type of the operation that was used to obtain it**. If we consider the same `Value` objects `a`, `b` and `c`. `Value` object `c` will contain an information that will let us know that `c` was obtained by the addition of `a` and `b`. Here is an image to illustrate the two previous points:\n",
    "\n",
    "![illustration](./images/img-2.jpg)"
   ]
  },
  {
   "cell_type": "code",
   "execution_count": 10,
   "id": "32cf014d",
   "metadata": {},
   "outputs": [
    {
     "data": {
      "text/plain": [
       "Value(data = -8.0)"
      ]
     },
     "execution_count": 10,
     "metadata": {},
     "output_type": "execute_result"
    }
   ],
   "source": [
    "class Value:\n",
    "    def __init__(self, data, _children=(), _op='', label='') -> None:\n",
    "        self.data = data\n",
    "        self._prev = set(_children)\n",
    "        self._op = _op\n",
    "        self.grad = 0 #the derivative of the ouptut with respect to this Value.\n",
    "        self.label = label\n",
    "\n",
    "    def __repr__(self) -> str:\n",
    "        return f\"Value(data = {self.data})\"\n",
    "\n",
    "    def __add__(self, other):\n",
    "        out = Value(self.data + other.data, (self, other), '+')\n",
    "        return out\n",
    "\n",
    "    def __mul__(self, other):\n",
    "        out = Value(self.data * other.data, (self, other), '*')\n",
    "        return out\n",
    "    \n",
    "a = Value(2.0, label='a')\n",
    "b = Value(-3.0, label='b')\n",
    "c = Value(10.0, label='c')\n",
    "e = a*b ; e.label = 'e'\n",
    "d = e + c ; d.label= 'd'\n",
    "\n",
    "f = Value(-2.0, label='f')\n",
    "L = d * f; L.label = 'L'\n",
    "L"
   ]
  },
  {
   "attachments": {},
   "cell_type": "markdown",
   "id": "e617af96",
   "metadata": {},
   "source": [
    "With the above implementation, we can perform additions and multiplications on `Value` objects and each object resutlting from either operations maintains a pointer to the `Value` objects that were used to create it. Those `Value` objects are accessible through the `prev` attribute, which is a set of tuples (i.e. pairs).\n",
    "\n",
    "Using this simple data structure, we can compose mathematical expressions and have the expression graphs built in the background. That's pretty cool.\n",
    "\n",
    "Andrej pushed it a step further by providing the following code snippet. Its job is to help us visualize the expression graphs we are building out using the the **graphiz**. Each node in the expression graph contains:\n",
    "\n",
    "- A **label**: The name of the node\n",
    "- A **data**: The numerical value of node\n",
    "- A **gradient**: The derivative of the output with respect to the node"
   ]
  },
  {
   "cell_type": "code",
   "execution_count": 11,
   "id": "6c33542c",
   "metadata": {},
   "outputs": [],
   "source": [
    "from graphviz import Digraph\n",
    "\n",
    "def trace(root):\n",
    "  # builds a set of all nodes and edges in a graph\n",
    "  nodes, edges = set(), set()\n",
    "  def build(v):\n",
    "    if v not in nodes:\n",
    "      nodes.add(v)\n",
    "      for child in v._prev:\n",
    "        edges.add((child, v))\n",
    "        build(child)\n",
    "  build(root)\n",
    "  return nodes, edges\n",
    "\n",
    "def draw_dot(root):\n",
    "  dot = Digraph(format='svg', graph_attr={'rankdir': 'LR'}) # LR = left to right\n",
    "  \n",
    "  nodes, edges = trace(root)\n",
    "  for n in nodes:\n",
    "    uid = str(id(n))\n",
    "    # for any value in the graph, create a rectangular ('record') node for it\n",
    "    dot.node(name = uid, label = \"{ %s | data %.4f | grad %.4f }\" % (n.label, n.data, n.grad), shape='record')\n",
    "    if n._op:\n",
    "      # if this value is a result of some operation, create an op node for it\n",
    "      dot.node(name = uid + n._op, label = n._op)\n",
    "      # and connect this node to it\n",
    "      dot.edge(uid + n._op, uid)\n",
    "\n",
    "  for n1, n2 in edges:\n",
    "    # connect n1 to the op node of n2\n",
    "    dot.edge(str(id(n1)), str(id(n2)) + n2._op)\n",
    "\n",
    "  return dot"
   ]
  },
  {
   "cell_type": "code",
   "execution_count": 12,
   "id": "28761e83",
   "metadata": {},
   "outputs": [
    {
     "data": {
      "image/svg+xml": "<?xml version=\"1.0\" encoding=\"UTF-8\" standalone=\"no\"?>\n<!DOCTYPE svg PUBLIC \"-//W3C//DTD SVG 1.1//EN\"\n \"http://www.w3.org/Graphics/SVG/1.1/DTD/svg11.dtd\">\n<!-- Generated by graphviz version 2.50.0 (0)\n -->\n<!-- Pages: 1 -->\n<svg width=\"1148pt\" height=\"156pt\"\n viewBox=\"0.00 0.00 1148.00 156.00\" xmlns=\"http://www.w3.org/2000/svg\" xmlns:xlink=\"http://www.w3.org/1999/xlink\">\n<g id=\"graph0\" class=\"graph\" transform=\"scale(1 1) rotate(0) translate(4 152)\">\n<polygon fill=\"white\" stroke=\"transparent\" points=\"-4,4 -4,-152 1144,-152 1144,4 -4,4\"/>\n<!-- 2081835096576 -->\n<g id=\"node1\" class=\"node\">\n<title>2081835096576</title>\n<polygon fill=\"none\" stroke=\"black\" points=\"0,-111.5 0,-147.5 190,-147.5 190,-111.5 0,-111.5\"/>\n<text text-anchor=\"middle\" x=\"11.5\" y=\"-125.8\" font-family=\"Times New Roman,serif\" font-size=\"14.00\">b</text>\n<polyline fill=\"none\" stroke=\"black\" points=\"23,-111.5 23,-147.5 \"/>\n<text text-anchor=\"middle\" x=\"65.5\" y=\"-125.8\" font-family=\"Times New Roman,serif\" font-size=\"14.00\">data &#45;3.0000</text>\n<polyline fill=\"none\" stroke=\"black\" points=\"108,-111.5 108,-147.5 \"/>\n<text text-anchor=\"middle\" x=\"149\" y=\"-125.8\" font-family=\"Times New Roman,serif\" font-size=\"14.00\">grad 0.0000</text>\n</g>\n<!-- 2081833080624* -->\n<g id=\"node8\" class=\"node\">\n<title>2081833080624*</title>\n<ellipse fill=\"none\" stroke=\"black\" cx=\"253\" cy=\"-101.5\" rx=\"27\" ry=\"18\"/>\n<text text-anchor=\"middle\" x=\"253\" y=\"-97.8\" font-family=\"Times New Roman,serif\" font-size=\"14.00\">*</text>\n</g>\n<!-- 2081835096576&#45;&gt;2081833080624* -->\n<g id=\"edge9\" class=\"edge\">\n<title>2081835096576&#45;&gt;2081833080624*</title>\n<path fill=\"none\" stroke=\"black\" d=\"M190.34,-112.57C199.62,-110.9 208.58,-109.29 216.66,-107.84\"/>\n<polygon fill=\"black\" stroke=\"black\" points=\"217.49,-111.25 226.72,-106.04 216.26,-104.36 217.49,-111.25\"/>\n</g>\n<!-- 2081835732512 -->\n<g id=\"node2\" class=\"node\">\n<title>2081835732512</title>\n<polygon fill=\"none\" stroke=\"black\" points=\"635.5,-55.5 635.5,-91.5 820.5,-91.5 820.5,-55.5 635.5,-55.5\"/>\n<text text-anchor=\"middle\" x=\"647\" y=\"-69.8\" font-family=\"Times New Roman,serif\" font-size=\"14.00\">d</text>\n<polyline fill=\"none\" stroke=\"black\" points=\"658.5,-55.5 658.5,-91.5 \"/>\n<text text-anchor=\"middle\" x=\"698.5\" y=\"-69.8\" font-family=\"Times New Roman,serif\" font-size=\"14.00\">data 4.0000</text>\n<polyline fill=\"none\" stroke=\"black\" points=\"738.5,-55.5 738.5,-91.5 \"/>\n<text text-anchor=\"middle\" x=\"779.5\" y=\"-69.8\" font-family=\"Times New Roman,serif\" font-size=\"14.00\">grad 0.0000</text>\n</g>\n<!-- 2081835732416* -->\n<g id=\"node10\" class=\"node\">\n<title>2081835732416*</title>\n<ellipse fill=\"none\" stroke=\"black\" cx=\"885\" cy=\"-45.5\" rx=\"27\" ry=\"18\"/>\n<text text-anchor=\"middle\" x=\"885\" y=\"-41.8\" font-family=\"Times New Roman,serif\" font-size=\"14.00\">*</text>\n</g>\n<!-- 2081835732512&#45;&gt;2081835732416* -->\n<g id=\"edge7\" class=\"edge\">\n<title>2081835732512&#45;&gt;2081835732416*</title>\n<path fill=\"none\" stroke=\"black\" d=\"M820.51,-56.97C830.48,-55.17 840.13,-53.42 848.77,-51.86\"/>\n<polygon fill=\"black\" stroke=\"black\" points=\"849.55,-55.28 858.77,-50.06 848.3,-48.39 849.55,-55.28\"/>\n</g>\n<!-- 2081835732512+ -->\n<g id=\"node3\" class=\"node\">\n<title>2081835732512+</title>\n<ellipse fill=\"none\" stroke=\"black\" cx=\"571\" cy=\"-73.5\" rx=\"27\" ry=\"18\"/>\n<text text-anchor=\"middle\" x=\"571\" y=\"-69.8\" font-family=\"Times New Roman,serif\" font-size=\"14.00\">+</text>\n</g>\n<!-- 2081835732512+&#45;&gt;2081835732512 -->\n<g id=\"edge1\" class=\"edge\">\n<title>2081835732512+&#45;&gt;2081835732512</title>\n<path fill=\"none\" stroke=\"black\" d=\"M598.29,-73.5C606.26,-73.5 615.54,-73.5 625.39,-73.5\"/>\n<polygon fill=\"black\" stroke=\"black\" points=\"625.41,-77 635.41,-73.5 625.41,-70 625.41,-77\"/>\n</g>\n<!-- 2081835732560 -->\n<g id=\"node4\" class=\"node\">\n<title>2081835732560</title>\n<polygon fill=\"none\" stroke=\"black\" points=\"634,-0.5 634,-36.5 822,-36.5 822,-0.5 634,-0.5\"/>\n<text text-anchor=\"middle\" x=\"644.5\" y=\"-14.8\" font-family=\"Times New Roman,serif\" font-size=\"14.00\">f</text>\n<polyline fill=\"none\" stroke=\"black\" points=\"655,-0.5 655,-36.5 \"/>\n<text text-anchor=\"middle\" x=\"697.5\" y=\"-14.8\" font-family=\"Times New Roman,serif\" font-size=\"14.00\">data &#45;2.0000</text>\n<polyline fill=\"none\" stroke=\"black\" points=\"740,-0.5 740,-36.5 \"/>\n<text text-anchor=\"middle\" x=\"781\" y=\"-14.8\" font-family=\"Times New Roman,serif\" font-size=\"14.00\">grad 0.0000</text>\n</g>\n<!-- 2081835732560&#45;&gt;2081835732416* -->\n<g id=\"edge5\" class=\"edge\">\n<title>2081835732560&#45;&gt;2081835732416*</title>\n<path fill=\"none\" stroke=\"black\" d=\"M822.29,-34.75C831.57,-36.37 840.52,-37.93 848.61,-39.33\"/>\n<polygon fill=\"black\" stroke=\"black\" points=\"848.22,-42.82 858.68,-41.09 849.42,-35.92 848.22,-42.82\"/>\n</g>\n<!-- 2081835170928 -->\n<g id=\"node5\" class=\"node\">\n<title>2081835170928</title>\n<polygon fill=\"none\" stroke=\"black\" points=\"316,-28.5 316,-64.5 508,-64.5 508,-28.5 316,-28.5\"/>\n<text text-anchor=\"middle\" x=\"327.5\" y=\"-42.8\" font-family=\"Times New Roman,serif\" font-size=\"14.00\">c</text>\n<polyline fill=\"none\" stroke=\"black\" points=\"339,-28.5 339,-64.5 \"/>\n<text text-anchor=\"middle\" x=\"382.5\" y=\"-42.8\" font-family=\"Times New Roman,serif\" font-size=\"14.00\">data 10.0000</text>\n<polyline fill=\"none\" stroke=\"black\" points=\"426,-28.5 426,-64.5 \"/>\n<text text-anchor=\"middle\" x=\"467\" y=\"-42.8\" font-family=\"Times New Roman,serif\" font-size=\"14.00\">grad 0.0000</text>\n</g>\n<!-- 2081835170928&#45;&gt;2081835732512+ -->\n<g id=\"edge6\" class=\"edge\">\n<title>2081835170928&#45;&gt;2081835732512+</title>\n<path fill=\"none\" stroke=\"black\" d=\"M508.4,-62.91C517.69,-64.5 526.64,-66.04 534.71,-67.43\"/>\n<polygon fill=\"black\" stroke=\"black\" points=\"534.32,-70.91 544.76,-69.16 535.5,-64.02 534.32,-70.91\"/>\n</g>\n<!-- 2081835097728 -->\n<g id=\"node6\" class=\"node\">\n<title>2081835097728</title>\n<polygon fill=\"none\" stroke=\"black\" points=\"2.5,-56.5 2.5,-92.5 187.5,-92.5 187.5,-56.5 2.5,-56.5\"/>\n<text text-anchor=\"middle\" x=\"14\" y=\"-70.8\" font-family=\"Times New Roman,serif\" font-size=\"14.00\">a</text>\n<polyline fill=\"none\" stroke=\"black\" points=\"25.5,-56.5 25.5,-92.5 \"/>\n<text text-anchor=\"middle\" x=\"65.5\" y=\"-70.8\" font-family=\"Times New Roman,serif\" font-size=\"14.00\">data 2.0000</text>\n<polyline fill=\"none\" stroke=\"black\" points=\"105.5,-56.5 105.5,-92.5 \"/>\n<text text-anchor=\"middle\" x=\"146.5\" y=\"-70.8\" font-family=\"Times New Roman,serif\" font-size=\"14.00\">grad 0.0000</text>\n</g>\n<!-- 2081835097728&#45;&gt;2081833080624* -->\n<g id=\"edge8\" class=\"edge\">\n<title>2081835097728&#45;&gt;2081833080624*</title>\n<path fill=\"none\" stroke=\"black\" d=\"M187.65,-90.36C197.94,-92.14 207.91,-93.87 216.81,-95.41\"/>\n<polygon fill=\"black\" stroke=\"black\" points=\"216.26,-98.87 226.71,-97.12 217.45,-91.97 216.26,-98.87\"/>\n</g>\n<!-- 2081833080624 -->\n<g id=\"node7\" class=\"node\">\n<title>2081833080624</title>\n<polygon fill=\"none\" stroke=\"black\" points=\"317,-83.5 317,-119.5 507,-119.5 507,-83.5 317,-83.5\"/>\n<text text-anchor=\"middle\" x=\"328.5\" y=\"-97.8\" font-family=\"Times New Roman,serif\" font-size=\"14.00\">e</text>\n<polyline fill=\"none\" stroke=\"black\" points=\"340,-83.5 340,-119.5 \"/>\n<text text-anchor=\"middle\" x=\"382.5\" y=\"-97.8\" font-family=\"Times New Roman,serif\" font-size=\"14.00\">data &#45;6.0000</text>\n<polyline fill=\"none\" stroke=\"black\" points=\"425,-83.5 425,-119.5 \"/>\n<text text-anchor=\"middle\" x=\"466\" y=\"-97.8\" font-family=\"Times New Roman,serif\" font-size=\"14.00\">grad 0.0000</text>\n</g>\n<!-- 2081833080624&#45;&gt;2081835732512+ -->\n<g id=\"edge4\" class=\"edge\">\n<title>2081833080624&#45;&gt;2081835732512+</title>\n<path fill=\"none\" stroke=\"black\" d=\"M507.05,-84.73C516.89,-82.97 526.39,-81.28 534.9,-79.76\"/>\n<polygon fill=\"black\" stroke=\"black\" points=\"535.52,-83.2 544.75,-78 534.29,-76.31 535.52,-83.2\"/>\n</g>\n<!-- 2081833080624*&#45;&gt;2081833080624 -->\n<g id=\"edge2\" class=\"edge\">\n<title>2081833080624*&#45;&gt;2081833080624</title>\n<path fill=\"none\" stroke=\"black\" d=\"M280.28,-101.5C288.05,-101.5 297.08,-101.5 306.68,-101.5\"/>\n<polygon fill=\"black\" stroke=\"black\" points=\"306.88,-105 316.88,-101.5 306.88,-98 306.88,-105\"/>\n</g>\n<!-- 2081835732416 -->\n<g id=\"node9\" class=\"node\">\n<title>2081835732416</title>\n<polygon fill=\"none\" stroke=\"black\" points=\"948,-27.5 948,-63.5 1140,-63.5 1140,-27.5 948,-27.5\"/>\n<text text-anchor=\"middle\" x=\"960.5\" y=\"-41.8\" font-family=\"Times New Roman,serif\" font-size=\"14.00\">L</text>\n<polyline fill=\"none\" stroke=\"black\" points=\"973,-27.5 973,-63.5 \"/>\n<text text-anchor=\"middle\" x=\"1015.5\" y=\"-41.8\" font-family=\"Times New Roman,serif\" font-size=\"14.00\">data &#45;8.0000</text>\n<polyline fill=\"none\" stroke=\"black\" points=\"1058,-27.5 1058,-63.5 \"/>\n<text text-anchor=\"middle\" x=\"1099\" y=\"-41.8\" font-family=\"Times New Roman,serif\" font-size=\"14.00\">grad 0.0000</text>\n</g>\n<!-- 2081835732416*&#45;&gt;2081835732416 -->\n<g id=\"edge3\" class=\"edge\">\n<title>2081835732416*&#45;&gt;2081835732416</title>\n<path fill=\"none\" stroke=\"black\" d=\"M912.28,-45.5C919.78,-45.5 928.44,-45.5 937.67,-45.5\"/>\n<polygon fill=\"black\" stroke=\"black\" points=\"937.87,-49 947.87,-45.5 937.87,-42 937.87,-49\"/>\n</g>\n</g>\n</svg>\n",
      "text/plain": [
       "<graphviz.graphs.Digraph at 0x1e4b713cf10>"
      ]
     },
     "execution_count": 12,
     "metadata": {},
     "output_type": "execute_result"
    }
   ],
   "source": [
    "draw_dot(L)"
   ]
  },
  {
   "attachments": {},
   "cell_type": "markdown",
   "id": "81421f9e",
   "metadata": {},
   "source": [
    "So far, we are able to compute the forward pass of a mathematical expression. What are going to do now is important because we'll try to run backpropagation. We'll start at the end, and compute the gradient. We'll compute the partial derivative of `L`, the output, with respect to each node in the expression graph."
   ]
  },
  {
   "attachments": {},
   "cell_type": "markdown",
   "id": "d41b0f7f",
   "metadata": {},
   "source": [
    "# Manual backpropagation example\n",
    "\n",
    "Using the expression graph generated earlier, we will compute backpropagation **manually**.\n",
    "\n",
    "We start with **node `L`**.\n",
    "\n",
    "Question: **What is the derivative of Node `L` with respect to itself?**\n",
    "\n",
    "$\\frac{\\partial L}{\\partial L} = 1$\n",
    "\n",
    "It is **1**. So,"
   ]
  },
  {
   "cell_type": "code",
   "execution_count": 13,
   "id": "ca76c091",
   "metadata": {},
   "outputs": [],
   "source": [
    "L.grad = 1.0"
   ]
  },
  {
   "attachments": {},
   "cell_type": "markdown",
   "id": "cc474a77",
   "metadata": {},
   "source": [
    "We continue with **node `d`** and **node `f`**.\n",
    "\n",
    "$\\longrightarrow$ Question: **What is the derivative of Node `L` with respect to Node `d`?** In other words, *how does the value in node `L` reacts when the one in node `d` changes a little bit?*\n",
    "\n",
    "$\\frac{\\partial L}{\\partial d} = \\frac{\\partial}{\\partial d}(d \\times f) = f$\n",
    "\n",
    "`grad` in node `d` is the value in node `f`. It implies that if we change the value in Node `d`, we expect the value in Node `L` to **decrease** at a rate of `2.0`.\n",
    "\n",
    "$\\longrightarrow$ Question: **What is the derivative of Node `L` with respect to Node `f`?** In other words, *how does the value in node `L` reacts when the one in node `f` changes a little bit?*\n",
    "\n",
    "$\\frac{\\partial L}{\\partial f} = \\frac{\\partial}{\\partial f}(d \\times f) = d$\n",
    "\n",
    "`grad` in node `f` is the value in node `d`. It means that if we change the value Node `f`, we expect the value in Node `L` to **increase** at a rate of `4.0`.\n",
    "\n",
    "so,"
   ]
  },
  {
   "cell_type": "code",
   "execution_count": 14,
   "id": "fd9ecaaf",
   "metadata": {},
   "outputs": [],
   "source": [
    "d.grad = -2\n",
    "f.grad = 4.0"
   ]
  },
  {
   "attachments": {},
   "cell_type": "markdown",
   "id": "c021fef7",
   "metadata": {},
   "source": [
    "We continue with **node `c`** and **node `e`**\n",
    "\n",
    "$\\longrightarrow$ **Question: What is the derivative of Node `L` with respect to Node `c`?** In other words, *how does the value in node `L` reacts when the one in node `c` changes a little bit?*\n",
    "\n",
    "$\\frac{\\partial L}{\\partial c} = \\frac{\\partial L}{\\partial d} \\times \\frac{\\partial d}{\\partial c} = \\frac{\\partial L}{\\partial d} \\times \\frac{\\partial}{\\partial c}(c + e) = \\frac{\\partial L}{\\partial d} \\times 1 = \\frac{\\partial L}{\\partial d}$\n",
    "\n",
    "Remember, we computed $\\frac{\\partial L}{\\partial d}$ earlier. It is currently stored in `d.grad`.\n",
    "\n",
    "$\\longrightarrow$ **Question: What is the derivative of Node `L` with respect to Node `e`?** In other words, *how does the value in node `L` reacts when the one in node `e` changes a little bit?*\n",
    "\n",
    "$\\frac{\\partial L}{\\partial e} = \\frac{\\partial L}{\\partial d} \\times \\frac{\\partial d}{\\partial e} = \\frac{\\partial L}{\\partial d} \\times \\frac{\\partial}{\\partial e}(c + e) = \\frac{\\partial L}{\\partial d} \\times 1 = \\frac{\\partial L}{\\partial d}$\n",
    "\n",
    "Again, the term $\\frac{\\partial L}{\\partial d}$ repeats."
   ]
  },
  {
   "cell_type": "code",
   "execution_count": 15,
   "id": "19fa29ee",
   "metadata": {},
   "outputs": [],
   "source": [
    "c.grad = -2.0\n",
    "e.grad = -2.0"
   ]
  },
  {
   "attachments": {},
   "cell_type": "markdown",
   "id": "c78fe27e",
   "metadata": {},
   "source": [
    "Please notice how `d.grad` was forwarded (or routed) to both nodes `c` and `e`. In other words, the `grad` in Node `d` was forwarded to all of its children.\n",
    "\n",
    "Again notice, both $\\frac{\\partial d}{\\partial c}$ and $\\frac{\\partial d}{\\partial e}$ are called \"**local**\" derivatives. They only give us info on this part of the graph:\n",
    "\n",
    "![Portion](./images/img-3.jpg)\n",
    "\n",
    "They tell us how changing the values in `c` and `e` by a tiny amount influences the value in `d`. This portion does not know anything about the rest of graph it is embedded in.\n",
    "\n",
    "If you paid close attention so far, you'd notice that we computed $\\frac{\\partial L}{\\partial c}$ and $\\frac{\\partial L}{\\partial e}$ using the chain rule. \n",
    "\n",
    "But, we can say that we obtained $\\frac{\\partial L}{\\partial c}$ and $\\frac{\\partial L}{\\partial e}$ by multiplying \"local\" gradients with $\\frac{\\partial L}{\\partial d}$ which is the grad value of the node **parent** to Node `c` and Node `e`. Can you see? It is an important observation.🤔"
   ]
  },
  {
   "attachments": {},
   "cell_type": "markdown",
   "id": "de990001",
   "metadata": {},
   "source": [
    "Let's finish with **node `a`** and **node `b`**\n",
    "\n",
    "$\\longrightarrow$ **Question: What is the derivative of Node `L` with respect to Node `a`?** In other words, how does the value in Node `L` reacts when the one in Node `a` changes a little bit?\n",
    "\n",
    "We can do it two ways. Using the following formula:\n",
    "\n",
    "$\\frac{\\partial L}{\\partial a} = \\frac{\\partial L}{\\partial d} \\times \\frac{\\partial d}{\\partial e} \\times \\frac{\\partial e}{\\partial a}$\n",
    "\n",
    "Or, we can leverage the observation we made earlier. We can obtain $\\frac{\\partial L}{\\partial a}$ by multiplying local derivative $\\frac{\\partial e}{\\partial a}$ with $\\frac{\\partial L}{\\partial e}$, which is the gradient of the node parent to `a`... which we computed *already* and stored in `e.grad`.\n",
    "\n",
    "$\\frac{\\partial L}{\\partial a} = \\frac{\\partial L}{\\partial e} \\times \\frac{\\partial e}{\\partial a}$\n",
    "\n",
    "$\\longrightarrow$ **Question: What is the derivative of Node `L` with respect to Node `b`?** In other words, how does the value in Node `L` reacts when the one in Node `b` changes a little bit?\n",
    "\n"
   ]
  },
  {
   "attachments": {},
   "cell_type": "markdown",
   "id": "f82e8334",
   "metadata": {},
   "source": [
    "***\n",
    "\n",
    "With all the gradient computed, redrawing our graph now gives the following:"
   ]
  },
  {
   "cell_type": "code",
   "execution_count": 16,
   "id": "4589f385",
   "metadata": {},
   "outputs": [
    {
     "data": {
      "image/svg+xml": "<?xml version=\"1.0\" encoding=\"UTF-8\" standalone=\"no\"?>\n<!DOCTYPE svg PUBLIC \"-//W3C//DTD SVG 1.1//EN\"\n \"http://www.w3.org/Graphics/SVG/1.1/DTD/svg11.dtd\">\n<!-- Generated by graphviz version 2.50.0 (0)\n -->\n<!-- Pages: 1 -->\n<svg width=\"1153pt\" height=\"156pt\"\n viewBox=\"0.00 0.00 1153.00 156.00\" xmlns=\"http://www.w3.org/2000/svg\" xmlns:xlink=\"http://www.w3.org/1999/xlink\">\n<g id=\"graph0\" class=\"graph\" transform=\"scale(1 1) rotate(0) translate(4 152)\">\n<polygon fill=\"white\" stroke=\"transparent\" points=\"-4,4 -4,-152 1149,-152 1149,4 -4,4\"/>\n<!-- 2081835096576 -->\n<g id=\"node1\" class=\"node\">\n<title>2081835096576</title>\n<polygon fill=\"none\" stroke=\"black\" points=\"0,-111.5 0,-147.5 190,-147.5 190,-111.5 0,-111.5\"/>\n<text text-anchor=\"middle\" x=\"11.5\" y=\"-125.8\" font-family=\"Times New Roman,serif\" font-size=\"14.00\">b</text>\n<polyline fill=\"none\" stroke=\"black\" points=\"23,-111.5 23,-147.5 \"/>\n<text text-anchor=\"middle\" x=\"65.5\" y=\"-125.8\" font-family=\"Times New Roman,serif\" font-size=\"14.00\">data &#45;3.0000</text>\n<polyline fill=\"none\" stroke=\"black\" points=\"108,-111.5 108,-147.5 \"/>\n<text text-anchor=\"middle\" x=\"149\" y=\"-125.8\" font-family=\"Times New Roman,serif\" font-size=\"14.00\">grad 0.0000</text>\n</g>\n<!-- 2081833080624* -->\n<g id=\"node8\" class=\"node\">\n<title>2081833080624*</title>\n<ellipse fill=\"none\" stroke=\"black\" cx=\"253\" cy=\"-101.5\" rx=\"27\" ry=\"18\"/>\n<text text-anchor=\"middle\" x=\"253\" y=\"-97.8\" font-family=\"Times New Roman,serif\" font-size=\"14.00\">*</text>\n</g>\n<!-- 2081835096576&#45;&gt;2081833080624* -->\n<g id=\"edge9\" class=\"edge\">\n<title>2081835096576&#45;&gt;2081833080624*</title>\n<path fill=\"none\" stroke=\"black\" d=\"M190.34,-112.57C199.62,-110.9 208.58,-109.29 216.66,-107.84\"/>\n<polygon fill=\"black\" stroke=\"black\" points=\"217.49,-111.25 226.72,-106.04 216.26,-104.36 217.49,-111.25\"/>\n</g>\n<!-- 2081835732512 -->\n<g id=\"node2\" class=\"node\">\n<title>2081835732512</title>\n<polygon fill=\"none\" stroke=\"black\" points=\"638,-55.5 638,-91.5 827,-91.5 827,-55.5 638,-55.5\"/>\n<text text-anchor=\"middle\" x=\"649.5\" y=\"-69.8\" font-family=\"Times New Roman,serif\" font-size=\"14.00\">d</text>\n<polyline fill=\"none\" stroke=\"black\" points=\"661,-55.5 661,-91.5 \"/>\n<text text-anchor=\"middle\" x=\"701\" y=\"-69.8\" font-family=\"Times New Roman,serif\" font-size=\"14.00\">data 4.0000</text>\n<polyline fill=\"none\" stroke=\"black\" points=\"741,-55.5 741,-91.5 \"/>\n<text text-anchor=\"middle\" x=\"784\" y=\"-69.8\" font-family=\"Times New Roman,serif\" font-size=\"14.00\">grad &#45;2.0000</text>\n</g>\n<!-- 2081835732416* -->\n<g id=\"node10\" class=\"node\">\n<title>2081835732416*</title>\n<ellipse fill=\"none\" stroke=\"black\" cx=\"890\" cy=\"-45.5\" rx=\"27\" ry=\"18\"/>\n<text text-anchor=\"middle\" x=\"890\" y=\"-41.8\" font-family=\"Times New Roman,serif\" font-size=\"14.00\">*</text>\n</g>\n<!-- 2081835732512&#45;&gt;2081835732416* -->\n<g id=\"edge7\" class=\"edge\">\n<title>2081835732512&#45;&gt;2081835732416*</title>\n<path fill=\"none\" stroke=\"black\" d=\"M827.1,-56.65C836.4,-54.97 845.38,-53.35 853.49,-51.89\"/>\n<polygon fill=\"black\" stroke=\"black\" points=\"854.37,-55.29 863.59,-50.07 853.13,-48.4 854.37,-55.29\"/>\n</g>\n<!-- 2081835732512+ -->\n<g id=\"node3\" class=\"node\">\n<title>2081835732512+</title>\n<ellipse fill=\"none\" stroke=\"black\" cx=\"575\" cy=\"-73.5\" rx=\"27\" ry=\"18\"/>\n<text text-anchor=\"middle\" x=\"575\" y=\"-69.8\" font-family=\"Times New Roman,serif\" font-size=\"14.00\">+</text>\n</g>\n<!-- 2081835732512+&#45;&gt;2081835732512 -->\n<g id=\"edge1\" class=\"edge\">\n<title>2081835732512+&#45;&gt;2081835732512</title>\n<path fill=\"none\" stroke=\"black\" d=\"M602.03,-73.5C609.66,-73.5 618.52,-73.5 627.94,-73.5\"/>\n<polygon fill=\"black\" stroke=\"black\" points=\"627.94,-77 637.94,-73.5 627.94,-70 627.94,-77\"/>\n</g>\n<!-- 2081835732560 -->\n<g id=\"node4\" class=\"node\">\n<title>2081835732560</title>\n<polygon fill=\"none\" stroke=\"black\" points=\"638.5,-0.5 638.5,-36.5 826.5,-36.5 826.5,-0.5 638.5,-0.5\"/>\n<text text-anchor=\"middle\" x=\"649\" y=\"-14.8\" font-family=\"Times New Roman,serif\" font-size=\"14.00\">f</text>\n<polyline fill=\"none\" stroke=\"black\" points=\"659.5,-0.5 659.5,-36.5 \"/>\n<text text-anchor=\"middle\" x=\"702\" y=\"-14.8\" font-family=\"Times New Roman,serif\" font-size=\"14.00\">data &#45;2.0000</text>\n<polyline fill=\"none\" stroke=\"black\" points=\"744.5,-0.5 744.5,-36.5 \"/>\n<text text-anchor=\"middle\" x=\"785.5\" y=\"-14.8\" font-family=\"Times New Roman,serif\" font-size=\"14.00\">grad 4.0000</text>\n</g>\n<!-- 2081835732560&#45;&gt;2081835732416* -->\n<g id=\"edge5\" class=\"edge\">\n<title>2081835732560&#45;&gt;2081835732416*</title>\n<path fill=\"none\" stroke=\"black\" d=\"M826.65,-34.67C836.2,-36.33 845.43,-37.93 853.72,-39.37\"/>\n<polygon fill=\"black\" stroke=\"black\" points=\"853.24,-42.84 863.69,-41.11 854.44,-35.95 853.24,-42.84\"/>\n</g>\n<!-- 2081835170928 -->\n<g id=\"node5\" class=\"node\">\n<title>2081835170928</title>\n<polygon fill=\"none\" stroke=\"black\" points=\"316,-28.5 316,-64.5 512,-64.5 512,-28.5 316,-28.5\"/>\n<text text-anchor=\"middle\" x=\"327.5\" y=\"-42.8\" font-family=\"Times New Roman,serif\" font-size=\"14.00\">c</text>\n<polyline fill=\"none\" stroke=\"black\" points=\"339,-28.5 339,-64.5 \"/>\n<text text-anchor=\"middle\" x=\"382.5\" y=\"-42.8\" font-family=\"Times New Roman,serif\" font-size=\"14.00\">data 10.0000</text>\n<polyline fill=\"none\" stroke=\"black\" points=\"426,-28.5 426,-64.5 \"/>\n<text text-anchor=\"middle\" x=\"469\" y=\"-42.8\" font-family=\"Times New Roman,serif\" font-size=\"14.00\">grad &#45;2.0000</text>\n</g>\n<!-- 2081835170928&#45;&gt;2081835732512+ -->\n<g id=\"edge6\" class=\"edge\">\n<title>2081835170928&#45;&gt;2081835732512+</title>\n<path fill=\"none\" stroke=\"black\" d=\"M512.07,-62.98C521.42,-64.57 530.43,-66.1 538.55,-67.48\"/>\n<polygon fill=\"black\" stroke=\"black\" points=\"538.21,-70.97 548.65,-69.2 539.38,-64.07 538.21,-70.97\"/>\n</g>\n<!-- 2081835097728 -->\n<g id=\"node6\" class=\"node\">\n<title>2081835097728</title>\n<polygon fill=\"none\" stroke=\"black\" points=\"2.5,-56.5 2.5,-92.5 187.5,-92.5 187.5,-56.5 2.5,-56.5\"/>\n<text text-anchor=\"middle\" x=\"14\" y=\"-70.8\" font-family=\"Times New Roman,serif\" font-size=\"14.00\">a</text>\n<polyline fill=\"none\" stroke=\"black\" points=\"25.5,-56.5 25.5,-92.5 \"/>\n<text text-anchor=\"middle\" x=\"65.5\" y=\"-70.8\" font-family=\"Times New Roman,serif\" font-size=\"14.00\">data 2.0000</text>\n<polyline fill=\"none\" stroke=\"black\" points=\"105.5,-56.5 105.5,-92.5 \"/>\n<text text-anchor=\"middle\" x=\"146.5\" y=\"-70.8\" font-family=\"Times New Roman,serif\" font-size=\"14.00\">grad 0.0000</text>\n</g>\n<!-- 2081835097728&#45;&gt;2081833080624* -->\n<g id=\"edge8\" class=\"edge\">\n<title>2081835097728&#45;&gt;2081833080624*</title>\n<path fill=\"none\" stroke=\"black\" d=\"M187.65,-90.36C197.94,-92.14 207.91,-93.87 216.81,-95.41\"/>\n<polygon fill=\"black\" stroke=\"black\" points=\"216.26,-98.87 226.71,-97.12 217.45,-91.97 216.26,-98.87\"/>\n</g>\n<!-- 2081833080624 -->\n<g id=\"node7\" class=\"node\">\n<title>2081833080624</title>\n<polygon fill=\"none\" stroke=\"black\" points=\"317,-83.5 317,-119.5 511,-119.5 511,-83.5 317,-83.5\"/>\n<text text-anchor=\"middle\" x=\"328.5\" y=\"-97.8\" font-family=\"Times New Roman,serif\" font-size=\"14.00\">e</text>\n<polyline fill=\"none\" stroke=\"black\" points=\"340,-83.5 340,-119.5 \"/>\n<text text-anchor=\"middle\" x=\"382.5\" y=\"-97.8\" font-family=\"Times New Roman,serif\" font-size=\"14.00\">data &#45;6.0000</text>\n<polyline fill=\"none\" stroke=\"black\" points=\"425,-83.5 425,-119.5 \"/>\n<text text-anchor=\"middle\" x=\"468\" y=\"-97.8\" font-family=\"Times New Roman,serif\" font-size=\"14.00\">grad &#45;2.0000</text>\n</g>\n<!-- 2081833080624&#45;&gt;2081835732512+ -->\n<g id=\"edge4\" class=\"edge\">\n<title>2081833080624&#45;&gt;2081835732512+</title>\n<path fill=\"none\" stroke=\"black\" d=\"M511.16,-84.57C520.82,-82.87 530.13,-81.23 538.49,-79.75\"/>\n<polygon fill=\"black\" stroke=\"black\" points=\"539.3,-83.17 548.54,-77.98 538.08,-76.27 539.3,-83.17\"/>\n</g>\n<!-- 2081833080624*&#45;&gt;2081833080624 -->\n<g id=\"edge2\" class=\"edge\">\n<title>2081833080624*&#45;&gt;2081833080624</title>\n<path fill=\"none\" stroke=\"black\" d=\"M280.26,-101.5C288.05,-101.5 297.1,-101.5 306.75,-101.5\"/>\n<polygon fill=\"black\" stroke=\"black\" points=\"306.99,-105 316.99,-101.5 306.99,-98 306.99,-105\"/>\n</g>\n<!-- 2081835732416 -->\n<g id=\"node9\" class=\"node\">\n<title>2081835732416</title>\n<polygon fill=\"none\" stroke=\"black\" points=\"953,-27.5 953,-63.5 1145,-63.5 1145,-27.5 953,-27.5\"/>\n<text text-anchor=\"middle\" x=\"965.5\" y=\"-41.8\" font-family=\"Times New Roman,serif\" font-size=\"14.00\">L</text>\n<polyline fill=\"none\" stroke=\"black\" points=\"978,-27.5 978,-63.5 \"/>\n<text text-anchor=\"middle\" x=\"1020.5\" y=\"-41.8\" font-family=\"Times New Roman,serif\" font-size=\"14.00\">data &#45;8.0000</text>\n<polyline fill=\"none\" stroke=\"black\" points=\"1063,-27.5 1063,-63.5 \"/>\n<text text-anchor=\"middle\" x=\"1104\" y=\"-41.8\" font-family=\"Times New Roman,serif\" font-size=\"14.00\">grad 1.0000</text>\n</g>\n<!-- 2081835732416*&#45;&gt;2081835732416 -->\n<g id=\"edge3\" class=\"edge\">\n<title>2081835732416*&#45;&gt;2081835732416</title>\n<path fill=\"none\" stroke=\"black\" d=\"M917.28,-45.5C924.78,-45.5 933.44,-45.5 942.67,-45.5\"/>\n<polygon fill=\"black\" stroke=\"black\" points=\"942.87,-49 952.87,-45.5 942.87,-42 942.87,-49\"/>\n</g>\n</g>\n</svg>\n",
      "text/plain": [
       "<graphviz.graphs.Digraph at 0x1e4b713c970>"
      ]
     },
     "execution_count": 16,
     "metadata": {},
     "output_type": "execute_result"
    }
   ],
   "source": [
    "draw_dot(L)"
   ]
  }
 ],
 "metadata": {
  "kernelspec": {
   "display_name": "Python 3 (ipykernel)",
   "language": "python",
   "name": "python3"
  },
  "language_info": {
   "codemirror_mode": {
    "name": "ipython",
    "version": 3
   },
   "file_extension": ".py",
   "mimetype": "text/x-python",
   "name": "python",
   "nbconvert_exporter": "python",
   "pygments_lexer": "ipython3",
   "version": "3.9.13"
  },
  "vscode": {
   "interpreter": {
    "hash": "916dbcbb3f70747c44a77c7bcd40155683ae19c65e1c03b4aa3499c5328201f1"
   }
  }
 },
 "nbformat": 4,
 "nbformat_minor": 5
}
