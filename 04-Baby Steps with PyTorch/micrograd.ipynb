{
 "cells": [
  {
   "attachments": {},
   "cell_type": "markdown",
   "id": "df494796",
   "metadata": {},
   "source": [
    "# What is Micrograd?\n",
    "\n",
    "\"**Micrograd**\" is small autograd engine. The word **Autograd** is short for \"**Automatic Gradient**\". Autograd is also the name of PyTorch's automatic differentiation system.\n",
    "\n",
    "What \"Micrograd\" does, is that it implements the \"Backpropagation\" algorithm. \"Backprop\" helps us **efficiently compute the gradient of a loss/error function with respect to the weights of a given neural network**.\n",
    "\n",
    "With the gradient, we can iterativelly tune/tweak the weights of a network to minimize our loss function.\n",
    "\n",
    "I am building Micrograd following **Andrej Karpathy** [YouTube](https://youtu.be/VMj-3S1tku0) video."
   ]
  },
  {
   "attachments": {},
   "cell_type": "markdown",
   "id": "38bc8718",
   "metadata": {},
   "source": [
    "# Why Am I learning this? 💡🧠\n",
    "\n",
    "1. I want **Deep understanding**. As a newcomer, I do not want to fall into the rush of building the \"cool\" stuff. I would like to practice patience, taking the time to **learn what led to the cool stuff**... I want to believe that it will pay ten fold in the future.\n",
    "\n",
    "2. According to Andrej, **Backpropagation is at the CORE of any modern deep learning frameworks**, like PyTorch, JAX, TensorFlow, etc... I believe him.\n",
    "\n",
    "3. My supervisor told me that PyTorch's Autograd is useful when debugging a neural network, and debugging is an important part of neural network development. So, taking some time to understand what happens under the hood might pay in the future? We'll see. I can only connect the dots looking backward. 😉"
   ]
  },
  {
   "attachments": {},
   "cell_type": "markdown",
   "id": "5d11c584",
   "metadata": {},
   "source": [
    "# What can Micrograd do?\n",
    "\n"
   ]
  },
  {
   "attachments": {},
   "cell_type": "markdown",
   "id": "2e09f36c",
   "metadata": {},
   "source": [
    "At [1:30](https://youtu.be/VMj-3S1tku0?t=90) of this video, Andrej starts outlining the following capabilities:"
   ]
  },
  {
   "attachments": {},
   "cell_type": "markdown",
   "id": "aff6fb06",
   "metadata": {},
   "source": [
    "1. Micrograd (and also Autograd) helps us **build expression graphs** which are mathematical expressions represented as graphs. As we compose mathematical expressions, Micrograd will *dynamically* build an expression graph in the background.\n",
    "\n",
    "2. We can **compute the forward passes**, meaning Micrograd will return output(s) if we give it some input(s).\n",
    "\n",
    "3. The big deal, Andrej said, is that we can use the output of an expression graph and call a function called `backward` that will **initialize backpropagation** at that node, and will recursively apply the chain rule backward through the graph."
   ]
  },
  {
   "attachments": {},
   "cell_type": "markdown",
   "id": "0e2352a8",
   "metadata": {},
   "source": [
    "Since Neural networks are mathematical expressions, we can use tools like Micrograd to describe them!"
   ]
  },
  {
   "attachments": {},
   "cell_type": "markdown",
   "id": "5525550e",
   "metadata": {},
   "source": [
    "# Let's Implement Micrograd 🛠️"
   ]
  },
  {
   "attachments": {},
   "cell_type": "markdown",
   "id": "815b047c",
   "metadata": {},
   "source": [
    "We started with a refresh of what a derivative is, at the intuitive level, and what information it gives us."
   ]
  },
  {
   "cell_type": "code",
   "execution_count": 3,
   "id": "fee24e75",
   "metadata": {
    "vscode": {
     "languageId": "python"
    }
   },
   "outputs": [],
   "source": [
    "import math\n",
    "import numpy as np\n",
    "import matplotlib.pyplot as plt\n",
    "%matplotlib inline"
   ]
  },
  {
   "attachments": {},
   "cell_type": "markdown",
   "id": "be76b7e7",
   "metadata": {},
   "source": [
    "Let consider the following function: $f(x) = 3x^{2} - 4x + 5$.\n",
    "\n",
    "In Python, $f$ would be written like this:"
   ]
  },
  {
   "cell_type": "code",
   "execution_count": 4,
   "id": "59080557",
   "metadata": {
    "vscode": {
     "languageId": "python"
    }
   },
   "outputs": [],
   "source": [
    "def f(x):\n",
    "    return 3*x**2 - 4*x + 5"
   ]
  },
  {
   "cell_type": "code",
   "execution_count": 5,
   "id": "41d3d892",
   "metadata": {
    "vscode": {
     "languageId": "python"
    }
   },
   "outputs": [
    {
     "data": {
      "text/plain": [
       "20.0"
      ]
     },
     "execution_count": 5,
     "metadata": {},
     "output_type": "execute_result"
    }
   ],
   "source": [
    "#We can call the function with 3.0\n",
    "f(3.0)"
   ]
  },
  {
   "attachments": {},
   "cell_type": "markdown",
   "id": "e4166d40",
   "metadata": {},
   "source": [
    "We can also **plot** the function to get a sense of its shape. But by the look of it, we can see that it is going to be a parabola."
   ]
  },
  {
   "cell_type": "code",
   "execution_count": 7,
   "id": "78560c2c",
   "metadata": {
    "vscode": {
     "languageId": "python"
    }
   },
   "outputs": [
    {
     "data": {
      "text/plain": [
       "[<matplotlib.lines.Line2D at 0x1aaf2c130d0>]"
      ]
     },
     "execution_count": 7,
     "metadata": {},
     "output_type": "execute_result"
    },
    {
     "data": {
      "image/png": "[encoded data removed]",
      "text/plain": [
       "<Figure size 640x480 with 1 Axes>"
      ]
     },
     "metadata": {},
     "output_type": "display_data"
    }
   ],
   "source": [
    "#1- Let's generate a set of numbers in [-5, 5)\n",
    "xs = np.arange(-5, 5, 0.25)\n",
    "#2- Apply f on the x values within the np array\n",
    "ys = f(xs)\n",
    "#3- Plot using Matplotlib\n",
    "plt.plot(xs, ys)"
   ]
  },
  {
   "attachments": {},
   "cell_type": "markdown",
   "id": "2faadbba",
   "metadata": {},
   "source": [
    "What does taking the derivative of this function $f$ at any point $x$ tell us? It helps us answer the following questions:\n",
    "\n",
    "- If we add a small quantity $h$ to a given $x$, how is $f$ going to respond? Is it going to increase/decrease 🤷‍♂️\n",
    "\n",
    "- How fast will $f$ increase/decrease? In other words, what is the \"rate\" or the \"speed\" at which $f$ increase/decrease when $x$ changes 🤷‍♂️\n",
    "\n",
    "When taking the derivative we apply the following: $\\lim_{h\\to 0} \\frac{f(x + h) - f(x)}{h}$ and this formula is the answer to both of our questions"
   ]
  },
  {
   "cell_type": "code",
   "execution_count": 8,
   "id": "c5fae8a1",
   "metadata": {
    "vscode": {
     "languageId": "python"
    }
   },
   "outputs": [
    {
     "data": {
      "text/plain": [
       "14.00300000000243"
      ]
     },
     "execution_count": 8,
     "metadata": {},
     "output_type": "execute_result"
    }
   ],
   "source": [
    "h = 0.001 #relatively small \"h\"\n",
    "x = 3.0\n",
    "(f(x + h) - f(x)) / h"
   ]
  },
  {
   "cell_type": "code",
   "execution_count": 9,
   "id": "7a1c4a88",
   "metadata": {
    "vscode": {
     "languageId": "python"
    }
   },
   "outputs": [
    {
     "data": {
      "text/plain": [
       "14.000001158365194"
      ]
     },
     "execution_count": 9,
     "metadata": {},
     "output_type": "execute_result"
    }
   ],
   "source": [
    "h = 0.000000001 #an even smaller \"h\"\n",
    "x = 3.0\n",
    "(f(x + h) - f(x)) / h"
   ]
  },
  {
   "attachments": {},
   "cell_type": "markdown",
   "id": "10af600f",
   "metadata": {},
   "source": [
    "This is a numerical approximation of the rate of change (slope) of $f$ when $x = 3$.  It tells us that at when $x = 3$, the function $f$ is \"increasing\" at a rate of $14$.\n",
    "\n",
    "If $h$ could get infinitely small, our expression would converge to the exact value of the slope, which is $14$."
   ]
  },
  {
   "attachments": {},
   "cell_type": "markdown",
   "id": "61c0b515",
   "metadata": {},
   "source": [
    "Let's now consider a function with multiple (3) inputs."
   ]
  },
  {
   "cell_type": "code",
   "execution_count": 10,
   "id": "8df32a66",
   "metadata": {
    "vscode": {
     "languageId": "python"
    }
   },
   "outputs": [],
   "source": [
    "a = 2.0\n",
    "b = -3.0\n",
    "c = 10.0\n",
    "d = a*b + c"
   ]
  },
  {
   "attachments": {},
   "cell_type": "markdown",
   "id": "dd8d8fde",
   "metadata": {},
   "source": [
    "The above function can also be represented using the following expression graph:"
   ]
  },
  {
   "attachments": {},
   "cell_type": "markdown",
   "id": "a8d24c34",
   "metadata": {},
   "source": [
    "![Expression graph](./images/math-exp-graph-2.jpg)"
   ]
  },
  {
   "cell_type": "markdown",
   "id": "dc1c36a6",
   "metadata": {},
   "source": []
  }
 ],
 "metadata": {
  "kernelspec": {
   "display_name": "Python 3 (ipykernel)",
   "language": "python",
   "name": "python3"
  },
  "vscode": {
   "interpreter": {
    "hash": "9feab962adeed2c1deebb50117e69f55193e98b7077d6876d683a1d63dc6a5f9"
   }
  }
 },
 "nbformat": 4,
 "nbformat_minor": 5
}
