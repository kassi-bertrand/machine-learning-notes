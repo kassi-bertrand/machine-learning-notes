{
 "cells": [
  {
   "cell_type": "markdown",
   "id": "df494796",
   "metadata": {},
   "source": [
    "# What is Micrograd?\n",
    "\n",
    "\"**Micrograd**\" is small autograd engine. The word **Autograd** is short for \"**Automatic Gradient**\". Autograd is also the name of PyTorch's automatic differentiation system.\n",
    "\n",
    "What \"Micrograd\" does, is that it implements the \"Backpropagation\" algorithm. \"Backprop\" helps us **efficiently compute the gradient of a loss/error function with respect to the weights of a given neural network**.\n",
    "\n",
    "With the gradient, we can iterativelly tune/tweak the weights of a network to minimize our loss function.\n",
    "\n",
    "I am building Micrograd following **Andrej Karpathy** [YouTube](https://youtu.be/VMj-3S1tku0) video."
   ]
  },
  {
   "cell_type": "markdown",
   "id": "38bc8718",
   "metadata": {},
   "source": [
    "# Why Am I learning this? 💡🧠\n",
    "\n",
    "1. I want **Deep understanding**. As a newcomer, I do not want to fall into the rush of building the \"cool\" stuff. I would like to practice patience, taking the time to **learn what led to the cool stuff**... I want to believe that it will pay ten fold in the future.\n",
    "\n",
    "2. According to Andrej, **Backpropagation is at the CORE of any modern deep learning frameworks**, like PyTorch, JAX, TensorFlow, etc... I believe him.\n",
    "\n",
    "3. My supervisor told me that PyTorch's Autograd is useful when debugging a neural network, and debugging is an important part of neural network development. So, taking some time to understand what happens under the hood might pay in the future? We'll see. I can only connect the dots looking backward. 😉"
   ]
  },
  {
   "cell_type": "markdown",
   "id": "5d11c584",
   "metadata": {},
   "source": [
    "# What can Micrograd do?\n",
    "\n"
   ]
  },
  {
   "cell_type": "markdown",
   "id": "2e09f36c",
   "metadata": {},
   "source": [
    "At [1:30](https://youtu.be/VMj-3S1tku0?t=90) of his video, Andrej outlines the following capabilities:"
   ]
  },
  {
   "cell_type": "markdown",
   "id": "aff6fb06",
   "metadata": {},
   "source": [
    "1. Micrograd (and also Autograd) helps us **build expression graphs** which are mathematical expressions represented as graphs. As we compose mathematical expressions, Micrograd will *dynamically* build an expression graph in the background.\n",
    "\n",
    "2. We can **compute the forward passes**, meaning Micrograd will return output(s) if we give it some input(s).\n",
    "\n",
    "3. The big deal, Andrej said, is that we can use the output of an expression graph and call a function called `backward` that will **initialize backpropagation** at that node, and will recursively apply the chain rule backward through the graph."
   ]
  },
  {
   "cell_type": "markdown",
   "id": "0e2352a8",
   "metadata": {},
   "source": [
    "Since Neural networks are mathematical expressions, we can use tools like Micrograd to describe them!"
   ]
  },
  {
   "cell_type": "markdown",
   "id": "5525550e",
   "metadata": {},
   "source": [
    "# Let's Implement Micrograd 🛠️"
   ]
  },
  {
   "cell_type": "markdown",
   "id": "efb59d26",
   "metadata": {},
   "source": [
    "## Some theory first 📜"
   ]
  },
  {
   "cell_type": "markdown",
   "id": "815b047c",
   "metadata": {},
   "source": [
    "Let's start with a refresh of what a derivative is, at the intuitive level, and what information it gives us."
   ]
  },
  {
   "cell_type": "code",
   "execution_count": 1,
   "id": "fee24e75",
   "metadata": {},
   "outputs": [],
   "source": [
    "import math\n",
    "import numpy as np\n",
    "import matplotlib.pyplot as plt\n",
    "%matplotlib inline"
   ]
  },
  {
   "cell_type": "markdown",
   "id": "be76b7e7",
   "metadata": {},
   "source": [
    "Let consider the following function: $f(x) = 3x^{2} - 4x + 5$.\n",
    "\n",
    "In Python, $f$ would be written like this:"
   ]
  },
  {
   "cell_type": "code",
   "execution_count": 2,
   "id": "59080557",
   "metadata": {},
   "outputs": [],
   "source": [
    "def f(x):\n",
    "    return 3*x**2 - 4*x + 5"
   ]
  },
  {
   "cell_type": "code",
   "execution_count": 3,
   "id": "41d3d892",
   "metadata": {},
   "outputs": [
    {
     "data": {
      "text/plain": [
       "20.0"
      ]
     },
     "execution_count": 3,
     "metadata": {},
     "output_type": "execute_result"
    }
   ],
   "source": [
    "#We can call the function with 3.0\n",
    "f(3.0)"
   ]
  },
  {
   "cell_type": "markdown",
   "id": "e4166d40",
   "metadata": {},
   "source": [
    "We can also **plot** the function to get a sense of its shape. But by the look of it, we can see that it is going to be a parabola."
   ]
  },
  {
   "cell_type": "code",
   "execution_count": 4,
   "id": "78560c2c",
   "metadata": {},
   "outputs": [
    {
     "data": {
      "text/plain": [
       "[<matplotlib.lines.Line2D at 0x7fcdea3d1880>]"
      ]
     },
     "execution_count": 4,
     "metadata": {},
     "output_type": "execute_result"
    },
    {
     "data": {
      "image/png": "[encoded data removed]",
      "text/plain": [
       "<Figure size 640x480 with 1 Axes>"
      ]
     },
     "metadata": {},
     "output_type": "display_data"
    }
   ],
   "source": [
    "#1- Let's generate a set of numbers in [-5, 5)\n",
    "xs = np.arange(-5, 5, 0.25)\n",
    "#2- Apply f on the x values within the np array\n",
    "ys = f(xs)\n",
    "#3- Plot using Matplotlib\n",
    "plt.plot(xs, ys)"
   ]
  },
  {
   "cell_type": "markdown",
   "id": "2faadbba",
   "metadata": {},
   "source": [
    "What does taking the derivative of this function $f$ at any point $x$ tell us? It helps us answer the following questions:\n",
    "\n",
    "- If we add a small quantity $h$ to a given $x$, how is $f$ going to respond? Is it going to increase/decrease 🤷‍♂️\n",
    "\n",
    "- How fast will $f$ increase/decrease? In other words, what is the \"rate\" or the \"speed\" at which $f$ increase/decrease when $x$ changes 🤷‍♂️\n",
    "\n",
    "When taking the derivative we apply the following: $\\lim_{h\\to 0} \\frac{f(x + h) - f(x)}{h}$ and this formula is the answer to both of our questions"
   ]
  },
  {
   "cell_type": "code",
   "execution_count": 5,
   "id": "c5fae8a1",
   "metadata": {},
   "outputs": [
    {
     "data": {
      "text/plain": [
       "14.00300000000243"
      ]
     },
     "execution_count": 5,
     "metadata": {},
     "output_type": "execute_result"
    }
   ],
   "source": [
    "h = 0.001 #relatively small \"h\"\n",
    "x = 3.0\n",
    "(f(x + h) - f(x)) / h"
   ]
  },
  {
   "cell_type": "code",
   "execution_count": 6,
   "id": "7a1c4a88",
   "metadata": {},
   "outputs": [
    {
     "data": {
      "text/plain": [
       "14.000001158365194"
      ]
     },
     "execution_count": 6,
     "metadata": {},
     "output_type": "execute_result"
    }
   ],
   "source": [
    "h = 0.000000001 #an even smaller \"h\"\n",
    "x = 3.0\n",
    "(f(x + h) - f(x)) / h"
   ]
  },
  {
   "cell_type": "markdown",
   "id": "10af600f",
   "metadata": {},
   "source": [
    "This is a numerical approximation of the rate of change (slope) of $f$ when $x = 3$.  It tells us that at when $x = 3$, the function $f$ is \"increasing\" at a rate of $14$.\n",
    "\n",
    "If $h$ could get infinitely small, our expression would converge to the exact value of the slope of the line tangent to the curve at $x = 3$, which is $14$."
   ]
  },
  {
   "cell_type": "markdown",
   "id": "61c0b515",
   "metadata": {},
   "source": [
    "Let's now consider a function with multiple (3) inputs."
   ]
  },
  {
   "cell_type": "code",
   "execution_count": 7,
   "id": "8df32a66",
   "metadata": {},
   "outputs": [],
   "source": [
    "a = 2.0\n",
    "b = -3.0\n",
    "c = 10.0\n",
    "d = a*b + c"
   ]
  },
  {
   "cell_type": "markdown",
   "id": "dd8d8fde",
   "metadata": {},
   "source": [
    "The function ($ab + c$) can also be represented using the following expression graph:"
   ]
  },
  {
   "cell_type": "markdown",
   "id": "a8d24c34",
   "metadata": {},
   "source": [
    "![Expression graph](./images/img-1.jpg)"
   ]
  },
  {
   "cell_type": "markdown",
   "id": "dc1c36a6",
   "metadata": {},
   "source": [
    "It has $3$ inputs ($a$, $b$, and $c$), and $1$ output ($d$)."
   ]
  },
  {
   "cell_type": "code",
   "execution_count": 8,
   "id": "89761ead",
   "metadata": {},
   "outputs": [
    {
     "name": "stdout",
     "output_type": "stream",
     "text": [
      "4.0\n"
     ]
    }
   ],
   "source": [
    "print(d)"
   ]
  },
  {
   "cell_type": "markdown",
   "id": "15b4f3ac",
   "metadata": {},
   "source": [
    "Again, if we take the derivative of this expression with respect to one of its input variable, what would that tell us? 🤔\n",
    "\n",
    "It would tell us **how the output $d$ would respond** (increase/decrease) and **how fast**... if one of the inputs were to **change**."
   ]
  },
  {
   "cell_type": "markdown",
   "id": "38a3ec3d",
   "metadata": {},
   "source": [
    "Let's illustrate this by considering input $a$. What happens if we take the derivative of the expression with respect to $a$. In other words, if $a$ were to change a little bit, how would $d$ change, and by how much?"
   ]
  },
  {
   "cell_type": "code",
   "execution_count": 9,
   "id": "f3a67bdd",
   "metadata": {},
   "outputs": [
    {
     "name": "stdout",
     "output_type": "stream",
     "text": [
      "d1: 4.0\n",
      "d2: 3.999699999999999\n",
      "slope (or rate of change): -3.000000000010772\n"
     ]
    }
   ],
   "source": [
    "h = 0.0001\n",
    "\n",
    "#inputs\n",
    "a = 2.0\n",
    "b = -3.0\n",
    "c = 10.0\n",
    "\n",
    "d1 = a*b + c\n",
    "a += h # 'a' changes a little bit\n",
    "d2 = a*b + c\n",
    "\n",
    "print('d1:', d1)\n",
    "print('d2:', d2)\n",
    "print('slope (or rate of change):', (d2 - d1) / h)"
   ]
  },
  {
   "cell_type": "markdown",
   "id": "86309977",
   "metadata": {},
   "source": [
    "See? When I increase $a$ a tiny bit, $(ab)$ becomes more negative; and when added to $c$ it results in a smaller value.\n",
    "\n",
    "So by increasing $a$, I caused  the output $d$ to **decrease**. That's why $d_{2}$ is **smaller** than $d_{1}$, and the rate of this change (this decrease) was: $3$.\n",
    "\n",
    "The result we got was a numerical approximation. But we can get to an exact answer using a little bit of calculus:\n",
    "\n",
    "$\\frac{\\partial}{\\partial a}(ab + c) = b$ and in our case $b$ is $-3$\n",
    "\n",
    "**Experiment 🧪: How would $d$ respond if you changed $b$ or $c$?**"
   ]
  },
  {
   "cell_type": "markdown",
   "id": "388f1ab2",
   "metadata": {},
   "source": [
    "## Can we talk about Neural networks now?  🤷\n",
    "\n",
    "Hummm, no ¯\\\\\\_(ツ)\\_/¯ \n",
    "\n",
    "But we are getting there. Slowly. \n",
    "\n",
    "But, I would like us to keep in mind that... neural networks are also mathematical expressions like the last expression we looked at. It's going to come handy.\n",
    "\n",
    "What is going to happen now instead is that we are going to write a core object of Micrograd: the `Value` class."
   ]
  },
  {
   "attachments": {},
   "cell_type": "markdown",
   "id": "fdcfd660",
   "metadata": {},
   "source": [
    "`Value` is a wrapper class. Its job to wrap a Python numeric value. In addition, a `Value` object has the following capabilities:\n",
    "\n",
    "1. **It maintains pointers to the `Value` objects that were used to obtain it**. For instance, if we multiply a `Value` object `a` with another `Value` object `b` ... and obtain a new `Value` object `c`, the `Value` object `c` will contain pointers to `Value` objects `a` and `b`. In fact, `a` and `b` will be called *children* of `c`.\n",
    "\n",
    "2. **It records the type of the operation that was used to obtain it**. If we consider the same `Value` objects `a`, `b` and `c`. `Value` object `c` will contain an information that will let us know that `c` was obtained by the addition of `a` and `b`. Here is an image to illustrate the two previous points:\n",
    "\n",
    "![illustration](./images/img-2.jpg)"
   ]
  },
  {
   "cell_type": "code",
   "execution_count": 10,
   "id": "32cf014d",
   "metadata": {},
   "outputs": [
    {
     "data": {
      "text/plain": [
       "Value(data = -8.0)"
      ]
     },
     "execution_count": 10,
     "metadata": {},
     "output_type": "execute_result"
    }
   ],
   "source": [
    "class Value:\n",
    "    def __init__(self, data, _children=(), _op='', label='') -> None:\n",
    "        self.data = data\n",
    "        self._prev = set(_children)\n",
    "        self._op = _op\n",
    "        self.grad = 0 #the derivative of the ouptut with respect to this Value.\n",
    "        self.label = label\n",
    "\n",
    "    def __repr__(self) -> str:\n",
    "        return f\"Value(data = {self.data})\"\n",
    "\n",
    "    def __add__(self, other):\n",
    "        out = Value(self.data + other.data, (self, other), '+')\n",
    "        return out\n",
    "\n",
    "    def __mul__(self, other):\n",
    "        out = Value(self.data * other.data, (self, other), '*')\n",
    "        return out\n",
    "\n",
    "    def tanh(self):\n",
    "        x = self.data\n",
    "        t = (math.exp(2*x) - 1)/(math.exp(2*x) + 1)\n",
    "        out = Value(t, (self, ), _op='tanh')\n",
    "        return out\n",
    "    \n",
    "a = Value(2.0, label='a')\n",
    "b = Value(-3.0, label='b')\n",
    "c = Value(10.0, label='c')\n",
    "e = a*b ; e.label = 'e'\n",
    "d = e + c ; d.label= 'd'\n",
    "\n",
    "f = Value(-2.0, label='f')\n",
    "L = d * f; L.label = 'L'\n",
    "L"
   ]
  },
  {
   "attachments": {},
   "cell_type": "markdown",
   "id": "e617af96",
   "metadata": {},
   "source": [
    "With the above implementation, we can perform additions and multiplications on `Value` objects and each object resutlting from either operations maintains a pointer to the `Value` objects that were used to create it. Those `Value` objects are accessible through the `prev` attribute, which is a set of tuples (i.e. pairs).\n",
    "\n",
    "Using this simple data structure, we can compose mathematical expressions and have the expression graphs built in the background. That's pretty cool.\n",
    "\n",
    "Andrej pushed it a step further by providing the following code snippet. Its job is to help us visualize the expression graphs we are building out using the the **graphiz**. Each node in the expression graph contains:\n",
    "\n",
    "- A **label**: The name of the node\n",
    "- A **data**: The numerical value of node\n",
    "- A **gradient**: The derivative of the output with respect to the node"
   ]
  },
  {
   "cell_type": "code",
   "execution_count": 11,
   "id": "6c33542c",
   "metadata": {},
   "outputs": [],
   "source": [
    "from graphviz import Digraph\n",
    "\n",
    "def trace(root):\n",
    "  # builds a set of all nodes and edges in a graph\n",
    "  nodes, edges = set(), set()\n",
    "  def build(v):\n",
    "    if v not in nodes:\n",
    "      nodes.add(v)\n",
    "      for child in v._prev:\n",
    "        edges.add((child, v))\n",
    "        build(child)\n",
    "  build(root)\n",
    "  return nodes, edges\n",
    "\n",
    "def draw_dot(root):\n",
    "  dot = Digraph(format='svg', graph_attr={'rankdir': 'LR'}) # LR = left to right\n",
    "  \n",
    "  nodes, edges = trace(root)\n",
    "  for n in nodes:\n",
    "    uid = str(id(n))\n",
    "    # for any value in the graph, create a rectangular ('record') node for it\n",
    "    dot.node(name = uid, label = \"{ %s | data %.4f | grad %.4f }\" % (n.label, n.data, n.grad), shape='record')\n",
    "    if n._op:\n",
    "      # if this value is a result of some operation, create an op node for it\n",
    "      dot.node(name = uid + n._op, label = n._op)\n",
    "      # and connect this node to it\n",
    "      dot.edge(uid + n._op, uid)\n",
    "\n",
    "  for n1, n2 in edges:\n",
    "    # connect n1 to the op node of n2\n",
    "    dot.edge(str(id(n1)), str(id(n2)) + n2._op)\n",
    "\n",
    "  return dot"
   ]
  },
  {
   "cell_type": "code",
   "execution_count": 12,
   "id": "28761e83",
   "metadata": {},
   "outputs": [
    {
     "data": {
      "image/svg+xml": "<?xml version=\"1.0\" encoding=\"UTF-8\" standalone=\"no\"?>\n<!DOCTYPE svg PUBLIC \"-//W3C//DTD SVG 1.1//EN\"\n \"http://www.w3.org/Graphics/SVG/1.1/DTD/svg11.dtd\">\n<!-- Generated by graphviz version 2.50.0 (0)\n -->\n<!-- Pages: 1 -->\n<svg width=\"1332pt\" height=\"156pt\"\n viewBox=\"0.00 0.00 1332.00 156.00\" xmlns=\"http://www.w3.org/2000/svg\" xmlns:xlink=\"http://www.w3.org/1999/xlink\">\n<g id=\"graph0\" class=\"graph\" transform=\"scale(1 1) rotate(0) translate(4 152)\">\n<polygon fill=\"white\" stroke=\"transparent\" points=\"-4,4 -4,-152 1328,-152 1328,4 -4,4\"/>\n<!-- 140523284809808 -->\n<g id=\"node1\" class=\"node\">\n<title>140523284809808</title>\n<polygon fill=\"none\" stroke=\"black\" points=\"1087,-27.5 1087,-63.5 1324,-63.5 1324,-27.5 1087,-27.5\"/>\n<text text-anchor=\"middle\" x=\"1100\" y=\"-41.8\" font-family=\"Times,serif\" font-size=\"14.00\">L</text>\n<polyline fill=\"none\" stroke=\"black\" points=\"1113,-27.5 1113,-63.5 \"/>\n<text text-anchor=\"middle\" x=\"1166.5\" y=\"-41.8\" font-family=\"Times,serif\" font-size=\"14.00\">data &#45;8.0000</text>\n<polyline fill=\"none\" stroke=\"black\" points=\"1220,-27.5 1220,-63.5 \"/>\n<text text-anchor=\"middle\" x=\"1272\" y=\"-41.8\" font-family=\"Times,serif\" font-size=\"14.00\">grad 0.0000</text>\n</g>\n<!-- 140523284809808* -->\n<g id=\"node2\" class=\"node\">\n<title>140523284809808*</title>\n<ellipse fill=\"none\" stroke=\"black\" cx=\"1024\" cy=\"-45.5\" rx=\"27\" ry=\"18\"/>\n<text text-anchor=\"middle\" x=\"1024\" y=\"-41.8\" font-family=\"Times,serif\" font-size=\"14.00\">*</text>\n</g>\n<!-- 140523284809808*&#45;&gt;140523284809808 -->\n<g id=\"edge1\" class=\"edge\">\n<title>140523284809808*&#45;&gt;140523284809808</title>\n<path fill=\"none\" stroke=\"black\" d=\"M1051.1,-45.5C1058.61,-45.5 1067.33,-45.5 1076.75,-45.5\"/>\n<polygon fill=\"black\" stroke=\"black\" points=\"1076.78,-49 1086.78,-45.5 1076.78,-42 1076.78,-49\"/>\n</g>\n<!-- 140522374634080 -->\n<g id=\"node3\" class=\"node\">\n<title>140522374634080</title>\n<polygon fill=\"none\" stroke=\"black\" points=\"364.5,-83.5 364.5,-119.5 600.5,-119.5 600.5,-83.5 364.5,-83.5\"/>\n<text text-anchor=\"middle\" x=\"377\" y=\"-97.8\" font-family=\"Times,serif\" font-size=\"14.00\">e</text>\n<polyline fill=\"none\" stroke=\"black\" points=\"389.5,-83.5 389.5,-119.5 \"/>\n<text text-anchor=\"middle\" x=\"443\" y=\"-97.8\" font-family=\"Times,serif\" font-size=\"14.00\">data &#45;6.0000</text>\n<polyline fill=\"none\" stroke=\"black\" points=\"496.5,-83.5 496.5,-119.5 \"/>\n<text text-anchor=\"middle\" x=\"548.5\" y=\"-97.8\" font-family=\"Times,serif\" font-size=\"14.00\">grad 0.0000</text>\n</g>\n<!-- 140523284807840+ -->\n<g id=\"node6\" class=\"node\">\n<title>140523284807840+</title>\n<ellipse fill=\"none\" stroke=\"black\" cx=\"665\" cy=\"-73.5\" rx=\"27\" ry=\"18\"/>\n<text text-anchor=\"middle\" x=\"665\" y=\"-69.8\" font-family=\"Times,serif\" font-size=\"14.00\">+</text>\n</g>\n<!-- 140522374634080&#45;&gt;140523284807840+ -->\n<g id=\"edge4\" class=\"edge\">\n<title>140522374634080&#45;&gt;140523284807840+</title>\n<path fill=\"none\" stroke=\"black\" d=\"M599.6,-83.49C609.91,-81.89 619.74,-80.37 628.46,-79.01\"/>\n<polygon fill=\"black\" stroke=\"black\" points=\"629.18,-82.44 638.52,-77.45 628.1,-75.53 629.18,-82.44\"/>\n</g>\n<!-- 140522374634080* -->\n<g id=\"node4\" class=\"node\">\n<title>140522374634080*</title>\n<ellipse fill=\"none\" stroke=\"black\" cx=\"300\" cy=\"-101.5\" rx=\"27\" ry=\"18\"/>\n<text text-anchor=\"middle\" x=\"300\" y=\"-97.8\" font-family=\"Times,serif\" font-size=\"14.00\">*</text>\n</g>\n<!-- 140522374634080*&#45;&gt;140522374634080 -->\n<g id=\"edge2\" class=\"edge\">\n<title>140522374634080*&#45;&gt;140522374634080</title>\n<path fill=\"none\" stroke=\"black\" d=\"M327.25,-101.5C335.09,-101.5 344.27,-101.5 354.17,-101.5\"/>\n<polygon fill=\"black\" stroke=\"black\" points=\"354.28,-105 364.28,-101.5 354.28,-98 354.28,-105\"/>\n</g>\n<!-- 140523284807840 -->\n<g id=\"node5\" class=\"node\">\n<title>140523284807840</title>\n<polygon fill=\"none\" stroke=\"black\" points=\"728.5,-55.5 728.5,-91.5 960.5,-91.5 960.5,-55.5 728.5,-55.5\"/>\n<text text-anchor=\"middle\" x=\"741.5\" y=\"-69.8\" font-family=\"Times,serif\" font-size=\"14.00\">d</text>\n<polyline fill=\"none\" stroke=\"black\" points=\"754.5,-55.5 754.5,-91.5 \"/>\n<text text-anchor=\"middle\" x=\"805.5\" y=\"-69.8\" font-family=\"Times,serif\" font-size=\"14.00\">data 4.0000</text>\n<polyline fill=\"none\" stroke=\"black\" points=\"856.5,-55.5 856.5,-91.5 \"/>\n<text text-anchor=\"middle\" x=\"908.5\" y=\"-69.8\" font-family=\"Times,serif\" font-size=\"14.00\">grad 0.0000</text>\n</g>\n<!-- 140523284807840&#45;&gt;140523284809808* -->\n<g id=\"edge8\" class=\"edge\">\n<title>140523284807840&#45;&gt;140523284809808*</title>\n<path fill=\"none\" stroke=\"black\" d=\"M959.67,-55.49C969.61,-53.92 979.08,-52.43 987.53,-51.1\"/>\n<polygon fill=\"black\" stroke=\"black\" points=\"988.31,-54.52 997.64,-49.5 987.22,-47.6 988.31,-54.52\"/>\n</g>\n<!-- 140523284807840+&#45;&gt;140523284807840 -->\n<g id=\"edge3\" class=\"edge\">\n<title>140523284807840+&#45;&gt;140523284807840</title>\n<path fill=\"none\" stroke=\"black\" d=\"M692.19,-73.5C699.78,-73.5 708.61,-73.5 718.11,-73.5\"/>\n<polygon fill=\"black\" stroke=\"black\" points=\"718.24,-77 728.24,-73.5 718.24,-70 718.24,-77\"/>\n</g>\n<!-- 140522374634224 -->\n<g id=\"node7\" class=\"node\">\n<title>140522374634224</title>\n<polygon fill=\"none\" stroke=\"black\" points=\"0,-111.5 0,-147.5 237,-147.5 237,-111.5 0,-111.5\"/>\n<text text-anchor=\"middle\" x=\"13\" y=\"-125.8\" font-family=\"Times,serif\" font-size=\"14.00\">b</text>\n<polyline fill=\"none\" stroke=\"black\" points=\"26,-111.5 26,-147.5 \"/>\n<text text-anchor=\"middle\" x=\"79.5\" y=\"-125.8\" font-family=\"Times,serif\" font-size=\"14.00\">data &#45;3.0000</text>\n<polyline fill=\"none\" stroke=\"black\" points=\"133,-111.5 133,-147.5 \"/>\n<text text-anchor=\"middle\" x=\"185\" y=\"-125.8\" font-family=\"Times,serif\" font-size=\"14.00\">grad 0.0000</text>\n</g>\n<!-- 140522374634224&#45;&gt;140522374634080* -->\n<g id=\"edge7\" class=\"edge\">\n<title>140522374634224&#45;&gt;140522374634080*</title>\n<path fill=\"none\" stroke=\"black\" d=\"M234.96,-111.49C245.12,-109.91 254.8,-108.4 263.41,-107.05\"/>\n<polygon fill=\"black\" stroke=\"black\" points=\"264.02,-110.5 273.36,-105.5 262.94,-103.58 264.02,-110.5\"/>\n</g>\n<!-- 140522375090432 -->\n<g id=\"node8\" class=\"node\">\n<title>140522375090432</title>\n<polygon fill=\"none\" stroke=\"black\" points=\"3,-56.5 3,-92.5 234,-92.5 234,-56.5 3,-56.5\"/>\n<text text-anchor=\"middle\" x=\"15.5\" y=\"-70.8\" font-family=\"Times,serif\" font-size=\"14.00\">a</text>\n<polyline fill=\"none\" stroke=\"black\" points=\"28,-56.5 28,-92.5 \"/>\n<text text-anchor=\"middle\" x=\"79\" y=\"-70.8\" font-family=\"Times,serif\" font-size=\"14.00\">data 2.0000</text>\n<polyline fill=\"none\" stroke=\"black\" points=\"130,-56.5 130,-92.5 \"/>\n<text text-anchor=\"middle\" x=\"182\" y=\"-70.8\" font-family=\"Times,serif\" font-size=\"14.00\">grad 0.0000</text>\n</g>\n<!-- 140522375090432&#45;&gt;140522374634080* -->\n<g id=\"edge5\" class=\"edge\">\n<title>140522375090432&#45;&gt;140522374634080*</title>\n<path fill=\"none\" stroke=\"black\" d=\"M234.2,-91.75C244.55,-93.31 254.43,-94.8 263.21,-96.12\"/>\n<polygon fill=\"black\" stroke=\"black\" points=\"262.92,-99.61 273.33,-97.64 263.96,-92.69 262.92,-99.61\"/>\n</g>\n<!-- 140523284808656 -->\n<g id=\"node9\" class=\"node\">\n<title>140523284808656</title>\n<polygon fill=\"none\" stroke=\"black\" points=\"728,-0.5 728,-36.5 961,-36.5 961,-0.5 728,-0.5\"/>\n<text text-anchor=\"middle\" x=\"739\" y=\"-14.8\" font-family=\"Times,serif\" font-size=\"14.00\">f</text>\n<polyline fill=\"none\" stroke=\"black\" points=\"750,-0.5 750,-36.5 \"/>\n<text text-anchor=\"middle\" x=\"803.5\" y=\"-14.8\" font-family=\"Times,serif\" font-size=\"14.00\">data &#45;2.0000</text>\n<polyline fill=\"none\" stroke=\"black\" points=\"857,-0.5 857,-36.5 \"/>\n<text text-anchor=\"middle\" x=\"909\" y=\"-14.8\" font-family=\"Times,serif\" font-size=\"14.00\">grad 0.0000</text>\n</g>\n<!-- 140523284808656&#45;&gt;140523284809808* -->\n<g id=\"edge9\" class=\"edge\">\n<title>140523284808656&#45;&gt;140523284809808*</title>\n<path fill=\"none\" stroke=\"black\" d=\"M961.42,-36.13C970.75,-37.55 979.64,-38.9 987.61,-40.12\"/>\n<polygon fill=\"black\" stroke=\"black\" points=\"987.11,-43.58 997.52,-41.62 988.16,-36.66 987.11,-43.58\"/>\n</g>\n<!-- 140522374633936 -->\n<g id=\"node10\" class=\"node\">\n<title>140522374633936</title>\n<polygon fill=\"none\" stroke=\"black\" points=\"363,-28.5 363,-64.5 602,-64.5 602,-28.5 363,-28.5\"/>\n<text text-anchor=\"middle\" x=\"375\" y=\"-42.8\" font-family=\"Times,serif\" font-size=\"14.00\">c</text>\n<polyline fill=\"none\" stroke=\"black\" points=\"387,-28.5 387,-64.5 \"/>\n<text text-anchor=\"middle\" x=\"442.5\" y=\"-42.8\" font-family=\"Times,serif\" font-size=\"14.00\">data 10.0000</text>\n<polyline fill=\"none\" stroke=\"black\" points=\"498,-28.5 498,-64.5 \"/>\n<text text-anchor=\"middle\" x=\"550\" y=\"-42.8\" font-family=\"Times,serif\" font-size=\"14.00\">grad 0.0000</text>\n</g>\n<!-- 140522374633936&#45;&gt;140523284807840+ -->\n<g id=\"edge6\" class=\"edge\">\n<title>140522374633936&#45;&gt;140523284807840+</title>\n<path fill=\"none\" stroke=\"black\" d=\"M602.13,-64.25C611.53,-65.65 620.47,-66.99 628.48,-68.19\"/>\n<polygon fill=\"black\" stroke=\"black\" points=\"628.03,-71.66 638.44,-69.68 629.07,-64.74 628.03,-71.66\"/>\n</g>\n</g>\n</svg>\n",
      "text/plain": [
       "<graphviz.graphs.Digraph at 0x7fcdea30fd60>"
      ]
     },
     "execution_count": 12,
     "metadata": {},
     "output_type": "execute_result"
    }
   ],
   "source": [
    "draw_dot(L)"
   ]
  },
  {
   "attachments": {},
   "cell_type": "markdown",
   "id": "81421f9e",
   "metadata": {},
   "source": [
    "So far, we are able to compute the forward pass of a mathematical expression. What are going to do now is important because we'll try to run backpropagation. We'll start at the end, and compute the gradient. We'll compute the partial derivative of `L`, the output, with respect to each node in the expression graph."
   ]
  },
  {
   "attachments": {},
   "cell_type": "markdown",
   "id": "d41b0f7f",
   "metadata": {},
   "source": [
    "# Manual backpropagation example ✍️\n",
    "\n",
    "Using the expression graph generated earlier, we will compute backpropagation **manually**.\n",
    "\n",
    "We start with **node `L`**.\n",
    "\n",
    "Question: **What is the derivative of Node `L` with respect to itself?**\n",
    "\n",
    "$\\frac{\\partial L}{\\partial L} = 1$\n",
    "\n",
    "It is **1**. So,"
   ]
  },
  {
   "cell_type": "code",
   "execution_count": 13,
   "id": "ca76c091",
   "metadata": {},
   "outputs": [],
   "source": [
    "L.grad = 1.0"
   ]
  },
  {
   "attachments": {},
   "cell_type": "markdown",
   "id": "cc474a77",
   "metadata": {},
   "source": [
    "We continue with **node `d`** and **node `f`**.\n",
    "\n",
    "$\\longrightarrow$ Question: **What is the derivative of Node `L` with respect to Node `d`?** In other words, *how does the value in node `L` reacts when the one in node `d` changes a little bit?*\n",
    "\n",
    "$\\frac{\\partial L}{\\partial d} = \\frac{\\partial}{\\partial d}(d \\times f) = f$\n",
    "\n",
    "`grad` in node `d` is the value in node `f`. It implies that if we change the value in Node `d`, we expect the value in Node `L` to **decrease** at a rate of `2.0`.\n",
    "\n",
    "$\\longrightarrow$ Question: **What is the derivative of Node `L` with respect to Node `f`?** In other words, *how does the value in node `L` reacts when the one in node `f` changes a little bit?*\n",
    "\n",
    "$\\frac{\\partial L}{\\partial f} = \\frac{\\partial}{\\partial f}(d \\times f) = d$\n",
    "\n",
    "`grad` in node `f` is the value in node `d`. It means that if we change the value Node `f`, we expect the value in Node `L` to **increase** at a rate of `4.0`.\n",
    "\n",
    "so,"
   ]
  },
  {
   "cell_type": "code",
   "execution_count": 14,
   "id": "fd9ecaaf",
   "metadata": {},
   "outputs": [],
   "source": [
    "d.grad = -2\n",
    "f.grad = 4.0"
   ]
  },
  {
   "attachments": {},
   "cell_type": "markdown",
   "id": "c021fef7",
   "metadata": {},
   "source": [
    "We continue with **node `c`** and **node `e`**\n",
    "\n",
    "$\\longrightarrow$ **Question: What is the derivative of Node `L` with respect to Node `c`?** In other words, *how does the value in node `L` reacts when the one in node `c` changes a little bit?*\n",
    "\n",
    "$\\frac{\\partial L}{\\partial c} = \\frac{\\partial L}{\\partial d} \\times \\frac{\\partial d}{\\partial c} = \\frac{\\partial L}{\\partial d} \\times \\frac{\\partial}{\\partial c}(c + e) = \\frac{\\partial L}{\\partial d} \\times 1 = \\frac{\\partial L}{\\partial d}$\n",
    "\n",
    "Remember, we computed $\\frac{\\partial L}{\\partial d}$ earlier. It is currently stored in `d.grad`.\n",
    "\n",
    "$\\longrightarrow$ **Question: What is the derivative of Node `L` with respect to Node `e`?** In other words, *how does the value in node `L` reacts when the one in node `e` changes a little bit?*\n",
    "\n",
    "$\\frac{\\partial L}{\\partial e} = \\frac{\\partial L}{\\partial d} \\times \\frac{\\partial d}{\\partial e} = \\frac{\\partial L}{\\partial d} \\times \\frac{\\partial}{\\partial e}(c + e) = \\frac{\\partial L}{\\partial d} \\times 1 = \\frac{\\partial L}{\\partial d}$\n",
    "\n",
    "Again, the term $\\frac{\\partial L}{\\partial d}$ repeats."
   ]
  },
  {
   "cell_type": "code",
   "execution_count": 15,
   "id": "19fa29ee",
   "metadata": {},
   "outputs": [],
   "source": [
    "c.grad = -2.0\n",
    "e.grad = -2.0"
   ]
  },
  {
   "attachments": {},
   "cell_type": "markdown",
   "id": "c78fe27e",
   "metadata": {},
   "source": [
    "Please notice how `d.grad` was forwarded (or routed) to both nodes `c` and `e`. In other words, the `grad` in Node `d` was forwarded to all of its children.\n",
    "\n",
    "Again notice, both $\\frac{\\partial d}{\\partial c}$ and $\\frac{\\partial d}{\\partial e}$ are called \"**local**\" derivatives. They only give us info on this part of the graph:\n",
    "\n",
    "![Portion](./images/img-3.jpg)\n",
    "\n",
    "They tell us how changing the values in `c` and `e` by a tiny amount influences the value in `d`. This portion does not know anything about the rest of graph it is embedded in.\n",
    "\n",
    "If you paid close attention so far, you'd notice that we computed $\\frac{\\partial L}{\\partial c}$ and $\\frac{\\partial L}{\\partial e}$ using the chain rule. \n",
    "\n",
    "But, we can say that we obtained $\\frac{\\partial L}{\\partial c}$ and $\\frac{\\partial L}{\\partial e}$ by multiplying \"local\" gradients with $\\frac{\\partial L}{\\partial d}$ which is the grad value of the node **parent** to Node `c` and Node `e`. Can you see? It is an important observation.🤔"
   ]
  },
  {
   "attachments": {},
   "cell_type": "markdown",
   "id": "de990001",
   "metadata": {},
   "source": [
    "Let's finish with **node `a`** and **node `b`**\n",
    "\n",
    "$\\longrightarrow$ **Question: What is the derivative of Node `L` with respect to Node `a`?** In other words, how does the value in Node `L` reacts when the one in Node `a` changes a little bit?\n",
    "\n",
    "We can do it two ways. Using the following formula:\n",
    "\n",
    "$\\frac{\\partial L}{\\partial a} = \\frac{\\partial L}{\\partial d} \\times \\frac{\\partial d}{\\partial e} \\times \\frac{\\partial e}{\\partial a}$\n",
    "\n",
    "Or, we can leverage the observation we made earlier. We can obtain $\\frac{\\partial L}{\\partial a}$ by multiplying local derivative $\\frac{\\partial e}{\\partial a}$ with $\\frac{\\partial L}{\\partial e}$, which is the gradient of the node parent to `a` (Node `e`)... which we computed *already* and is stored in `e.grad`.\n",
    "\n",
    "$\\frac{\\partial L}{\\partial a} = \\frac{\\partial L}{\\partial e} \\times \\frac{\\partial e}{\\partial a}$\n",
    "\n",
    "$\\longrightarrow$ **Question: What is the derivative of Node `L` with respect to Node `b`?** In other words, how does the value in Node `L` reacts when the one in Node `b` changes a little bit?\n",
    "\n",
    "Here again, we can use our observation and write:\n",
    "\n",
    "$\\frac{\\partial L}{\\partial b} = \\frac{\\partial L}{\\partial e} \\times \\frac{\\partial e}{\\partial b}$"
   ]
  },
  {
   "cell_type": "code",
   "execution_count": 16,
   "id": "92c97c8f",
   "metadata": {},
   "outputs": [],
   "source": [
    "a.grad = -2.0 * -3.0\n",
    "b.grad = -2.0 * 2.0"
   ]
  },
  {
   "attachments": {},
   "cell_type": "markdown",
   "id": "f82e8334",
   "metadata": {},
   "source": [
    "***\n",
    "\n",
    "With all the gradient computed, redrawing our graph now gives the following:"
   ]
  },
  {
   "cell_type": "code",
   "execution_count": 17,
   "id": "4589f385",
   "metadata": {},
   "outputs": [
    {
     "data": {
      "image/svg+xml": "<?xml version=\"1.0\" encoding=\"UTF-8\" standalone=\"no\"?>\n<!DOCTYPE svg PUBLIC \"-//W3C//DTD SVG 1.1//EN\"\n \"http://www.w3.org/Graphics/SVG/1.1/DTD/svg11.dtd\">\n<!-- Generated by graphviz version 2.50.0 (0)\n -->\n<!-- Pages: 1 -->\n<svg width=\"1343pt\" height=\"156pt\"\n viewBox=\"0.00 0.00 1343.00 156.00\" xmlns=\"http://www.w3.org/2000/svg\" xmlns:xlink=\"http://www.w3.org/1999/xlink\">\n<g id=\"graph0\" class=\"graph\" transform=\"scale(1 1) rotate(0) translate(4 152)\">\n<polygon fill=\"white\" stroke=\"transparent\" points=\"-4,4 -4,-152 1339,-152 1339,4 -4,4\"/>\n<!-- 140523284809808 -->\n<g id=\"node1\" class=\"node\">\n<title>140523284809808</title>\n<polygon fill=\"none\" stroke=\"black\" points=\"1098,-27.5 1098,-63.5 1335,-63.5 1335,-27.5 1098,-27.5\"/>\n<text text-anchor=\"middle\" x=\"1111\" y=\"-41.8\" font-family=\"Times,serif\" font-size=\"14.00\">L</text>\n<polyline fill=\"none\" stroke=\"black\" points=\"1124,-27.5 1124,-63.5 \"/>\n<text text-anchor=\"middle\" x=\"1177.5\" y=\"-41.8\" font-family=\"Times,serif\" font-size=\"14.00\">data &#45;8.0000</text>\n<polyline fill=\"none\" stroke=\"black\" points=\"1231,-27.5 1231,-63.5 \"/>\n<text text-anchor=\"middle\" x=\"1283\" y=\"-41.8\" font-family=\"Times,serif\" font-size=\"14.00\">grad 1.0000</text>\n</g>\n<!-- 140523284809808* -->\n<g id=\"node2\" class=\"node\">\n<title>140523284809808*</title>\n<ellipse fill=\"none\" stroke=\"black\" cx=\"1035\" cy=\"-45.5\" rx=\"27\" ry=\"18\"/>\n<text text-anchor=\"middle\" x=\"1035\" y=\"-41.8\" font-family=\"Times,serif\" font-size=\"14.00\">*</text>\n</g>\n<!-- 140523284809808*&#45;&gt;140523284809808 -->\n<g id=\"edge1\" class=\"edge\">\n<title>140523284809808*&#45;&gt;140523284809808</title>\n<path fill=\"none\" stroke=\"black\" d=\"M1062.1,-45.5C1069.61,-45.5 1078.33,-45.5 1087.75,-45.5\"/>\n<polygon fill=\"black\" stroke=\"black\" points=\"1087.78,-49 1097.78,-45.5 1087.78,-42 1087.78,-49\"/>\n</g>\n<!-- 140522374634080 -->\n<g id=\"node3\" class=\"node\">\n<title>140522374634080</title>\n<polygon fill=\"none\" stroke=\"black\" points=\"368.5,-83.5 368.5,-119.5 608.5,-119.5 608.5,-83.5 368.5,-83.5\"/>\n<text text-anchor=\"middle\" x=\"381\" y=\"-97.8\" font-family=\"Times,serif\" font-size=\"14.00\">e</text>\n<polyline fill=\"none\" stroke=\"black\" points=\"393.5,-83.5 393.5,-119.5 \"/>\n<text text-anchor=\"middle\" x=\"447\" y=\"-97.8\" font-family=\"Times,serif\" font-size=\"14.00\">data &#45;6.0000</text>\n<polyline fill=\"none\" stroke=\"black\" points=\"500.5,-83.5 500.5,-119.5 \"/>\n<text text-anchor=\"middle\" x=\"554.5\" y=\"-97.8\" font-family=\"Times,serif\" font-size=\"14.00\">grad &#45;2.0000</text>\n</g>\n<!-- 140523284807840+ -->\n<g id=\"node6\" class=\"node\">\n<title>140523284807840+</title>\n<ellipse fill=\"none\" stroke=\"black\" cx=\"673\" cy=\"-73.5\" rx=\"27\" ry=\"18\"/>\n<text text-anchor=\"middle\" x=\"673\" y=\"-69.8\" font-family=\"Times,serif\" font-size=\"14.00\">+</text>\n</g>\n<!-- 140522374634080&#45;&gt;140523284807840+ -->\n<g id=\"edge4\" class=\"edge\">\n<title>140522374634080&#45;&gt;140523284807840+</title>\n<path fill=\"none\" stroke=\"black\" d=\"M606.89,-83.49C617.53,-81.86 627.65,-80.3 636.61,-78.93\"/>\n<polygon fill=\"black\" stroke=\"black\" points=\"637.2,-82.38 646.55,-77.4 636.14,-75.46 637.2,-82.38\"/>\n</g>\n<!-- 140522374634080* -->\n<g id=\"node4\" class=\"node\">\n<title>140522374634080*</title>\n<ellipse fill=\"none\" stroke=\"black\" cx=\"304\" cy=\"-101.5\" rx=\"27\" ry=\"18\"/>\n<text text-anchor=\"middle\" x=\"304\" y=\"-97.8\" font-family=\"Times,serif\" font-size=\"14.00\">*</text>\n</g>\n<!-- 140522374634080*&#45;&gt;140522374634080 -->\n<g id=\"edge2\" class=\"edge\">\n<title>140522374634080*&#45;&gt;140522374634080</title>\n<path fill=\"none\" stroke=\"black\" d=\"M331.15,-101.5C338.98,-101.5 348.16,-101.5 358.06,-101.5\"/>\n<polygon fill=\"black\" stroke=\"black\" points=\"358.19,-105 368.19,-101.5 358.19,-98 358.19,-105\"/>\n</g>\n<!-- 140523284807840 -->\n<g id=\"node5\" class=\"node\">\n<title>140523284807840</title>\n<polygon fill=\"none\" stroke=\"black\" points=\"736,-55.5 736,-91.5 972,-91.5 972,-55.5 736,-55.5\"/>\n<text text-anchor=\"middle\" x=\"749\" y=\"-69.8\" font-family=\"Times,serif\" font-size=\"14.00\">d</text>\n<polyline fill=\"none\" stroke=\"black\" points=\"762,-55.5 762,-91.5 \"/>\n<text text-anchor=\"middle\" x=\"813\" y=\"-69.8\" font-family=\"Times,serif\" font-size=\"14.00\">data 4.0000</text>\n<polyline fill=\"none\" stroke=\"black\" points=\"864,-55.5 864,-91.5 \"/>\n<text text-anchor=\"middle\" x=\"918\" y=\"-69.8\" font-family=\"Times,serif\" font-size=\"14.00\">grad &#45;2.0000</text>\n</g>\n<!-- 140523284807840&#45;&gt;140523284809808* -->\n<g id=\"edge8\" class=\"edge\">\n<title>140523284807840&#45;&gt;140523284809808*</title>\n<path fill=\"none\" stroke=\"black\" d=\"M970.13,-55.49C980.27,-53.91 989.92,-52.4 998.51,-51.05\"/>\n<polygon fill=\"black\" stroke=\"black\" points=\"999.09,-54.5 1008.43,-49.5 998.01,-47.59 999.09,-54.5\"/>\n</g>\n<!-- 140523284807840+&#45;&gt;140523284807840 -->\n<g id=\"edge3\" class=\"edge\">\n<title>140523284807840+&#45;&gt;140523284807840</title>\n<path fill=\"none\" stroke=\"black\" d=\"M700.03,-73.5C707.58,-73.5 716.38,-73.5 725.87,-73.5\"/>\n<polygon fill=\"black\" stroke=\"black\" points=\"725.99,-77 735.99,-73.5 725.99,-70 725.99,-77\"/>\n</g>\n<!-- 140522374634224 -->\n<g id=\"node7\" class=\"node\">\n<title>140522374634224</title>\n<polygon fill=\"none\" stroke=\"black\" points=\"0,-111.5 0,-147.5 241,-147.5 241,-111.5 0,-111.5\"/>\n<text text-anchor=\"middle\" x=\"13\" y=\"-125.8\" font-family=\"Times,serif\" font-size=\"14.00\">b</text>\n<polyline fill=\"none\" stroke=\"black\" points=\"26,-111.5 26,-147.5 \"/>\n<text text-anchor=\"middle\" x=\"79.5\" y=\"-125.8\" font-family=\"Times,serif\" font-size=\"14.00\">data &#45;3.0000</text>\n<polyline fill=\"none\" stroke=\"black\" points=\"133,-111.5 133,-147.5 \"/>\n<text text-anchor=\"middle\" x=\"187\" y=\"-125.8\" font-family=\"Times,serif\" font-size=\"14.00\">grad &#45;4.0000</text>\n</g>\n<!-- 140522374634224&#45;&gt;140522374634080* -->\n<g id=\"edge7\" class=\"edge\">\n<title>140522374634224&#45;&gt;140522374634080*</title>\n<path fill=\"none\" stroke=\"black\" d=\"M238.24,-111.49C248.61,-109.89 258.49,-108.37 267.27,-107.01\"/>\n<polygon fill=\"black\" stroke=\"black\" points=\"268.03,-110.44 277.38,-105.45 266.97,-103.52 268.03,-110.44\"/>\n</g>\n<!-- 140522375090432 -->\n<g id=\"node8\" class=\"node\">\n<title>140522375090432</title>\n<polygon fill=\"none\" stroke=\"black\" points=\"5,-56.5 5,-92.5 236,-92.5 236,-56.5 5,-56.5\"/>\n<text text-anchor=\"middle\" x=\"17.5\" y=\"-70.8\" font-family=\"Times,serif\" font-size=\"14.00\">a</text>\n<polyline fill=\"none\" stroke=\"black\" points=\"30,-56.5 30,-92.5 \"/>\n<text text-anchor=\"middle\" x=\"81\" y=\"-70.8\" font-family=\"Times,serif\" font-size=\"14.00\">data 2.0000</text>\n<polyline fill=\"none\" stroke=\"black\" points=\"132,-56.5 132,-92.5 \"/>\n<text text-anchor=\"middle\" x=\"184\" y=\"-70.8\" font-family=\"Times,serif\" font-size=\"14.00\">grad 6.0000</text>\n</g>\n<!-- 140522375090432&#45;&gt;140522374634080* -->\n<g id=\"edge5\" class=\"edge\">\n<title>140522375090432&#45;&gt;140522374634080*</title>\n<path fill=\"none\" stroke=\"black\" d=\"M236.19,-91.56C247.37,-93.22 258.02,-94.81 267.41,-96.21\"/>\n<polygon fill=\"black\" stroke=\"black\" points=\"267.02,-99.69 277.43,-97.7 268.05,-92.76 267.02,-99.69\"/>\n</g>\n<!-- 140523284808656 -->\n<g id=\"node9\" class=\"node\">\n<title>140523284808656</title>\n<polygon fill=\"none\" stroke=\"black\" points=\"737.5,-0.5 737.5,-36.5 970.5,-36.5 970.5,-0.5 737.5,-0.5\"/>\n<text text-anchor=\"middle\" x=\"748.5\" y=\"-14.8\" font-family=\"Times,serif\" font-size=\"14.00\">f</text>\n<polyline fill=\"none\" stroke=\"black\" points=\"759.5,-0.5 759.5,-36.5 \"/>\n<text text-anchor=\"middle\" x=\"813\" y=\"-14.8\" font-family=\"Times,serif\" font-size=\"14.00\">data &#45;2.0000</text>\n<polyline fill=\"none\" stroke=\"black\" points=\"866.5,-0.5 866.5,-36.5 \"/>\n<text text-anchor=\"middle\" x=\"918.5\" y=\"-14.8\" font-family=\"Times,serif\" font-size=\"14.00\">grad 4.0000</text>\n</g>\n<!-- 140523284808656&#45;&gt;140523284809808* -->\n<g id=\"edge9\" class=\"edge\">\n<title>140523284808656&#45;&gt;140523284809808*</title>\n<path fill=\"none\" stroke=\"black\" d=\"M970.64,-35.94C980.5,-37.43 989.9,-38.85 998.29,-40.11\"/>\n<polygon fill=\"black\" stroke=\"black\" points=\"997.94,-43.6 1008.35,-41.63 998.98,-36.68 997.94,-43.6\"/>\n</g>\n<!-- 140522374633936 -->\n<g id=\"node10\" class=\"node\">\n<title>140522374633936</title>\n<polygon fill=\"none\" stroke=\"black\" points=\"367,-28.5 367,-64.5 610,-64.5 610,-28.5 367,-28.5\"/>\n<text text-anchor=\"middle\" x=\"379\" y=\"-42.8\" font-family=\"Times,serif\" font-size=\"14.00\">c</text>\n<polyline fill=\"none\" stroke=\"black\" points=\"391,-28.5 391,-64.5 \"/>\n<text text-anchor=\"middle\" x=\"446.5\" y=\"-42.8\" font-family=\"Times,serif\" font-size=\"14.00\">data 10.0000</text>\n<polyline fill=\"none\" stroke=\"black\" points=\"502,-28.5 502,-64.5 \"/>\n<text text-anchor=\"middle\" x=\"556\" y=\"-42.8\" font-family=\"Times,serif\" font-size=\"14.00\">grad &#45;2.0000</text>\n</g>\n<!-- 140522374633936&#45;&gt;140523284807840+ -->\n<g id=\"edge6\" class=\"edge\">\n<title>140522374633936&#45;&gt;140523284807840+</title>\n<path fill=\"none\" stroke=\"black\" d=\"M610.21,-64.36C619.62,-65.75 628.55,-67.07 636.56,-68.26\"/>\n<polygon fill=\"black\" stroke=\"black\" points=\"636.1,-71.73 646.5,-69.73 637.12,-64.8 636.1,-71.73\"/>\n</g>\n</g>\n</svg>\n",
      "text/plain": [
       "<graphviz.graphs.Digraph at 0x7fcdea30ffa0>"
      ]
     },
     "execution_count": 17,
     "metadata": {},
     "output_type": "execute_result"
    }
   ],
   "source": [
    "draw_dot(L)"
   ]
  },
  {
   "attachments": {},
   "cell_type": "markdown",
   "id": "99f29319",
   "metadata": {},
   "source": [
    "Okay, we computed the gradient (partial derivatives) of the output with respect to each node in the expression graph. But why is it useful? 🤔\n",
    "\n",
    "Consider this question: **Can we nudge our inputs to try to make the value in node `L` go up?**\n",
    "\n",
    "If we want the value in Node `L` to go up (become less negative)... we need to nudge the inputs (leaf  nodes) of our graph a *tiny amount* in the **direction of the gradient**.\n",
    "\n",
    "Think about it of a second, it makes sense. This is how I personally approached it. I asked myself the following question:\n",
    "\n",
    "- What is the meaning of a gradient?\n",
    "\n",
    "The gradient of a multi-variable function, is a **vector**. It represents the direction one should choose to reach a local/global maximum **fastest**. It shows the direction of greatest increase.\n",
    "\n",
    "I imagine myself standing at a random position (black dot) on a hill:\n",
    "\n",
    "![Kassi on a hill](./images/img-4.jpg)\n",
    "\n",
    "And asking myself, **which direction should I choose to reach the top faster?**. I have a lot of options (red arrows). They will surely make me get closer to the top. But will I get there faster than someone who chose to move in the direction of the green arrow? NO!\n",
    "\n",
    "Depending on my current position, computing the gradient helps me determine the direction of fastest increase (the green vector). So if I update my current position using the coordinates of the gradient vector, **my new position would not be closer to the top, but I would have got there the fastest**!\n",
    "\n",
    "Coming back to our expression graph...\n",
    "\n",
    "The `data` values of the input Nodes of the expression graph represents my current position, and their respective `grad` values represent the coordinate of gradient vector (the green vector). So, if I update my current position using the coordinates of gradient, I should effectively **increase** the value in Node `L`.\n",
    "\n",
    "Here is how it goes in practice:"
   ]
  },
  {
   "cell_type": "code",
   "execution_count": 18,
   "id": "e8532529",
   "metadata": {},
   "outputs": [
    {
     "name": "stdout",
     "output_type": "stream",
     "text": [
      "-7.286496\n"
     ]
    }
   ],
   "source": [
    "#SMALL step from our current position  in the direction of the gradient\n",
    "a.data += 0.01 * a.grad\n",
    "b.data += 0.01 * b.grad\n",
    "c.data += 0.01 * c.grad\n",
    "f.data += 0.01 * f.grad\n",
    "\n",
    "#We recompute the forward pass (that is new value of L)\n",
    "e = a * b\n",
    "d = e + c\n",
    "L = d * f\n",
    "\n",
    "#display it\n",
    "print(L.data)\n"
   ]
  },
  {
   "attachments": {},
   "cell_type": "markdown",
   "id": "e867c6ca",
   "metadata": {},
   "source": [
    "See!?\n",
    "\n",
    "The value in Node `L` increased. It became less negative.\n",
    "\n",
    "What we went through, is one example of an optimization step that will perform in the future. Extremely useful and powerfull in training neural networks. We are getting there, so buckle up! 🚀"
   ]
  },
  {
   "attachments": {},
   "cell_type": "markdown",
   "id": "c954914f",
   "metadata": {},
   "source": [
    "Oof! 😮‍💨 \n",
    "\n",
    "Let's rest a little bit, and digest what we learned\n",
    "\n",
    "![Rest GIF](./images/img-gif-1.gif)"
   ]
  },
  {
   "attachments": {},
   "cell_type": "markdown",
   "id": "7b6761e0",
   "metadata": {},
   "source": [
    "# Manual backpropagation with a neuron ✍️\n",
    "\n",
    "In this section, we explore another example of backpropagation, but with a neuron this time. This example a little complex, but a lot more useful than the previous.\n",
    "\n",
    "We will build a 2-inputs neuron. Essentially, we'll try to build a neuron like the following:\n",
    "\n",
    "![2 input neuron](./images/img-5.jpg)\n",
    "\n",
    "`b` is the **bias**. It tells us how hard it is for this neuron to fire. A high bias means \"hard to trigger\" whereas a low bias means \"very easy to trigger\".\n",
    "\n",
    "For this example, we'll be using `tanh` as our activation function. It looks like this:"
   ]
  },
  {
   "cell_type": "code",
   "execution_count": 19,
   "id": "b610169e",
   "metadata": {},
   "outputs": [
    {
     "data": {
      "image/png": "[encoded data removed]",
      "text/plain": [
       "<Figure size 640x480 with 1 Axes>"
      ]
     },
     "metadata": {},
     "output_type": "display_data"
    }
   ],
   "source": [
    "#Numpy provides a definition for \"tanh\"\n",
    "plt.plot(np.arange(-5 ,5, 0.2), np.tanh(np.arange(-5, 5, 0.2)))\n",
    "plt.grid()"
   ]
  },
  {
   "attachments": {},
   "cell_type": "markdown",
   "id": "23b883ec",
   "metadata": {},
   "source": [
    "It looks a bit like the `sigmoid` function, don't you think? I do 🤷"
   ]
  },
  {
   "attachments": {},
   "cell_type": "markdown",
   "id": "a6121774",
   "metadata": {},
   "source": [
    "Let's now build our 2-input neuron. To do that, we will compose the mathematical expression describing this neuron, using the `Value` object. Here is how it goes:"
   ]
  },
  {
   "cell_type": "code",
   "execution_count": 20,
   "id": "7feb45f4",
   "metadata": {},
   "outputs": [],
   "source": [
    "#--- Inputs 1 & 2\n",
    "x1 = Value(2.0, label='x1')\n",
    "x2 = Value(0.0, label='x2')\n",
    "#---- Weights 1 & 2\n",
    "w1 = Value(-3.0, label='w1')\n",
    "w2 = Value(1.0, label='w2')\n",
    "#--- bias\n",
    "b = Value(6.8813735870195432, label='b')\n",
    "\n",
    "#net sum = x1*w1 + x2*w2 + b\n",
    "x1w1 = x1*w1; x1w1.label = 'x1*w1'\n",
    "x2w2 = x2*w2; x2w2.label = 'x2*w2'\n",
    "x1w1x2w2 = x1w1 + x2w2; x1w1x2w2.label = 'x1w1 + x2w2'\n",
    "n = x1w1x2w2 + b; n.label = 'n'\n",
    "\n",
    "# 'n' goes through activation function\n",
    "# giving the final result. At this point\n",
    "# I scrolled back to the Value class and implemented \"tanh\".\n",
    "o = n.tanh(); o.label='o'"
   ]
  },
  {
   "attachments": {},
   "cell_type": "markdown",
   "id": "037809ee",
   "metadata": {},
   "source": [
    "Let's graph the above expression using the `draw_dot` helper:"
   ]
  },
  {
   "cell_type": "code",
   "execution_count": 21,
   "id": "5ea183ea",
   "metadata": {},
   "outputs": [
    {
     "data": {
      "image/svg+xml": "<?xml version=\"1.0\" encoding=\"UTF-8\" standalone=\"no\"?>\n<!DOCTYPE svg PUBLIC \"-//W3C//DTD SVG 1.1//EN\"\n \"http://www.w3.org/Graphics/SVG/1.1/DTD/svg11.dtd\">\n<!-- Generated by graphviz version 2.50.0 (0)\n -->\n<!-- Pages: 1 -->\n<svg width=\"1832pt\" height=\"210pt\"\n viewBox=\"0.00 0.00 1831.69 210.00\" xmlns=\"http://www.w3.org/2000/svg\" xmlns:xlink=\"http://www.w3.org/1999/xlink\">\n<g id=\"graph0\" class=\"graph\" transform=\"scale(1 1) rotate(0) translate(4 206)\">\n<polygon fill=\"white\" stroke=\"transparent\" points=\"-4,4 -4,-206 1827.69,-206 1827.69,4 -4,4\"/>\n<!-- 140522373811744 -->\n<g id=\"node1\" class=\"node\">\n<title>140522373811744</title>\n<polygon fill=\"none\" stroke=\"black\" points=\"1592.69,-54.5 1592.69,-90.5 1823.69,-90.5 1823.69,-54.5 1592.69,-54.5\"/>\n<text text-anchor=\"middle\" x=\"1605.19\" y=\"-68.8\" font-family=\"Times,serif\" font-size=\"14.00\">o</text>\n<polyline fill=\"none\" stroke=\"black\" points=\"1617.69,-54.5 1617.69,-90.5 \"/>\n<text text-anchor=\"middle\" x=\"1668.69\" y=\"-68.8\" font-family=\"Times,serif\" font-size=\"14.00\">data 0.7071</text>\n<polyline fill=\"none\" stroke=\"black\" points=\"1719.69,-54.5 1719.69,-90.5 \"/>\n<text text-anchor=\"middle\" x=\"1771.69\" y=\"-68.8\" font-family=\"Times,serif\" font-size=\"14.00\">grad 0.0000</text>\n</g>\n<!-- 140522373811744tanh -->\n<g id=\"node2\" class=\"node\">\n<title>140522373811744tanh</title>\n<ellipse fill=\"none\" stroke=\"black\" cx=\"1524.85\" cy=\"-72.5\" rx=\"31.7\" ry=\"18\"/>\n<text text-anchor=\"middle\" x=\"1524.85\" y=\"-68.8\" font-family=\"Times,serif\" font-size=\"14.00\">tanh</text>\n</g>\n<!-- 140522373811744tanh&#45;&gt;140522373811744 -->\n<g id=\"edge1\" class=\"edge\">\n<title>140522373811744tanh&#45;&gt;140522373811744</title>\n<path fill=\"none\" stroke=\"black\" d=\"M1557.02,-72.5C1564.61,-72.5 1573.19,-72.5 1582.31,-72.5\"/>\n<polygon fill=\"black\" stroke=\"black\" points=\"1582.4,-76 1592.4,-72.5 1582.4,-69 1582.4,-76\"/>\n</g>\n<!-- 140522373810736 -->\n<g id=\"node3\" class=\"node\">\n<title>140522373810736</title>\n<polygon fill=\"none\" stroke=\"black\" points=\"1225,-54.5 1225,-90.5 1457,-90.5 1457,-54.5 1225,-54.5\"/>\n<text text-anchor=\"middle\" x=\"1238\" y=\"-68.8\" font-family=\"Times,serif\" font-size=\"14.00\">n</text>\n<polyline fill=\"none\" stroke=\"black\" points=\"1251,-54.5 1251,-90.5 \"/>\n<text text-anchor=\"middle\" x=\"1302\" y=\"-68.8\" font-family=\"Times,serif\" font-size=\"14.00\">data 0.8814</text>\n<polyline fill=\"none\" stroke=\"black\" points=\"1353,-54.5 1353,-90.5 \"/>\n<text text-anchor=\"middle\" x=\"1405\" y=\"-68.8\" font-family=\"Times,serif\" font-size=\"14.00\">grad 0.0000</text>\n</g>\n<!-- 140522373810736&#45;&gt;140522373811744tanh -->\n<g id=\"edge8\" class=\"edge\">\n<title>140522373810736&#45;&gt;140522373811744tanh</title>\n<path fill=\"none\" stroke=\"black\" d=\"M1457.17,-72.5C1466.08,-72.5 1474.66,-72.5 1482.53,-72.5\"/>\n<polygon fill=\"black\" stroke=\"black\" points=\"1482.78,-76 1492.78,-72.5 1482.78,-69 1482.78,-76\"/>\n</g>\n<!-- 140522373810736+ -->\n<g id=\"node4\" class=\"node\">\n<title>140522373810736+</title>\n<ellipse fill=\"none\" stroke=\"black\" cx=\"1162\" cy=\"-72.5\" rx=\"27\" ry=\"18\"/>\n<text text-anchor=\"middle\" x=\"1162\" y=\"-68.8\" font-family=\"Times,serif\" font-size=\"14.00\">+</text>\n</g>\n<!-- 140522373810736+&#45;&gt;140522373810736 -->\n<g id=\"edge2\" class=\"edge\">\n<title>140522373810736+&#45;&gt;140522373810736</title>\n<path fill=\"none\" stroke=\"black\" d=\"M1189.12,-72.5C1196.53,-72.5 1205.14,-72.5 1214.4,-72.5\"/>\n<polygon fill=\"black\" stroke=\"black\" points=\"1214.69,-76 1224.69,-72.5 1214.69,-69 1214.69,-76\"/>\n</g>\n<!-- 140522373811264 -->\n<g id=\"node5\" class=\"node\">\n<title>140522373811264</title>\n<polygon fill=\"none\" stroke=\"black\" points=\"774,-82.5 774,-118.5 1099,-118.5 1099,-82.5 774,-82.5\"/>\n<text text-anchor=\"middle\" x=\"831\" y=\"-96.8\" font-family=\"Times,serif\" font-size=\"14.00\">x1w1 + x2w2</text>\n<polyline fill=\"none\" stroke=\"black\" points=\"888,-82.5 888,-118.5 \"/>\n<text text-anchor=\"middle\" x=\"941.5\" y=\"-96.8\" font-family=\"Times,serif\" font-size=\"14.00\">data &#45;6.0000</text>\n<polyline fill=\"none\" stroke=\"black\" points=\"995,-82.5 995,-118.5 \"/>\n<text text-anchor=\"middle\" x=\"1047\" y=\"-96.8\" font-family=\"Times,serif\" font-size=\"14.00\">grad 0.0000</text>\n</g>\n<!-- 140522373811264&#45;&gt;140522373810736+ -->\n<g id=\"edge13\" class=\"edge\">\n<title>140522373811264&#45;&gt;140522373810736+</title>\n<path fill=\"none\" stroke=\"black\" d=\"M1081.26,-82.49C1097.41,-80.47 1112.59,-78.56 1125.28,-76.97\"/>\n<polygon fill=\"black\" stroke=\"black\" points=\"1125.84,-80.43 1135.32,-75.72 1124.96,-73.49 1125.84,-80.43\"/>\n</g>\n<!-- 140522373811264+ -->\n<g id=\"node6\" class=\"node\">\n<title>140522373811264+</title>\n<ellipse fill=\"none\" stroke=\"black\" cx=\"711\" cy=\"-100.5\" rx=\"27\" ry=\"18\"/>\n<text text-anchor=\"middle\" x=\"711\" y=\"-96.8\" font-family=\"Times,serif\" font-size=\"14.00\">+</text>\n</g>\n<!-- 140522373811264+&#45;&gt;140522373811264 -->\n<g id=\"edge3\" class=\"edge\">\n<title>140522373811264+&#45;&gt;140522373811264</title>\n<path fill=\"none\" stroke=\"black\" d=\"M738.08,-100.5C745.51,-100.5 754.21,-100.5 763.74,-100.5\"/>\n<polygon fill=\"black\" stroke=\"black\" points=\"763.95,-104 773.95,-100.5 763.95,-97 763.95,-104\"/>\n</g>\n<!-- 140522373481040 -->\n<g id=\"node7\" class=\"node\">\n<title>140522373481040</title>\n<polygon fill=\"none\" stroke=\"black\" points=\"375,-110.5 375,-146.5 648,-146.5 648,-110.5 375,-110.5\"/>\n<text text-anchor=\"middle\" x=\"406\" y=\"-124.8\" font-family=\"Times,serif\" font-size=\"14.00\">x1*w1</text>\n<polyline fill=\"none\" stroke=\"black\" points=\"437,-110.5 437,-146.5 \"/>\n<text text-anchor=\"middle\" x=\"490.5\" y=\"-124.8\" font-family=\"Times,serif\" font-size=\"14.00\">data &#45;6.0000</text>\n<polyline fill=\"none\" stroke=\"black\" points=\"544,-110.5 544,-146.5 \"/>\n<text text-anchor=\"middle\" x=\"596\" y=\"-124.8\" font-family=\"Times,serif\" font-size=\"14.00\">grad 0.0000</text>\n</g>\n<!-- 140522373481040&#45;&gt;140522373811264+ -->\n<g id=\"edge6\" class=\"edge\">\n<title>140522373481040&#45;&gt;140522373811264+</title>\n<path fill=\"none\" stroke=\"black\" d=\"M639.53,-110.49C652.09,-108.71 663.99,-107.02 674.3,-105.56\"/>\n<polygon fill=\"black\" stroke=\"black\" points=\"675.03,-108.99 684.44,-104.12 674.05,-102.06 675.03,-108.99\"/>\n</g>\n<!-- 140522373481040* -->\n<g id=\"node8\" class=\"node\">\n<title>140522373481040*</title>\n<ellipse fill=\"none\" stroke=\"black\" cx=\"312\" cy=\"-128.5\" rx=\"27\" ry=\"18\"/>\n<text text-anchor=\"middle\" x=\"312\" y=\"-124.8\" font-family=\"Times,serif\" font-size=\"14.00\">*</text>\n</g>\n<!-- 140522373481040*&#45;&gt;140522373481040 -->\n<g id=\"edge4\" class=\"edge\">\n<title>140522373481040*&#45;&gt;140522373481040</title>\n<path fill=\"none\" stroke=\"black\" d=\"M339.23,-128.5C346.7,-128.5 355.41,-128.5 364.87,-128.5\"/>\n<polygon fill=\"black\" stroke=\"black\" points=\"364.98,-132 374.98,-128.5 364.98,-125 364.98,-132\"/>\n</g>\n<!-- 140522374632112 -->\n<g id=\"node9\" class=\"node\">\n<title>140522374632112</title>\n<polygon fill=\"none\" stroke=\"black\" points=\"377.5,-55.5 377.5,-91.5 645.5,-91.5 645.5,-55.5 377.5,-55.5\"/>\n<text text-anchor=\"middle\" x=\"408.5\" y=\"-69.8\" font-family=\"Times,serif\" font-size=\"14.00\">x2*w2</text>\n<polyline fill=\"none\" stroke=\"black\" points=\"439.5,-55.5 439.5,-91.5 \"/>\n<text text-anchor=\"middle\" x=\"490.5\" y=\"-69.8\" font-family=\"Times,serif\" font-size=\"14.00\">data 0.0000</text>\n<polyline fill=\"none\" stroke=\"black\" points=\"541.5,-55.5 541.5,-91.5 \"/>\n<text text-anchor=\"middle\" x=\"593.5\" y=\"-69.8\" font-family=\"Times,serif\" font-size=\"14.00\">grad 0.0000</text>\n</g>\n<!-- 140522374632112&#45;&gt;140522373811264+ -->\n<g id=\"edge9\" class=\"edge\">\n<title>140522374632112&#45;&gt;140522373811264+</title>\n<path fill=\"none\" stroke=\"black\" d=\"M644.24,-91.51C655.12,-93 665.4,-94.4 674.45,-95.64\"/>\n<polygon fill=\"black\" stroke=\"black\" points=\"674.11,-99.13 684.49,-97.01 675.05,-92.19 674.11,-99.13\"/>\n</g>\n<!-- 140522374632112* -->\n<g id=\"node10\" class=\"node\">\n<title>140522374632112*</title>\n<ellipse fill=\"none\" stroke=\"black\" cx=\"312\" cy=\"-73.5\" rx=\"27\" ry=\"18\"/>\n<text text-anchor=\"middle\" x=\"312\" y=\"-69.8\" font-family=\"Times,serif\" font-size=\"14.00\">*</text>\n</g>\n<!-- 140522374632112*&#45;&gt;140522374632112 -->\n<g id=\"edge5\" class=\"edge\">\n<title>140522374632112*&#45;&gt;140522374632112</title>\n<path fill=\"none\" stroke=\"black\" d=\"M339.23,-73.5C347.26,-73.5 356.72,-73.5 366.99,-73.5\"/>\n<polygon fill=\"black\" stroke=\"black\" points=\"367.08,-77 377.08,-73.5 367.08,-70 367.08,-77\"/>\n</g>\n<!-- 140522373482672 -->\n<g id=\"node11\" class=\"node\">\n<title>140522373482672</title>\n<polygon fill=\"none\" stroke=\"black\" points=\"820.5,-27.5 820.5,-63.5 1052.5,-63.5 1052.5,-27.5 820.5,-27.5\"/>\n<text text-anchor=\"middle\" x=\"833.5\" y=\"-41.8\" font-family=\"Times,serif\" font-size=\"14.00\">b</text>\n<polyline fill=\"none\" stroke=\"black\" points=\"846.5,-27.5 846.5,-63.5 \"/>\n<text text-anchor=\"middle\" x=\"897.5\" y=\"-41.8\" font-family=\"Times,serif\" font-size=\"14.00\">data 6.8814</text>\n<polyline fill=\"none\" stroke=\"black\" points=\"948.5,-27.5 948.5,-63.5 \"/>\n<text text-anchor=\"middle\" x=\"1000.5\" y=\"-41.8\" font-family=\"Times,serif\" font-size=\"14.00\">grad 0.0000</text>\n</g>\n<!-- 140522373482672&#45;&gt;140522373810736+ -->\n<g id=\"edge11\" class=\"edge\">\n<title>140522373482672&#45;&gt;140522373810736+</title>\n<path fill=\"none\" stroke=\"black\" d=\"M1052.52,-59.4C1078.82,-62.57 1104.87,-65.72 1124.85,-68.13\"/>\n<polygon fill=\"black\" stroke=\"black\" points=\"1124.65,-71.63 1135,-69.36 1125.49,-64.68 1124.65,-71.63\"/>\n</g>\n<!-- 140522373484304 -->\n<g id=\"node12\" class=\"node\">\n<title>140522373484304</title>\n<polygon fill=\"none\" stroke=\"black\" points=\"4.5,-55.5 4.5,-91.5 244.5,-91.5 244.5,-55.5 4.5,-55.5\"/>\n<text text-anchor=\"middle\" x=\"21.5\" y=\"-69.8\" font-family=\"Times,serif\" font-size=\"14.00\">x2</text>\n<polyline fill=\"none\" stroke=\"black\" points=\"38.5,-55.5 38.5,-91.5 \"/>\n<text text-anchor=\"middle\" x=\"89.5\" y=\"-69.8\" font-family=\"Times,serif\" font-size=\"14.00\">data 0.0000</text>\n<polyline fill=\"none\" stroke=\"black\" points=\"140.5,-55.5 140.5,-91.5 \"/>\n<text text-anchor=\"middle\" x=\"192.5\" y=\"-69.8\" font-family=\"Times,serif\" font-size=\"14.00\">grad 0.0000</text>\n</g>\n<!-- 140522373484304&#45;&gt;140522374632112* -->\n<g id=\"edge10\" class=\"edge\">\n<title>140522373484304&#45;&gt;140522374632112*</title>\n<path fill=\"none\" stroke=\"black\" d=\"M244.55,-73.5C255.31,-73.5 265.54,-73.5 274.62,-73.5\"/>\n<polygon fill=\"black\" stroke=\"black\" points=\"274.7,-77 284.7,-73.5 274.7,-70 274.7,-77\"/>\n</g>\n<!-- 140522373482768 -->\n<g id=\"node13\" class=\"node\">\n<title>140522373482768</title>\n<polygon fill=\"none\" stroke=\"black\" points=\"2.5,-0.5 2.5,-36.5 246.5,-36.5 246.5,-0.5 2.5,-0.5\"/>\n<text text-anchor=\"middle\" x=\"21.5\" y=\"-14.8\" font-family=\"Times,serif\" font-size=\"14.00\">w2</text>\n<polyline fill=\"none\" stroke=\"black\" points=\"40.5,-0.5 40.5,-36.5 \"/>\n<text text-anchor=\"middle\" x=\"91.5\" y=\"-14.8\" font-family=\"Times,serif\" font-size=\"14.00\">data 1.0000</text>\n<polyline fill=\"none\" stroke=\"black\" points=\"142.5,-0.5 142.5,-36.5 \"/>\n<text text-anchor=\"middle\" x=\"194.5\" y=\"-14.8\" font-family=\"Times,serif\" font-size=\"14.00\">grad 0.0000</text>\n</g>\n<!-- 140522373482768&#45;&gt;140522374632112* -->\n<g id=\"edge7\" class=\"edge\">\n<title>140522373482768&#45;&gt;140522374632112*</title>\n<path fill=\"none\" stroke=\"black\" d=\"M218.13,-36.54C228.63,-39.23 239.1,-42.22 249,-45.5 259.71,-49.04 271.05,-53.84 281.07,-58.46\"/>\n<polygon fill=\"black\" stroke=\"black\" points=\"279.67,-61.67 290.2,-62.79 282.67,-55.34 279.67,-61.67\"/>\n</g>\n<!-- 140522373482864 -->\n<g id=\"node14\" class=\"node\">\n<title>140522373482864</title>\n<polygon fill=\"none\" stroke=\"black\" points=\"0,-165.5 0,-201.5 249,-201.5 249,-165.5 0,-165.5\"/>\n<text text-anchor=\"middle\" x=\"19\" y=\"-179.8\" font-family=\"Times,serif\" font-size=\"14.00\">w1</text>\n<polyline fill=\"none\" stroke=\"black\" points=\"38,-165.5 38,-201.5 \"/>\n<text text-anchor=\"middle\" x=\"91.5\" y=\"-179.8\" font-family=\"Times,serif\" font-size=\"14.00\">data &#45;3.0000</text>\n<polyline fill=\"none\" stroke=\"black\" points=\"145,-165.5 145,-201.5 \"/>\n<text text-anchor=\"middle\" x=\"197\" y=\"-179.8\" font-family=\"Times,serif\" font-size=\"14.00\">grad 0.0000</text>\n</g>\n<!-- 140522373482864&#45;&gt;140522373481040* -->\n<g id=\"edge14\" class=\"edge\">\n<title>140522373482864&#45;&gt;140522373481040*</title>\n<path fill=\"none\" stroke=\"black\" d=\"M218.13,-165.46C228.63,-162.77 239.1,-159.78 249,-156.5 259.71,-152.96 271.05,-148.16 281.07,-143.54\"/>\n<polygon fill=\"black\" stroke=\"black\" points=\"282.67,-146.66 290.2,-139.21 279.67,-140.33 282.67,-146.66\"/>\n</g>\n<!-- 140522373484400 -->\n<g id=\"node15\" class=\"node\">\n<title>140522373484400</title>\n<polygon fill=\"none\" stroke=\"black\" points=\"4.5,-110.5 4.5,-146.5 244.5,-146.5 244.5,-110.5 4.5,-110.5\"/>\n<text text-anchor=\"middle\" x=\"21.5\" y=\"-124.8\" font-family=\"Times,serif\" font-size=\"14.00\">x1</text>\n<polyline fill=\"none\" stroke=\"black\" points=\"38.5,-110.5 38.5,-146.5 \"/>\n<text text-anchor=\"middle\" x=\"89.5\" y=\"-124.8\" font-family=\"Times,serif\" font-size=\"14.00\">data 2.0000</text>\n<polyline fill=\"none\" stroke=\"black\" points=\"140.5,-110.5 140.5,-146.5 \"/>\n<text text-anchor=\"middle\" x=\"192.5\" y=\"-124.8\" font-family=\"Times,serif\" font-size=\"14.00\">grad 0.0000</text>\n</g>\n<!-- 140522373484400&#45;&gt;140522373481040* -->\n<g id=\"edge12\" class=\"edge\">\n<title>140522373484400&#45;&gt;140522373481040*</title>\n<path fill=\"none\" stroke=\"black\" d=\"M244.55,-128.5C255.31,-128.5 265.54,-128.5 274.62,-128.5\"/>\n<polygon fill=\"black\" stroke=\"black\" points=\"274.7,-132 284.7,-128.5 274.7,-125 274.7,-132\"/>\n</g>\n</g>\n</svg>\n",
      "text/plain": [
       "<graphviz.graphs.Digraph at 0x7fcdea278d90>"
      ]
     },
     "execution_count": 21,
     "metadata": {},
     "output_type": "execute_result"
    }
   ],
   "source": [
    "draw_dot(o)"
   ]
  },
  {
   "attachments": {},
   "cell_type": "markdown",
   "id": "3777d56e",
   "metadata": {},
   "source": [
    "Now, we are going to start backpropagation, exactly like in the previous example. I must say this time, that in a typical neural network setting we are interested in the derivative of the output with respect to the inputs weights (`w1` and `w2` in our case here)."
   ]
  },
  {
   "attachments": {},
   "cell_type": "markdown",
   "id": "ca0f0fbe",
   "metadata": {},
   "source": [
    "We'll start with the output, **Node `o`**\n",
    "\n",
    "$\\longrightarrow$ Question: **What is the derivative of Node `o` with respect to itself?** In other words, how does the value in Node `o` reacts, when the value in Node `o` changes a little bit?\n",
    "\n",
    "$\\frac{\\partial o}{\\partial o} = 1$\n",
    "\n",
    "It is **1**, so:"
   ]
  },
  {
   "cell_type": "code",
   "execution_count": 22,
   "id": "915f911e",
   "metadata": {},
   "outputs": [],
   "source": [
    "o.grad = 1.0"
   ]
  },
  {
   "attachments": {},
   "cell_type": "markdown",
   "id": "f0841b92",
   "metadata": {},
   "source": [
    "I continue with with **Node `n`**\n",
    "\n",
    "$\\longrightarrow$ Question: What is the derivative of Node `o` with respect to Node `n`\n",
    "\n",
    "$\\frac{\\partial o}{\\partial n} = 1 - tanh^{2}(n)$\n",
    "\n",
    "Since $tan(n)$ is the value in Node `o`, the expression can be written like the following (in python):\n",
    "\n",
    "$\\frac{\\partial o}{\\partial n} = 1 - (o.data)^{2}$\n",
    "\n",
    "The partial derivative of the value in Node `o` with respect to the value in Node `n` is *1 minus the `tanh` of the value in Node `n` squared*. Notice,\n",
    "that to backpropagate through the `tanh` node in our graph, we needed to know its derivative. Remember our observation earlier, we obtained $\\frac{\\partial o}{\\partial n}$ by multiplying the local gradient $\\frac{\\partial o}{\\partial n}$ with the gradient of the Node parent to `n` (Node `o`) $\\frac{\\partial o}{\\partial o}$."
   ]
  },
  {
   "cell_type": "code",
   "execution_count": 23,
   "id": "223c8c3f",
   "metadata": {},
   "outputs": [
    {
     "data": {
      "text/plain": [
       "0.4999999999999999"
      ]
     },
     "execution_count": 23,
     "metadata": {},
     "output_type": "execute_result"
    }
   ],
   "source": [
    "1 - o.data**2"
   ]
  },
  {
   "attachments": {},
   "cell_type": "markdown",
   "id": "8f4cd9c2",
   "metadata": {},
   "source": [
    "Conveniently, the gradient in $\\frac{\\partial o}{\\partial n}$ is reaaally close to $0.5$ so:"
   ]
  },
  {
   "cell_type": "code",
   "execution_count": 24,
   "id": "e1de0255",
   "metadata": {},
   "outputs": [],
   "source": [
    "n.grad = 0.5"
   ]
  },
  {
   "attachments": {},
   "cell_type": "markdown",
   "id": "b9db6e04",
   "metadata": {},
   "source": [
    "Let's continue with **Node `b`** and **Node `x1w1 + x2w2`**\n",
    "\n",
    "Remember the previous manual example? We observed that the `+` sign forwards gradients. So:\n",
    "\n",
    "$\\frac{\\partial o}{\\partial b} = \\frac{\\partial o}{\\partial n} = 0.5$\n",
    "\n",
    "$\\frac{\\partial o}{\\partial (x1w1 + x2w2)} = \\frac{\\partial o}{\\partial n} = 0.5$"
   ]
  },
  {
   "cell_type": "code",
   "execution_count": 25,
   "id": "9fbd9ca6",
   "metadata": {},
   "outputs": [],
   "source": [
    "b.grad = 0.5\n",
    "x1w1x2w2.grad = 0.5"
   ]
  },
  {
   "attachments": {},
   "cell_type": "markdown",
   "id": "f7b9cd57",
   "metadata": {},
   "source": [
    "Let's continue with **Node `x1w1` and Node `x2w2`**\n",
    "\n",
    "Notice the `+` sign again? So, you should now what is going to happen :) In case it is hard for you, please feel free to work it out by hand and see for yourself.  `+`s are very backpropagation-friendly.\n",
    "\n",
    "$\\frac{\\partial o}{\\partial (x1w1)} = \\frac{\\partial o}{\\partial (x1w1 + x2w2)} = 0.5$\n",
    "\n",
    "$\\frac{\\partial o}{\\partial (x2w2)} = \\frac{\\partial o}{\\partial (x1w1 + x2w2)} = 0.5$"
   ]
  },
  {
   "cell_type": "code",
   "execution_count": 26,
   "id": "07407d60",
   "metadata": {},
   "outputs": [],
   "source": [
    "x1w1.grad = 0.5\n",
    "x2w2.grad = 0.5"
   ]
  },
  {
   "attachments": {},
   "cell_type": "markdown",
   "id": "0d1f546b",
   "metadata": {},
   "source": [
    "Let's continue with **Node `x2` and Node `w2`**\n",
    "\n",
    "$\\frac{\\partial o}{\\partial x2} = \\frac{\\partial o}{\\partial (x2w2)} \\times \\frac{\\partial (x2w2)}{\\partial x2} = \\frac{\\partial o}{\\partial (x2w2)}(w2)$\n",
    "\n",
    "\n",
    "$\\frac{\\partial o}{\\partial w2} = \\frac{\\partial o}{\\partial (x2w2)} \\times \\frac{\\partial (x2w2)}{\\partial w2} = \\frac{\\partial o}{\\partial (x2w2)}(x2)$"
   ]
  },
  {
   "cell_type": "code",
   "execution_count": 27,
   "id": "85e11137",
   "metadata": {},
   "outputs": [],
   "source": [
    "x2.grad = w2.data * x2w2.grad\n",
    "w2.grad = x2.data * x2w2.grad"
   ]
  },
  {
   "attachments": {},
   "cell_type": "markdown",
   "id": "faf09482",
   "metadata": {},
   "source": [
    "Let's finish with **Node `x1` and Node `w1`**\n",
    "\n",
    "$\\frac{\\partial o}{\\partial x1} = \\frac{\\partial o}{\\partial (x1w1)} \\times \\frac{\\partial (x1w1)}{\\partial x1} = \\frac{\\partial o}{\\partial (x1w1)}(w1)$\n",
    "\n",
    "\n",
    "$\\frac{\\partial o}{\\partial w1} = \\frac{\\partial o}{\\partial (x1w1)} \\times \\frac{\\partial (x1w1)}{\\partial w1} = \\frac{\\partial o}{\\partial (x1w1)}(x1)$"
   ]
  },
  {
   "cell_type": "code",
   "execution_count": 28,
   "id": "ce9d3581",
   "metadata": {},
   "outputs": [],
   "source": [
    "x1.grad = w1.data * x1w1.grad\n",
    "w1.grad = x1.data * x1w1.grad"
   ]
  },
  {
   "attachments": {},
   "cell_type": "markdown",
   "id": "7ca24f1f",
   "metadata": {},
   "source": [
    "With all the gradients computed, let's redraw the updated version of the graph"
   ]
  },
  {
   "cell_type": "code",
   "execution_count": 29,
   "id": "03d0babb",
   "metadata": {},
   "outputs": [
    {
     "data": {
      "image/svg+xml": "<?xml version=\"1.0\" encoding=\"UTF-8\" standalone=\"no\"?>\n<!DOCTYPE svg PUBLIC \"-//W3C//DTD SVG 1.1//EN\"\n \"http://www.w3.org/Graphics/SVG/1.1/DTD/svg11.dtd\">\n<!-- Generated by graphviz version 2.50.0 (0)\n -->\n<!-- Pages: 1 -->\n<svg width=\"1832pt\" height=\"210pt\"\n viewBox=\"0.00 0.00 1831.69 210.00\" xmlns=\"http://www.w3.org/2000/svg\" xmlns:xlink=\"http://www.w3.org/1999/xlink\">\n<g id=\"graph0\" class=\"graph\" transform=\"scale(1 1) rotate(0) translate(4 206)\">\n<polygon fill=\"white\" stroke=\"transparent\" points=\"-4,4 -4,-206 1827.69,-206 1827.69,4 -4,4\"/>\n<!-- 140522373811744 -->\n<g id=\"node1\" class=\"node\">\n<title>140522373811744</title>\n<polygon fill=\"none\" stroke=\"black\" points=\"1592.69,-54.5 1592.69,-90.5 1823.69,-90.5 1823.69,-54.5 1592.69,-54.5\"/>\n<text text-anchor=\"middle\" x=\"1605.19\" y=\"-68.8\" font-family=\"Times,serif\" font-size=\"14.00\">o</text>\n<polyline fill=\"none\" stroke=\"black\" points=\"1617.69,-54.5 1617.69,-90.5 \"/>\n<text text-anchor=\"middle\" x=\"1668.69\" y=\"-68.8\" font-family=\"Times,serif\" font-size=\"14.00\">data 0.7071</text>\n<polyline fill=\"none\" stroke=\"black\" points=\"1719.69,-54.5 1719.69,-90.5 \"/>\n<text text-anchor=\"middle\" x=\"1771.69\" y=\"-68.8\" font-family=\"Times,serif\" font-size=\"14.00\">grad 1.0000</text>\n</g>\n<!-- 140522373811744tanh -->\n<g id=\"node2\" class=\"node\">\n<title>140522373811744tanh</title>\n<ellipse fill=\"none\" stroke=\"black\" cx=\"1524.85\" cy=\"-72.5\" rx=\"31.7\" ry=\"18\"/>\n<text text-anchor=\"middle\" x=\"1524.85\" y=\"-68.8\" font-family=\"Times,serif\" font-size=\"14.00\">tanh</text>\n</g>\n<!-- 140522373811744tanh&#45;&gt;140522373811744 -->\n<g id=\"edge1\" class=\"edge\">\n<title>140522373811744tanh&#45;&gt;140522373811744</title>\n<path fill=\"none\" stroke=\"black\" d=\"M1557.02,-72.5C1564.61,-72.5 1573.19,-72.5 1582.31,-72.5\"/>\n<polygon fill=\"black\" stroke=\"black\" points=\"1582.4,-76 1592.4,-72.5 1582.4,-69 1582.4,-76\"/>\n</g>\n<!-- 140522373810736 -->\n<g id=\"node3\" class=\"node\">\n<title>140522373810736</title>\n<polygon fill=\"none\" stroke=\"black\" points=\"1225,-54.5 1225,-90.5 1457,-90.5 1457,-54.5 1225,-54.5\"/>\n<text text-anchor=\"middle\" x=\"1238\" y=\"-68.8\" font-family=\"Times,serif\" font-size=\"14.00\">n</text>\n<polyline fill=\"none\" stroke=\"black\" points=\"1251,-54.5 1251,-90.5 \"/>\n<text text-anchor=\"middle\" x=\"1302\" y=\"-68.8\" font-family=\"Times,serif\" font-size=\"14.00\">data 0.8814</text>\n<polyline fill=\"none\" stroke=\"black\" points=\"1353,-54.5 1353,-90.5 \"/>\n<text text-anchor=\"middle\" x=\"1405\" y=\"-68.8\" font-family=\"Times,serif\" font-size=\"14.00\">grad 0.5000</text>\n</g>\n<!-- 140522373810736&#45;&gt;140522373811744tanh -->\n<g id=\"edge8\" class=\"edge\">\n<title>140522373810736&#45;&gt;140522373811744tanh</title>\n<path fill=\"none\" stroke=\"black\" d=\"M1457.17,-72.5C1466.08,-72.5 1474.66,-72.5 1482.53,-72.5\"/>\n<polygon fill=\"black\" stroke=\"black\" points=\"1482.78,-76 1492.78,-72.5 1482.78,-69 1482.78,-76\"/>\n</g>\n<!-- 140522373810736+ -->\n<g id=\"node4\" class=\"node\">\n<title>140522373810736+</title>\n<ellipse fill=\"none\" stroke=\"black\" cx=\"1162\" cy=\"-72.5\" rx=\"27\" ry=\"18\"/>\n<text text-anchor=\"middle\" x=\"1162\" y=\"-68.8\" font-family=\"Times,serif\" font-size=\"14.00\">+</text>\n</g>\n<!-- 140522373810736+&#45;&gt;140522373810736 -->\n<g id=\"edge2\" class=\"edge\">\n<title>140522373810736+&#45;&gt;140522373810736</title>\n<path fill=\"none\" stroke=\"black\" d=\"M1189.12,-72.5C1196.53,-72.5 1205.14,-72.5 1214.4,-72.5\"/>\n<polygon fill=\"black\" stroke=\"black\" points=\"1214.69,-76 1224.69,-72.5 1214.69,-69 1214.69,-76\"/>\n</g>\n<!-- 140522373811264 -->\n<g id=\"node5\" class=\"node\">\n<title>140522373811264</title>\n<polygon fill=\"none\" stroke=\"black\" points=\"774,-82.5 774,-118.5 1099,-118.5 1099,-82.5 774,-82.5\"/>\n<text text-anchor=\"middle\" x=\"831\" y=\"-96.8\" font-family=\"Times,serif\" font-size=\"14.00\">x1w1 + x2w2</text>\n<polyline fill=\"none\" stroke=\"black\" points=\"888,-82.5 888,-118.5 \"/>\n<text text-anchor=\"middle\" x=\"941.5\" y=\"-96.8\" font-family=\"Times,serif\" font-size=\"14.00\">data &#45;6.0000</text>\n<polyline fill=\"none\" stroke=\"black\" points=\"995,-82.5 995,-118.5 \"/>\n<text text-anchor=\"middle\" x=\"1047\" y=\"-96.8\" font-family=\"Times,serif\" font-size=\"14.00\">grad 0.5000</text>\n</g>\n<!-- 140522373811264&#45;&gt;140522373810736+ -->\n<g id=\"edge13\" class=\"edge\">\n<title>140522373811264&#45;&gt;140522373810736+</title>\n<path fill=\"none\" stroke=\"black\" d=\"M1081.26,-82.49C1097.41,-80.47 1112.59,-78.56 1125.28,-76.97\"/>\n<polygon fill=\"black\" stroke=\"black\" points=\"1125.84,-80.43 1135.32,-75.72 1124.96,-73.49 1125.84,-80.43\"/>\n</g>\n<!-- 140522373811264+ -->\n<g id=\"node6\" class=\"node\">\n<title>140522373811264+</title>\n<ellipse fill=\"none\" stroke=\"black\" cx=\"711\" cy=\"-100.5\" rx=\"27\" ry=\"18\"/>\n<text text-anchor=\"middle\" x=\"711\" y=\"-96.8\" font-family=\"Times,serif\" font-size=\"14.00\">+</text>\n</g>\n<!-- 140522373811264+&#45;&gt;140522373811264 -->\n<g id=\"edge3\" class=\"edge\">\n<title>140522373811264+&#45;&gt;140522373811264</title>\n<path fill=\"none\" stroke=\"black\" d=\"M738.08,-100.5C745.51,-100.5 754.21,-100.5 763.74,-100.5\"/>\n<polygon fill=\"black\" stroke=\"black\" points=\"763.95,-104 773.95,-100.5 763.95,-97 763.95,-104\"/>\n</g>\n<!-- 140522373481040 -->\n<g id=\"node7\" class=\"node\">\n<title>140522373481040</title>\n<polygon fill=\"none\" stroke=\"black\" points=\"375,-110.5 375,-146.5 648,-146.5 648,-110.5 375,-110.5\"/>\n<text text-anchor=\"middle\" x=\"406\" y=\"-124.8\" font-family=\"Times,serif\" font-size=\"14.00\">x1*w1</text>\n<polyline fill=\"none\" stroke=\"black\" points=\"437,-110.5 437,-146.5 \"/>\n<text text-anchor=\"middle\" x=\"490.5\" y=\"-124.8\" font-family=\"Times,serif\" font-size=\"14.00\">data &#45;6.0000</text>\n<polyline fill=\"none\" stroke=\"black\" points=\"544,-110.5 544,-146.5 \"/>\n<text text-anchor=\"middle\" x=\"596\" y=\"-124.8\" font-family=\"Times,serif\" font-size=\"14.00\">grad 0.5000</text>\n</g>\n<!-- 140522373481040&#45;&gt;140522373811264+ -->\n<g id=\"edge6\" class=\"edge\">\n<title>140522373481040&#45;&gt;140522373811264+</title>\n<path fill=\"none\" stroke=\"black\" d=\"M639.53,-110.49C652.09,-108.71 663.99,-107.02 674.3,-105.56\"/>\n<polygon fill=\"black\" stroke=\"black\" points=\"675.03,-108.99 684.44,-104.12 674.05,-102.06 675.03,-108.99\"/>\n</g>\n<!-- 140522373481040* -->\n<g id=\"node8\" class=\"node\">\n<title>140522373481040*</title>\n<ellipse fill=\"none\" stroke=\"black\" cx=\"312\" cy=\"-128.5\" rx=\"27\" ry=\"18\"/>\n<text text-anchor=\"middle\" x=\"312\" y=\"-124.8\" font-family=\"Times,serif\" font-size=\"14.00\">*</text>\n</g>\n<!-- 140522373481040*&#45;&gt;140522373481040 -->\n<g id=\"edge4\" class=\"edge\">\n<title>140522373481040*&#45;&gt;140522373481040</title>\n<path fill=\"none\" stroke=\"black\" d=\"M339.23,-128.5C346.7,-128.5 355.41,-128.5 364.87,-128.5\"/>\n<polygon fill=\"black\" stroke=\"black\" points=\"364.98,-132 374.98,-128.5 364.98,-125 364.98,-132\"/>\n</g>\n<!-- 140522374632112 -->\n<g id=\"node9\" class=\"node\">\n<title>140522374632112</title>\n<polygon fill=\"none\" stroke=\"black\" points=\"377.5,-55.5 377.5,-91.5 645.5,-91.5 645.5,-55.5 377.5,-55.5\"/>\n<text text-anchor=\"middle\" x=\"408.5\" y=\"-69.8\" font-family=\"Times,serif\" font-size=\"14.00\">x2*w2</text>\n<polyline fill=\"none\" stroke=\"black\" points=\"439.5,-55.5 439.5,-91.5 \"/>\n<text text-anchor=\"middle\" x=\"490.5\" y=\"-69.8\" font-family=\"Times,serif\" font-size=\"14.00\">data 0.0000</text>\n<polyline fill=\"none\" stroke=\"black\" points=\"541.5,-55.5 541.5,-91.5 \"/>\n<text text-anchor=\"middle\" x=\"593.5\" y=\"-69.8\" font-family=\"Times,serif\" font-size=\"14.00\">grad 0.5000</text>\n</g>\n<!-- 140522374632112&#45;&gt;140522373811264+ -->\n<g id=\"edge9\" class=\"edge\">\n<title>140522374632112&#45;&gt;140522373811264+</title>\n<path fill=\"none\" stroke=\"black\" d=\"M644.24,-91.51C655.12,-93 665.4,-94.4 674.45,-95.64\"/>\n<polygon fill=\"black\" stroke=\"black\" points=\"674.11,-99.13 684.49,-97.01 675.05,-92.19 674.11,-99.13\"/>\n</g>\n<!-- 140522374632112* -->\n<g id=\"node10\" class=\"node\">\n<title>140522374632112*</title>\n<ellipse fill=\"none\" stroke=\"black\" cx=\"312\" cy=\"-73.5\" rx=\"27\" ry=\"18\"/>\n<text text-anchor=\"middle\" x=\"312\" y=\"-69.8\" font-family=\"Times,serif\" font-size=\"14.00\">*</text>\n</g>\n<!-- 140522374632112*&#45;&gt;140522374632112 -->\n<g id=\"edge5\" class=\"edge\">\n<title>140522374632112*&#45;&gt;140522374632112</title>\n<path fill=\"none\" stroke=\"black\" d=\"M339.23,-73.5C347.26,-73.5 356.72,-73.5 366.99,-73.5\"/>\n<polygon fill=\"black\" stroke=\"black\" points=\"367.08,-77 377.08,-73.5 367.08,-70 367.08,-77\"/>\n</g>\n<!-- 140522373482672 -->\n<g id=\"node11\" class=\"node\">\n<title>140522373482672</title>\n<polygon fill=\"none\" stroke=\"black\" points=\"820.5,-27.5 820.5,-63.5 1052.5,-63.5 1052.5,-27.5 820.5,-27.5\"/>\n<text text-anchor=\"middle\" x=\"833.5\" y=\"-41.8\" font-family=\"Times,serif\" font-size=\"14.00\">b</text>\n<polyline fill=\"none\" stroke=\"black\" points=\"846.5,-27.5 846.5,-63.5 \"/>\n<text text-anchor=\"middle\" x=\"897.5\" y=\"-41.8\" font-family=\"Times,serif\" font-size=\"14.00\">data 6.8814</text>\n<polyline fill=\"none\" stroke=\"black\" points=\"948.5,-27.5 948.5,-63.5 \"/>\n<text text-anchor=\"middle\" x=\"1000.5\" y=\"-41.8\" font-family=\"Times,serif\" font-size=\"14.00\">grad 0.5000</text>\n</g>\n<!-- 140522373482672&#45;&gt;140522373810736+ -->\n<g id=\"edge11\" class=\"edge\">\n<title>140522373482672&#45;&gt;140522373810736+</title>\n<path fill=\"none\" stroke=\"black\" d=\"M1052.52,-59.4C1078.82,-62.57 1104.87,-65.72 1124.85,-68.13\"/>\n<polygon fill=\"black\" stroke=\"black\" points=\"1124.65,-71.63 1135,-69.36 1125.49,-64.68 1124.65,-71.63\"/>\n</g>\n<!-- 140522373484304 -->\n<g id=\"node12\" class=\"node\">\n<title>140522373484304</title>\n<polygon fill=\"none\" stroke=\"black\" points=\"4.5,-55.5 4.5,-91.5 244.5,-91.5 244.5,-55.5 4.5,-55.5\"/>\n<text text-anchor=\"middle\" x=\"21.5\" y=\"-69.8\" font-family=\"Times,serif\" font-size=\"14.00\">x2</text>\n<polyline fill=\"none\" stroke=\"black\" points=\"38.5,-55.5 38.5,-91.5 \"/>\n<text text-anchor=\"middle\" x=\"89.5\" y=\"-69.8\" font-family=\"Times,serif\" font-size=\"14.00\">data 0.0000</text>\n<polyline fill=\"none\" stroke=\"black\" points=\"140.5,-55.5 140.5,-91.5 \"/>\n<text text-anchor=\"middle\" x=\"192.5\" y=\"-69.8\" font-family=\"Times,serif\" font-size=\"14.00\">grad 0.5000</text>\n</g>\n<!-- 140522373484304&#45;&gt;140522374632112* -->\n<g id=\"edge10\" class=\"edge\">\n<title>140522373484304&#45;&gt;140522374632112*</title>\n<path fill=\"none\" stroke=\"black\" d=\"M244.55,-73.5C255.31,-73.5 265.54,-73.5 274.62,-73.5\"/>\n<polygon fill=\"black\" stroke=\"black\" points=\"274.7,-77 284.7,-73.5 274.7,-70 274.7,-77\"/>\n</g>\n<!-- 140522373482768 -->\n<g id=\"node13\" class=\"node\">\n<title>140522373482768</title>\n<polygon fill=\"none\" stroke=\"black\" points=\"2.5,-0.5 2.5,-36.5 246.5,-36.5 246.5,-0.5 2.5,-0.5\"/>\n<text text-anchor=\"middle\" x=\"21.5\" y=\"-14.8\" font-family=\"Times,serif\" font-size=\"14.00\">w2</text>\n<polyline fill=\"none\" stroke=\"black\" points=\"40.5,-0.5 40.5,-36.5 \"/>\n<text text-anchor=\"middle\" x=\"91.5\" y=\"-14.8\" font-family=\"Times,serif\" font-size=\"14.00\">data 1.0000</text>\n<polyline fill=\"none\" stroke=\"black\" points=\"142.5,-0.5 142.5,-36.5 \"/>\n<text text-anchor=\"middle\" x=\"194.5\" y=\"-14.8\" font-family=\"Times,serif\" font-size=\"14.00\">grad 0.0000</text>\n</g>\n<!-- 140522373482768&#45;&gt;140522374632112* -->\n<g id=\"edge7\" class=\"edge\">\n<title>140522373482768&#45;&gt;140522374632112*</title>\n<path fill=\"none\" stroke=\"black\" d=\"M218.13,-36.54C228.63,-39.23 239.1,-42.22 249,-45.5 259.71,-49.04 271.05,-53.84 281.07,-58.46\"/>\n<polygon fill=\"black\" stroke=\"black\" points=\"279.67,-61.67 290.2,-62.79 282.67,-55.34 279.67,-61.67\"/>\n</g>\n<!-- 140522373482864 -->\n<g id=\"node14\" class=\"node\">\n<title>140522373482864</title>\n<polygon fill=\"none\" stroke=\"black\" points=\"0,-165.5 0,-201.5 249,-201.5 249,-165.5 0,-165.5\"/>\n<text text-anchor=\"middle\" x=\"19\" y=\"-179.8\" font-family=\"Times,serif\" font-size=\"14.00\">w1</text>\n<polyline fill=\"none\" stroke=\"black\" points=\"38,-165.5 38,-201.5 \"/>\n<text text-anchor=\"middle\" x=\"91.5\" y=\"-179.8\" font-family=\"Times,serif\" font-size=\"14.00\">data &#45;3.0000</text>\n<polyline fill=\"none\" stroke=\"black\" points=\"145,-165.5 145,-201.5 \"/>\n<text text-anchor=\"middle\" x=\"197\" y=\"-179.8\" font-family=\"Times,serif\" font-size=\"14.00\">grad 1.0000</text>\n</g>\n<!-- 140522373482864&#45;&gt;140522373481040* -->\n<g id=\"edge14\" class=\"edge\">\n<title>140522373482864&#45;&gt;140522373481040*</title>\n<path fill=\"none\" stroke=\"black\" d=\"M218.13,-165.46C228.63,-162.77 239.1,-159.78 249,-156.5 259.71,-152.96 271.05,-148.16 281.07,-143.54\"/>\n<polygon fill=\"black\" stroke=\"black\" points=\"282.67,-146.66 290.2,-139.21 279.67,-140.33 282.67,-146.66\"/>\n</g>\n<!-- 140522373484400 -->\n<g id=\"node15\" class=\"node\">\n<title>140522373484400</title>\n<polygon fill=\"none\" stroke=\"black\" points=\"2.5,-110.5 2.5,-146.5 246.5,-146.5 246.5,-110.5 2.5,-110.5\"/>\n<text text-anchor=\"middle\" x=\"19.5\" y=\"-124.8\" font-family=\"Times,serif\" font-size=\"14.00\">x1</text>\n<polyline fill=\"none\" stroke=\"black\" points=\"36.5,-110.5 36.5,-146.5 \"/>\n<text text-anchor=\"middle\" x=\"87.5\" y=\"-124.8\" font-family=\"Times,serif\" font-size=\"14.00\">data 2.0000</text>\n<polyline fill=\"none\" stroke=\"black\" points=\"138.5,-110.5 138.5,-146.5 \"/>\n<text text-anchor=\"middle\" x=\"192.5\" y=\"-124.8\" font-family=\"Times,serif\" font-size=\"14.00\">grad &#45;1.5000</text>\n</g>\n<!-- 140522373484400&#45;&gt;140522373481040* -->\n<g id=\"edge12\" class=\"edge\">\n<title>140522373484400&#45;&gt;140522373481040*</title>\n<path fill=\"none\" stroke=\"black\" d=\"M246.64,-128.5C256.7,-128.5 266.26,-128.5 274.79,-128.5\"/>\n<polygon fill=\"black\" stroke=\"black\" points=\"275,-132 285,-128.5 275,-125 275,-132\"/>\n</g>\n</g>\n</svg>\n",
      "text/plain": [
       "<graphviz.graphs.Digraph at 0x7fcdea278b80>"
      ]
     },
     "execution_count": 29,
     "metadata": {},
     "output_type": "execute_result"
    }
   ],
   "source": [
    "draw_dot(o)"
   ]
  },
  {
   "attachments": {},
   "cell_type": "markdown",
   "id": "c09f327e",
   "metadata": {},
   "source": [
    "# Automatic Backpropagation 🦾\n",
    "\n",
    "Is there a way to automate this whole process? Yes!\n",
    "\n",
    "In the value class, we are going to add a `_backward` function that performs the chain rule at *each* node."
   ]
  },
  {
   "cell_type": "code",
   "execution_count": 30,
   "id": "36dd21f3",
   "metadata": {},
   "outputs": [],
   "source": [
    "class Value:\n",
    "    def __init__(self, data, _children=(), _op='', label='') -> None:\n",
    "        self.data = data\n",
    "        self._prev = set(_children)\n",
    "        self._op = _op\n",
    "        self.grad = 0\n",
    "        self.label = label\n",
    "        self._backward = lambda : None #\n",
    "\n",
    "    def __repr__(self) -> str:\n",
    "        return f\"Value(data = {self.data})\"\n",
    "\n",
    "    def __add__(self, other):\n",
    "        out = Value(self.data + other.data, (self, other), '+')\n",
    "        \n",
    "        def _backward():\n",
    "            #Remember what addition does when backpropagating\n",
    "            self.grad = 1.0 * out.grad\n",
    "            other.grad = 1.0 * out.grad\n",
    "\n",
    "        out._backward = _backward\n",
    "        return out\n",
    "\n",
    "    def __mul__(self, other):\n",
    "        out = Value(self.data * other.data, (self, other), '*')\n",
    "        \n",
    "        def _backward():\n",
    "            #Remember what multiplication does when backpropagating\n",
    "            self.grad = other.data * out.grad\n",
    "            other.grad = self.data * out.grad\n",
    "\n",
    "        out._backward = _backward\n",
    "        return out\n",
    "\n",
    "    def tanh(self):\n",
    "        x = self.data\n",
    "        t = (math.exp(2*x) - 1)/(math.exp(2*x) + 1)\n",
    "        out = Value(t, (self, ), _op='tanh')\n",
    "\n",
    "        def _backward():\n",
    "            self.grad = (1 - t**2) * out.grad\n",
    "\n",
    "        out._backward = _backward\n",
    "        return out"
   ]
  },
  {
   "attachments": {},
   "cell_type": "markdown",
   "id": "3a6cf1e9",
   "metadata": {},
   "source": [
    "With our new definition of the `Value` class with the `_backward`, we don't need to compute backpropagation manually anymore. If we reset our graph and draw it like so:"
   ]
  },
  {
   "cell_type": "code",
   "execution_count": 31,
   "id": "e8575744",
   "metadata": {},
   "outputs": [],
   "source": [
    "#--- Inputs 1 & 2\n",
    "x1 = Value(2.0, label='x1')\n",
    "x2 = Value(0.0, label='x2')\n",
    "#---- Weights 1 & 2\n",
    "w1 = Value(-3.0, label='w1')\n",
    "w2 = Value(1.0, label='w2')\n",
    "#--- bias\n",
    "b = Value(6.8813735870195432, label='b')\n",
    "\n",
    "#net sum = x1*w1 + x2*w2 + b\n",
    "x1w1 = x1*w1; x1w1.label = 'x1*w1'\n",
    "x2w2 = x2*w2; x2w2.label = 'x2*w2'\n",
    "x1w1x2w2 = x1w1 + x2w2; x1w1x2w2.label = 'x1w1 + x2w2'\n",
    "n = x1w1x2w2 + b; n.label = 'n'\n",
    "\n",
    "# 'n' goes through activation function\n",
    "# giving the final result. At this point\n",
    "# I scrolled back to the Value class and implemented \"tanh\".\n",
    "o = n.tanh(); o.label='o'"
   ]
  },
  {
   "cell_type": "code",
   "execution_count": 32,
   "id": "681c2cf2",
   "metadata": {},
   "outputs": [
    {
     "data": {
      "image/svg+xml": "<?xml version=\"1.0\" encoding=\"UTF-8\" standalone=\"no\"?>\n<!DOCTYPE svg PUBLIC \"-//W3C//DTD SVG 1.1//EN\"\n \"http://www.w3.org/Graphics/SVG/1.1/DTD/svg11.dtd\">\n<!-- Generated by graphviz version 2.50.0 (0)\n -->\n<!-- Pages: 1 -->\n<svg width=\"1832pt\" height=\"210pt\"\n viewBox=\"0.00 0.00 1831.69 210.00\" xmlns=\"http://www.w3.org/2000/svg\" xmlns:xlink=\"http://www.w3.org/1999/xlink\">\n<g id=\"graph0\" class=\"graph\" transform=\"scale(1 1) rotate(0) translate(4 206)\">\n<polygon fill=\"white\" stroke=\"transparent\" points=\"-4,4 -4,-206 1827.69,-206 1827.69,4 -4,4\"/>\n<!-- 140522373524064 -->\n<g id=\"node1\" class=\"node\">\n<title>140522373524064</title>\n<polygon fill=\"none\" stroke=\"black\" points=\"0,-165.5 0,-201.5 249,-201.5 249,-165.5 0,-165.5\"/>\n<text text-anchor=\"middle\" x=\"19\" y=\"-179.8\" font-family=\"Times,serif\" font-size=\"14.00\">w1</text>\n<polyline fill=\"none\" stroke=\"black\" points=\"38,-165.5 38,-201.5 \"/>\n<text text-anchor=\"middle\" x=\"91.5\" y=\"-179.8\" font-family=\"Times,serif\" font-size=\"14.00\">data &#45;3.0000</text>\n<polyline fill=\"none\" stroke=\"black\" points=\"145,-165.5 145,-201.5 \"/>\n<text text-anchor=\"middle\" x=\"197\" y=\"-179.8\" font-family=\"Times,serif\" font-size=\"14.00\">grad 0.0000</text>\n</g>\n<!-- 140522373549792* -->\n<g id=\"node7\" class=\"node\">\n<title>140522373549792*</title>\n<ellipse fill=\"none\" stroke=\"black\" cx=\"312\" cy=\"-128.5\" rx=\"27\" ry=\"18\"/>\n<text text-anchor=\"middle\" x=\"312\" y=\"-124.8\" font-family=\"Times,serif\" font-size=\"14.00\">*</text>\n</g>\n<!-- 140522373524064&#45;&gt;140522373549792* -->\n<g id=\"edge6\" class=\"edge\">\n<title>140522373524064&#45;&gt;140522373549792*</title>\n<path fill=\"none\" stroke=\"black\" d=\"M218.13,-165.46C228.63,-162.77 239.1,-159.78 249,-156.5 259.71,-152.96 271.05,-148.16 281.07,-143.54\"/>\n<polygon fill=\"black\" stroke=\"black\" points=\"282.67,-146.66 290.2,-139.21 279.67,-140.33 282.67,-146.66\"/>\n</g>\n<!-- 140522373524112 -->\n<g id=\"node2\" class=\"node\">\n<title>140522373524112</title>\n<polygon fill=\"none\" stroke=\"black\" points=\"4.5,-110.5 4.5,-146.5 244.5,-146.5 244.5,-110.5 4.5,-110.5\"/>\n<text text-anchor=\"middle\" x=\"21.5\" y=\"-124.8\" font-family=\"Times,serif\" font-size=\"14.00\">x1</text>\n<polyline fill=\"none\" stroke=\"black\" points=\"38.5,-110.5 38.5,-146.5 \"/>\n<text text-anchor=\"middle\" x=\"89.5\" y=\"-124.8\" font-family=\"Times,serif\" font-size=\"14.00\">data 2.0000</text>\n<polyline fill=\"none\" stroke=\"black\" points=\"140.5,-110.5 140.5,-146.5 \"/>\n<text text-anchor=\"middle\" x=\"192.5\" y=\"-124.8\" font-family=\"Times,serif\" font-size=\"14.00\">grad 0.0000</text>\n</g>\n<!-- 140522373524112&#45;&gt;140522373549792* -->\n<g id=\"edge11\" class=\"edge\">\n<title>140522373524112&#45;&gt;140522373549792*</title>\n<path fill=\"none\" stroke=\"black\" d=\"M244.55,-128.5C255.31,-128.5 265.54,-128.5 274.62,-128.5\"/>\n<polygon fill=\"black\" stroke=\"black\" points=\"274.7,-132 284.7,-128.5 274.7,-125 274.7,-132\"/>\n</g>\n<!-- 140522373546144 -->\n<g id=\"node3\" class=\"node\">\n<title>140522373546144</title>\n<polygon fill=\"none\" stroke=\"black\" points=\"1225,-54.5 1225,-90.5 1457,-90.5 1457,-54.5 1225,-54.5\"/>\n<text text-anchor=\"middle\" x=\"1238\" y=\"-68.8\" font-family=\"Times,serif\" font-size=\"14.00\">n</text>\n<polyline fill=\"none\" stroke=\"black\" points=\"1251,-54.5 1251,-90.5 \"/>\n<text text-anchor=\"middle\" x=\"1302\" y=\"-68.8\" font-family=\"Times,serif\" font-size=\"14.00\">data 0.8814</text>\n<polyline fill=\"none\" stroke=\"black\" points=\"1353,-54.5 1353,-90.5 \"/>\n<text text-anchor=\"middle\" x=\"1405\" y=\"-68.8\" font-family=\"Times,serif\" font-size=\"14.00\">grad 0.0000</text>\n</g>\n<!-- 140522373549408tanh -->\n<g id=\"node14\" class=\"node\">\n<title>140522373549408tanh</title>\n<ellipse fill=\"none\" stroke=\"black\" cx=\"1524.85\" cy=\"-72.5\" rx=\"31.7\" ry=\"18\"/>\n<text text-anchor=\"middle\" x=\"1524.85\" y=\"-68.8\" font-family=\"Times,serif\" font-size=\"14.00\">tanh</text>\n</g>\n<!-- 140522373546144&#45;&gt;140522373549408tanh -->\n<g id=\"edge12\" class=\"edge\">\n<title>140522373546144&#45;&gt;140522373549408tanh</title>\n<path fill=\"none\" stroke=\"black\" d=\"M1457.17,-72.5C1466.08,-72.5 1474.66,-72.5 1482.53,-72.5\"/>\n<polygon fill=\"black\" stroke=\"black\" points=\"1482.78,-76 1492.78,-72.5 1482.78,-69 1482.78,-76\"/>\n</g>\n<!-- 140522373546144+ -->\n<g id=\"node4\" class=\"node\">\n<title>140522373546144+</title>\n<ellipse fill=\"none\" stroke=\"black\" cx=\"1162\" cy=\"-72.5\" rx=\"27\" ry=\"18\"/>\n<text text-anchor=\"middle\" x=\"1162\" y=\"-68.8\" font-family=\"Times,serif\" font-size=\"14.00\">+</text>\n</g>\n<!-- 140522373546144+&#45;&gt;140522373546144 -->\n<g id=\"edge1\" class=\"edge\">\n<title>140522373546144+&#45;&gt;140522373546144</title>\n<path fill=\"none\" stroke=\"black\" d=\"M1189.12,-72.5C1196.53,-72.5 1205.14,-72.5 1214.4,-72.5\"/>\n<polygon fill=\"black\" stroke=\"black\" points=\"1214.69,-76 1224.69,-72.5 1214.69,-69 1214.69,-76\"/>\n</g>\n<!-- 140522373523632 -->\n<g id=\"node5\" class=\"node\">\n<title>140522373523632</title>\n<polygon fill=\"none\" stroke=\"black\" points=\"820.5,-27.5 820.5,-63.5 1052.5,-63.5 1052.5,-27.5 820.5,-27.5\"/>\n<text text-anchor=\"middle\" x=\"833.5\" y=\"-41.8\" font-family=\"Times,serif\" font-size=\"14.00\">b</text>\n<polyline fill=\"none\" stroke=\"black\" points=\"846.5,-27.5 846.5,-63.5 \"/>\n<text text-anchor=\"middle\" x=\"897.5\" y=\"-41.8\" font-family=\"Times,serif\" font-size=\"14.00\">data 6.8814</text>\n<polyline fill=\"none\" stroke=\"black\" points=\"948.5,-27.5 948.5,-63.5 \"/>\n<text text-anchor=\"middle\" x=\"1000.5\" y=\"-41.8\" font-family=\"Times,serif\" font-size=\"14.00\">grad 0.0000</text>\n</g>\n<!-- 140522373523632&#45;&gt;140522373546144+ -->\n<g id=\"edge14\" class=\"edge\">\n<title>140522373523632&#45;&gt;140522373546144+</title>\n<path fill=\"none\" stroke=\"black\" d=\"M1052.52,-59.4C1078.82,-62.57 1104.87,-65.72 1124.85,-68.13\"/>\n<polygon fill=\"black\" stroke=\"black\" points=\"1124.65,-71.63 1135,-69.36 1125.49,-64.68 1124.65,-71.63\"/>\n</g>\n<!-- 140522373549792 -->\n<g id=\"node6\" class=\"node\">\n<title>140522373549792</title>\n<polygon fill=\"none\" stroke=\"black\" points=\"375,-110.5 375,-146.5 648,-146.5 648,-110.5 375,-110.5\"/>\n<text text-anchor=\"middle\" x=\"406\" y=\"-124.8\" font-family=\"Times,serif\" font-size=\"14.00\">x1*w1</text>\n<polyline fill=\"none\" stroke=\"black\" points=\"437,-110.5 437,-146.5 \"/>\n<text text-anchor=\"middle\" x=\"490.5\" y=\"-124.8\" font-family=\"Times,serif\" font-size=\"14.00\">data &#45;6.0000</text>\n<polyline fill=\"none\" stroke=\"black\" points=\"544,-110.5 544,-146.5 \"/>\n<text text-anchor=\"middle\" x=\"596\" y=\"-124.8\" font-family=\"Times,serif\" font-size=\"14.00\">grad 0.0000</text>\n</g>\n<!-- 140522373547248+ -->\n<g id=\"node9\" class=\"node\">\n<title>140522373547248+</title>\n<ellipse fill=\"none\" stroke=\"black\" cx=\"711\" cy=\"-100.5\" rx=\"27\" ry=\"18\"/>\n<text text-anchor=\"middle\" x=\"711\" y=\"-96.8\" font-family=\"Times,serif\" font-size=\"14.00\">+</text>\n</g>\n<!-- 140522373549792&#45;&gt;140522373547248+ -->\n<g id=\"edge7\" class=\"edge\">\n<title>140522373549792&#45;&gt;140522373547248+</title>\n<path fill=\"none\" stroke=\"black\" d=\"M639.53,-110.49C652.09,-108.71 663.99,-107.02 674.3,-105.56\"/>\n<polygon fill=\"black\" stroke=\"black\" points=\"675.03,-108.99 684.44,-104.12 674.05,-102.06 675.03,-108.99\"/>\n</g>\n<!-- 140522373549792*&#45;&gt;140522373549792 -->\n<g id=\"edge2\" class=\"edge\">\n<title>140522373549792*&#45;&gt;140522373549792</title>\n<path fill=\"none\" stroke=\"black\" d=\"M339.23,-128.5C346.7,-128.5 355.41,-128.5 364.87,-128.5\"/>\n<polygon fill=\"black\" stroke=\"black\" points=\"364.98,-132 374.98,-128.5 364.98,-125 364.98,-132\"/>\n</g>\n<!-- 140522373547248 -->\n<g id=\"node8\" class=\"node\">\n<title>140522373547248</title>\n<polygon fill=\"none\" stroke=\"black\" points=\"774,-82.5 774,-118.5 1099,-118.5 1099,-82.5 774,-82.5\"/>\n<text text-anchor=\"middle\" x=\"831\" y=\"-96.8\" font-family=\"Times,serif\" font-size=\"14.00\">x1w1 + x2w2</text>\n<polyline fill=\"none\" stroke=\"black\" points=\"888,-82.5 888,-118.5 \"/>\n<text text-anchor=\"middle\" x=\"941.5\" y=\"-96.8\" font-family=\"Times,serif\" font-size=\"14.00\">data &#45;6.0000</text>\n<polyline fill=\"none\" stroke=\"black\" points=\"995,-82.5 995,-118.5 \"/>\n<text text-anchor=\"middle\" x=\"1047\" y=\"-96.8\" font-family=\"Times,serif\" font-size=\"14.00\">grad 0.0000</text>\n</g>\n<!-- 140522373547248&#45;&gt;140522373546144+ -->\n<g id=\"edge10\" class=\"edge\">\n<title>140522373547248&#45;&gt;140522373546144+</title>\n<path fill=\"none\" stroke=\"black\" d=\"M1081.26,-82.49C1097.41,-80.47 1112.59,-78.56 1125.28,-76.97\"/>\n<polygon fill=\"black\" stroke=\"black\" points=\"1125.84,-80.43 1135.32,-75.72 1124.96,-73.49 1125.84,-80.43\"/>\n</g>\n<!-- 140522373547248+&#45;&gt;140522373547248 -->\n<g id=\"edge3\" class=\"edge\">\n<title>140522373547248+&#45;&gt;140522373547248</title>\n<path fill=\"none\" stroke=\"black\" d=\"M738.08,-100.5C745.51,-100.5 754.21,-100.5 763.74,-100.5\"/>\n<polygon fill=\"black\" stroke=\"black\" points=\"763.95,-104 773.95,-100.5 763.95,-97 763.95,-104\"/>\n</g>\n<!-- 140522373549840 -->\n<g id=\"node10\" class=\"node\">\n<title>140522373549840</title>\n<polygon fill=\"none\" stroke=\"black\" points=\"377.5,-55.5 377.5,-91.5 645.5,-91.5 645.5,-55.5 377.5,-55.5\"/>\n<text text-anchor=\"middle\" x=\"408.5\" y=\"-69.8\" font-family=\"Times,serif\" font-size=\"14.00\">x2*w2</text>\n<polyline fill=\"none\" stroke=\"black\" points=\"439.5,-55.5 439.5,-91.5 \"/>\n<text text-anchor=\"middle\" x=\"490.5\" y=\"-69.8\" font-family=\"Times,serif\" font-size=\"14.00\">data 0.0000</text>\n<polyline fill=\"none\" stroke=\"black\" points=\"541.5,-55.5 541.5,-91.5 \"/>\n<text text-anchor=\"middle\" x=\"593.5\" y=\"-69.8\" font-family=\"Times,serif\" font-size=\"14.00\">grad 0.0000</text>\n</g>\n<!-- 140522373549840&#45;&gt;140522373547248+ -->\n<g id=\"edge8\" class=\"edge\">\n<title>140522373549840&#45;&gt;140522373547248+</title>\n<path fill=\"none\" stroke=\"black\" d=\"M644.24,-91.51C655.12,-93 665.4,-94.4 674.45,-95.64\"/>\n<polygon fill=\"black\" stroke=\"black\" points=\"674.11,-99.13 684.49,-97.01 675.05,-92.19 674.11,-99.13\"/>\n</g>\n<!-- 140522373549840* -->\n<g id=\"node11\" class=\"node\">\n<title>140522373549840*</title>\n<ellipse fill=\"none\" stroke=\"black\" cx=\"312\" cy=\"-73.5\" rx=\"27\" ry=\"18\"/>\n<text text-anchor=\"middle\" x=\"312\" y=\"-69.8\" font-family=\"Times,serif\" font-size=\"14.00\">*</text>\n</g>\n<!-- 140522373549840*&#45;&gt;140522373549840 -->\n<g id=\"edge4\" class=\"edge\">\n<title>140522373549840*&#45;&gt;140522373549840</title>\n<path fill=\"none\" stroke=\"black\" d=\"M339.23,-73.5C347.26,-73.5 356.72,-73.5 366.99,-73.5\"/>\n<polygon fill=\"black\" stroke=\"black\" points=\"367.08,-77 377.08,-73.5 367.08,-70 367.08,-77\"/>\n</g>\n<!-- 140522373525264 -->\n<g id=\"node12\" class=\"node\">\n<title>140522373525264</title>\n<polygon fill=\"none\" stroke=\"black\" points=\"4.5,-55.5 4.5,-91.5 244.5,-91.5 244.5,-55.5 4.5,-55.5\"/>\n<text text-anchor=\"middle\" x=\"21.5\" y=\"-69.8\" font-family=\"Times,serif\" font-size=\"14.00\">x2</text>\n<polyline fill=\"none\" stroke=\"black\" points=\"38.5,-55.5 38.5,-91.5 \"/>\n<text text-anchor=\"middle\" x=\"89.5\" y=\"-69.8\" font-family=\"Times,serif\" font-size=\"14.00\">data 0.0000</text>\n<polyline fill=\"none\" stroke=\"black\" points=\"140.5,-55.5 140.5,-91.5 \"/>\n<text text-anchor=\"middle\" x=\"192.5\" y=\"-69.8\" font-family=\"Times,serif\" font-size=\"14.00\">grad 0.0000</text>\n</g>\n<!-- 140522373525264&#45;&gt;140522373549840* -->\n<g id=\"edge9\" class=\"edge\">\n<title>140522373525264&#45;&gt;140522373549840*</title>\n<path fill=\"none\" stroke=\"black\" d=\"M244.55,-73.5C255.31,-73.5 265.54,-73.5 274.62,-73.5\"/>\n<polygon fill=\"black\" stroke=\"black\" points=\"274.7,-77 284.7,-73.5 274.7,-70 274.7,-77\"/>\n</g>\n<!-- 140522373549408 -->\n<g id=\"node13\" class=\"node\">\n<title>140522373549408</title>\n<polygon fill=\"none\" stroke=\"black\" points=\"1592.69,-54.5 1592.69,-90.5 1823.69,-90.5 1823.69,-54.5 1592.69,-54.5\"/>\n<text text-anchor=\"middle\" x=\"1605.19\" y=\"-68.8\" font-family=\"Times,serif\" font-size=\"14.00\">o</text>\n<polyline fill=\"none\" stroke=\"black\" points=\"1617.69,-54.5 1617.69,-90.5 \"/>\n<text text-anchor=\"middle\" x=\"1668.69\" y=\"-68.8\" font-family=\"Times,serif\" font-size=\"14.00\">data 0.7071</text>\n<polyline fill=\"none\" stroke=\"black\" points=\"1719.69,-54.5 1719.69,-90.5 \"/>\n<text text-anchor=\"middle\" x=\"1771.69\" y=\"-68.8\" font-family=\"Times,serif\" font-size=\"14.00\">grad 0.0000</text>\n</g>\n<!-- 140522373549408tanh&#45;&gt;140522373549408 -->\n<g id=\"edge5\" class=\"edge\">\n<title>140522373549408tanh&#45;&gt;140522373549408</title>\n<path fill=\"none\" stroke=\"black\" d=\"M1557.02,-72.5C1564.61,-72.5 1573.19,-72.5 1582.31,-72.5\"/>\n<polygon fill=\"black\" stroke=\"black\" points=\"1582.4,-76 1592.4,-72.5 1582.4,-69 1582.4,-76\"/>\n</g>\n<!-- 140522373524400 -->\n<g id=\"node15\" class=\"node\">\n<title>140522373524400</title>\n<polygon fill=\"none\" stroke=\"black\" points=\"2.5,-0.5 2.5,-36.5 246.5,-36.5 246.5,-0.5 2.5,-0.5\"/>\n<text text-anchor=\"middle\" x=\"21.5\" y=\"-14.8\" font-family=\"Times,serif\" font-size=\"14.00\">w2</text>\n<polyline fill=\"none\" stroke=\"black\" points=\"40.5,-0.5 40.5,-36.5 \"/>\n<text text-anchor=\"middle\" x=\"91.5\" y=\"-14.8\" font-family=\"Times,serif\" font-size=\"14.00\">data 1.0000</text>\n<polyline fill=\"none\" stroke=\"black\" points=\"142.5,-0.5 142.5,-36.5 \"/>\n<text text-anchor=\"middle\" x=\"194.5\" y=\"-14.8\" font-family=\"Times,serif\" font-size=\"14.00\">grad 0.0000</text>\n</g>\n<!-- 140522373524400&#45;&gt;140522373549840* -->\n<g id=\"edge13\" class=\"edge\">\n<title>140522373524400&#45;&gt;140522373549840*</title>\n<path fill=\"none\" stroke=\"black\" d=\"M214.42,-36.55C226.15,-39.54 237.93,-42.87 249,-46.5 259.46,-49.93 270.57,-54.47 280.46,-58.84\"/>\n<polygon fill=\"black\" stroke=\"black\" points=\"279.31,-62.17 289.87,-63.12 282.21,-55.79 279.31,-62.17\"/>\n</g>\n</g>\n</svg>\n",
      "text/plain": [
       "<graphviz.graphs.Digraph at 0x7fcdea282a30>"
      ]
     },
     "execution_count": 32,
     "metadata": {},
     "output_type": "execute_result"
    }
   ],
   "source": [
    "draw_dot(o)"
   ]
  },
  {
   "attachments": {},
   "cell_type": "markdown",
   "id": "dc294472",
   "metadata": {},
   "source": [
    "We can compute the gradient of Node `o` and Node `n` by doing:"
   ]
  },
  {
   "cell_type": "code",
   "execution_count": 33,
   "id": "7a1507fc",
   "metadata": {},
   "outputs": [],
   "source": [
    "o.grad = 1.0 #base case."
   ]
  },
  {
   "cell_type": "code",
   "execution_count": 34,
   "id": "a15cba3f",
   "metadata": {},
   "outputs": [],
   "source": [
    "o._backward()"
   ]
  },
  {
   "cell_type": "code",
   "execution_count": 35,
   "id": "e3ab8268",
   "metadata": {},
   "outputs": [],
   "source": [
    "#We can continue a compute the gradient of children of n with\n",
    "n._backward()"
   ]
  },
  {
   "cell_type": "code",
   "execution_count": 36,
   "id": "77f12f38",
   "metadata": {},
   "outputs": [],
   "source": [
    "b._backward() #It is going to be None, because it is a leaf node"
   ]
  },
  {
   "cell_type": "code",
   "execution_count": 37,
   "id": "23c794f4",
   "metadata": {},
   "outputs": [],
   "source": [
    "x1w1x2w2._backward()"
   ]
  },
  {
   "cell_type": "code",
   "execution_count": 38,
   "id": "54ac930c",
   "metadata": {},
   "outputs": [],
   "source": [
    "x1w1._backward()\n",
    "x2w2._backward()"
   ]
  },
  {
   "cell_type": "code",
   "execution_count": 39,
   "id": "71ac0053",
   "metadata": {},
   "outputs": [
    {
     "data": {
      "image/svg+xml": "<?xml version=\"1.0\" encoding=\"UTF-8\" standalone=\"no\"?>\n<!DOCTYPE svg PUBLIC \"-//W3C//DTD SVG 1.1//EN\"\n \"http://www.w3.org/Graphics/SVG/1.1/DTD/svg11.dtd\">\n<!-- Generated by graphviz version 2.50.0 (0)\n -->\n<!-- Pages: 1 -->\n<svg width=\"1832pt\" height=\"210pt\"\n viewBox=\"0.00 0.00 1831.69 210.00\" xmlns=\"http://www.w3.org/2000/svg\" xmlns:xlink=\"http://www.w3.org/1999/xlink\">\n<g id=\"graph0\" class=\"graph\" transform=\"scale(1 1) rotate(0) translate(4 206)\">\n<polygon fill=\"white\" stroke=\"transparent\" points=\"-4,4 -4,-206 1827.69,-206 1827.69,4 -4,4\"/>\n<!-- 140522373524064 -->\n<g id=\"node1\" class=\"node\">\n<title>140522373524064</title>\n<polygon fill=\"none\" stroke=\"black\" points=\"0,-165.5 0,-201.5 249,-201.5 249,-165.5 0,-165.5\"/>\n<text text-anchor=\"middle\" x=\"19\" y=\"-179.8\" font-family=\"Times,serif\" font-size=\"14.00\">w1</text>\n<polyline fill=\"none\" stroke=\"black\" points=\"38,-165.5 38,-201.5 \"/>\n<text text-anchor=\"middle\" x=\"91.5\" y=\"-179.8\" font-family=\"Times,serif\" font-size=\"14.00\">data &#45;3.0000</text>\n<polyline fill=\"none\" stroke=\"black\" points=\"145,-165.5 145,-201.5 \"/>\n<text text-anchor=\"middle\" x=\"197\" y=\"-179.8\" font-family=\"Times,serif\" font-size=\"14.00\">grad 1.0000</text>\n</g>\n<!-- 140522373549792* -->\n<g id=\"node7\" class=\"node\">\n<title>140522373549792*</title>\n<ellipse fill=\"none\" stroke=\"black\" cx=\"312\" cy=\"-128.5\" rx=\"27\" ry=\"18\"/>\n<text text-anchor=\"middle\" x=\"312\" y=\"-124.8\" font-family=\"Times,serif\" font-size=\"14.00\">*</text>\n</g>\n<!-- 140522373524064&#45;&gt;140522373549792* -->\n<g id=\"edge6\" class=\"edge\">\n<title>140522373524064&#45;&gt;140522373549792*</title>\n<path fill=\"none\" stroke=\"black\" d=\"M218.13,-165.46C228.63,-162.77 239.1,-159.78 249,-156.5 259.71,-152.96 271.05,-148.16 281.07,-143.54\"/>\n<polygon fill=\"black\" stroke=\"black\" points=\"282.67,-146.66 290.2,-139.21 279.67,-140.33 282.67,-146.66\"/>\n</g>\n<!-- 140522373524112 -->\n<g id=\"node2\" class=\"node\">\n<title>140522373524112</title>\n<polygon fill=\"none\" stroke=\"black\" points=\"2.5,-110.5 2.5,-146.5 246.5,-146.5 246.5,-110.5 2.5,-110.5\"/>\n<text text-anchor=\"middle\" x=\"19.5\" y=\"-124.8\" font-family=\"Times,serif\" font-size=\"14.00\">x1</text>\n<polyline fill=\"none\" stroke=\"black\" points=\"36.5,-110.5 36.5,-146.5 \"/>\n<text text-anchor=\"middle\" x=\"87.5\" y=\"-124.8\" font-family=\"Times,serif\" font-size=\"14.00\">data 2.0000</text>\n<polyline fill=\"none\" stroke=\"black\" points=\"138.5,-110.5 138.5,-146.5 \"/>\n<text text-anchor=\"middle\" x=\"192.5\" y=\"-124.8\" font-family=\"Times,serif\" font-size=\"14.00\">grad &#45;1.5000</text>\n</g>\n<!-- 140522373524112&#45;&gt;140522373549792* -->\n<g id=\"edge11\" class=\"edge\">\n<title>140522373524112&#45;&gt;140522373549792*</title>\n<path fill=\"none\" stroke=\"black\" d=\"M246.64,-128.5C256.7,-128.5 266.26,-128.5 274.79,-128.5\"/>\n<polygon fill=\"black\" stroke=\"black\" points=\"275,-132 285,-128.5 275,-125 275,-132\"/>\n</g>\n<!-- 140522373546144 -->\n<g id=\"node3\" class=\"node\">\n<title>140522373546144</title>\n<polygon fill=\"none\" stroke=\"black\" points=\"1225,-54.5 1225,-90.5 1457,-90.5 1457,-54.5 1225,-54.5\"/>\n<text text-anchor=\"middle\" x=\"1238\" y=\"-68.8\" font-family=\"Times,serif\" font-size=\"14.00\">n</text>\n<polyline fill=\"none\" stroke=\"black\" points=\"1251,-54.5 1251,-90.5 \"/>\n<text text-anchor=\"middle\" x=\"1302\" y=\"-68.8\" font-family=\"Times,serif\" font-size=\"14.00\">data 0.8814</text>\n<polyline fill=\"none\" stroke=\"black\" points=\"1353,-54.5 1353,-90.5 \"/>\n<text text-anchor=\"middle\" x=\"1405\" y=\"-68.8\" font-family=\"Times,serif\" font-size=\"14.00\">grad 0.5000</text>\n</g>\n<!-- 140522373549408tanh -->\n<g id=\"node14\" class=\"node\">\n<title>140522373549408tanh</title>\n<ellipse fill=\"none\" stroke=\"black\" cx=\"1524.85\" cy=\"-72.5\" rx=\"31.7\" ry=\"18\"/>\n<text text-anchor=\"middle\" x=\"1524.85\" y=\"-68.8\" font-family=\"Times,serif\" font-size=\"14.00\">tanh</text>\n</g>\n<!-- 140522373546144&#45;&gt;140522373549408tanh -->\n<g id=\"edge12\" class=\"edge\">\n<title>140522373546144&#45;&gt;140522373549408tanh</title>\n<path fill=\"none\" stroke=\"black\" d=\"M1457.17,-72.5C1466.08,-72.5 1474.66,-72.5 1482.53,-72.5\"/>\n<polygon fill=\"black\" stroke=\"black\" points=\"1482.78,-76 1492.78,-72.5 1482.78,-69 1482.78,-76\"/>\n</g>\n<!-- 140522373546144+ -->\n<g id=\"node4\" class=\"node\">\n<title>140522373546144+</title>\n<ellipse fill=\"none\" stroke=\"black\" cx=\"1162\" cy=\"-72.5\" rx=\"27\" ry=\"18\"/>\n<text text-anchor=\"middle\" x=\"1162\" y=\"-68.8\" font-family=\"Times,serif\" font-size=\"14.00\">+</text>\n</g>\n<!-- 140522373546144+&#45;&gt;140522373546144 -->\n<g id=\"edge1\" class=\"edge\">\n<title>140522373546144+&#45;&gt;140522373546144</title>\n<path fill=\"none\" stroke=\"black\" d=\"M1189.12,-72.5C1196.53,-72.5 1205.14,-72.5 1214.4,-72.5\"/>\n<polygon fill=\"black\" stroke=\"black\" points=\"1214.69,-76 1224.69,-72.5 1214.69,-69 1214.69,-76\"/>\n</g>\n<!-- 140522373523632 -->\n<g id=\"node5\" class=\"node\">\n<title>140522373523632</title>\n<polygon fill=\"none\" stroke=\"black\" points=\"820.5,-27.5 820.5,-63.5 1052.5,-63.5 1052.5,-27.5 820.5,-27.5\"/>\n<text text-anchor=\"middle\" x=\"833.5\" y=\"-41.8\" font-family=\"Times,serif\" font-size=\"14.00\">b</text>\n<polyline fill=\"none\" stroke=\"black\" points=\"846.5,-27.5 846.5,-63.5 \"/>\n<text text-anchor=\"middle\" x=\"897.5\" y=\"-41.8\" font-family=\"Times,serif\" font-size=\"14.00\">data 6.8814</text>\n<polyline fill=\"none\" stroke=\"black\" points=\"948.5,-27.5 948.5,-63.5 \"/>\n<text text-anchor=\"middle\" x=\"1000.5\" y=\"-41.8\" font-family=\"Times,serif\" font-size=\"14.00\">grad 0.5000</text>\n</g>\n<!-- 140522373523632&#45;&gt;140522373546144+ -->\n<g id=\"edge14\" class=\"edge\">\n<title>140522373523632&#45;&gt;140522373546144+</title>\n<path fill=\"none\" stroke=\"black\" d=\"M1052.52,-59.4C1078.82,-62.57 1104.87,-65.72 1124.85,-68.13\"/>\n<polygon fill=\"black\" stroke=\"black\" points=\"1124.65,-71.63 1135,-69.36 1125.49,-64.68 1124.65,-71.63\"/>\n</g>\n<!-- 140522373549792 -->\n<g id=\"node6\" class=\"node\">\n<title>140522373549792</title>\n<polygon fill=\"none\" stroke=\"black\" points=\"375,-110.5 375,-146.5 648,-146.5 648,-110.5 375,-110.5\"/>\n<text text-anchor=\"middle\" x=\"406\" y=\"-124.8\" font-family=\"Times,serif\" font-size=\"14.00\">x1*w1</text>\n<polyline fill=\"none\" stroke=\"black\" points=\"437,-110.5 437,-146.5 \"/>\n<text text-anchor=\"middle\" x=\"490.5\" y=\"-124.8\" font-family=\"Times,serif\" font-size=\"14.00\">data &#45;6.0000</text>\n<polyline fill=\"none\" stroke=\"black\" points=\"544,-110.5 544,-146.5 \"/>\n<text text-anchor=\"middle\" x=\"596\" y=\"-124.8\" font-family=\"Times,serif\" font-size=\"14.00\">grad 0.5000</text>\n</g>\n<!-- 140522373547248+ -->\n<g id=\"node9\" class=\"node\">\n<title>140522373547248+</title>\n<ellipse fill=\"none\" stroke=\"black\" cx=\"711\" cy=\"-100.5\" rx=\"27\" ry=\"18\"/>\n<text text-anchor=\"middle\" x=\"711\" y=\"-96.8\" font-family=\"Times,serif\" font-size=\"14.00\">+</text>\n</g>\n<!-- 140522373549792&#45;&gt;140522373547248+ -->\n<g id=\"edge7\" class=\"edge\">\n<title>140522373549792&#45;&gt;140522373547248+</title>\n<path fill=\"none\" stroke=\"black\" d=\"M639.53,-110.49C652.09,-108.71 663.99,-107.02 674.3,-105.56\"/>\n<polygon fill=\"black\" stroke=\"black\" points=\"675.03,-108.99 684.44,-104.12 674.05,-102.06 675.03,-108.99\"/>\n</g>\n<!-- 140522373549792*&#45;&gt;140522373549792 -->\n<g id=\"edge2\" class=\"edge\">\n<title>140522373549792*&#45;&gt;140522373549792</title>\n<path fill=\"none\" stroke=\"black\" d=\"M339.23,-128.5C346.7,-128.5 355.41,-128.5 364.87,-128.5\"/>\n<polygon fill=\"black\" stroke=\"black\" points=\"364.98,-132 374.98,-128.5 364.98,-125 364.98,-132\"/>\n</g>\n<!-- 140522373547248 -->\n<g id=\"node8\" class=\"node\">\n<title>140522373547248</title>\n<polygon fill=\"none\" stroke=\"black\" points=\"774,-82.5 774,-118.5 1099,-118.5 1099,-82.5 774,-82.5\"/>\n<text text-anchor=\"middle\" x=\"831\" y=\"-96.8\" font-family=\"Times,serif\" font-size=\"14.00\">x1w1 + x2w2</text>\n<polyline fill=\"none\" stroke=\"black\" points=\"888,-82.5 888,-118.5 \"/>\n<text text-anchor=\"middle\" x=\"941.5\" y=\"-96.8\" font-family=\"Times,serif\" font-size=\"14.00\">data &#45;6.0000</text>\n<polyline fill=\"none\" stroke=\"black\" points=\"995,-82.5 995,-118.5 \"/>\n<text text-anchor=\"middle\" x=\"1047\" y=\"-96.8\" font-family=\"Times,serif\" font-size=\"14.00\">grad 0.5000</text>\n</g>\n<!-- 140522373547248&#45;&gt;140522373546144+ -->\n<g id=\"edge10\" class=\"edge\">\n<title>140522373547248&#45;&gt;140522373546144+</title>\n<path fill=\"none\" stroke=\"black\" d=\"M1081.26,-82.49C1097.41,-80.47 1112.59,-78.56 1125.28,-76.97\"/>\n<polygon fill=\"black\" stroke=\"black\" points=\"1125.84,-80.43 1135.32,-75.72 1124.96,-73.49 1125.84,-80.43\"/>\n</g>\n<!-- 140522373547248+&#45;&gt;140522373547248 -->\n<g id=\"edge3\" class=\"edge\">\n<title>140522373547248+&#45;&gt;140522373547248</title>\n<path fill=\"none\" stroke=\"black\" d=\"M738.08,-100.5C745.51,-100.5 754.21,-100.5 763.74,-100.5\"/>\n<polygon fill=\"black\" stroke=\"black\" points=\"763.95,-104 773.95,-100.5 763.95,-97 763.95,-104\"/>\n</g>\n<!-- 140522373549840 -->\n<g id=\"node10\" class=\"node\">\n<title>140522373549840</title>\n<polygon fill=\"none\" stroke=\"black\" points=\"377.5,-55.5 377.5,-91.5 645.5,-91.5 645.5,-55.5 377.5,-55.5\"/>\n<text text-anchor=\"middle\" x=\"408.5\" y=\"-69.8\" font-family=\"Times,serif\" font-size=\"14.00\">x2*w2</text>\n<polyline fill=\"none\" stroke=\"black\" points=\"439.5,-55.5 439.5,-91.5 \"/>\n<text text-anchor=\"middle\" x=\"490.5\" y=\"-69.8\" font-family=\"Times,serif\" font-size=\"14.00\">data 0.0000</text>\n<polyline fill=\"none\" stroke=\"black\" points=\"541.5,-55.5 541.5,-91.5 \"/>\n<text text-anchor=\"middle\" x=\"593.5\" y=\"-69.8\" font-family=\"Times,serif\" font-size=\"14.00\">grad 0.5000</text>\n</g>\n<!-- 140522373549840&#45;&gt;140522373547248+ -->\n<g id=\"edge8\" class=\"edge\">\n<title>140522373549840&#45;&gt;140522373547248+</title>\n<path fill=\"none\" stroke=\"black\" d=\"M644.24,-91.51C655.12,-93 665.4,-94.4 674.45,-95.64\"/>\n<polygon fill=\"black\" stroke=\"black\" points=\"674.11,-99.13 684.49,-97.01 675.05,-92.19 674.11,-99.13\"/>\n</g>\n<!-- 140522373549840* -->\n<g id=\"node11\" class=\"node\">\n<title>140522373549840*</title>\n<ellipse fill=\"none\" stroke=\"black\" cx=\"312\" cy=\"-73.5\" rx=\"27\" ry=\"18\"/>\n<text text-anchor=\"middle\" x=\"312\" y=\"-69.8\" font-family=\"Times,serif\" font-size=\"14.00\">*</text>\n</g>\n<!-- 140522373549840*&#45;&gt;140522373549840 -->\n<g id=\"edge4\" class=\"edge\">\n<title>140522373549840*&#45;&gt;140522373549840</title>\n<path fill=\"none\" stroke=\"black\" d=\"M339.23,-73.5C347.26,-73.5 356.72,-73.5 366.99,-73.5\"/>\n<polygon fill=\"black\" stroke=\"black\" points=\"367.08,-77 377.08,-73.5 367.08,-70 367.08,-77\"/>\n</g>\n<!-- 140522373525264 -->\n<g id=\"node12\" class=\"node\">\n<title>140522373525264</title>\n<polygon fill=\"none\" stroke=\"black\" points=\"4.5,-55.5 4.5,-91.5 244.5,-91.5 244.5,-55.5 4.5,-55.5\"/>\n<text text-anchor=\"middle\" x=\"21.5\" y=\"-69.8\" font-family=\"Times,serif\" font-size=\"14.00\">x2</text>\n<polyline fill=\"none\" stroke=\"black\" points=\"38.5,-55.5 38.5,-91.5 \"/>\n<text text-anchor=\"middle\" x=\"89.5\" y=\"-69.8\" font-family=\"Times,serif\" font-size=\"14.00\">data 0.0000</text>\n<polyline fill=\"none\" stroke=\"black\" points=\"140.5,-55.5 140.5,-91.5 \"/>\n<text text-anchor=\"middle\" x=\"192.5\" y=\"-69.8\" font-family=\"Times,serif\" font-size=\"14.00\">grad 0.5000</text>\n</g>\n<!-- 140522373525264&#45;&gt;140522373549840* -->\n<g id=\"edge9\" class=\"edge\">\n<title>140522373525264&#45;&gt;140522373549840*</title>\n<path fill=\"none\" stroke=\"black\" d=\"M244.55,-73.5C255.31,-73.5 265.54,-73.5 274.62,-73.5\"/>\n<polygon fill=\"black\" stroke=\"black\" points=\"274.7,-77 284.7,-73.5 274.7,-70 274.7,-77\"/>\n</g>\n<!-- 140522373549408 -->\n<g id=\"node13\" class=\"node\">\n<title>140522373549408</title>\n<polygon fill=\"none\" stroke=\"black\" points=\"1592.69,-54.5 1592.69,-90.5 1823.69,-90.5 1823.69,-54.5 1592.69,-54.5\"/>\n<text text-anchor=\"middle\" x=\"1605.19\" y=\"-68.8\" font-family=\"Times,serif\" font-size=\"14.00\">o</text>\n<polyline fill=\"none\" stroke=\"black\" points=\"1617.69,-54.5 1617.69,-90.5 \"/>\n<text text-anchor=\"middle\" x=\"1668.69\" y=\"-68.8\" font-family=\"Times,serif\" font-size=\"14.00\">data 0.7071</text>\n<polyline fill=\"none\" stroke=\"black\" points=\"1719.69,-54.5 1719.69,-90.5 \"/>\n<text text-anchor=\"middle\" x=\"1771.69\" y=\"-68.8\" font-family=\"Times,serif\" font-size=\"14.00\">grad 1.0000</text>\n</g>\n<!-- 140522373549408tanh&#45;&gt;140522373549408 -->\n<g id=\"edge5\" class=\"edge\">\n<title>140522373549408tanh&#45;&gt;140522373549408</title>\n<path fill=\"none\" stroke=\"black\" d=\"M1557.02,-72.5C1564.61,-72.5 1573.19,-72.5 1582.31,-72.5\"/>\n<polygon fill=\"black\" stroke=\"black\" points=\"1582.4,-76 1592.4,-72.5 1582.4,-69 1582.4,-76\"/>\n</g>\n<!-- 140522373524400 -->\n<g id=\"node15\" class=\"node\">\n<title>140522373524400</title>\n<polygon fill=\"none\" stroke=\"black\" points=\"2.5,-0.5 2.5,-36.5 246.5,-36.5 246.5,-0.5 2.5,-0.5\"/>\n<text text-anchor=\"middle\" x=\"21.5\" y=\"-14.8\" font-family=\"Times,serif\" font-size=\"14.00\">w2</text>\n<polyline fill=\"none\" stroke=\"black\" points=\"40.5,-0.5 40.5,-36.5 \"/>\n<text text-anchor=\"middle\" x=\"91.5\" y=\"-14.8\" font-family=\"Times,serif\" font-size=\"14.00\">data 1.0000</text>\n<polyline fill=\"none\" stroke=\"black\" points=\"142.5,-0.5 142.5,-36.5 \"/>\n<text text-anchor=\"middle\" x=\"194.5\" y=\"-14.8\" font-family=\"Times,serif\" font-size=\"14.00\">grad 0.0000</text>\n</g>\n<!-- 140522373524400&#45;&gt;140522373549840* -->\n<g id=\"edge13\" class=\"edge\">\n<title>140522373524400&#45;&gt;140522373549840*</title>\n<path fill=\"none\" stroke=\"black\" d=\"M214.42,-36.55C226.15,-39.54 237.93,-42.87 249,-46.5 259.46,-49.93 270.57,-54.47 280.46,-58.84\"/>\n<polygon fill=\"black\" stroke=\"black\" points=\"279.31,-62.17 289.87,-63.12 282.21,-55.79 279.31,-62.17\"/>\n</g>\n</g>\n</svg>\n",
      "text/plain": [
       "<graphviz.graphs.Digraph at 0x7fcdea282760>"
      ]
     },
     "execution_count": 39,
     "metadata": {},
     "output_type": "execute_result"
    }
   ],
   "source": [
    "draw_dot(o)"
   ]
  },
  {
   "attachments": {},
   "cell_type": "markdown",
   "id": "8f999f0b",
   "metadata": {},
   "source": [
    "With our series of calls to `_backward` earlier, we essentially computed the gradients just like before. But you may think: \"*This **is not** quite automatic, Kassi 🤔. I thought we would call `_backward` once, and the gradient would be computed from the output back to the input. One call, not multiple calls*\" 🤷\n",
    "\n",
    "And you'd be right!\n",
    "\n",
    "For our `_backward` function to \"touch\" all of the nodes, with only one call, we'd need to do a **topological sort**. Topological sort, Andrej said, consists in laying out a graph, such that all the edges go only from left to right. Here is a an illustration:\n",
    "\n",
    "![Topological sort illustration](./images/img-6.png)"
   ]
  },
  {
   "attachments": {},
   "cell_type": "markdown",
   "id": "b70f9810",
   "metadata": {},
   "source": [
    "To implement topological sort, Andrej provided the following piece of code: "
   ]
  },
  {
   "cell_type": "code",
   "execution_count": 40,
   "id": "87b20e01",
   "metadata": {},
   "outputs": [
    {
     "data": {
      "text/plain": [
       "[Value(data = 6.881373587019543),\n",
       " Value(data = 0.0),\n",
       " Value(data = 1.0),\n",
       " Value(data = 0.0),\n",
       " Value(data = 2.0),\n",
       " Value(data = -3.0),\n",
       " Value(data = -6.0),\n",
       " Value(data = -6.0),\n",
       " Value(data = 0.8813735870195432),\n",
       " Value(data = 0.7071067811865476)]"
      ]
     },
     "execution_count": 40,
     "metadata": {},
     "output_type": "execute_result"
    }
   ],
   "source": [
    "topo = []\n",
    "visited = set()\n",
    "\n",
    "def build_topo(v):\n",
    "    if v not in visited:\n",
    "        visited.add(v)\n",
    "        for child in v._prev:\n",
    "            build_topo(child)\n",
    "        topo.append(v)\n",
    "\n",
    "build_topo(o)\n",
    "topo"
   ]
  },
  {
   "attachments": {},
   "cell_type": "markdown",
   "id": "54eefac7",
   "metadata": {},
   "source": [
    "`build_topo` ordered the Nodes in our graph. The last `Value` object in the list, is Node `o`. \n",
    "\n",
    "We call `build_topo` on a root node (Node `o` in our case), and that node is only added after all of its children have been processed and added to the `topo` list. It garanties that any given node will be in the list once... when all of its children are in the list, and that's the invariant that is maintained."
   ]
  },
  {
   "attachments": {},
   "cell_type": "markdown",
   "id": "d38b2a62",
   "metadata": {},
   "source": [
    "With this list, what we can do is iterative through the list of nodes, and call `_backward` every time. But first let's reset the graph once again."
   ]
  },
  {
   "cell_type": "code",
   "execution_count": 41,
   "id": "d1bd7aae",
   "metadata": {},
   "outputs": [],
   "source": [
    "#--- Inputs 1 & 2\n",
    "x1 = Value(2.0, label='x1')\n",
    "x2 = Value(0.0, label='x2')\n",
    "#---- Weights 1 & 2\n",
    "w1 = Value(-3.0, label='w1')\n",
    "w2 = Value(1.0, label='w2')\n",
    "#--- bias\n",
    "b = Value(6.8813735870195432, label='b')\n",
    "\n",
    "#net sum = x1*w1 + x2*w2 + b\n",
    "x1w1 = x1*w1; x1w1.label = 'x1*w1'\n",
    "x2w2 = x2*w2; x2w2.label = 'x2*w2'\n",
    "x1w1x2w2 = x1w1 + x2w2; x1w1x2w2.label = 'x1w1 + x2w2'\n",
    "n = x1w1x2w2 + b; n.label = 'n'\n",
    "\n",
    "# 'n' goes through activation function\n",
    "# giving the final result. At this point\n",
    "# I scrolled back to the Value class and implemented \"tanh\".\n",
    "o = n.tanh(); o.label='o'"
   ]
  },
  {
   "cell_type": "code",
   "execution_count": 42,
   "id": "b95743ec",
   "metadata": {},
   "outputs": [
    {
     "data": {
      "image/svg+xml": "<?xml version=\"1.0\" encoding=\"UTF-8\" standalone=\"no\"?>\n<!DOCTYPE svg PUBLIC \"-//W3C//DTD SVG 1.1//EN\"\n \"http://www.w3.org/Graphics/SVG/1.1/DTD/svg11.dtd\">\n<!-- Generated by graphviz version 2.50.0 (0)\n -->\n<!-- Pages: 1 -->\n<svg width=\"1832pt\" height=\"210pt\"\n viewBox=\"0.00 0.00 1831.69 210.00\" xmlns=\"http://www.w3.org/2000/svg\" xmlns:xlink=\"http://www.w3.org/1999/xlink\">\n<g id=\"graph0\" class=\"graph\" transform=\"scale(1 1) rotate(0) translate(4 206)\">\n<polygon fill=\"white\" stroke=\"transparent\" points=\"-4,4 -4,-206 1827.69,-206 1827.69,4 -4,4\"/>\n<!-- 140522373524496 -->\n<g id=\"node1\" class=\"node\">\n<title>140522373524496</title>\n<polygon fill=\"none\" stroke=\"black\" points=\"820.5,-137.5 820.5,-173.5 1052.5,-173.5 1052.5,-137.5 820.5,-137.5\"/>\n<text text-anchor=\"middle\" x=\"833.5\" y=\"-151.8\" font-family=\"Times,serif\" font-size=\"14.00\">b</text>\n<polyline fill=\"none\" stroke=\"black\" points=\"846.5,-137.5 846.5,-173.5 \"/>\n<text text-anchor=\"middle\" x=\"897.5\" y=\"-151.8\" font-family=\"Times,serif\" font-size=\"14.00\">data 6.8814</text>\n<polyline fill=\"none\" stroke=\"black\" points=\"948.5,-137.5 948.5,-173.5 \"/>\n<text text-anchor=\"middle\" x=\"1000.5\" y=\"-151.8\" font-family=\"Times,serif\" font-size=\"14.00\">grad 0.0000</text>\n</g>\n<!-- 140522373549168+ -->\n<g id=\"node5\" class=\"node\">\n<title>140522373549168+</title>\n<ellipse fill=\"none\" stroke=\"black\" cx=\"1162\" cy=\"-127.5\" rx=\"27\" ry=\"18\"/>\n<text text-anchor=\"middle\" x=\"1162\" y=\"-123.8\" font-family=\"Times,serif\" font-size=\"14.00\">+</text>\n</g>\n<!-- 140522373524496&#45;&gt;140522373549168+ -->\n<g id=\"edge13\" class=\"edge\">\n<title>140522373524496&#45;&gt;140522373549168+</title>\n<path fill=\"none\" stroke=\"black\" d=\"M1052.52,-141.09C1079,-137.77 1105.23,-134.49 1125.26,-131.98\"/>\n<polygon fill=\"black\" stroke=\"black\" points=\"1125.94,-135.42 1135.43,-130.7 1125.07,-128.47 1125.94,-135.42\"/>\n</g>\n<!-- 140522373548640 -->\n<g id=\"node2\" class=\"node\">\n<title>140522373548640</title>\n<polygon fill=\"none\" stroke=\"black\" points=\"375,-110.5 375,-146.5 648,-146.5 648,-110.5 375,-110.5\"/>\n<text text-anchor=\"middle\" x=\"406\" y=\"-124.8\" font-family=\"Times,serif\" font-size=\"14.00\">x1*w1</text>\n<polyline fill=\"none\" stroke=\"black\" points=\"437,-110.5 437,-146.5 \"/>\n<text text-anchor=\"middle\" x=\"490.5\" y=\"-124.8\" font-family=\"Times,serif\" font-size=\"14.00\">data &#45;6.0000</text>\n<polyline fill=\"none\" stroke=\"black\" points=\"544,-110.5 544,-146.5 \"/>\n<text text-anchor=\"middle\" x=\"596\" y=\"-124.8\" font-family=\"Times,serif\" font-size=\"14.00\">grad 0.0000</text>\n</g>\n<!-- 140522373546672+ -->\n<g id=\"node7\" class=\"node\">\n<title>140522373546672+</title>\n<ellipse fill=\"none\" stroke=\"black\" cx=\"711\" cy=\"-100.5\" rx=\"27\" ry=\"18\"/>\n<text text-anchor=\"middle\" x=\"711\" y=\"-96.8\" font-family=\"Times,serif\" font-size=\"14.00\">+</text>\n</g>\n<!-- 140522373548640&#45;&gt;140522373546672+ -->\n<g id=\"edge9\" class=\"edge\">\n<title>140522373548640&#45;&gt;140522373546672+</title>\n<path fill=\"none\" stroke=\"black\" d=\"M639.53,-110.49C652.09,-108.71 663.99,-107.02 674.3,-105.56\"/>\n<polygon fill=\"black\" stroke=\"black\" points=\"675.03,-108.99 684.44,-104.12 674.05,-102.06 675.03,-108.99\"/>\n</g>\n<!-- 140522373548640* -->\n<g id=\"node3\" class=\"node\">\n<title>140522373548640*</title>\n<ellipse fill=\"none\" stroke=\"black\" cx=\"312\" cy=\"-128.5\" rx=\"27\" ry=\"18\"/>\n<text text-anchor=\"middle\" x=\"312\" y=\"-124.8\" font-family=\"Times,serif\" font-size=\"14.00\">*</text>\n</g>\n<!-- 140522373548640*&#45;&gt;140522373548640 -->\n<g id=\"edge1\" class=\"edge\">\n<title>140522373548640*&#45;&gt;140522373548640</title>\n<path fill=\"none\" stroke=\"black\" d=\"M339.23,-128.5C346.7,-128.5 355.41,-128.5 364.87,-128.5\"/>\n<polygon fill=\"black\" stroke=\"black\" points=\"364.98,-132 374.98,-128.5 364.98,-125 364.98,-132\"/>\n</g>\n<!-- 140522373549168 -->\n<g id=\"node4\" class=\"node\">\n<title>140522373549168</title>\n<polygon fill=\"none\" stroke=\"black\" points=\"1225,-109.5 1225,-145.5 1457,-145.5 1457,-109.5 1225,-109.5\"/>\n<text text-anchor=\"middle\" x=\"1238\" y=\"-123.8\" font-family=\"Times,serif\" font-size=\"14.00\">n</text>\n<polyline fill=\"none\" stroke=\"black\" points=\"1251,-109.5 1251,-145.5 \"/>\n<text text-anchor=\"middle\" x=\"1302\" y=\"-123.8\" font-family=\"Times,serif\" font-size=\"14.00\">data 0.8814</text>\n<polyline fill=\"none\" stroke=\"black\" points=\"1353,-109.5 1353,-145.5 \"/>\n<text text-anchor=\"middle\" x=\"1405\" y=\"-123.8\" font-family=\"Times,serif\" font-size=\"14.00\">grad 0.0000</text>\n</g>\n<!-- 140522373549360tanh -->\n<g id=\"node12\" class=\"node\">\n<title>140522373549360tanh</title>\n<ellipse fill=\"none\" stroke=\"black\" cx=\"1524.85\" cy=\"-127.5\" rx=\"31.7\" ry=\"18\"/>\n<text text-anchor=\"middle\" x=\"1524.85\" y=\"-123.8\" font-family=\"Times,serif\" font-size=\"14.00\">tanh</text>\n</g>\n<!-- 140522373549168&#45;&gt;140522373549360tanh -->\n<g id=\"edge6\" class=\"edge\">\n<title>140522373549168&#45;&gt;140522373549360tanh</title>\n<path fill=\"none\" stroke=\"black\" d=\"M1457.17,-127.5C1466.08,-127.5 1474.66,-127.5 1482.53,-127.5\"/>\n<polygon fill=\"black\" stroke=\"black\" points=\"1482.78,-131 1492.78,-127.5 1482.78,-124 1482.78,-131\"/>\n</g>\n<!-- 140522373549168+&#45;&gt;140522373549168 -->\n<g id=\"edge2\" class=\"edge\">\n<title>140522373549168+&#45;&gt;140522373549168</title>\n<path fill=\"none\" stroke=\"black\" d=\"M1189.12,-127.5C1196.53,-127.5 1205.14,-127.5 1214.4,-127.5\"/>\n<polygon fill=\"black\" stroke=\"black\" points=\"1214.69,-131 1224.69,-127.5 1214.69,-124 1214.69,-131\"/>\n</g>\n<!-- 140522373546672 -->\n<g id=\"node6\" class=\"node\">\n<title>140522373546672</title>\n<polygon fill=\"none\" stroke=\"black\" points=\"774,-82.5 774,-118.5 1099,-118.5 1099,-82.5 774,-82.5\"/>\n<text text-anchor=\"middle\" x=\"831\" y=\"-96.8\" font-family=\"Times,serif\" font-size=\"14.00\">x1w1 + x2w2</text>\n<polyline fill=\"none\" stroke=\"black\" points=\"888,-82.5 888,-118.5 \"/>\n<text text-anchor=\"middle\" x=\"941.5\" y=\"-96.8\" font-family=\"Times,serif\" font-size=\"14.00\">data &#45;6.0000</text>\n<polyline fill=\"none\" stroke=\"black\" points=\"995,-82.5 995,-118.5 \"/>\n<text text-anchor=\"middle\" x=\"1047\" y=\"-96.8\" font-family=\"Times,serif\" font-size=\"14.00\">grad 0.0000</text>\n</g>\n<!-- 140522373546672&#45;&gt;140522373549168+ -->\n<g id=\"edge11\" class=\"edge\">\n<title>140522373546672&#45;&gt;140522373549168+</title>\n<path fill=\"none\" stroke=\"black\" d=\"M1086.58,-118.51C1100.66,-120.21 1113.84,-121.8 1125.09,-123.16\"/>\n<polygon fill=\"black\" stroke=\"black\" points=\"1124.89,-126.66 1135.24,-124.39 1125.73,-119.71 1124.89,-126.66\"/>\n</g>\n<!-- 140522373546672+&#45;&gt;140522373546672 -->\n<g id=\"edge3\" class=\"edge\">\n<title>140522373546672+&#45;&gt;140522373546672</title>\n<path fill=\"none\" stroke=\"black\" d=\"M738.08,-100.5C745.51,-100.5 754.21,-100.5 763.74,-100.5\"/>\n<polygon fill=\"black\" stroke=\"black\" points=\"763.95,-104 773.95,-100.5 763.95,-97 763.95,-104\"/>\n</g>\n<!-- 140522373548208 -->\n<g id=\"node8\" class=\"node\">\n<title>140522373548208</title>\n<polygon fill=\"none\" stroke=\"black\" points=\"377.5,-55.5 377.5,-91.5 645.5,-91.5 645.5,-55.5 377.5,-55.5\"/>\n<text text-anchor=\"middle\" x=\"408.5\" y=\"-69.8\" font-family=\"Times,serif\" font-size=\"14.00\">x2*w2</text>\n<polyline fill=\"none\" stroke=\"black\" points=\"439.5,-55.5 439.5,-91.5 \"/>\n<text text-anchor=\"middle\" x=\"490.5\" y=\"-69.8\" font-family=\"Times,serif\" font-size=\"14.00\">data 0.0000</text>\n<polyline fill=\"none\" stroke=\"black\" points=\"541.5,-55.5 541.5,-91.5 \"/>\n<text text-anchor=\"middle\" x=\"593.5\" y=\"-69.8\" font-family=\"Times,serif\" font-size=\"14.00\">grad 0.0000</text>\n</g>\n<!-- 140522373548208&#45;&gt;140522373546672+ -->\n<g id=\"edge8\" class=\"edge\">\n<title>140522373548208&#45;&gt;140522373546672+</title>\n<path fill=\"none\" stroke=\"black\" d=\"M644.24,-91.51C655.12,-93 665.4,-94.4 674.45,-95.64\"/>\n<polygon fill=\"black\" stroke=\"black\" points=\"674.11,-99.13 684.49,-97.01 675.05,-92.19 674.11,-99.13\"/>\n</g>\n<!-- 140522373548208* -->\n<g id=\"node9\" class=\"node\">\n<title>140522373548208*</title>\n<ellipse fill=\"none\" stroke=\"black\" cx=\"312\" cy=\"-73.5\" rx=\"27\" ry=\"18\"/>\n<text text-anchor=\"middle\" x=\"312\" y=\"-69.8\" font-family=\"Times,serif\" font-size=\"14.00\">*</text>\n</g>\n<!-- 140522373548208*&#45;&gt;140522373548208 -->\n<g id=\"edge4\" class=\"edge\">\n<title>140522373548208*&#45;&gt;140522373548208</title>\n<path fill=\"none\" stroke=\"black\" d=\"M339.23,-73.5C347.26,-73.5 356.72,-73.5 366.99,-73.5\"/>\n<polygon fill=\"black\" stroke=\"black\" points=\"367.08,-77 377.08,-73.5 367.08,-70 367.08,-77\"/>\n</g>\n<!-- 140522373525216 -->\n<g id=\"node10\" class=\"node\">\n<title>140522373525216</title>\n<polygon fill=\"none\" stroke=\"black\" points=\"4.5,-55.5 4.5,-91.5 244.5,-91.5 244.5,-55.5 4.5,-55.5\"/>\n<text text-anchor=\"middle\" x=\"21.5\" y=\"-69.8\" font-family=\"Times,serif\" font-size=\"14.00\">x2</text>\n<polyline fill=\"none\" stroke=\"black\" points=\"38.5,-55.5 38.5,-91.5 \"/>\n<text text-anchor=\"middle\" x=\"89.5\" y=\"-69.8\" font-family=\"Times,serif\" font-size=\"14.00\">data 0.0000</text>\n<polyline fill=\"none\" stroke=\"black\" points=\"140.5,-55.5 140.5,-91.5 \"/>\n<text text-anchor=\"middle\" x=\"192.5\" y=\"-69.8\" font-family=\"Times,serif\" font-size=\"14.00\">grad 0.0000</text>\n</g>\n<!-- 140522373525216&#45;&gt;140522373548208* -->\n<g id=\"edge7\" class=\"edge\">\n<title>140522373525216&#45;&gt;140522373548208*</title>\n<path fill=\"none\" stroke=\"black\" d=\"M244.55,-73.5C255.31,-73.5 265.54,-73.5 274.62,-73.5\"/>\n<polygon fill=\"black\" stroke=\"black\" points=\"274.7,-77 284.7,-73.5 274.7,-70 274.7,-77\"/>\n</g>\n<!-- 140522373549360 -->\n<g id=\"node11\" class=\"node\">\n<title>140522373549360</title>\n<polygon fill=\"none\" stroke=\"black\" points=\"1592.69,-109.5 1592.69,-145.5 1823.69,-145.5 1823.69,-109.5 1592.69,-109.5\"/>\n<text text-anchor=\"middle\" x=\"1605.19\" y=\"-123.8\" font-family=\"Times,serif\" font-size=\"14.00\">o</text>\n<polyline fill=\"none\" stroke=\"black\" points=\"1617.69,-109.5 1617.69,-145.5 \"/>\n<text text-anchor=\"middle\" x=\"1668.69\" y=\"-123.8\" font-family=\"Times,serif\" font-size=\"14.00\">data 0.7071</text>\n<polyline fill=\"none\" stroke=\"black\" points=\"1719.69,-109.5 1719.69,-145.5 \"/>\n<text text-anchor=\"middle\" x=\"1771.69\" y=\"-123.8\" font-family=\"Times,serif\" font-size=\"14.00\">grad 0.0000</text>\n</g>\n<!-- 140522373549360tanh&#45;&gt;140522373549360 -->\n<g id=\"edge5\" class=\"edge\">\n<title>140522373549360tanh&#45;&gt;140522373549360</title>\n<path fill=\"none\" stroke=\"black\" d=\"M1557.02,-127.5C1564.61,-127.5 1573.19,-127.5 1582.31,-127.5\"/>\n<polygon fill=\"black\" stroke=\"black\" points=\"1582.4,-131 1592.4,-127.5 1582.4,-124 1582.4,-131\"/>\n</g>\n<!-- 140522373524352 -->\n<g id=\"node13\" class=\"node\">\n<title>140522373524352</title>\n<polygon fill=\"none\" stroke=\"black\" points=\"2.5,-0.5 2.5,-36.5 246.5,-36.5 246.5,-0.5 2.5,-0.5\"/>\n<text text-anchor=\"middle\" x=\"21.5\" y=\"-14.8\" font-family=\"Times,serif\" font-size=\"14.00\">w2</text>\n<polyline fill=\"none\" stroke=\"black\" points=\"40.5,-0.5 40.5,-36.5 \"/>\n<text text-anchor=\"middle\" x=\"91.5\" y=\"-14.8\" font-family=\"Times,serif\" font-size=\"14.00\">data 1.0000</text>\n<polyline fill=\"none\" stroke=\"black\" points=\"142.5,-0.5 142.5,-36.5 \"/>\n<text text-anchor=\"middle\" x=\"194.5\" y=\"-14.8\" font-family=\"Times,serif\" font-size=\"14.00\">grad 0.0000</text>\n</g>\n<!-- 140522373524352&#45;&gt;140522373548208* -->\n<g id=\"edge12\" class=\"edge\">\n<title>140522373524352&#45;&gt;140522373548208*</title>\n<path fill=\"none\" stroke=\"black\" d=\"M214.42,-36.55C226.15,-39.54 237.93,-42.87 249,-46.5 259.46,-49.93 270.57,-54.47 280.46,-58.84\"/>\n<polygon fill=\"black\" stroke=\"black\" points=\"279.31,-62.17 289.87,-63.12 282.21,-55.79 279.31,-62.17\"/>\n</g>\n<!-- 140522373521856 -->\n<g id=\"node14\" class=\"node\">\n<title>140522373521856</title>\n<polygon fill=\"none\" stroke=\"black\" points=\"4.5,-165.5 4.5,-201.5 244.5,-201.5 244.5,-165.5 4.5,-165.5\"/>\n<text text-anchor=\"middle\" x=\"21.5\" y=\"-179.8\" font-family=\"Times,serif\" font-size=\"14.00\">x1</text>\n<polyline fill=\"none\" stroke=\"black\" points=\"38.5,-165.5 38.5,-201.5 \"/>\n<text text-anchor=\"middle\" x=\"89.5\" y=\"-179.8\" font-family=\"Times,serif\" font-size=\"14.00\">data 2.0000</text>\n<polyline fill=\"none\" stroke=\"black\" points=\"140.5,-165.5 140.5,-201.5 \"/>\n<text text-anchor=\"middle\" x=\"192.5\" y=\"-179.8\" font-family=\"Times,serif\" font-size=\"14.00\">grad 0.0000</text>\n</g>\n<!-- 140522373521856&#45;&gt;140522373548640* -->\n<g id=\"edge10\" class=\"edge\">\n<title>140522373521856&#45;&gt;140522373548640*</title>\n<path fill=\"none\" stroke=\"black\" d=\"M218.13,-165.46C228.63,-162.77 239.1,-159.78 249,-156.5 259.71,-152.96 271.05,-148.16 281.07,-143.54\"/>\n<polygon fill=\"black\" stroke=\"black\" points=\"282.67,-146.66 290.2,-139.21 279.67,-140.33 282.67,-146.66\"/>\n</g>\n<!-- 140522373521904 -->\n<g id=\"node15\" class=\"node\">\n<title>140522373521904</title>\n<polygon fill=\"none\" stroke=\"black\" points=\"0,-110.5 0,-146.5 249,-146.5 249,-110.5 0,-110.5\"/>\n<text text-anchor=\"middle\" x=\"19\" y=\"-124.8\" font-family=\"Times,serif\" font-size=\"14.00\">w1</text>\n<polyline fill=\"none\" stroke=\"black\" points=\"38,-110.5 38,-146.5 \"/>\n<text text-anchor=\"middle\" x=\"91.5\" y=\"-124.8\" font-family=\"Times,serif\" font-size=\"14.00\">data &#45;3.0000</text>\n<polyline fill=\"none\" stroke=\"black\" points=\"145,-110.5 145,-146.5 \"/>\n<text text-anchor=\"middle\" x=\"197\" y=\"-124.8\" font-family=\"Times,serif\" font-size=\"14.00\">grad 0.0000</text>\n</g>\n<!-- 140522373521904&#45;&gt;140522373548640* -->\n<g id=\"edge14\" class=\"edge\">\n<title>140522373521904&#45;&gt;140522373548640*</title>\n<path fill=\"none\" stroke=\"black\" d=\"M249.23,-128.5C258.37,-128.5 267.05,-128.5 274.87,-128.5\"/>\n<polygon fill=\"black\" stroke=\"black\" points=\"274.95,-132 284.95,-128.5 274.95,-125 274.95,-132\"/>\n</g>\n</g>\n</svg>\n",
      "text/plain": [
       "<graphviz.graphs.Digraph at 0x7fcdea282700>"
      ]
     },
     "execution_count": 42,
     "metadata": {},
     "output_type": "execute_result"
    }
   ],
   "source": [
    "draw_dot(o)"
   ]
  },
  {
   "attachments": {},
   "cell_type": "markdown",
   "id": "b95ea1be",
   "metadata": {},
   "source": [
    "See? The gradients are all zeros. But if we build the topological graph representation, iterate through it and call `_backward` for each node. The result will be exactly what we got manually."
   ]
  },
  {
   "cell_type": "code",
   "execution_count": 43,
   "id": "b9e1687e",
   "metadata": {},
   "outputs": [],
   "source": [
    "o.grad = 1.0 #base case.\n",
    "topo = []\n",
    "build_topo(o)\n",
    "for node in reversed(topo):\n",
    "    node._backward()"
   ]
  },
  {
   "cell_type": "code",
   "execution_count": 44,
   "id": "5d5df12e",
   "metadata": {},
   "outputs": [
    {
     "data": {
      "image/svg+xml": "<?xml version=\"1.0\" encoding=\"UTF-8\" standalone=\"no\"?>\n<!DOCTYPE svg PUBLIC \"-//W3C//DTD SVG 1.1//EN\"\n \"http://www.w3.org/Graphics/SVG/1.1/DTD/svg11.dtd\">\n<!-- Generated by graphviz version 2.50.0 (0)\n -->\n<!-- Pages: 1 -->\n<svg width=\"1832pt\" height=\"210pt\"\n viewBox=\"0.00 0.00 1831.69 210.00\" xmlns=\"http://www.w3.org/2000/svg\" xmlns:xlink=\"http://www.w3.org/1999/xlink\">\n<g id=\"graph0\" class=\"graph\" transform=\"scale(1 1) rotate(0) translate(4 206)\">\n<polygon fill=\"white\" stroke=\"transparent\" points=\"-4,4 -4,-206 1827.69,-206 1827.69,4 -4,4\"/>\n<!-- 140522373524496 -->\n<g id=\"node1\" class=\"node\">\n<title>140522373524496</title>\n<polygon fill=\"none\" stroke=\"black\" points=\"820.5,-137.5 820.5,-173.5 1052.5,-173.5 1052.5,-137.5 820.5,-137.5\"/>\n<text text-anchor=\"middle\" x=\"833.5\" y=\"-151.8\" font-family=\"Times,serif\" font-size=\"14.00\">b</text>\n<polyline fill=\"none\" stroke=\"black\" points=\"846.5,-137.5 846.5,-173.5 \"/>\n<text text-anchor=\"middle\" x=\"897.5\" y=\"-151.8\" font-family=\"Times,serif\" font-size=\"14.00\">data 6.8814</text>\n<polyline fill=\"none\" stroke=\"black\" points=\"948.5,-137.5 948.5,-173.5 \"/>\n<text text-anchor=\"middle\" x=\"1000.5\" y=\"-151.8\" font-family=\"Times,serif\" font-size=\"14.00\">grad 0.5000</text>\n</g>\n<!-- 140522373549168+ -->\n<g id=\"node5\" class=\"node\">\n<title>140522373549168+</title>\n<ellipse fill=\"none\" stroke=\"black\" cx=\"1162\" cy=\"-127.5\" rx=\"27\" ry=\"18\"/>\n<text text-anchor=\"middle\" x=\"1162\" y=\"-123.8\" font-family=\"Times,serif\" font-size=\"14.00\">+</text>\n</g>\n<!-- 140522373524496&#45;&gt;140522373549168+ -->\n<g id=\"edge13\" class=\"edge\">\n<title>140522373524496&#45;&gt;140522373549168+</title>\n<path fill=\"none\" stroke=\"black\" d=\"M1052.52,-141.09C1079,-137.77 1105.23,-134.49 1125.26,-131.98\"/>\n<polygon fill=\"black\" stroke=\"black\" points=\"1125.94,-135.42 1135.43,-130.7 1125.07,-128.47 1125.94,-135.42\"/>\n</g>\n<!-- 140522373548640 -->\n<g id=\"node2\" class=\"node\">\n<title>140522373548640</title>\n<polygon fill=\"none\" stroke=\"black\" points=\"375,-110.5 375,-146.5 648,-146.5 648,-110.5 375,-110.5\"/>\n<text text-anchor=\"middle\" x=\"406\" y=\"-124.8\" font-family=\"Times,serif\" font-size=\"14.00\">x1*w1</text>\n<polyline fill=\"none\" stroke=\"black\" points=\"437,-110.5 437,-146.5 \"/>\n<text text-anchor=\"middle\" x=\"490.5\" y=\"-124.8\" font-family=\"Times,serif\" font-size=\"14.00\">data &#45;6.0000</text>\n<polyline fill=\"none\" stroke=\"black\" points=\"544,-110.5 544,-146.5 \"/>\n<text text-anchor=\"middle\" x=\"596\" y=\"-124.8\" font-family=\"Times,serif\" font-size=\"14.00\">grad 0.5000</text>\n</g>\n<!-- 140522373546672+ -->\n<g id=\"node7\" class=\"node\">\n<title>140522373546672+</title>\n<ellipse fill=\"none\" stroke=\"black\" cx=\"711\" cy=\"-100.5\" rx=\"27\" ry=\"18\"/>\n<text text-anchor=\"middle\" x=\"711\" y=\"-96.8\" font-family=\"Times,serif\" font-size=\"14.00\">+</text>\n</g>\n<!-- 140522373548640&#45;&gt;140522373546672+ -->\n<g id=\"edge9\" class=\"edge\">\n<title>140522373548640&#45;&gt;140522373546672+</title>\n<path fill=\"none\" stroke=\"black\" d=\"M639.53,-110.49C652.09,-108.71 663.99,-107.02 674.3,-105.56\"/>\n<polygon fill=\"black\" stroke=\"black\" points=\"675.03,-108.99 684.44,-104.12 674.05,-102.06 675.03,-108.99\"/>\n</g>\n<!-- 140522373548640* -->\n<g id=\"node3\" class=\"node\">\n<title>140522373548640*</title>\n<ellipse fill=\"none\" stroke=\"black\" cx=\"312\" cy=\"-128.5\" rx=\"27\" ry=\"18\"/>\n<text text-anchor=\"middle\" x=\"312\" y=\"-124.8\" font-family=\"Times,serif\" font-size=\"14.00\">*</text>\n</g>\n<!-- 140522373548640*&#45;&gt;140522373548640 -->\n<g id=\"edge1\" class=\"edge\">\n<title>140522373548640*&#45;&gt;140522373548640</title>\n<path fill=\"none\" stroke=\"black\" d=\"M339.23,-128.5C346.7,-128.5 355.41,-128.5 364.87,-128.5\"/>\n<polygon fill=\"black\" stroke=\"black\" points=\"364.98,-132 374.98,-128.5 364.98,-125 364.98,-132\"/>\n</g>\n<!-- 140522373549168 -->\n<g id=\"node4\" class=\"node\">\n<title>140522373549168</title>\n<polygon fill=\"none\" stroke=\"black\" points=\"1225,-109.5 1225,-145.5 1457,-145.5 1457,-109.5 1225,-109.5\"/>\n<text text-anchor=\"middle\" x=\"1238\" y=\"-123.8\" font-family=\"Times,serif\" font-size=\"14.00\">n</text>\n<polyline fill=\"none\" stroke=\"black\" points=\"1251,-109.5 1251,-145.5 \"/>\n<text text-anchor=\"middle\" x=\"1302\" y=\"-123.8\" font-family=\"Times,serif\" font-size=\"14.00\">data 0.8814</text>\n<polyline fill=\"none\" stroke=\"black\" points=\"1353,-109.5 1353,-145.5 \"/>\n<text text-anchor=\"middle\" x=\"1405\" y=\"-123.8\" font-family=\"Times,serif\" font-size=\"14.00\">grad 0.5000</text>\n</g>\n<!-- 140522373549360tanh -->\n<g id=\"node12\" class=\"node\">\n<title>140522373549360tanh</title>\n<ellipse fill=\"none\" stroke=\"black\" cx=\"1524.85\" cy=\"-127.5\" rx=\"31.7\" ry=\"18\"/>\n<text text-anchor=\"middle\" x=\"1524.85\" y=\"-123.8\" font-family=\"Times,serif\" font-size=\"14.00\">tanh</text>\n</g>\n<!-- 140522373549168&#45;&gt;140522373549360tanh -->\n<g id=\"edge6\" class=\"edge\">\n<title>140522373549168&#45;&gt;140522373549360tanh</title>\n<path fill=\"none\" stroke=\"black\" d=\"M1457.17,-127.5C1466.08,-127.5 1474.66,-127.5 1482.53,-127.5\"/>\n<polygon fill=\"black\" stroke=\"black\" points=\"1482.78,-131 1492.78,-127.5 1482.78,-124 1482.78,-131\"/>\n</g>\n<!-- 140522373549168+&#45;&gt;140522373549168 -->\n<g id=\"edge2\" class=\"edge\">\n<title>140522373549168+&#45;&gt;140522373549168</title>\n<path fill=\"none\" stroke=\"black\" d=\"M1189.12,-127.5C1196.53,-127.5 1205.14,-127.5 1214.4,-127.5\"/>\n<polygon fill=\"black\" stroke=\"black\" points=\"1214.69,-131 1224.69,-127.5 1214.69,-124 1214.69,-131\"/>\n</g>\n<!-- 140522373546672 -->\n<g id=\"node6\" class=\"node\">\n<title>140522373546672</title>\n<polygon fill=\"none\" stroke=\"black\" points=\"774,-82.5 774,-118.5 1099,-118.5 1099,-82.5 774,-82.5\"/>\n<text text-anchor=\"middle\" x=\"831\" y=\"-96.8\" font-family=\"Times,serif\" font-size=\"14.00\">x1w1 + x2w2</text>\n<polyline fill=\"none\" stroke=\"black\" points=\"888,-82.5 888,-118.5 \"/>\n<text text-anchor=\"middle\" x=\"941.5\" y=\"-96.8\" font-family=\"Times,serif\" font-size=\"14.00\">data &#45;6.0000</text>\n<polyline fill=\"none\" stroke=\"black\" points=\"995,-82.5 995,-118.5 \"/>\n<text text-anchor=\"middle\" x=\"1047\" y=\"-96.8\" font-family=\"Times,serif\" font-size=\"14.00\">grad 0.5000</text>\n</g>\n<!-- 140522373546672&#45;&gt;140522373549168+ -->\n<g id=\"edge11\" class=\"edge\">\n<title>140522373546672&#45;&gt;140522373549168+</title>\n<path fill=\"none\" stroke=\"black\" d=\"M1086.58,-118.51C1100.66,-120.21 1113.84,-121.8 1125.09,-123.16\"/>\n<polygon fill=\"black\" stroke=\"black\" points=\"1124.89,-126.66 1135.24,-124.39 1125.73,-119.71 1124.89,-126.66\"/>\n</g>\n<!-- 140522373546672+&#45;&gt;140522373546672 -->\n<g id=\"edge3\" class=\"edge\">\n<title>140522373546672+&#45;&gt;140522373546672</title>\n<path fill=\"none\" stroke=\"black\" d=\"M738.08,-100.5C745.51,-100.5 754.21,-100.5 763.74,-100.5\"/>\n<polygon fill=\"black\" stroke=\"black\" points=\"763.95,-104 773.95,-100.5 763.95,-97 763.95,-104\"/>\n</g>\n<!-- 140522373548208 -->\n<g id=\"node8\" class=\"node\">\n<title>140522373548208</title>\n<polygon fill=\"none\" stroke=\"black\" points=\"377.5,-55.5 377.5,-91.5 645.5,-91.5 645.5,-55.5 377.5,-55.5\"/>\n<text text-anchor=\"middle\" x=\"408.5\" y=\"-69.8\" font-family=\"Times,serif\" font-size=\"14.00\">x2*w2</text>\n<polyline fill=\"none\" stroke=\"black\" points=\"439.5,-55.5 439.5,-91.5 \"/>\n<text text-anchor=\"middle\" x=\"490.5\" y=\"-69.8\" font-family=\"Times,serif\" font-size=\"14.00\">data 0.0000</text>\n<polyline fill=\"none\" stroke=\"black\" points=\"541.5,-55.5 541.5,-91.5 \"/>\n<text text-anchor=\"middle\" x=\"593.5\" y=\"-69.8\" font-family=\"Times,serif\" font-size=\"14.00\">grad 0.5000</text>\n</g>\n<!-- 140522373548208&#45;&gt;140522373546672+ -->\n<g id=\"edge8\" class=\"edge\">\n<title>140522373548208&#45;&gt;140522373546672+</title>\n<path fill=\"none\" stroke=\"black\" d=\"M644.24,-91.51C655.12,-93 665.4,-94.4 674.45,-95.64\"/>\n<polygon fill=\"black\" stroke=\"black\" points=\"674.11,-99.13 684.49,-97.01 675.05,-92.19 674.11,-99.13\"/>\n</g>\n<!-- 140522373548208* -->\n<g id=\"node9\" class=\"node\">\n<title>140522373548208*</title>\n<ellipse fill=\"none\" stroke=\"black\" cx=\"312\" cy=\"-73.5\" rx=\"27\" ry=\"18\"/>\n<text text-anchor=\"middle\" x=\"312\" y=\"-69.8\" font-family=\"Times,serif\" font-size=\"14.00\">*</text>\n</g>\n<!-- 140522373548208*&#45;&gt;140522373548208 -->\n<g id=\"edge4\" class=\"edge\">\n<title>140522373548208*&#45;&gt;140522373548208</title>\n<path fill=\"none\" stroke=\"black\" d=\"M339.23,-73.5C347.26,-73.5 356.72,-73.5 366.99,-73.5\"/>\n<polygon fill=\"black\" stroke=\"black\" points=\"367.08,-77 377.08,-73.5 367.08,-70 367.08,-77\"/>\n</g>\n<!-- 140522373525216 -->\n<g id=\"node10\" class=\"node\">\n<title>140522373525216</title>\n<polygon fill=\"none\" stroke=\"black\" points=\"4.5,-55.5 4.5,-91.5 244.5,-91.5 244.5,-55.5 4.5,-55.5\"/>\n<text text-anchor=\"middle\" x=\"21.5\" y=\"-69.8\" font-family=\"Times,serif\" font-size=\"14.00\">x2</text>\n<polyline fill=\"none\" stroke=\"black\" points=\"38.5,-55.5 38.5,-91.5 \"/>\n<text text-anchor=\"middle\" x=\"89.5\" y=\"-69.8\" font-family=\"Times,serif\" font-size=\"14.00\">data 0.0000</text>\n<polyline fill=\"none\" stroke=\"black\" points=\"140.5,-55.5 140.5,-91.5 \"/>\n<text text-anchor=\"middle\" x=\"192.5\" y=\"-69.8\" font-family=\"Times,serif\" font-size=\"14.00\">grad 0.5000</text>\n</g>\n<!-- 140522373525216&#45;&gt;140522373548208* -->\n<g id=\"edge7\" class=\"edge\">\n<title>140522373525216&#45;&gt;140522373548208*</title>\n<path fill=\"none\" stroke=\"black\" d=\"M244.55,-73.5C255.31,-73.5 265.54,-73.5 274.62,-73.5\"/>\n<polygon fill=\"black\" stroke=\"black\" points=\"274.7,-77 284.7,-73.5 274.7,-70 274.7,-77\"/>\n</g>\n<!-- 140522373549360 -->\n<g id=\"node11\" class=\"node\">\n<title>140522373549360</title>\n<polygon fill=\"none\" stroke=\"black\" points=\"1592.69,-109.5 1592.69,-145.5 1823.69,-145.5 1823.69,-109.5 1592.69,-109.5\"/>\n<text text-anchor=\"middle\" x=\"1605.19\" y=\"-123.8\" font-family=\"Times,serif\" font-size=\"14.00\">o</text>\n<polyline fill=\"none\" stroke=\"black\" points=\"1617.69,-109.5 1617.69,-145.5 \"/>\n<text text-anchor=\"middle\" x=\"1668.69\" y=\"-123.8\" font-family=\"Times,serif\" font-size=\"14.00\">data 0.7071</text>\n<polyline fill=\"none\" stroke=\"black\" points=\"1719.69,-109.5 1719.69,-145.5 \"/>\n<text text-anchor=\"middle\" x=\"1771.69\" y=\"-123.8\" font-family=\"Times,serif\" font-size=\"14.00\">grad 1.0000</text>\n</g>\n<!-- 140522373549360tanh&#45;&gt;140522373549360 -->\n<g id=\"edge5\" class=\"edge\">\n<title>140522373549360tanh&#45;&gt;140522373549360</title>\n<path fill=\"none\" stroke=\"black\" d=\"M1557.02,-127.5C1564.61,-127.5 1573.19,-127.5 1582.31,-127.5\"/>\n<polygon fill=\"black\" stroke=\"black\" points=\"1582.4,-131 1592.4,-127.5 1582.4,-124 1582.4,-131\"/>\n</g>\n<!-- 140522373524352 -->\n<g id=\"node13\" class=\"node\">\n<title>140522373524352</title>\n<polygon fill=\"none\" stroke=\"black\" points=\"2.5,-0.5 2.5,-36.5 246.5,-36.5 246.5,-0.5 2.5,-0.5\"/>\n<text text-anchor=\"middle\" x=\"21.5\" y=\"-14.8\" font-family=\"Times,serif\" font-size=\"14.00\">w2</text>\n<polyline fill=\"none\" stroke=\"black\" points=\"40.5,-0.5 40.5,-36.5 \"/>\n<text text-anchor=\"middle\" x=\"91.5\" y=\"-14.8\" font-family=\"Times,serif\" font-size=\"14.00\">data 1.0000</text>\n<polyline fill=\"none\" stroke=\"black\" points=\"142.5,-0.5 142.5,-36.5 \"/>\n<text text-anchor=\"middle\" x=\"194.5\" y=\"-14.8\" font-family=\"Times,serif\" font-size=\"14.00\">grad 0.0000</text>\n</g>\n<!-- 140522373524352&#45;&gt;140522373548208* -->\n<g id=\"edge12\" class=\"edge\">\n<title>140522373524352&#45;&gt;140522373548208*</title>\n<path fill=\"none\" stroke=\"black\" d=\"M214.42,-36.55C226.15,-39.54 237.93,-42.87 249,-46.5 259.46,-49.93 270.57,-54.47 280.46,-58.84\"/>\n<polygon fill=\"black\" stroke=\"black\" points=\"279.31,-62.17 289.87,-63.12 282.21,-55.79 279.31,-62.17\"/>\n</g>\n<!-- 140522373521856 -->\n<g id=\"node14\" class=\"node\">\n<title>140522373521856</title>\n<polygon fill=\"none\" stroke=\"black\" points=\"2.5,-165.5 2.5,-201.5 246.5,-201.5 246.5,-165.5 2.5,-165.5\"/>\n<text text-anchor=\"middle\" x=\"19.5\" y=\"-179.8\" font-family=\"Times,serif\" font-size=\"14.00\">x1</text>\n<polyline fill=\"none\" stroke=\"black\" points=\"36.5,-165.5 36.5,-201.5 \"/>\n<text text-anchor=\"middle\" x=\"87.5\" y=\"-179.8\" font-family=\"Times,serif\" font-size=\"14.00\">data 2.0000</text>\n<polyline fill=\"none\" stroke=\"black\" points=\"138.5,-165.5 138.5,-201.5 \"/>\n<text text-anchor=\"middle\" x=\"192.5\" y=\"-179.8\" font-family=\"Times,serif\" font-size=\"14.00\">grad &#45;1.5000</text>\n</g>\n<!-- 140522373521856&#45;&gt;140522373548640* -->\n<g id=\"edge10\" class=\"edge\">\n<title>140522373521856&#45;&gt;140522373548640*</title>\n<path fill=\"none\" stroke=\"black\" d=\"M218.13,-165.46C228.63,-162.77 239.1,-159.78 249,-156.5 259.71,-152.96 271.05,-148.16 281.07,-143.54\"/>\n<polygon fill=\"black\" stroke=\"black\" points=\"282.67,-146.66 290.2,-139.21 279.67,-140.33 282.67,-146.66\"/>\n</g>\n<!-- 140522373521904 -->\n<g id=\"node15\" class=\"node\">\n<title>140522373521904</title>\n<polygon fill=\"none\" stroke=\"black\" points=\"0,-110.5 0,-146.5 249,-146.5 249,-110.5 0,-110.5\"/>\n<text text-anchor=\"middle\" x=\"19\" y=\"-124.8\" font-family=\"Times,serif\" font-size=\"14.00\">w1</text>\n<polyline fill=\"none\" stroke=\"black\" points=\"38,-110.5 38,-146.5 \"/>\n<text text-anchor=\"middle\" x=\"91.5\" y=\"-124.8\" font-family=\"Times,serif\" font-size=\"14.00\">data &#45;3.0000</text>\n<polyline fill=\"none\" stroke=\"black\" points=\"145,-110.5 145,-146.5 \"/>\n<text text-anchor=\"middle\" x=\"197\" y=\"-124.8\" font-family=\"Times,serif\" font-size=\"14.00\">grad 1.0000</text>\n</g>\n<!-- 140522373521904&#45;&gt;140522373548640* -->\n<g id=\"edge14\" class=\"edge\">\n<title>140522373521904&#45;&gt;140522373548640*</title>\n<path fill=\"none\" stroke=\"black\" d=\"M249.23,-128.5C258.37,-128.5 267.05,-128.5 274.87,-128.5\"/>\n<polygon fill=\"black\" stroke=\"black\" points=\"274.95,-132 284.95,-128.5 274.95,-125 274.95,-132\"/>\n</g>\n</g>\n</svg>\n",
      "text/plain": [
       "<graphviz.graphs.Digraph at 0x7fcdea282310>"
      ]
     },
     "execution_count": 44,
     "metadata": {},
     "output_type": "execute_result"
    }
   ],
   "source": [
    "draw_dot(o)"
   ]
  },
  {
   "attachments": {},
   "cell_type": "markdown",
   "id": "bd8378fd",
   "metadata": {},
   "source": [
    "We are not done yet. We still have to do something. **Hide the `build_topo` function in the `Value` class**. So the new `Value` class will look like this:"
   ]
  },
  {
   "cell_type": "code",
   "execution_count": 45,
   "id": "3e6c9dd8",
   "metadata": {},
   "outputs": [],
   "source": [
    "class Value:\n",
    "    def __init__(self, data, _children=(), _op='', label='') -> None:\n",
    "        self.data = data\n",
    "        self._prev = set(_children)\n",
    "        self._op = _op\n",
    "        self.grad = 0\n",
    "        self.label = label\n",
    "        self._backward = lambda : None #\n",
    "\n",
    "    def __repr__(self) -> str:\n",
    "        return f\"Value(data = {self.data})\"\n",
    "\n",
    "    def __add__(self, other):\n",
    "        out = Value(self.data + other.data, (self, other), '+')\n",
    "        \n",
    "        def _backward():\n",
    "            #Remember what addition does when backpropagating\n",
    "            self.grad = 1.0 * out.grad\n",
    "            other.grad = 1.0 * out.grad\n",
    "\n",
    "        out._backward = _backward\n",
    "        return out\n",
    "\n",
    "    def __mul__(self, other):\n",
    "        out = Value(self.data * other.data, (self, other), '*')\n",
    "        \n",
    "        def _backward():\n",
    "            #Remember what multiplication does when backpropagating\n",
    "            self.grad = other.data * out.grad\n",
    "            other.grad = self.data * out.grad\n",
    "\n",
    "        out._backward = _backward\n",
    "        return out\n",
    "\n",
    "    def tanh(self):\n",
    "        x = self.data\n",
    "        t = (math.exp(2*x) - 1)/(math.exp(2*x) + 1)\n",
    "        out = Value(t, (self, ), _op='tanh')\n",
    "\n",
    "        def _backward():\n",
    "            self.grad = (1 - t**2) * out.grad\n",
    "\n",
    "        out._backward = _backward\n",
    "        return out\n",
    "    \n",
    "    #NEW\n",
    "    def backward(self):\n",
    "        #1- Build topological graph starting at self\n",
    "        topo = []\n",
    "        visited = set()\n",
    "\n",
    "        def build_topo(v):\n",
    "            if v not in visited:\n",
    "                visited.add(v)\n",
    "                for child in v._prev:\n",
    "                    build_topo(child)\n",
    "                topo.append(v)\n",
    "\n",
    "        build_topo(self)\n",
    "        #2- Iterate through topo list and do backward\n",
    "        self.grad = 1.0\n",
    "        for node in reversed(topo):\n",
    "            node._backward()"
   ]
  },
  {
   "attachments": {},
   "cell_type": "markdown",
   "id": "8b3186bf",
   "metadata": {},
   "source": [
    "If we reset our graph once again, and set every thing to zero..."
   ]
  },
  {
   "cell_type": "code",
   "execution_count": 46,
   "id": "b7210816",
   "metadata": {},
   "outputs": [],
   "source": [
    "#--- Inputs 1 & 2\n",
    "x1 = Value(2.0, label='x1')\n",
    "x2 = Value(0.0, label='x2')\n",
    "#---- Weights 1 & 2\n",
    "w1 = Value(-3.0, label='w1')\n",
    "w2 = Value(1.0, label='w2')\n",
    "#--- bias\n",
    "b = Value(6.8813735870195432, label='b')\n",
    "\n",
    "#net sum = x1*w1 + x2*w2 + b\n",
    "x1w1 = x1*w1; x1w1.label = 'x1*w1'\n",
    "x2w2 = x2*w2; x2w2.label = 'x2*w2'\n",
    "x1w1x2w2 = x1w1 + x2w2; x1w1x2w2.label = 'x1w1 + x2w2'\n",
    "n = x1w1x2w2 + b; n.label = 'n'\n",
    "\n",
    "# 'n' goes through activation function\n",
    "# giving the final result. At this point\n",
    "# I scrolled back to the Value class and implemented \"tanh\".\n",
    "o = n.tanh(); o.label='o'"
   ]
  },
  {
   "cell_type": "code",
   "execution_count": 47,
   "id": "800c8976",
   "metadata": {},
   "outputs": [
    {
     "data": {
      "image/svg+xml": "<?xml version=\"1.0\" encoding=\"UTF-8\" standalone=\"no\"?>\n<!DOCTYPE svg PUBLIC \"-//W3C//DTD SVG 1.1//EN\"\n \"http://www.w3.org/Graphics/SVG/1.1/DTD/svg11.dtd\">\n<!-- Generated by graphviz version 2.50.0 (0)\n -->\n<!-- Pages: 1 -->\n<svg width=\"1832pt\" height=\"210pt\"\n viewBox=\"0.00 0.00 1831.69 210.00\" xmlns=\"http://www.w3.org/2000/svg\" xmlns:xlink=\"http://www.w3.org/1999/xlink\">\n<g id=\"graph0\" class=\"graph\" transform=\"scale(1 1) rotate(0) translate(4 206)\">\n<polygon fill=\"white\" stroke=\"transparent\" points=\"-4,4 -4,-206 1827.69,-206 1827.69,4 -4,4\"/>\n<!-- 140522374190080 -->\n<g id=\"node1\" class=\"node\">\n<title>140522374190080</title>\n<polygon fill=\"none\" stroke=\"black\" points=\"1592.69,-109.5 1592.69,-145.5 1823.69,-145.5 1823.69,-109.5 1592.69,-109.5\"/>\n<text text-anchor=\"middle\" x=\"1605.19\" y=\"-123.8\" font-family=\"Times,serif\" font-size=\"14.00\">o</text>\n<polyline fill=\"none\" stroke=\"black\" points=\"1617.69,-109.5 1617.69,-145.5 \"/>\n<text text-anchor=\"middle\" x=\"1668.69\" y=\"-123.8\" font-family=\"Times,serif\" font-size=\"14.00\">data 0.7071</text>\n<polyline fill=\"none\" stroke=\"black\" points=\"1719.69,-109.5 1719.69,-145.5 \"/>\n<text text-anchor=\"middle\" x=\"1771.69\" y=\"-123.8\" font-family=\"Times,serif\" font-size=\"14.00\">grad 0.0000</text>\n</g>\n<!-- 140522374190080tanh -->\n<g id=\"node2\" class=\"node\">\n<title>140522374190080tanh</title>\n<ellipse fill=\"none\" stroke=\"black\" cx=\"1524.85\" cy=\"-127.5\" rx=\"31.7\" ry=\"18\"/>\n<text text-anchor=\"middle\" x=\"1524.85\" y=\"-123.8\" font-family=\"Times,serif\" font-size=\"14.00\">tanh</text>\n</g>\n<!-- 140522374190080tanh&#45;&gt;140522374190080 -->\n<g id=\"edge1\" class=\"edge\">\n<title>140522374190080tanh&#45;&gt;140522374190080</title>\n<path fill=\"none\" stroke=\"black\" d=\"M1557.02,-127.5C1564.61,-127.5 1573.19,-127.5 1582.31,-127.5\"/>\n<polygon fill=\"black\" stroke=\"black\" points=\"1582.4,-131 1592.4,-127.5 1582.4,-124 1582.4,-131\"/>\n</g>\n<!-- 140522373331456 -->\n<g id=\"node3\" class=\"node\">\n<title>140522373331456</title>\n<polygon fill=\"none\" stroke=\"black\" points=\"2.5,-55.5 2.5,-91.5 246.5,-91.5 246.5,-55.5 2.5,-55.5\"/>\n<text text-anchor=\"middle\" x=\"21.5\" y=\"-69.8\" font-family=\"Times,serif\" font-size=\"14.00\">w2</text>\n<polyline fill=\"none\" stroke=\"black\" points=\"40.5,-55.5 40.5,-91.5 \"/>\n<text text-anchor=\"middle\" x=\"91.5\" y=\"-69.8\" font-family=\"Times,serif\" font-size=\"14.00\">data 1.0000</text>\n<polyline fill=\"none\" stroke=\"black\" points=\"142.5,-55.5 142.5,-91.5 \"/>\n<text text-anchor=\"middle\" x=\"194.5\" y=\"-69.8\" font-family=\"Times,serif\" font-size=\"14.00\">grad 0.0000</text>\n</g>\n<!-- 140522373484256* -->\n<g id=\"node13\" class=\"node\">\n<title>140522373484256*</title>\n<ellipse fill=\"none\" stroke=\"black\" cx=\"312\" cy=\"-73.5\" rx=\"27\" ry=\"18\"/>\n<text text-anchor=\"middle\" x=\"312\" y=\"-69.8\" font-family=\"Times,serif\" font-size=\"14.00\">*</text>\n</g>\n<!-- 140522373331456&#45;&gt;140522373484256* -->\n<g id=\"edge13\" class=\"edge\">\n<title>140522373331456&#45;&gt;140522373484256*</title>\n<path fill=\"none\" stroke=\"black\" d=\"M246.64,-73.5C256.7,-73.5 266.26,-73.5 274.79,-73.5\"/>\n<polygon fill=\"black\" stroke=\"black\" points=\"275,-77 285,-73.5 275,-70 275,-77\"/>\n</g>\n<!-- 140522374191136 -->\n<g id=\"node4\" class=\"node\">\n<title>140522374191136</title>\n<polygon fill=\"none\" stroke=\"black\" points=\"1225,-109.5 1225,-145.5 1457,-145.5 1457,-109.5 1225,-109.5\"/>\n<text text-anchor=\"middle\" x=\"1238\" y=\"-123.8\" font-family=\"Times,serif\" font-size=\"14.00\">n</text>\n<polyline fill=\"none\" stroke=\"black\" points=\"1251,-109.5 1251,-145.5 \"/>\n<text text-anchor=\"middle\" x=\"1302\" y=\"-123.8\" font-family=\"Times,serif\" font-size=\"14.00\">data 0.8814</text>\n<polyline fill=\"none\" stroke=\"black\" points=\"1353,-109.5 1353,-145.5 \"/>\n<text text-anchor=\"middle\" x=\"1405\" y=\"-123.8\" font-family=\"Times,serif\" font-size=\"14.00\">grad 0.0000</text>\n</g>\n<!-- 140522374191136&#45;&gt;140522374190080tanh -->\n<g id=\"edge8\" class=\"edge\">\n<title>140522374191136&#45;&gt;140522374190080tanh</title>\n<path fill=\"none\" stroke=\"black\" d=\"M1457.17,-127.5C1466.08,-127.5 1474.66,-127.5 1482.53,-127.5\"/>\n<polygon fill=\"black\" stroke=\"black\" points=\"1482.78,-131 1492.78,-127.5 1482.78,-124 1482.78,-131\"/>\n</g>\n<!-- 140522374191136+ -->\n<g id=\"node5\" class=\"node\">\n<title>140522374191136+</title>\n<ellipse fill=\"none\" stroke=\"black\" cx=\"1162\" cy=\"-127.5\" rx=\"27\" ry=\"18\"/>\n<text text-anchor=\"middle\" x=\"1162\" y=\"-123.8\" font-family=\"Times,serif\" font-size=\"14.00\">+</text>\n</g>\n<!-- 140522374191136+&#45;&gt;140522374191136 -->\n<g id=\"edge2\" class=\"edge\">\n<title>140522374191136+&#45;&gt;140522374191136</title>\n<path fill=\"none\" stroke=\"black\" d=\"M1189.12,-127.5C1196.53,-127.5 1205.14,-127.5 1214.4,-127.5\"/>\n<polygon fill=\"black\" stroke=\"black\" points=\"1214.69,-131 1224.69,-127.5 1214.69,-124 1214.69,-131\"/>\n</g>\n<!-- 140522373608496 -->\n<g id=\"node6\" class=\"node\">\n<title>140522373608496</title>\n<polygon fill=\"none\" stroke=\"black\" points=\"0,-165.5 0,-201.5 249,-201.5 249,-165.5 0,-165.5\"/>\n<text text-anchor=\"middle\" x=\"19\" y=\"-179.8\" font-family=\"Times,serif\" font-size=\"14.00\">w1</text>\n<polyline fill=\"none\" stroke=\"black\" points=\"38,-165.5 38,-201.5 \"/>\n<text text-anchor=\"middle\" x=\"91.5\" y=\"-179.8\" font-family=\"Times,serif\" font-size=\"14.00\">data &#45;3.0000</text>\n<polyline fill=\"none\" stroke=\"black\" points=\"145,-165.5 145,-201.5 \"/>\n<text text-anchor=\"middle\" x=\"197\" y=\"-179.8\" font-family=\"Times,serif\" font-size=\"14.00\">grad 0.0000</text>\n</g>\n<!-- 140522373483680* -->\n<g id=\"node9\" class=\"node\">\n<title>140522373483680*</title>\n<ellipse fill=\"none\" stroke=\"black\" cx=\"312\" cy=\"-128.5\" rx=\"27\" ry=\"18\"/>\n<text text-anchor=\"middle\" x=\"312\" y=\"-124.8\" font-family=\"Times,serif\" font-size=\"14.00\">*</text>\n</g>\n<!-- 140522373608496&#45;&gt;140522373483680* -->\n<g id=\"edge14\" class=\"edge\">\n<title>140522373608496&#45;&gt;140522373483680*</title>\n<path fill=\"none\" stroke=\"black\" d=\"M218.13,-165.46C228.63,-162.77 239.1,-159.78 249,-156.5 259.71,-152.96 271.05,-148.16 281.07,-143.54\"/>\n<polygon fill=\"black\" stroke=\"black\" points=\"282.67,-146.66 290.2,-139.21 279.67,-140.33 282.67,-146.66\"/>\n</g>\n<!-- 140522373608544 -->\n<g id=\"node7\" class=\"node\">\n<title>140522373608544</title>\n<polygon fill=\"none\" stroke=\"black\" points=\"820.5,-137.5 820.5,-173.5 1052.5,-173.5 1052.5,-137.5 820.5,-137.5\"/>\n<text text-anchor=\"middle\" x=\"833.5\" y=\"-151.8\" font-family=\"Times,serif\" font-size=\"14.00\">b</text>\n<polyline fill=\"none\" stroke=\"black\" points=\"846.5,-137.5 846.5,-173.5 \"/>\n<text text-anchor=\"middle\" x=\"897.5\" y=\"-151.8\" font-family=\"Times,serif\" font-size=\"14.00\">data 6.8814</text>\n<polyline fill=\"none\" stroke=\"black\" points=\"948.5,-137.5 948.5,-173.5 \"/>\n<text text-anchor=\"middle\" x=\"1000.5\" y=\"-151.8\" font-family=\"Times,serif\" font-size=\"14.00\">grad 0.0000</text>\n</g>\n<!-- 140522373608544&#45;&gt;140522374191136+ -->\n<g id=\"edge7\" class=\"edge\">\n<title>140522373608544&#45;&gt;140522374191136+</title>\n<path fill=\"none\" stroke=\"black\" d=\"M1052.52,-141.09C1079,-137.77 1105.23,-134.49 1125.26,-131.98\"/>\n<polygon fill=\"black\" stroke=\"black\" points=\"1125.94,-135.42 1135.43,-130.7 1125.07,-128.47 1125.94,-135.42\"/>\n</g>\n<!-- 140522373483680 -->\n<g id=\"node8\" class=\"node\">\n<title>140522373483680</title>\n<polygon fill=\"none\" stroke=\"black\" points=\"375,-110.5 375,-146.5 648,-146.5 648,-110.5 375,-110.5\"/>\n<text text-anchor=\"middle\" x=\"406\" y=\"-124.8\" font-family=\"Times,serif\" font-size=\"14.00\">x1*w1</text>\n<polyline fill=\"none\" stroke=\"black\" points=\"437,-110.5 437,-146.5 \"/>\n<text text-anchor=\"middle\" x=\"490.5\" y=\"-124.8\" font-family=\"Times,serif\" font-size=\"14.00\">data &#45;6.0000</text>\n<polyline fill=\"none\" stroke=\"black\" points=\"544,-110.5 544,-146.5 \"/>\n<text text-anchor=\"middle\" x=\"596\" y=\"-124.8\" font-family=\"Times,serif\" font-size=\"14.00\">grad 0.0000</text>\n</g>\n<!-- 140522374191808+ -->\n<g id=\"node11\" class=\"node\">\n<title>140522374191808+</title>\n<ellipse fill=\"none\" stroke=\"black\" cx=\"711\" cy=\"-100.5\" rx=\"27\" ry=\"18\"/>\n<text text-anchor=\"middle\" x=\"711\" y=\"-96.8\" font-family=\"Times,serif\" font-size=\"14.00\">+</text>\n</g>\n<!-- 140522373483680&#45;&gt;140522374191808+ -->\n<g id=\"edge12\" class=\"edge\">\n<title>140522373483680&#45;&gt;140522374191808+</title>\n<path fill=\"none\" stroke=\"black\" d=\"M639.53,-110.49C652.09,-108.71 663.99,-107.02 674.3,-105.56\"/>\n<polygon fill=\"black\" stroke=\"black\" points=\"675.03,-108.99 684.44,-104.12 674.05,-102.06 675.03,-108.99\"/>\n</g>\n<!-- 140522373483680*&#45;&gt;140522373483680 -->\n<g id=\"edge3\" class=\"edge\">\n<title>140522373483680*&#45;&gt;140522373483680</title>\n<path fill=\"none\" stroke=\"black\" d=\"M339.23,-128.5C346.7,-128.5 355.41,-128.5 364.87,-128.5\"/>\n<polygon fill=\"black\" stroke=\"black\" points=\"364.98,-132 374.98,-128.5 364.98,-125 364.98,-132\"/>\n</g>\n<!-- 140522374191808 -->\n<g id=\"node10\" class=\"node\">\n<title>140522374191808</title>\n<polygon fill=\"none\" stroke=\"black\" points=\"774,-82.5 774,-118.5 1099,-118.5 1099,-82.5 774,-82.5\"/>\n<text text-anchor=\"middle\" x=\"831\" y=\"-96.8\" font-family=\"Times,serif\" font-size=\"14.00\">x1w1 + x2w2</text>\n<polyline fill=\"none\" stroke=\"black\" points=\"888,-82.5 888,-118.5 \"/>\n<text text-anchor=\"middle\" x=\"941.5\" y=\"-96.8\" font-family=\"Times,serif\" font-size=\"14.00\">data &#45;6.0000</text>\n<polyline fill=\"none\" stroke=\"black\" points=\"995,-82.5 995,-118.5 \"/>\n<text text-anchor=\"middle\" x=\"1047\" y=\"-96.8\" font-family=\"Times,serif\" font-size=\"14.00\">grad 0.0000</text>\n</g>\n<!-- 140522374191808&#45;&gt;140522374191136+ -->\n<g id=\"edge11\" class=\"edge\">\n<title>140522374191808&#45;&gt;140522374191136+</title>\n<path fill=\"none\" stroke=\"black\" d=\"M1086.58,-118.51C1100.66,-120.21 1113.84,-121.8 1125.09,-123.16\"/>\n<polygon fill=\"black\" stroke=\"black\" points=\"1124.89,-126.66 1135.24,-124.39 1125.73,-119.71 1124.89,-126.66\"/>\n</g>\n<!-- 140522374191808+&#45;&gt;140522374191808 -->\n<g id=\"edge4\" class=\"edge\">\n<title>140522374191808+&#45;&gt;140522374191808</title>\n<path fill=\"none\" stroke=\"black\" d=\"M738.08,-100.5C745.51,-100.5 754.21,-100.5 763.74,-100.5\"/>\n<polygon fill=\"black\" stroke=\"black\" points=\"763.95,-104 773.95,-100.5 763.95,-97 763.95,-104\"/>\n</g>\n<!-- 140522373484256 -->\n<g id=\"node12\" class=\"node\">\n<title>140522373484256</title>\n<polygon fill=\"none\" stroke=\"black\" points=\"377.5,-55.5 377.5,-91.5 645.5,-91.5 645.5,-55.5 377.5,-55.5\"/>\n<text text-anchor=\"middle\" x=\"408.5\" y=\"-69.8\" font-family=\"Times,serif\" font-size=\"14.00\">x2*w2</text>\n<polyline fill=\"none\" stroke=\"black\" points=\"439.5,-55.5 439.5,-91.5 \"/>\n<text text-anchor=\"middle\" x=\"490.5\" y=\"-69.8\" font-family=\"Times,serif\" font-size=\"14.00\">data 0.0000</text>\n<polyline fill=\"none\" stroke=\"black\" points=\"541.5,-55.5 541.5,-91.5 \"/>\n<text text-anchor=\"middle\" x=\"593.5\" y=\"-69.8\" font-family=\"Times,serif\" font-size=\"14.00\">grad 0.0000</text>\n</g>\n<!-- 140522373484256&#45;&gt;140522374191808+ -->\n<g id=\"edge10\" class=\"edge\">\n<title>140522373484256&#45;&gt;140522374191808+</title>\n<path fill=\"none\" stroke=\"black\" d=\"M644.24,-91.51C655.12,-93 665.4,-94.4 674.45,-95.64\"/>\n<polygon fill=\"black\" stroke=\"black\" points=\"674.11,-99.13 684.49,-97.01 675.05,-92.19 674.11,-99.13\"/>\n</g>\n<!-- 140522373484256*&#45;&gt;140522373484256 -->\n<g id=\"edge5\" class=\"edge\">\n<title>140522373484256*&#45;&gt;140522373484256</title>\n<path fill=\"none\" stroke=\"black\" d=\"M339.23,-73.5C347.26,-73.5 356.72,-73.5 366.99,-73.5\"/>\n<polygon fill=\"black\" stroke=\"black\" points=\"367.08,-77 377.08,-73.5 367.08,-70 367.08,-77\"/>\n</g>\n<!-- 140522373331168 -->\n<g id=\"node14\" class=\"node\">\n<title>140522373331168</title>\n<polygon fill=\"none\" stroke=\"black\" points=\"4.5,-0.5 4.5,-36.5 244.5,-36.5 244.5,-0.5 4.5,-0.5\"/>\n<text text-anchor=\"middle\" x=\"21.5\" y=\"-14.8\" font-family=\"Times,serif\" font-size=\"14.00\">x2</text>\n<polyline fill=\"none\" stroke=\"black\" points=\"38.5,-0.5 38.5,-36.5 \"/>\n<text text-anchor=\"middle\" x=\"89.5\" y=\"-14.8\" font-family=\"Times,serif\" font-size=\"14.00\">data 0.0000</text>\n<polyline fill=\"none\" stroke=\"black\" points=\"140.5,-0.5 140.5,-36.5 \"/>\n<text text-anchor=\"middle\" x=\"192.5\" y=\"-14.8\" font-family=\"Times,serif\" font-size=\"14.00\">grad 0.0000</text>\n</g>\n<!-- 140522373331168&#45;&gt;140522373484256* -->\n<g id=\"edge6\" class=\"edge\">\n<title>140522373331168&#45;&gt;140522373484256*</title>\n<path fill=\"none\" stroke=\"black\" d=\"M214.42,-36.55C226.15,-39.54 237.93,-42.87 249,-46.5 259.46,-49.93 270.57,-54.47 280.46,-58.84\"/>\n<polygon fill=\"black\" stroke=\"black\" points=\"279.31,-62.17 289.87,-63.12 282.21,-55.79 279.31,-62.17\"/>\n</g>\n<!-- 140522373331744 -->\n<g id=\"node15\" class=\"node\">\n<title>140522373331744</title>\n<polygon fill=\"none\" stroke=\"black\" points=\"4.5,-110.5 4.5,-146.5 244.5,-146.5 244.5,-110.5 4.5,-110.5\"/>\n<text text-anchor=\"middle\" x=\"21.5\" y=\"-124.8\" font-family=\"Times,serif\" font-size=\"14.00\">x1</text>\n<polyline fill=\"none\" stroke=\"black\" points=\"38.5,-110.5 38.5,-146.5 \"/>\n<text text-anchor=\"middle\" x=\"89.5\" y=\"-124.8\" font-family=\"Times,serif\" font-size=\"14.00\">data 2.0000</text>\n<polyline fill=\"none\" stroke=\"black\" points=\"140.5,-110.5 140.5,-146.5 \"/>\n<text text-anchor=\"middle\" x=\"192.5\" y=\"-124.8\" font-family=\"Times,serif\" font-size=\"14.00\">grad 0.0000</text>\n</g>\n<!-- 140522373331744&#45;&gt;140522373483680* -->\n<g id=\"edge9\" class=\"edge\">\n<title>140522373331744&#45;&gt;140522373483680*</title>\n<path fill=\"none\" stroke=\"black\" d=\"M244.55,-128.5C255.31,-128.5 265.54,-128.5 274.62,-128.5\"/>\n<polygon fill=\"black\" stroke=\"black\" points=\"274.7,-132 284.7,-128.5 274.7,-125 274.7,-132\"/>\n</g>\n</g>\n</svg>\n",
      "text/plain": [
       "<graphviz.graphs.Digraph at 0x7fcdea278340>"
      ]
     },
     "execution_count": 47,
     "metadata": {},
     "output_type": "execute_result"
    }
   ],
   "source": [
    "draw_dot(o)"
   ]
  },
  {
   "attachments": {},
   "cell_type": "markdown",
   "id": "92579ebb",
   "metadata": {},
   "source": [
    "...and do:"
   ]
  },
  {
   "cell_type": "code",
   "execution_count": 48,
   "id": "2815fc89",
   "metadata": {},
   "outputs": [],
   "source": [
    "o.backward()"
   ]
  },
  {
   "attachments": {},
   "cell_type": "markdown",
   "id": "994262e0",
   "metadata": {},
   "source": [
    "Using this one like above, we backpropagated through the entire neuron. One line."
   ]
  },
  {
   "cell_type": "code",
   "execution_count": 49,
   "id": "684cb1fa",
   "metadata": {},
   "outputs": [
    {
     "data": {
      "image/svg+xml": "<?xml version=\"1.0\" encoding=\"UTF-8\" standalone=\"no\"?>\n<!DOCTYPE svg PUBLIC \"-//W3C//DTD SVG 1.1//EN\"\n \"http://www.w3.org/Graphics/SVG/1.1/DTD/svg11.dtd\">\n<!-- Generated by graphviz version 2.50.0 (0)\n -->\n<!-- Pages: 1 -->\n<svg width=\"1832pt\" height=\"210pt\"\n viewBox=\"0.00 0.00 1831.69 210.00\" xmlns=\"http://www.w3.org/2000/svg\" xmlns:xlink=\"http://www.w3.org/1999/xlink\">\n<g id=\"graph0\" class=\"graph\" transform=\"scale(1 1) rotate(0) translate(4 206)\">\n<polygon fill=\"white\" stroke=\"transparent\" points=\"-4,4 -4,-206 1827.69,-206 1827.69,4 -4,4\"/>\n<!-- 140522374190080 -->\n<g id=\"node1\" class=\"node\">\n<title>140522374190080</title>\n<polygon fill=\"none\" stroke=\"black\" points=\"1592.69,-109.5 1592.69,-145.5 1823.69,-145.5 1823.69,-109.5 1592.69,-109.5\"/>\n<text text-anchor=\"middle\" x=\"1605.19\" y=\"-123.8\" font-family=\"Times,serif\" font-size=\"14.00\">o</text>\n<polyline fill=\"none\" stroke=\"black\" points=\"1617.69,-109.5 1617.69,-145.5 \"/>\n<text text-anchor=\"middle\" x=\"1668.69\" y=\"-123.8\" font-family=\"Times,serif\" font-size=\"14.00\">data 0.7071</text>\n<polyline fill=\"none\" stroke=\"black\" points=\"1719.69,-109.5 1719.69,-145.5 \"/>\n<text text-anchor=\"middle\" x=\"1771.69\" y=\"-123.8\" font-family=\"Times,serif\" font-size=\"14.00\">grad 1.0000</text>\n</g>\n<!-- 140522374190080tanh -->\n<g id=\"node2\" class=\"node\">\n<title>140522374190080tanh</title>\n<ellipse fill=\"none\" stroke=\"black\" cx=\"1524.85\" cy=\"-127.5\" rx=\"31.7\" ry=\"18\"/>\n<text text-anchor=\"middle\" x=\"1524.85\" y=\"-123.8\" font-family=\"Times,serif\" font-size=\"14.00\">tanh</text>\n</g>\n<!-- 140522374190080tanh&#45;&gt;140522374190080 -->\n<g id=\"edge1\" class=\"edge\">\n<title>140522374190080tanh&#45;&gt;140522374190080</title>\n<path fill=\"none\" stroke=\"black\" d=\"M1557.02,-127.5C1564.61,-127.5 1573.19,-127.5 1582.31,-127.5\"/>\n<polygon fill=\"black\" stroke=\"black\" points=\"1582.4,-131 1592.4,-127.5 1582.4,-124 1582.4,-131\"/>\n</g>\n<!-- 140522373331456 -->\n<g id=\"node3\" class=\"node\">\n<title>140522373331456</title>\n<polygon fill=\"none\" stroke=\"black\" points=\"2.5,-55.5 2.5,-91.5 246.5,-91.5 246.5,-55.5 2.5,-55.5\"/>\n<text text-anchor=\"middle\" x=\"21.5\" y=\"-69.8\" font-family=\"Times,serif\" font-size=\"14.00\">w2</text>\n<polyline fill=\"none\" stroke=\"black\" points=\"40.5,-55.5 40.5,-91.5 \"/>\n<text text-anchor=\"middle\" x=\"91.5\" y=\"-69.8\" font-family=\"Times,serif\" font-size=\"14.00\">data 1.0000</text>\n<polyline fill=\"none\" stroke=\"black\" points=\"142.5,-55.5 142.5,-91.5 \"/>\n<text text-anchor=\"middle\" x=\"194.5\" y=\"-69.8\" font-family=\"Times,serif\" font-size=\"14.00\">grad 0.0000</text>\n</g>\n<!-- 140522373484256* -->\n<g id=\"node13\" class=\"node\">\n<title>140522373484256*</title>\n<ellipse fill=\"none\" stroke=\"black\" cx=\"312\" cy=\"-73.5\" rx=\"27\" ry=\"18\"/>\n<text text-anchor=\"middle\" x=\"312\" y=\"-69.8\" font-family=\"Times,serif\" font-size=\"14.00\">*</text>\n</g>\n<!-- 140522373331456&#45;&gt;140522373484256* -->\n<g id=\"edge13\" class=\"edge\">\n<title>140522373331456&#45;&gt;140522373484256*</title>\n<path fill=\"none\" stroke=\"black\" d=\"M246.64,-73.5C256.7,-73.5 266.26,-73.5 274.79,-73.5\"/>\n<polygon fill=\"black\" stroke=\"black\" points=\"275,-77 285,-73.5 275,-70 275,-77\"/>\n</g>\n<!-- 140522374191136 -->\n<g id=\"node4\" class=\"node\">\n<title>140522374191136</title>\n<polygon fill=\"none\" stroke=\"black\" points=\"1225,-109.5 1225,-145.5 1457,-145.5 1457,-109.5 1225,-109.5\"/>\n<text text-anchor=\"middle\" x=\"1238\" y=\"-123.8\" font-family=\"Times,serif\" font-size=\"14.00\">n</text>\n<polyline fill=\"none\" stroke=\"black\" points=\"1251,-109.5 1251,-145.5 \"/>\n<text text-anchor=\"middle\" x=\"1302\" y=\"-123.8\" font-family=\"Times,serif\" font-size=\"14.00\">data 0.8814</text>\n<polyline fill=\"none\" stroke=\"black\" points=\"1353,-109.5 1353,-145.5 \"/>\n<text text-anchor=\"middle\" x=\"1405\" y=\"-123.8\" font-family=\"Times,serif\" font-size=\"14.00\">grad 0.5000</text>\n</g>\n<!-- 140522374191136&#45;&gt;140522374190080tanh -->\n<g id=\"edge8\" class=\"edge\">\n<title>140522374191136&#45;&gt;140522374190080tanh</title>\n<path fill=\"none\" stroke=\"black\" d=\"M1457.17,-127.5C1466.08,-127.5 1474.66,-127.5 1482.53,-127.5\"/>\n<polygon fill=\"black\" stroke=\"black\" points=\"1482.78,-131 1492.78,-127.5 1482.78,-124 1482.78,-131\"/>\n</g>\n<!-- 140522374191136+ -->\n<g id=\"node5\" class=\"node\">\n<title>140522374191136+</title>\n<ellipse fill=\"none\" stroke=\"black\" cx=\"1162\" cy=\"-127.5\" rx=\"27\" ry=\"18\"/>\n<text text-anchor=\"middle\" x=\"1162\" y=\"-123.8\" font-family=\"Times,serif\" font-size=\"14.00\">+</text>\n</g>\n<!-- 140522374191136+&#45;&gt;140522374191136 -->\n<g id=\"edge2\" class=\"edge\">\n<title>140522374191136+&#45;&gt;140522374191136</title>\n<path fill=\"none\" stroke=\"black\" d=\"M1189.12,-127.5C1196.53,-127.5 1205.14,-127.5 1214.4,-127.5\"/>\n<polygon fill=\"black\" stroke=\"black\" points=\"1214.69,-131 1224.69,-127.5 1214.69,-124 1214.69,-131\"/>\n</g>\n<!-- 140522373608496 -->\n<g id=\"node6\" class=\"node\">\n<title>140522373608496</title>\n<polygon fill=\"none\" stroke=\"black\" points=\"0,-165.5 0,-201.5 249,-201.5 249,-165.5 0,-165.5\"/>\n<text text-anchor=\"middle\" x=\"19\" y=\"-179.8\" font-family=\"Times,serif\" font-size=\"14.00\">w1</text>\n<polyline fill=\"none\" stroke=\"black\" points=\"38,-165.5 38,-201.5 \"/>\n<text text-anchor=\"middle\" x=\"91.5\" y=\"-179.8\" font-family=\"Times,serif\" font-size=\"14.00\">data &#45;3.0000</text>\n<polyline fill=\"none\" stroke=\"black\" points=\"145,-165.5 145,-201.5 \"/>\n<text text-anchor=\"middle\" x=\"197\" y=\"-179.8\" font-family=\"Times,serif\" font-size=\"14.00\">grad 1.0000</text>\n</g>\n<!-- 140522373483680* -->\n<g id=\"node9\" class=\"node\">\n<title>140522373483680*</title>\n<ellipse fill=\"none\" stroke=\"black\" cx=\"312\" cy=\"-128.5\" rx=\"27\" ry=\"18\"/>\n<text text-anchor=\"middle\" x=\"312\" y=\"-124.8\" font-family=\"Times,serif\" font-size=\"14.00\">*</text>\n</g>\n<!-- 140522373608496&#45;&gt;140522373483680* -->\n<g id=\"edge14\" class=\"edge\">\n<title>140522373608496&#45;&gt;140522373483680*</title>\n<path fill=\"none\" stroke=\"black\" d=\"M218.13,-165.46C228.63,-162.77 239.1,-159.78 249,-156.5 259.71,-152.96 271.05,-148.16 281.07,-143.54\"/>\n<polygon fill=\"black\" stroke=\"black\" points=\"282.67,-146.66 290.2,-139.21 279.67,-140.33 282.67,-146.66\"/>\n</g>\n<!-- 140522373608544 -->\n<g id=\"node7\" class=\"node\">\n<title>140522373608544</title>\n<polygon fill=\"none\" stroke=\"black\" points=\"820.5,-137.5 820.5,-173.5 1052.5,-173.5 1052.5,-137.5 820.5,-137.5\"/>\n<text text-anchor=\"middle\" x=\"833.5\" y=\"-151.8\" font-family=\"Times,serif\" font-size=\"14.00\">b</text>\n<polyline fill=\"none\" stroke=\"black\" points=\"846.5,-137.5 846.5,-173.5 \"/>\n<text text-anchor=\"middle\" x=\"897.5\" y=\"-151.8\" font-family=\"Times,serif\" font-size=\"14.00\">data 6.8814</text>\n<polyline fill=\"none\" stroke=\"black\" points=\"948.5,-137.5 948.5,-173.5 \"/>\n<text text-anchor=\"middle\" x=\"1000.5\" y=\"-151.8\" font-family=\"Times,serif\" font-size=\"14.00\">grad 0.5000</text>\n</g>\n<!-- 140522373608544&#45;&gt;140522374191136+ -->\n<g id=\"edge7\" class=\"edge\">\n<title>140522373608544&#45;&gt;140522374191136+</title>\n<path fill=\"none\" stroke=\"black\" d=\"M1052.52,-141.09C1079,-137.77 1105.23,-134.49 1125.26,-131.98\"/>\n<polygon fill=\"black\" stroke=\"black\" points=\"1125.94,-135.42 1135.43,-130.7 1125.07,-128.47 1125.94,-135.42\"/>\n</g>\n<!-- 140522373483680 -->\n<g id=\"node8\" class=\"node\">\n<title>140522373483680</title>\n<polygon fill=\"none\" stroke=\"black\" points=\"375,-110.5 375,-146.5 648,-146.5 648,-110.5 375,-110.5\"/>\n<text text-anchor=\"middle\" x=\"406\" y=\"-124.8\" font-family=\"Times,serif\" font-size=\"14.00\">x1*w1</text>\n<polyline fill=\"none\" stroke=\"black\" points=\"437,-110.5 437,-146.5 \"/>\n<text text-anchor=\"middle\" x=\"490.5\" y=\"-124.8\" font-family=\"Times,serif\" font-size=\"14.00\">data &#45;6.0000</text>\n<polyline fill=\"none\" stroke=\"black\" points=\"544,-110.5 544,-146.5 \"/>\n<text text-anchor=\"middle\" x=\"596\" y=\"-124.8\" font-family=\"Times,serif\" font-size=\"14.00\">grad 0.5000</text>\n</g>\n<!-- 140522374191808+ -->\n<g id=\"node11\" class=\"node\">\n<title>140522374191808+</title>\n<ellipse fill=\"none\" stroke=\"black\" cx=\"711\" cy=\"-100.5\" rx=\"27\" ry=\"18\"/>\n<text text-anchor=\"middle\" x=\"711\" y=\"-96.8\" font-family=\"Times,serif\" font-size=\"14.00\">+</text>\n</g>\n<!-- 140522373483680&#45;&gt;140522374191808+ -->\n<g id=\"edge12\" class=\"edge\">\n<title>140522373483680&#45;&gt;140522374191808+</title>\n<path fill=\"none\" stroke=\"black\" d=\"M639.53,-110.49C652.09,-108.71 663.99,-107.02 674.3,-105.56\"/>\n<polygon fill=\"black\" stroke=\"black\" points=\"675.03,-108.99 684.44,-104.12 674.05,-102.06 675.03,-108.99\"/>\n</g>\n<!-- 140522373483680*&#45;&gt;140522373483680 -->\n<g id=\"edge3\" class=\"edge\">\n<title>140522373483680*&#45;&gt;140522373483680</title>\n<path fill=\"none\" stroke=\"black\" d=\"M339.23,-128.5C346.7,-128.5 355.41,-128.5 364.87,-128.5\"/>\n<polygon fill=\"black\" stroke=\"black\" points=\"364.98,-132 374.98,-128.5 364.98,-125 364.98,-132\"/>\n</g>\n<!-- 140522374191808 -->\n<g id=\"node10\" class=\"node\">\n<title>140522374191808</title>\n<polygon fill=\"none\" stroke=\"black\" points=\"774,-82.5 774,-118.5 1099,-118.5 1099,-82.5 774,-82.5\"/>\n<text text-anchor=\"middle\" x=\"831\" y=\"-96.8\" font-family=\"Times,serif\" font-size=\"14.00\">x1w1 + x2w2</text>\n<polyline fill=\"none\" stroke=\"black\" points=\"888,-82.5 888,-118.5 \"/>\n<text text-anchor=\"middle\" x=\"941.5\" y=\"-96.8\" font-family=\"Times,serif\" font-size=\"14.00\">data &#45;6.0000</text>\n<polyline fill=\"none\" stroke=\"black\" points=\"995,-82.5 995,-118.5 \"/>\n<text text-anchor=\"middle\" x=\"1047\" y=\"-96.8\" font-family=\"Times,serif\" font-size=\"14.00\">grad 0.5000</text>\n</g>\n<!-- 140522374191808&#45;&gt;140522374191136+ -->\n<g id=\"edge11\" class=\"edge\">\n<title>140522374191808&#45;&gt;140522374191136+</title>\n<path fill=\"none\" stroke=\"black\" d=\"M1086.58,-118.51C1100.66,-120.21 1113.84,-121.8 1125.09,-123.16\"/>\n<polygon fill=\"black\" stroke=\"black\" points=\"1124.89,-126.66 1135.24,-124.39 1125.73,-119.71 1124.89,-126.66\"/>\n</g>\n<!-- 140522374191808+&#45;&gt;140522374191808 -->\n<g id=\"edge4\" class=\"edge\">\n<title>140522374191808+&#45;&gt;140522374191808</title>\n<path fill=\"none\" stroke=\"black\" d=\"M738.08,-100.5C745.51,-100.5 754.21,-100.5 763.74,-100.5\"/>\n<polygon fill=\"black\" stroke=\"black\" points=\"763.95,-104 773.95,-100.5 763.95,-97 763.95,-104\"/>\n</g>\n<!-- 140522373484256 -->\n<g id=\"node12\" class=\"node\">\n<title>140522373484256</title>\n<polygon fill=\"none\" stroke=\"black\" points=\"377.5,-55.5 377.5,-91.5 645.5,-91.5 645.5,-55.5 377.5,-55.5\"/>\n<text text-anchor=\"middle\" x=\"408.5\" y=\"-69.8\" font-family=\"Times,serif\" font-size=\"14.00\">x2*w2</text>\n<polyline fill=\"none\" stroke=\"black\" points=\"439.5,-55.5 439.5,-91.5 \"/>\n<text text-anchor=\"middle\" x=\"490.5\" y=\"-69.8\" font-family=\"Times,serif\" font-size=\"14.00\">data 0.0000</text>\n<polyline fill=\"none\" stroke=\"black\" points=\"541.5,-55.5 541.5,-91.5 \"/>\n<text text-anchor=\"middle\" x=\"593.5\" y=\"-69.8\" font-family=\"Times,serif\" font-size=\"14.00\">grad 0.5000</text>\n</g>\n<!-- 140522373484256&#45;&gt;140522374191808+ -->\n<g id=\"edge10\" class=\"edge\">\n<title>140522373484256&#45;&gt;140522374191808+</title>\n<path fill=\"none\" stroke=\"black\" d=\"M644.24,-91.51C655.12,-93 665.4,-94.4 674.45,-95.64\"/>\n<polygon fill=\"black\" stroke=\"black\" points=\"674.11,-99.13 684.49,-97.01 675.05,-92.19 674.11,-99.13\"/>\n</g>\n<!-- 140522373484256*&#45;&gt;140522373484256 -->\n<g id=\"edge5\" class=\"edge\">\n<title>140522373484256*&#45;&gt;140522373484256</title>\n<path fill=\"none\" stroke=\"black\" d=\"M339.23,-73.5C347.26,-73.5 356.72,-73.5 366.99,-73.5\"/>\n<polygon fill=\"black\" stroke=\"black\" points=\"367.08,-77 377.08,-73.5 367.08,-70 367.08,-77\"/>\n</g>\n<!-- 140522373331168 -->\n<g id=\"node14\" class=\"node\">\n<title>140522373331168</title>\n<polygon fill=\"none\" stroke=\"black\" points=\"4.5,-0.5 4.5,-36.5 244.5,-36.5 244.5,-0.5 4.5,-0.5\"/>\n<text text-anchor=\"middle\" x=\"21.5\" y=\"-14.8\" font-family=\"Times,serif\" font-size=\"14.00\">x2</text>\n<polyline fill=\"none\" stroke=\"black\" points=\"38.5,-0.5 38.5,-36.5 \"/>\n<text text-anchor=\"middle\" x=\"89.5\" y=\"-14.8\" font-family=\"Times,serif\" font-size=\"14.00\">data 0.0000</text>\n<polyline fill=\"none\" stroke=\"black\" points=\"140.5,-0.5 140.5,-36.5 \"/>\n<text text-anchor=\"middle\" x=\"192.5\" y=\"-14.8\" font-family=\"Times,serif\" font-size=\"14.00\">grad 0.5000</text>\n</g>\n<!-- 140522373331168&#45;&gt;140522373484256* -->\n<g id=\"edge6\" class=\"edge\">\n<title>140522373331168&#45;&gt;140522373484256*</title>\n<path fill=\"none\" stroke=\"black\" d=\"M214.42,-36.55C226.15,-39.54 237.93,-42.87 249,-46.5 259.46,-49.93 270.57,-54.47 280.46,-58.84\"/>\n<polygon fill=\"black\" stroke=\"black\" points=\"279.31,-62.17 289.87,-63.12 282.21,-55.79 279.31,-62.17\"/>\n</g>\n<!-- 140522373331744 -->\n<g id=\"node15\" class=\"node\">\n<title>140522373331744</title>\n<polygon fill=\"none\" stroke=\"black\" points=\"2.5,-110.5 2.5,-146.5 246.5,-146.5 246.5,-110.5 2.5,-110.5\"/>\n<text text-anchor=\"middle\" x=\"19.5\" y=\"-124.8\" font-family=\"Times,serif\" font-size=\"14.00\">x1</text>\n<polyline fill=\"none\" stroke=\"black\" points=\"36.5,-110.5 36.5,-146.5 \"/>\n<text text-anchor=\"middle\" x=\"87.5\" y=\"-124.8\" font-family=\"Times,serif\" font-size=\"14.00\">data 2.0000</text>\n<polyline fill=\"none\" stroke=\"black\" points=\"138.5,-110.5 138.5,-146.5 \"/>\n<text text-anchor=\"middle\" x=\"192.5\" y=\"-124.8\" font-family=\"Times,serif\" font-size=\"14.00\">grad &#45;1.5000</text>\n</g>\n<!-- 140522373331744&#45;&gt;140522373483680* -->\n<g id=\"edge9\" class=\"edge\">\n<title>140522373331744&#45;&gt;140522373483680*</title>\n<path fill=\"none\" stroke=\"black\" d=\"M246.64,-128.5C256.7,-128.5 266.26,-128.5 274.79,-128.5\"/>\n<polygon fill=\"black\" stroke=\"black\" points=\"275,-132 285,-128.5 275,-125 275,-132\"/>\n</g>\n</g>\n</svg>\n",
      "text/plain": [
       "<graphviz.graphs.Digraph at 0x7fcdea278a00>"
      ]
     },
     "execution_count": 49,
     "metadata": {},
     "output_type": "execute_result"
    }
   ],
   "source": [
    "draw_dot(o)"
   ]
  },
  {
   "attachments": {},
   "cell_type": "markdown",
   "id": "88b442fd",
   "metadata": {},
   "source": [
    "There is still a slight issue. But don't worry we are not resetting the graph this time. Instead we'll consider a new graph:"
   ]
  },
  {
   "cell_type": "code",
   "execution_count": 50,
   "id": "bccb2b53",
   "metadata": {},
   "outputs": [
    {
     "data": {
      "image/svg+xml": "<?xml version=\"1.0\" encoding=\"UTF-8\" standalone=\"no\"?>\n<!DOCTYPE svg PUBLIC \"-//W3C//DTD SVG 1.1//EN\"\n \"http://www.w3.org/Graphics/SVG/1.1/DTD/svg11.dtd\">\n<!-- Generated by graphviz version 2.50.0 (0)\n -->\n<!-- Pages: 1 -->\n<svg width=\"597pt\" height=\"45pt\"\n viewBox=\"0.00 0.00 597.00 45.00\" xmlns=\"http://www.w3.org/2000/svg\" xmlns:xlink=\"http://www.w3.org/1999/xlink\">\n<g id=\"graph0\" class=\"graph\" transform=\"scale(1 1) rotate(0) translate(4 41)\">\n<polygon fill=\"white\" stroke=\"transparent\" points=\"-4,4 -4,-41 593,-41 593,4 -4,4\"/>\n<!-- 140522373484112 -->\n<g id=\"node1\" class=\"node\">\n<title>140522373484112</title>\n<polygon fill=\"none\" stroke=\"black\" points=\"357,-0.5 357,-36.5 589,-36.5 589,-0.5 357,-0.5\"/>\n<text text-anchor=\"middle\" x=\"370\" y=\"-14.8\" font-family=\"Times,serif\" font-size=\"14.00\">b</text>\n<polyline fill=\"none\" stroke=\"black\" points=\"383,-0.5 383,-36.5 \"/>\n<text text-anchor=\"middle\" x=\"434\" y=\"-14.8\" font-family=\"Times,serif\" font-size=\"14.00\">data 6.0000</text>\n<polyline fill=\"none\" stroke=\"black\" points=\"485,-0.5 485,-36.5 \"/>\n<text text-anchor=\"middle\" x=\"537\" y=\"-14.8\" font-family=\"Times,serif\" font-size=\"14.00\">grad 1.0000</text>\n</g>\n<!-- 140522373484112+ -->\n<g id=\"node2\" class=\"node\">\n<title>140522373484112+</title>\n<ellipse fill=\"none\" stroke=\"black\" cx=\"294\" cy=\"-18.5\" rx=\"27\" ry=\"18\"/>\n<text text-anchor=\"middle\" x=\"294\" y=\"-14.8\" font-family=\"Times,serif\" font-size=\"14.00\">+</text>\n</g>\n<!-- 140522373484112+&#45;&gt;140522373484112 -->\n<g id=\"edge1\" class=\"edge\">\n<title>140522373484112+&#45;&gt;140522373484112</title>\n<path fill=\"none\" stroke=\"black\" d=\"M321.12,-18.5C328.53,-18.5 337.14,-18.5 346.4,-18.5\"/>\n<polygon fill=\"black\" stroke=\"black\" points=\"346.69,-22 356.69,-18.5 346.69,-15 346.69,-22\"/>\n</g>\n<!-- 140522373482336 -->\n<g id=\"node3\" class=\"node\">\n<title>140522373482336</title>\n<polygon fill=\"none\" stroke=\"black\" points=\"0,-0.5 0,-36.5 231,-36.5 231,-0.5 0,-0.5\"/>\n<text text-anchor=\"middle\" x=\"12.5\" y=\"-14.8\" font-family=\"Times,serif\" font-size=\"14.00\">a</text>\n<polyline fill=\"none\" stroke=\"black\" points=\"25,-0.5 25,-36.5 \"/>\n<text text-anchor=\"middle\" x=\"76\" y=\"-14.8\" font-family=\"Times,serif\" font-size=\"14.00\">data 3.0000</text>\n<polyline fill=\"none\" stroke=\"black\" points=\"127,-0.5 127,-36.5 \"/>\n<text text-anchor=\"middle\" x=\"179\" y=\"-14.8\" font-family=\"Times,serif\" font-size=\"14.00\">grad 1.0000</text>\n</g>\n<!-- 140522373482336&#45;&gt;140522373484112+ -->\n<g id=\"edge2\" class=\"edge\">\n<title>140522373482336&#45;&gt;140522373484112+</title>\n<path fill=\"none\" stroke=\"black\" d=\"M231.27,-18.5C240.32,-18.5 248.97,-18.5 256.76,-18.5\"/>\n<polygon fill=\"black\" stroke=\"black\" points=\"256.84,-22 266.84,-18.5 256.84,-15 256.84,-22\"/>\n</g>\n</g>\n</svg>\n",
      "text/plain": [
       "<graphviz.graphs.Digraph at 0x7fcdea2784c0>"
      ]
     },
     "execution_count": 50,
     "metadata": {},
     "output_type": "execute_result"
    }
   ],
   "source": [
    "a = Value(3.0, label='a')\n",
    "b = a + a; b.label = 'b'\n",
    "b.backward()\n",
    "\n",
    "draw_dot(b)"
   ]
  },
  {
   "attachments": {},
   "cell_type": "markdown",
   "id": "b54e368b",
   "metadata": {},
   "source": [
    "Since we are using two times Node `a`, both are on top of each other, so the graph presents only `a`.\n",
    "\n",
    "Though the forward pass is correct, the gradient we calculated automatically is not. $\\frac{\\partial b}{\\partial a} = 2$, but right now it is equal to $1$"
   ]
  },
  {
   "attachments": {},
   "cell_type": "markdown",
   "id": "9fc8cf7b",
   "metadata": {},
   "source": [
    "It is happening because when `_backward()` is called internally in the case of addition, we **set** the `grad` value. Since Node `a` is used two times, we overide the `grad` value everytime.\n",
    "\n",
    "Another expression that we can use to visualize the problem is the following:"
   ]
  },
  {
   "cell_type": "code",
   "execution_count": 51,
   "id": "8ef5a6d2",
   "metadata": {},
   "outputs": [
    {
     "data": {
      "image/svg+xml": "<?xml version=\"1.0\" encoding=\"UTF-8\" standalone=\"no\"?>\n<!DOCTYPE svg PUBLIC \"-//W3C//DTD SVG 1.1//EN\"\n \"http://www.w3.org/Graphics/SVG/1.1/DTD/svg11.dtd\">\n<!-- Generated by graphviz version 2.50.0 (0)\n -->\n<!-- Pages: 1 -->\n<svg width=\"966pt\" height=\"100pt\"\n viewBox=\"0.00 0.00 966.00 100.00\" xmlns=\"http://www.w3.org/2000/svg\" xmlns:xlink=\"http://www.w3.org/1999/xlink\">\n<g id=\"graph0\" class=\"graph\" transform=\"scale(1 1) rotate(0) translate(4 96)\">\n<polygon fill=\"white\" stroke=\"transparent\" points=\"-4,4 -4,-96 962,-96 962,4 -4,4\"/>\n<!-- 140522373096496 -->\n<g id=\"node1\" class=\"node\">\n<title>140522373096496</title>\n<polygon fill=\"none\" stroke=\"black\" points=\"0,-55.5 0,-91.5 236,-91.5 236,-55.5 0,-55.5\"/>\n<text text-anchor=\"middle\" x=\"12.5\" y=\"-69.8\" font-family=\"Times,serif\" font-size=\"14.00\">a</text>\n<polyline fill=\"none\" stroke=\"black\" points=\"25,-55.5 25,-91.5 \"/>\n<text text-anchor=\"middle\" x=\"78.5\" y=\"-69.8\" font-family=\"Times,serif\" font-size=\"14.00\">data &#45;2.0000</text>\n<polyline fill=\"none\" stroke=\"black\" points=\"132,-55.5 132,-91.5 \"/>\n<text text-anchor=\"middle\" x=\"184\" y=\"-69.8\" font-family=\"Times,serif\" font-size=\"14.00\">grad 3.0000</text>\n</g>\n<!-- 140522373095728* -->\n<g id=\"node4\" class=\"node\">\n<title>140522373095728*</title>\n<ellipse fill=\"none\" stroke=\"black\" cx=\"299\" cy=\"-73.5\" rx=\"27\" ry=\"18\"/>\n<text text-anchor=\"middle\" x=\"299\" y=\"-69.8\" font-family=\"Times,serif\" font-size=\"14.00\">*</text>\n</g>\n<!-- 140522373096496&#45;&gt;140522373095728* -->\n<g id=\"edge9\" class=\"edge\">\n<title>140522373096496&#45;&gt;140522373095728*</title>\n<path fill=\"none\" stroke=\"black\" d=\"M236.15,-73.5C245.24,-73.5 253.91,-73.5 261.73,-73.5\"/>\n<polygon fill=\"black\" stroke=\"black\" points=\"261.82,-77 271.82,-73.5 261.82,-70 261.82,-77\"/>\n</g>\n<!-- 140522374205392+ -->\n<g id=\"node8\" class=\"node\">\n<title>140522374205392+</title>\n<ellipse fill=\"none\" stroke=\"black\" cx=\"299\" cy=\"-18.5\" rx=\"27\" ry=\"18\"/>\n<text text-anchor=\"middle\" x=\"299\" y=\"-14.8\" font-family=\"Times,serif\" font-size=\"14.00\">+</text>\n</g>\n<!-- 140522373096496&#45;&gt;140522374205392+ -->\n<g id=\"edge6\" class=\"edge\">\n<title>140522373096496&#45;&gt;140522374205392+</title>\n<path fill=\"none\" stroke=\"black\" d=\"M205.8,-55.5C216.06,-52.77 226.32,-49.77 236,-46.5 246.69,-42.89 258.02,-38.08 268.04,-33.47\"/>\n<polygon fill=\"black\" stroke=\"black\" points=\"269.64,-36.59 277.18,-29.15 266.65,-30.26 269.64,-36.59\"/>\n</g>\n<!-- 140522373095680 -->\n<g id=\"node2\" class=\"node\">\n<title>140522373095680</title>\n<polygon fill=\"none\" stroke=\"black\" points=\"0,-0.5 0,-36.5 236,-36.5 236,-0.5 0,-0.5\"/>\n<text text-anchor=\"middle\" x=\"13\" y=\"-14.8\" font-family=\"Times,serif\" font-size=\"14.00\">b</text>\n<polyline fill=\"none\" stroke=\"black\" points=\"26,-0.5 26,-36.5 \"/>\n<text text-anchor=\"middle\" x=\"77\" y=\"-14.8\" font-family=\"Times,serif\" font-size=\"14.00\">data 3.0000</text>\n<polyline fill=\"none\" stroke=\"black\" points=\"128,-0.5 128,-36.5 \"/>\n<text text-anchor=\"middle\" x=\"182\" y=\"-14.8\" font-family=\"Times,serif\" font-size=\"14.00\">grad &#45;2.0000</text>\n</g>\n<!-- 140522373095680&#45;&gt;140522373095728* -->\n<g id=\"edge5\" class=\"edge\">\n<title>140522373095680&#45;&gt;140522373095728*</title>\n<path fill=\"none\" stroke=\"black\" d=\"M202.29,-36.52C213.7,-39.55 225.21,-42.89 236,-46.5 246.44,-49.99 257.55,-54.55 267.43,-58.92\"/>\n<polygon fill=\"black\" stroke=\"black\" points=\"266.29,-62.24 276.84,-63.18 269.18,-55.87 266.29,-62.24\"/>\n</g>\n<!-- 140522373095680&#45;&gt;140522374205392+ -->\n<g id=\"edge7\" class=\"edge\">\n<title>140522373095680&#45;&gt;140522374205392+</title>\n<path fill=\"none\" stroke=\"black\" d=\"M236.15,-18.5C245.24,-18.5 253.91,-18.5 261.73,-18.5\"/>\n<polygon fill=\"black\" stroke=\"black\" points=\"261.82,-22 271.82,-18.5 261.82,-15 261.82,-22\"/>\n</g>\n<!-- 140522373095728 -->\n<g id=\"node3\" class=\"node\">\n<title>140522373095728</title>\n<polygon fill=\"none\" stroke=\"black\" points=\"362,-55.5 362,-91.5 599,-91.5 599,-55.5 362,-55.5\"/>\n<text text-anchor=\"middle\" x=\"375\" y=\"-69.8\" font-family=\"Times,serif\" font-size=\"14.00\">d</text>\n<polyline fill=\"none\" stroke=\"black\" points=\"388,-55.5 388,-91.5 \"/>\n<text text-anchor=\"middle\" x=\"441.5\" y=\"-69.8\" font-family=\"Times,serif\" font-size=\"14.00\">data &#45;6.0000</text>\n<polyline fill=\"none\" stroke=\"black\" points=\"495,-55.5 495,-91.5 \"/>\n<text text-anchor=\"middle\" x=\"547\" y=\"-69.8\" font-family=\"Times,serif\" font-size=\"14.00\">grad 1.0000</text>\n</g>\n<!-- 140522374192048* -->\n<g id=\"node6\" class=\"node\">\n<title>140522374192048*</title>\n<ellipse fill=\"none\" stroke=\"black\" cx=\"662\" cy=\"-45.5\" rx=\"27\" ry=\"18\"/>\n<text text-anchor=\"middle\" x=\"662\" y=\"-41.8\" font-family=\"Times,serif\" font-size=\"14.00\">*</text>\n</g>\n<!-- 140522373095728&#45;&gt;140522374192048* -->\n<g id=\"edge4\" class=\"edge\">\n<title>140522373095728&#45;&gt;140522374192048*</title>\n<path fill=\"none\" stroke=\"black\" d=\"M596.96,-55.49C607.12,-53.91 616.8,-52.4 625.41,-51.05\"/>\n<polygon fill=\"black\" stroke=\"black\" points=\"626.02,-54.5 635.36,-49.5 624.94,-47.58 626.02,-54.5\"/>\n</g>\n<!-- 140522373095728*&#45;&gt;140522373095728 -->\n<g id=\"edge1\" class=\"edge\">\n<title>140522373095728*&#45;&gt;140522373095728</title>\n<path fill=\"none\" stroke=\"black\" d=\"M326.1,-73.5C333.61,-73.5 342.33,-73.5 351.75,-73.5\"/>\n<polygon fill=\"black\" stroke=\"black\" points=\"351.78,-77 361.78,-73.5 351.78,-70 351.78,-77\"/>\n</g>\n<!-- 140522374192048 -->\n<g id=\"node5\" class=\"node\">\n<title>140522374192048</title>\n<polygon fill=\"none\" stroke=\"black\" points=\"725,-27.5 725,-63.5 958,-63.5 958,-27.5 725,-27.5\"/>\n<text text-anchor=\"middle\" x=\"736\" y=\"-41.8\" font-family=\"Times,serif\" font-size=\"14.00\">f</text>\n<polyline fill=\"none\" stroke=\"black\" points=\"747,-27.5 747,-63.5 \"/>\n<text text-anchor=\"middle\" x=\"800.5\" y=\"-41.8\" font-family=\"Times,serif\" font-size=\"14.00\">data &#45;6.0000</text>\n<polyline fill=\"none\" stroke=\"black\" points=\"854,-27.5 854,-63.5 \"/>\n<text text-anchor=\"middle\" x=\"906\" y=\"-41.8\" font-family=\"Times,serif\" font-size=\"14.00\">grad 1.0000</text>\n</g>\n<!-- 140522374192048*&#45;&gt;140522374192048 -->\n<g id=\"edge2\" class=\"edge\">\n<title>140522374192048*&#45;&gt;140522374192048</title>\n<path fill=\"none\" stroke=\"black\" d=\"M689.19,-45.5C696.71,-45.5 705.44,-45.5 714.84,-45.5\"/>\n<polygon fill=\"black\" stroke=\"black\" points=\"714.87,-49 724.87,-45.5 714.87,-42 714.87,-49\"/>\n</g>\n<!-- 140522374205392 -->\n<g id=\"node7\" class=\"node\">\n<title>140522374205392</title>\n<polygon fill=\"none\" stroke=\"black\" points=\"363,-0.5 363,-36.5 598,-36.5 598,-0.5 363,-0.5\"/>\n<text text-anchor=\"middle\" x=\"375.5\" y=\"-14.8\" font-family=\"Times,serif\" font-size=\"14.00\">e</text>\n<polyline fill=\"none\" stroke=\"black\" points=\"388,-0.5 388,-36.5 \"/>\n<text text-anchor=\"middle\" x=\"439\" y=\"-14.8\" font-family=\"Times,serif\" font-size=\"14.00\">data 1.0000</text>\n<polyline fill=\"none\" stroke=\"black\" points=\"490,-0.5 490,-36.5 \"/>\n<text text-anchor=\"middle\" x=\"544\" y=\"-14.8\" font-family=\"Times,serif\" font-size=\"14.00\">grad &#45;6.0000</text>\n</g>\n<!-- 140522374205392&#45;&gt;140522374192048* -->\n<g id=\"edge8\" class=\"edge\">\n<title>140522374205392&#45;&gt;140522374192048*</title>\n<path fill=\"none\" stroke=\"black\" d=\"M598.22,-36.06C607.92,-37.52 617.15,-38.9 625.41,-40.15\"/>\n<polygon fill=\"black\" stroke=\"black\" points=\"624.9,-43.61 635.31,-41.64 625.94,-36.69 624.9,-43.61\"/>\n</g>\n<!-- 140522374205392+&#45;&gt;140522374205392 -->\n<g id=\"edge3\" class=\"edge\">\n<title>140522374205392+&#45;&gt;140522374205392</title>\n<path fill=\"none\" stroke=\"black\" d=\"M326.1,-18.5C333.9,-18.5 343.03,-18.5 352.87,-18.5\"/>\n<polygon fill=\"black\" stroke=\"black\" points=\"352.93,-22 362.93,-18.5 352.93,-15 352.93,-22\"/>\n</g>\n</g>\n</svg>\n",
      "text/plain": [
       "<graphviz.graphs.Digraph at 0x7fcdea328f70>"
      ]
     },
     "execution_count": 51,
     "metadata": {},
     "output_type": "execute_result"
    }
   ],
   "source": [
    "a = Value(-2.0, label='a')\n",
    "b = Value(3.0, label='b')\n",
    "d = a * b       ; d.label = 'd'\n",
    "e = a + b       ; e.label = 'e'\n",
    "f = d * e       ; f.label = 'f'\n",
    "\n",
    "f.backward()\n",
    "\n",
    "draw_dot(f)"
   ]
  },
  {
   "attachments": {},
   "cell_type": "markdown",
   "id": "174414c4",
   "metadata": {},
   "source": [
    "Some of the results we got from calling `backward` are incorrect."
   ]
  },
  {
   "attachments": {},
   "cell_type": "markdown",
   "id": "7bc34459",
   "metadata": {},
   "source": [
    "Every time we use a variable more than once, and backpropagation is happening values gets overiden. For instance, when `_backward` is called on Node `e`, it will set the gradients in Node `a` and Node `b`... but when `_backward` is called on Node `d`, it will do exactly the same... and set the gradients in Node `a` and Node `b`... essentially ignoring what was there before.\n",
    "\n",
    "Instead, we want those gradients to **accumulate**.\n",
    "\n",
    "So once again, we will update the `Value` class. Here is the new version:"
   ]
  },
  {
   "cell_type": "code",
   "execution_count": 52,
   "id": "8c673afc",
   "metadata": {},
   "outputs": [],
   "source": [
    "class Value:\n",
    "    def __init__(self, data, _children=(), _op='', label='') -> None:\n",
    "        self.data = data\n",
    "        self._prev = set(_children)\n",
    "        self._op = _op\n",
    "        self.grad = 0\n",
    "        self.label = label\n",
    "        self._backward = lambda : None #\n",
    "\n",
    "    def __repr__(self) -> str:\n",
    "        return f\"Value(data = {self.data})\"\n",
    "\n",
    "    def __add__(self, other):\n",
    "        out = Value(self.data + other.data, (self, other), '+')\n",
    "        \n",
    "        def _backward():\n",
    "            #Remember what addition does when backpropagating\n",
    "            self.grad += 1.0 * out.grad\n",
    "            other.grad += 1.0 * out.grad\n",
    "\n",
    "        out._backward = _backward\n",
    "        return out\n",
    "\n",
    "    def __mul__(self, other):\n",
    "        out = Value(self.data * other.data, (self, other), '*')\n",
    "        \n",
    "        def _backward():\n",
    "            #Remember what multiplication does when backpropagating\n",
    "            self.grad += other.data * out.grad\n",
    "            other.grad += self.data * out.grad\n",
    "\n",
    "        out._backward = _backward\n",
    "        return out\n",
    "\n",
    "    def tanh(self):\n",
    "        x = self.data\n",
    "        t = (math.exp(2*x) - 1)/(math.exp(2*x) + 1)\n",
    "        out = Value(t, (self, ), _op='tanh')\n",
    "\n",
    "        def _backward():\n",
    "            self.grad += (1 - t**2) * out.grad\n",
    "\n",
    "        out._backward = _backward\n",
    "        return out\n",
    "    \n",
    "    def backward(self):\n",
    "        #1- Build topological graph starting at self\n",
    "        topo = []\n",
    "        visited = set()\n",
    "\n",
    "        def build_topo(v):\n",
    "            if v not in visited:\n",
    "                visited.add(v)\n",
    "                for child in v._prev:\n",
    "                    build_topo(child)\n",
    "                topo.append(v)\n",
    "\n",
    "        build_topo(self)\n",
    "        #2- Iterate through topo list and do backward\n",
    "        self.grad = 1.0\n",
    "        for node in reversed(topo):\n",
    "            node._backward()"
   ]
  },
  {
   "attachments": {},
   "cell_type": "markdown",
   "id": "f3573989",
   "metadata": {},
   "source": [
    "Let's redraw the last two graphs"
   ]
  },
  {
   "cell_type": "code",
   "execution_count": 53,
   "id": "aa5f5fff",
   "metadata": {},
   "outputs": [
    {
     "data": {
      "image/svg+xml": "<?xml version=\"1.0\" encoding=\"UTF-8\" standalone=\"no\"?>\n<!DOCTYPE svg PUBLIC \"-//W3C//DTD SVG 1.1//EN\"\n \"http://www.w3.org/Graphics/SVG/1.1/DTD/svg11.dtd\">\n<!-- Generated by graphviz version 2.50.0 (0)\n -->\n<!-- Pages: 1 -->\n<svg width=\"597pt\" height=\"45pt\"\n viewBox=\"0.00 0.00 597.00 45.00\" xmlns=\"http://www.w3.org/2000/svg\" xmlns:xlink=\"http://www.w3.org/1999/xlink\">\n<g id=\"graph0\" class=\"graph\" transform=\"scale(1 1) rotate(0) translate(4 41)\">\n<polygon fill=\"white\" stroke=\"transparent\" points=\"-4,4 -4,-41 593,-41 593,4 -4,4\"/>\n<!-- 140522373516928 -->\n<g id=\"node1\" class=\"node\">\n<title>140522373516928</title>\n<polygon fill=\"none\" stroke=\"black\" points=\"357,-0.5 357,-36.5 589,-36.5 589,-0.5 357,-0.5\"/>\n<text text-anchor=\"middle\" x=\"370\" y=\"-14.8\" font-family=\"Times,serif\" font-size=\"14.00\">b</text>\n<polyline fill=\"none\" stroke=\"black\" points=\"383,-0.5 383,-36.5 \"/>\n<text text-anchor=\"middle\" x=\"434\" y=\"-14.8\" font-family=\"Times,serif\" font-size=\"14.00\">data 6.0000</text>\n<polyline fill=\"none\" stroke=\"black\" points=\"485,-0.5 485,-36.5 \"/>\n<text text-anchor=\"middle\" x=\"537\" y=\"-14.8\" font-family=\"Times,serif\" font-size=\"14.00\">grad 1.0000</text>\n</g>\n<!-- 140522373516928+ -->\n<g id=\"node2\" class=\"node\">\n<title>140522373516928+</title>\n<ellipse fill=\"none\" stroke=\"black\" cx=\"294\" cy=\"-18.5\" rx=\"27\" ry=\"18\"/>\n<text text-anchor=\"middle\" x=\"294\" y=\"-14.8\" font-family=\"Times,serif\" font-size=\"14.00\">+</text>\n</g>\n<!-- 140522373516928+&#45;&gt;140522373516928 -->\n<g id=\"edge1\" class=\"edge\">\n<title>140522373516928+&#45;&gt;140522373516928</title>\n<path fill=\"none\" stroke=\"black\" d=\"M321.12,-18.5C328.53,-18.5 337.14,-18.5 346.4,-18.5\"/>\n<polygon fill=\"black\" stroke=\"black\" points=\"346.69,-22 356.69,-18.5 346.69,-15 346.69,-22\"/>\n</g>\n<!-- 140522373514048 -->\n<g id=\"node3\" class=\"node\">\n<title>140522373514048</title>\n<polygon fill=\"none\" stroke=\"black\" points=\"0,-0.5 0,-36.5 231,-36.5 231,-0.5 0,-0.5\"/>\n<text text-anchor=\"middle\" x=\"12.5\" y=\"-14.8\" font-family=\"Times,serif\" font-size=\"14.00\">a</text>\n<polyline fill=\"none\" stroke=\"black\" points=\"25,-0.5 25,-36.5 \"/>\n<text text-anchor=\"middle\" x=\"76\" y=\"-14.8\" font-family=\"Times,serif\" font-size=\"14.00\">data 3.0000</text>\n<polyline fill=\"none\" stroke=\"black\" points=\"127,-0.5 127,-36.5 \"/>\n<text text-anchor=\"middle\" x=\"179\" y=\"-14.8\" font-family=\"Times,serif\" font-size=\"14.00\">grad 2.0000</text>\n</g>\n<!-- 140522373514048&#45;&gt;140522373516928+ -->\n<g id=\"edge2\" class=\"edge\">\n<title>140522373514048&#45;&gt;140522373516928+</title>\n<path fill=\"none\" stroke=\"black\" d=\"M231.27,-18.5C240.32,-18.5 248.97,-18.5 256.76,-18.5\"/>\n<polygon fill=\"black\" stroke=\"black\" points=\"256.84,-22 266.84,-18.5 256.84,-15 256.84,-22\"/>\n</g>\n</g>\n</svg>\n",
      "text/plain": [
       "<graphviz.graphs.Digraph at 0x7fcdea2803d0>"
      ]
     },
     "execution_count": 53,
     "metadata": {},
     "output_type": "execute_result"
    }
   ],
   "source": [
    "a = Value(3.0, label='a')\n",
    "b = a + a; b.label = 'b'\n",
    "b.backward()\n",
    "\n",
    "draw_dot(b)"
   ]
  },
  {
   "cell_type": "code",
   "execution_count": 54,
   "id": "6109c8e3",
   "metadata": {},
   "outputs": [
    {
     "data": {
      "image/svg+xml": "<?xml version=\"1.0\" encoding=\"UTF-8\" standalone=\"no\"?>\n<!DOCTYPE svg PUBLIC \"-//W3C//DTD SVG 1.1//EN\"\n \"http://www.w3.org/Graphics/SVG/1.1/DTD/svg11.dtd\">\n<!-- Generated by graphviz version 2.50.0 (0)\n -->\n<!-- Pages: 1 -->\n<svg width=\"970pt\" height=\"100pt\"\n viewBox=\"0.00 0.00 970.00 100.00\" xmlns=\"http://www.w3.org/2000/svg\" xmlns:xlink=\"http://www.w3.org/1999/xlink\">\n<g id=\"graph0\" class=\"graph\" transform=\"scale(1 1) rotate(0) translate(4 96)\">\n<polygon fill=\"white\" stroke=\"transparent\" points=\"-4,4 -4,-96 966,-96 966,4 -4,4\"/>\n<!-- 140522373515296 -->\n<g id=\"node1\" class=\"node\">\n<title>140522373515296</title>\n<polygon fill=\"none\" stroke=\"black\" points=\"366,-55.5 366,-91.5 603,-91.5 603,-55.5 366,-55.5\"/>\n<text text-anchor=\"middle\" x=\"379\" y=\"-69.8\" font-family=\"Times,serif\" font-size=\"14.00\">d</text>\n<polyline fill=\"none\" stroke=\"black\" points=\"392,-55.5 392,-91.5 \"/>\n<text text-anchor=\"middle\" x=\"445.5\" y=\"-69.8\" font-family=\"Times,serif\" font-size=\"14.00\">data &#45;6.0000</text>\n<polyline fill=\"none\" stroke=\"black\" points=\"499,-55.5 499,-91.5 \"/>\n<text text-anchor=\"middle\" x=\"551\" y=\"-69.8\" font-family=\"Times,serif\" font-size=\"14.00\">grad 1.0000</text>\n</g>\n<!-- 140522373517024* -->\n<g id=\"node4\" class=\"node\">\n<title>140522373517024*</title>\n<ellipse fill=\"none\" stroke=\"black\" cx=\"666\" cy=\"-45.5\" rx=\"27\" ry=\"18\"/>\n<text text-anchor=\"middle\" x=\"666\" y=\"-41.8\" font-family=\"Times,serif\" font-size=\"14.00\">*</text>\n</g>\n<!-- 140522373515296&#45;&gt;140522373517024* -->\n<g id=\"edge4\" class=\"edge\">\n<title>140522373515296&#45;&gt;140522373517024*</title>\n<path fill=\"none\" stroke=\"black\" d=\"M600.96,-55.49C611.12,-53.91 620.8,-52.4 629.41,-51.05\"/>\n<polygon fill=\"black\" stroke=\"black\" points=\"630.02,-54.5 639.36,-49.5 628.94,-47.58 630.02,-54.5\"/>\n</g>\n<!-- 140522373515296* -->\n<g id=\"node2\" class=\"node\">\n<title>140522373515296*</title>\n<ellipse fill=\"none\" stroke=\"black\" cx=\"303\" cy=\"-73.5\" rx=\"27\" ry=\"18\"/>\n<text text-anchor=\"middle\" x=\"303\" y=\"-69.8\" font-family=\"Times,serif\" font-size=\"14.00\">*</text>\n</g>\n<!-- 140522373515296*&#45;&gt;140522373515296 -->\n<g id=\"edge1\" class=\"edge\">\n<title>140522373515296*&#45;&gt;140522373515296</title>\n<path fill=\"none\" stroke=\"black\" d=\"M330.1,-73.5C337.61,-73.5 346.33,-73.5 355.75,-73.5\"/>\n<polygon fill=\"black\" stroke=\"black\" points=\"355.78,-77 365.78,-73.5 355.78,-70 355.78,-77\"/>\n</g>\n<!-- 140522373517024 -->\n<g id=\"node3\" class=\"node\">\n<title>140522373517024</title>\n<polygon fill=\"none\" stroke=\"black\" points=\"729,-27.5 729,-63.5 962,-63.5 962,-27.5 729,-27.5\"/>\n<text text-anchor=\"middle\" x=\"740\" y=\"-41.8\" font-family=\"Times,serif\" font-size=\"14.00\">f</text>\n<polyline fill=\"none\" stroke=\"black\" points=\"751,-27.5 751,-63.5 \"/>\n<text text-anchor=\"middle\" x=\"804.5\" y=\"-41.8\" font-family=\"Times,serif\" font-size=\"14.00\">data &#45;6.0000</text>\n<polyline fill=\"none\" stroke=\"black\" points=\"858,-27.5 858,-63.5 \"/>\n<text text-anchor=\"middle\" x=\"910\" y=\"-41.8\" font-family=\"Times,serif\" font-size=\"14.00\">grad 1.0000</text>\n</g>\n<!-- 140522373517024*&#45;&gt;140522373517024 -->\n<g id=\"edge2\" class=\"edge\">\n<title>140522373517024*&#45;&gt;140522373517024</title>\n<path fill=\"none\" stroke=\"black\" d=\"M693.19,-45.5C700.71,-45.5 709.44,-45.5 718.84,-45.5\"/>\n<polygon fill=\"black\" stroke=\"black\" points=\"718.87,-49 728.87,-45.5 718.87,-42 718.87,-49\"/>\n</g>\n<!-- 140522373517168 -->\n<g id=\"node5\" class=\"node\">\n<title>140522373517168</title>\n<polygon fill=\"none\" stroke=\"black\" points=\"2,-55.5 2,-91.5 238,-91.5 238,-55.5 2,-55.5\"/>\n<text text-anchor=\"middle\" x=\"15\" y=\"-69.8\" font-family=\"Times,serif\" font-size=\"14.00\">b</text>\n<polyline fill=\"none\" stroke=\"black\" points=\"28,-55.5 28,-91.5 \"/>\n<text text-anchor=\"middle\" x=\"79\" y=\"-69.8\" font-family=\"Times,serif\" font-size=\"14.00\">data 3.0000</text>\n<polyline fill=\"none\" stroke=\"black\" points=\"130,-55.5 130,-91.5 \"/>\n<text text-anchor=\"middle\" x=\"184\" y=\"-69.8\" font-family=\"Times,serif\" font-size=\"14.00\">grad &#45;8.0000</text>\n</g>\n<!-- 140522373517168&#45;&gt;140522373515296* -->\n<g id=\"edge9\" class=\"edge\">\n<title>140522373517168&#45;&gt;140522373515296*</title>\n<path fill=\"none\" stroke=\"black\" d=\"M238.19,-73.5C248.03,-73.5 257.41,-73.5 265.8,-73.5\"/>\n<polygon fill=\"black\" stroke=\"black\" points=\"265.87,-77 275.87,-73.5 265.87,-70 265.87,-77\"/>\n</g>\n<!-- 140522373515680+ -->\n<g id=\"node7\" class=\"node\">\n<title>140522373515680+</title>\n<ellipse fill=\"none\" stroke=\"black\" cx=\"303\" cy=\"-18.5\" rx=\"27\" ry=\"18\"/>\n<text text-anchor=\"middle\" x=\"303\" y=\"-14.8\" font-family=\"Times,serif\" font-size=\"14.00\">+</text>\n</g>\n<!-- 140522373517168&#45;&gt;140522373515680+ -->\n<g id=\"edge7\" class=\"edge\">\n<title>140522373517168&#45;&gt;140522373515680+</title>\n<path fill=\"none\" stroke=\"black\" d=\"M209.61,-55.48C219.94,-52.77 230.26,-49.77 240,-46.5 250.69,-42.91 262.03,-38.11 272.05,-33.49\"/>\n<polygon fill=\"black\" stroke=\"black\" points=\"273.65,-36.61 281.19,-29.17 270.65,-30.28 273.65,-36.61\"/>\n</g>\n<!-- 140522373515680 -->\n<g id=\"node6\" class=\"node\">\n<title>140522373515680</title>\n<polygon fill=\"none\" stroke=\"black\" points=\"367,-0.5 367,-36.5 602,-36.5 602,-0.5 367,-0.5\"/>\n<text text-anchor=\"middle\" x=\"379.5\" y=\"-14.8\" font-family=\"Times,serif\" font-size=\"14.00\">e</text>\n<polyline fill=\"none\" stroke=\"black\" points=\"392,-0.5 392,-36.5 \"/>\n<text text-anchor=\"middle\" x=\"443\" y=\"-14.8\" font-family=\"Times,serif\" font-size=\"14.00\">data 1.0000</text>\n<polyline fill=\"none\" stroke=\"black\" points=\"494,-0.5 494,-36.5 \"/>\n<text text-anchor=\"middle\" x=\"548\" y=\"-14.8\" font-family=\"Times,serif\" font-size=\"14.00\">grad &#45;6.0000</text>\n</g>\n<!-- 140522373515680&#45;&gt;140522373517024* -->\n<g id=\"edge6\" class=\"edge\">\n<title>140522373515680&#45;&gt;140522373517024*</title>\n<path fill=\"none\" stroke=\"black\" d=\"M602.22,-36.06C611.92,-37.52 621.15,-38.9 629.41,-40.15\"/>\n<polygon fill=\"black\" stroke=\"black\" points=\"628.9,-43.61 639.31,-41.64 629.94,-36.69 628.9,-43.61\"/>\n</g>\n<!-- 140522373515680+&#45;&gt;140522373515680 -->\n<g id=\"edge3\" class=\"edge\">\n<title>140522373515680+&#45;&gt;140522373515680</title>\n<path fill=\"none\" stroke=\"black\" d=\"M330.1,-18.5C337.9,-18.5 347.03,-18.5 356.87,-18.5\"/>\n<polygon fill=\"black\" stroke=\"black\" points=\"356.93,-22 366.93,-18.5 356.93,-15 356.93,-22\"/>\n</g>\n<!-- 140522373514672 -->\n<g id=\"node8\" class=\"node\">\n<title>140522373514672</title>\n<polygon fill=\"none\" stroke=\"black\" points=\"0,-0.5 0,-36.5 240,-36.5 240,-0.5 0,-0.5\"/>\n<text text-anchor=\"middle\" x=\"12.5\" y=\"-14.8\" font-family=\"Times,serif\" font-size=\"14.00\">a</text>\n<polyline fill=\"none\" stroke=\"black\" points=\"25,-0.5 25,-36.5 \"/>\n<text text-anchor=\"middle\" x=\"78.5\" y=\"-14.8\" font-family=\"Times,serif\" font-size=\"14.00\">data &#45;2.0000</text>\n<polyline fill=\"none\" stroke=\"black\" points=\"132,-0.5 132,-36.5 \"/>\n<text text-anchor=\"middle\" x=\"186\" y=\"-14.8\" font-family=\"Times,serif\" font-size=\"14.00\">grad &#45;3.0000</text>\n</g>\n<!-- 140522373514672&#45;&gt;140522373515296* -->\n<g id=\"edge8\" class=\"edge\">\n<title>140522373514672&#45;&gt;140522373515296*</title>\n<path fill=\"none\" stroke=\"black\" d=\"M206.03,-36.54C217.54,-39.55 229.12,-42.88 240,-46.5 250.44,-49.97 261.55,-54.52 271.44,-58.89\"/>\n<polygon fill=\"black\" stroke=\"black\" points=\"270.3,-62.22 280.85,-63.16 273.19,-55.84 270.3,-62.22\"/>\n</g>\n<!-- 140522373514672&#45;&gt;140522373515680+ -->\n<g id=\"edge5\" class=\"edge\">\n<title>140522373514672&#45;&gt;140522373515680+</title>\n<path fill=\"none\" stroke=\"black\" d=\"M240.22,-18.5C249.32,-18.5 257.99,-18.5 265.8,-18.5\"/>\n<polygon fill=\"black\" stroke=\"black\" points=\"265.88,-22 275.88,-18.5 265.88,-15 265.88,-22\"/>\n</g>\n</g>\n</svg>\n",
      "text/plain": [
       "<graphviz.graphs.Digraph at 0x7fcdea2803a0>"
      ]
     },
     "execution_count": 54,
     "metadata": {},
     "output_type": "execute_result"
    }
   ],
   "source": [
    "a = Value(-2.0, label='a')\n",
    "b = Value(3.0, label='b')\n",
    "d = a * b       ; d.label = 'd'\n",
    "e = a + b       ; e.label = 'e'\n",
    "f = d * e       ; f.label = 'f'\n",
    "\n",
    "f.backward()\n",
    "\n",
    "draw_dot(f)"
   ]
  },
  {
   "attachments": {},
   "cell_type": "markdown",
   "id": "38e772eb",
   "metadata": {},
   "source": [
    "Now, we have the correct results 😊. Now, the gradients **accumulate**, instead of being set."
   ]
  },
  {
   "attachments": {},
   "cell_type": "markdown",
   "id": "bf970284",
   "metadata": {},
   "source": [
    "Next in the video, we tried to break up the `tanh` implementation as a function of $e$, to 1) force us a chance to implement a few more expressions (it is a good exercise) and 2) Proove to ourselves that we can still reach the same results regardless.\n",
    "\n",
    "Right now, our `Value` class implements $tanh = \\frac{e^{2x} - 1}{e^{2x} + 1}$ using `np.exp`. This time we will write our **own `exp` function** to implement `tanh`."
   ]
  },
  {
   "attachments": {},
   "cell_type": "markdown",
   "id": "d1a70c36",
   "metadata": {},
   "source": [
    "If we want to implement `tanh` ourselves, we must be able to add a `Value` object and an integer (a constant) like so:"
   ]
  },
  {
   "cell_type": "code",
   "execution_count": 55,
   "id": "007a95dd",
   "metadata": {},
   "outputs": [
    {
     "ename": "AttributeError",
     "evalue": "'int' object has no attribute 'data'",
     "output_type": "error",
     "traceback": [
      "\u001b[0;31m---------------------------------------------------------------------------\u001b[0m",
      "\u001b[0;31mAttributeError\u001b[0m                            Traceback (most recent call last)",
      "\u001b[0;32m/tmp/ipykernel_123206/1628854693.py\u001b[0m in \u001b[0;36m<module>\u001b[0;34m\u001b[0m\n\u001b[0;32m----> 1\u001b[0;31m \u001b[0mValue\u001b[0m\u001b[0;34m(\u001b[0m\u001b[0;36m1.0\u001b[0m\u001b[0;34m)\u001b[0m \u001b[0;34m+\u001b[0m \u001b[0;36m1\u001b[0m\u001b[0;34m\u001b[0m\u001b[0;34m\u001b[0m\u001b[0m\n\u001b[0m",
      "\u001b[0;32m/tmp/ipykernel_123206/2448167674.py\u001b[0m in \u001b[0;36m__add__\u001b[0;34m(self, other)\u001b[0m\n\u001b[1;32m     12\u001b[0m \u001b[0;34m\u001b[0m\u001b[0m\n\u001b[1;32m     13\u001b[0m     \u001b[0;32mdef\u001b[0m \u001b[0m__add__\u001b[0m\u001b[0;34m(\u001b[0m\u001b[0mself\u001b[0m\u001b[0;34m,\u001b[0m \u001b[0mother\u001b[0m\u001b[0;34m)\u001b[0m\u001b[0;34m:\u001b[0m\u001b[0;34m\u001b[0m\u001b[0;34m\u001b[0m\u001b[0m\n\u001b[0;32m---> 14\u001b[0;31m         \u001b[0mout\u001b[0m \u001b[0;34m=\u001b[0m \u001b[0mValue\u001b[0m\u001b[0;34m(\u001b[0m\u001b[0mself\u001b[0m\u001b[0;34m.\u001b[0m\u001b[0mdata\u001b[0m \u001b[0;34m+\u001b[0m \u001b[0mother\u001b[0m\u001b[0;34m.\u001b[0m\u001b[0mdata\u001b[0m\u001b[0;34m,\u001b[0m \u001b[0;34m(\u001b[0m\u001b[0mself\u001b[0m\u001b[0;34m,\u001b[0m \u001b[0mother\u001b[0m\u001b[0;34m)\u001b[0m\u001b[0;34m,\u001b[0m \u001b[0;34m'+'\u001b[0m\u001b[0;34m)\u001b[0m\u001b[0;34m\u001b[0m\u001b[0;34m\u001b[0m\u001b[0m\n\u001b[0m\u001b[1;32m     15\u001b[0m \u001b[0;34m\u001b[0m\u001b[0m\n\u001b[1;32m     16\u001b[0m         \u001b[0;32mdef\u001b[0m \u001b[0m_backward\u001b[0m\u001b[0;34m(\u001b[0m\u001b[0;34m)\u001b[0m\u001b[0;34m:\u001b[0m\u001b[0;34m\u001b[0m\u001b[0;34m\u001b[0m\u001b[0m\n",
      "\u001b[0;31mAttributeError\u001b[0m: 'int' object has no attribute 'data'"
     ]
    }
   ],
   "source": [
    "Value(1.0) + 1"
   ]
  },
  {
   "attachments": {},
   "cell_type": "markdown",
   "id": "296e08ed",
   "metadata": {},
   "source": [
    "As we can see, we cannot add a `Value` object and an integer because the `__add__` function in `Value` adds the `data` attributes of the objects involved in the addition. Since the integer `1` does not have a `data` attribute, we get the `AttributeError` we just observed. We'd get the same error for multiplication, division, etc.\n",
    "\n",
    "To implement `tanh` with our personal `exp` function, we must enhance our `Value` class so that operations like the one in the previous cell are possible."
   ]
  },
  {
   "cell_type": "code",
   "execution_count": 56,
   "id": "fb68f4f6",
   "metadata": {},
   "outputs": [],
   "source": [
    "class Value:\n",
    "    def __init__(self, data, _children=(), _op='', label='') -> None:\n",
    "        self.data = data\n",
    "        self._prev = set(_children)\n",
    "        self._op = _op\n",
    "        self.grad = 0\n",
    "        self.label = label\n",
    "        self._backward = lambda : None #\n",
    "\n",
    "    def __repr__(self) -> str:\n",
    "        return f\"Value(data = {self.data})\"\n",
    "\n",
    "    #NEW\n",
    "    def __add__(self, other):\n",
    "        #We leave \"other\" as is... if it is an instance of \"Value\" otherwise, we wrap it into a \"Value\" object.\n",
    "        other = other if isinstance(other, Value) else Value(other)\n",
    "        out = Value(self.data + other.data, (self, other), '+')\n",
    "        \n",
    "        def _backward():\n",
    "            self.grad += 1.0 * out.grad\n",
    "            other.grad += 1.0 * out.grad\n",
    "\n",
    "        out._backward = _backward\n",
    "        return out\n",
    "\n",
    "    #NEW\n",
    "    def __mul__(self, other):\n",
    "        #We leave \"other\" as is... if it is an instance of \"Value\" otherwise, we wrap it into a \"Value\" object.\n",
    "        other = other if isinstance(other,Value) else Value(other)\n",
    "        out = Value(self.data * other.data, (self, other), '*')\n",
    "        \n",
    "        def _backward():\n",
    "            self.grad += other.data * out.grad\n",
    "            other.grad += self.data * out.grad\n",
    "\n",
    "        out._backward = _backward\n",
    "        return out\n",
    "    \n",
    "    #NEW\n",
    "    def __rmul__(self, other):\n",
    "        return self * other\n",
    "\n",
    "    def tanh(self):\n",
    "        x = self.data\n",
    "        t = (math.exp(2*x) - 1)/(math.exp(2*x) + 1)\n",
    "        out = Value(t, (self, ), _op='tanh')\n",
    "\n",
    "        def _backward():\n",
    "            self.grad += (1 - t**2) * out.grad\n",
    "\n",
    "        out._backward = _backward\n",
    "        return out\n",
    "    \n",
    "    def backward(self):\n",
    "        #1- Build topological graph starting at self\n",
    "        topo = []\n",
    "        visited = set()\n",
    "\n",
    "        def build_topo(v):\n",
    "            if v not in visited:\n",
    "                visited.add(v)\n",
    "                for child in v._prev:\n",
    "                    build_topo(child)\n",
    "                topo.append(v)\n",
    "\n",
    "        build_topo(self)\n",
    "        #2- Iterate through topo list and do backward\n",
    "        self.grad = 1.0\n",
    "        for node in reversed(topo):\n",
    "            node._backward()"
   ]
  },
  {
   "attachments": {},
   "cell_type": "markdown",
   "id": "6203e793",
   "metadata": {},
   "source": [
    "Now we can do:"
   ]
  },
  {
   "cell_type": "code",
   "execution_count": 57,
   "id": "b4aaa949",
   "metadata": {},
   "outputs": [
    {
     "data": {
      "text/plain": [
       "Value(data = 2.0)"
      ]
     },
     "execution_count": 57,
     "metadata": {},
     "output_type": "execute_result"
    }
   ],
   "source": [
    "Value(1.0) + 1"
   ]
  },
  {
   "cell_type": "code",
   "execution_count": 58,
   "id": "44e984bc",
   "metadata": {},
   "outputs": [
    {
     "data": {
      "text/plain": [
       "Value(data = 7.0)"
      ]
     },
     "execution_count": 58,
     "metadata": {},
     "output_type": "execute_result"
    }
   ],
   "source": [
    "Value(1.0) * 7 #equivalent Value.__mul__(7)"
   ]
  },
  {
   "cell_type": "code",
   "execution_count": 59,
   "id": "75563f44",
   "metadata": {},
   "outputs": [
    {
     "data": {
      "text/plain": [
       "Value(data = 14)"
      ]
     },
     "execution_count": 59,
     "metadata": {},
     "output_type": "execute_result"
    }
   ],
   "source": [
    "7 * Value(2) #equivalent to Value.__rmul__(2)"
   ]
  },
  {
   "attachments": {},
   "cell_type": "markdown",
   "id": "081e8d3c",
   "metadata": {},
   "source": [
    "Now, we want to be able to exponentiate, divide, substract. So, let's enhance our `Value` class once again."
   ]
  },
  {
   "cell_type": "code",
   "execution_count": 60,
   "id": "e14dcd35",
   "metadata": {},
   "outputs": [],
   "source": [
    "class Value:\n",
    "    def __init__(self, data, _children=(), _op='', label='') -> None:\n",
    "        self.data = data\n",
    "        self._prev = set(_children)\n",
    "        self._op = _op\n",
    "        self.grad = 0\n",
    "        self.label = label\n",
    "        self._backward = lambda : None #\n",
    "\n",
    "    def __repr__(self) -> str:\n",
    "        return f\"Value(data = {self.data})\"\n",
    "\n",
    "    def __add__(self, other):\n",
    "        other = other if isinstance(other, Value) else Value(other)\n",
    "        out = Value(self.data + other.data, (self, other), '+')\n",
    "        \n",
    "        def _backward():\n",
    "            self.grad += 1.0 * out.grad\n",
    "            other.grad += 1.0 * out.grad\n",
    "\n",
    "        out._backward = _backward\n",
    "        return out\n",
    "\n",
    "    def __mul__(self, other):\n",
    "        other = other if isinstance(other,Value) else Value(other)\n",
    "        out = Value(self.data * other.data, (self, other), '*')\n",
    "        \n",
    "        def _backward():\n",
    "            self.grad += other.data * out.grad\n",
    "            other.grad += self.data * out.grad\n",
    "\n",
    "        out._backward = _backward\n",
    "        return out\n",
    "    \n",
    "    def __rmul__(self, other):\n",
    "        return self * other\n",
    "\n",
    "    def tanh(self):\n",
    "        x = self.data\n",
    "        t = (math.exp(2*x) - 1)/(math.exp(2*x) + 1)\n",
    "        out = Value(t, (self, ), _op='tanh')\n",
    "\n",
    "        def _backward():\n",
    "            self.grad += (1 - t**2) * out.grad\n",
    "\n",
    "        out._backward = _backward\n",
    "        return out\n",
    "    \n",
    "    #NEW\n",
    "    def exp(self):\n",
    "        x = self.data\n",
    "        out = Value(math.exp(x), (self, ), 'exp')\n",
    "\n",
    "        def _backward():\n",
    "            self.grad += out.data * out.grad\n",
    "        \n",
    "        out._backward = _backward\n",
    "\n",
    "        return out\n",
    "    \n",
    "    #NEW\n",
    "    def __truediv__(self, other):\n",
    "        return self * other**-1\n",
    "    \n",
    "    #NEW\n",
    "    def __pow__(self, other):\n",
    "        assert isinstance(other, (int, float)), \"only supporting int/float powers for now\"\n",
    "        out = Value(self.data**other, (self, ), f'**{other}')\n",
    "\n",
    "        def _backward():\n",
    "            #HINT: (x^n)' = n x^(n - 1)\n",
    "            self.grad += (other * self.data**(other - 1)) * out.grad\n",
    "\n",
    "        out._backward = _backward\n",
    "        return out\n",
    "    \n",
    "    #NEW\n",
    "    def __neg__(self):\n",
    "        return self * -1\n",
    "    \n",
    "    #NEW\n",
    "    def __sub__(self, other):\n",
    "        return self + (-other)\n",
    "    \n",
    "    def backward(self):\n",
    "        #1- Build topological graph starting at self\n",
    "        topo = []\n",
    "        visited = set()\n",
    "\n",
    "        def build_topo(v):\n",
    "            if v not in visited:\n",
    "                visited.add(v)\n",
    "                for child in v._prev:\n",
    "                    build_topo(child)\n",
    "                topo.append(v)\n",
    "\n",
    "        build_topo(self)\n",
    "        #2- Iterate through topo list and do backward\n",
    "        self.grad = 1.0\n",
    "        for node in reversed(topo):\n",
    "            node._backward()"
   ]
  },
  {
   "attachments": {},
   "cell_type": "markdown",
   "id": "d32006c9",
   "metadata": {},
   "source": [
    "Let's redefine our 2-dimensional neurons, and this time break up the `tanh` operation using what we just defined.\n",
    "\n",
    "We expect to obtain the **same gradient values** like before, when we were using the `tanh` function. Because what we are doing is mathematically equivalent. But before for moving and forward and redefine everything let's redraw the old graph, so we can easily compare its values to the one we'll generate soon"
   ]
  },
  {
   "cell_type": "code",
   "execution_count": 61,
   "id": "2edc4004",
   "metadata": {},
   "outputs": [
    {
     "data": {
      "image/svg+xml": "<?xml version=\"1.0\" encoding=\"UTF-8\" standalone=\"no\"?>\n<!DOCTYPE svg PUBLIC \"-//W3C//DTD SVG 1.1//EN\"\n \"http://www.w3.org/Graphics/SVG/1.1/DTD/svg11.dtd\">\n<!-- Generated by graphviz version 2.50.0 (0)\n -->\n<!-- Pages: 1 -->\n<svg width=\"1832pt\" height=\"210pt\"\n viewBox=\"0.00 0.00 1831.69 210.00\" xmlns=\"http://www.w3.org/2000/svg\" xmlns:xlink=\"http://www.w3.org/1999/xlink\">\n<g id=\"graph0\" class=\"graph\" transform=\"scale(1 1) rotate(0) translate(4 206)\">\n<polygon fill=\"white\" stroke=\"transparent\" points=\"-4,4 -4,-206 1827.69,-206 1827.69,4 -4,4\"/>\n<!-- 140522374190080 -->\n<g id=\"node1\" class=\"node\">\n<title>140522374190080</title>\n<polygon fill=\"none\" stroke=\"black\" points=\"1592.69,-109.5 1592.69,-145.5 1823.69,-145.5 1823.69,-109.5 1592.69,-109.5\"/>\n<text text-anchor=\"middle\" x=\"1605.19\" y=\"-123.8\" font-family=\"Times,serif\" font-size=\"14.00\">o</text>\n<polyline fill=\"none\" stroke=\"black\" points=\"1617.69,-109.5 1617.69,-145.5 \"/>\n<text text-anchor=\"middle\" x=\"1668.69\" y=\"-123.8\" font-family=\"Times,serif\" font-size=\"14.00\">data 0.7071</text>\n<polyline fill=\"none\" stroke=\"black\" points=\"1719.69,-109.5 1719.69,-145.5 \"/>\n<text text-anchor=\"middle\" x=\"1771.69\" y=\"-123.8\" font-family=\"Times,serif\" font-size=\"14.00\">grad 1.0000</text>\n</g>\n<!-- 140522374190080tanh -->\n<g id=\"node2\" class=\"node\">\n<title>140522374190080tanh</title>\n<ellipse fill=\"none\" stroke=\"black\" cx=\"1524.85\" cy=\"-127.5\" rx=\"31.7\" ry=\"18\"/>\n<text text-anchor=\"middle\" x=\"1524.85\" y=\"-123.8\" font-family=\"Times,serif\" font-size=\"14.00\">tanh</text>\n</g>\n<!-- 140522374190080tanh&#45;&gt;140522374190080 -->\n<g id=\"edge1\" class=\"edge\">\n<title>140522374190080tanh&#45;&gt;140522374190080</title>\n<path fill=\"none\" stroke=\"black\" d=\"M1557.02,-127.5C1564.61,-127.5 1573.19,-127.5 1582.31,-127.5\"/>\n<polygon fill=\"black\" stroke=\"black\" points=\"1582.4,-131 1592.4,-127.5 1582.4,-124 1582.4,-131\"/>\n</g>\n<!-- 140522373331456 -->\n<g id=\"node3\" class=\"node\">\n<title>140522373331456</title>\n<polygon fill=\"none\" stroke=\"black\" points=\"2.5,-55.5 2.5,-91.5 246.5,-91.5 246.5,-55.5 2.5,-55.5\"/>\n<text text-anchor=\"middle\" x=\"21.5\" y=\"-69.8\" font-family=\"Times,serif\" font-size=\"14.00\">w2</text>\n<polyline fill=\"none\" stroke=\"black\" points=\"40.5,-55.5 40.5,-91.5 \"/>\n<text text-anchor=\"middle\" x=\"91.5\" y=\"-69.8\" font-family=\"Times,serif\" font-size=\"14.00\">data 1.0000</text>\n<polyline fill=\"none\" stroke=\"black\" points=\"142.5,-55.5 142.5,-91.5 \"/>\n<text text-anchor=\"middle\" x=\"194.5\" y=\"-69.8\" font-family=\"Times,serif\" font-size=\"14.00\">grad 0.0000</text>\n</g>\n<!-- 140522373484256* -->\n<g id=\"node13\" class=\"node\">\n<title>140522373484256*</title>\n<ellipse fill=\"none\" stroke=\"black\" cx=\"312\" cy=\"-73.5\" rx=\"27\" ry=\"18\"/>\n<text text-anchor=\"middle\" x=\"312\" y=\"-69.8\" font-family=\"Times,serif\" font-size=\"14.00\">*</text>\n</g>\n<!-- 140522373331456&#45;&gt;140522373484256* -->\n<g id=\"edge13\" class=\"edge\">\n<title>140522373331456&#45;&gt;140522373484256*</title>\n<path fill=\"none\" stroke=\"black\" d=\"M246.64,-73.5C256.7,-73.5 266.26,-73.5 274.79,-73.5\"/>\n<polygon fill=\"black\" stroke=\"black\" points=\"275,-77 285,-73.5 275,-70 275,-77\"/>\n</g>\n<!-- 140522374191136 -->\n<g id=\"node4\" class=\"node\">\n<title>140522374191136</title>\n<polygon fill=\"none\" stroke=\"black\" points=\"1225,-109.5 1225,-145.5 1457,-145.5 1457,-109.5 1225,-109.5\"/>\n<text text-anchor=\"middle\" x=\"1238\" y=\"-123.8\" font-family=\"Times,serif\" font-size=\"14.00\">n</text>\n<polyline fill=\"none\" stroke=\"black\" points=\"1251,-109.5 1251,-145.5 \"/>\n<text text-anchor=\"middle\" x=\"1302\" y=\"-123.8\" font-family=\"Times,serif\" font-size=\"14.00\">data 0.8814</text>\n<polyline fill=\"none\" stroke=\"black\" points=\"1353,-109.5 1353,-145.5 \"/>\n<text text-anchor=\"middle\" x=\"1405\" y=\"-123.8\" font-family=\"Times,serif\" font-size=\"14.00\">grad 0.5000</text>\n</g>\n<!-- 140522374191136&#45;&gt;140522374190080tanh -->\n<g id=\"edge8\" class=\"edge\">\n<title>140522374191136&#45;&gt;140522374190080tanh</title>\n<path fill=\"none\" stroke=\"black\" d=\"M1457.17,-127.5C1466.08,-127.5 1474.66,-127.5 1482.53,-127.5\"/>\n<polygon fill=\"black\" stroke=\"black\" points=\"1482.78,-131 1492.78,-127.5 1482.78,-124 1482.78,-131\"/>\n</g>\n<!-- 140522374191136+ -->\n<g id=\"node5\" class=\"node\">\n<title>140522374191136+</title>\n<ellipse fill=\"none\" stroke=\"black\" cx=\"1162\" cy=\"-127.5\" rx=\"27\" ry=\"18\"/>\n<text text-anchor=\"middle\" x=\"1162\" y=\"-123.8\" font-family=\"Times,serif\" font-size=\"14.00\">+</text>\n</g>\n<!-- 140522374191136+&#45;&gt;140522374191136 -->\n<g id=\"edge2\" class=\"edge\">\n<title>140522374191136+&#45;&gt;140522374191136</title>\n<path fill=\"none\" stroke=\"black\" d=\"M1189.12,-127.5C1196.53,-127.5 1205.14,-127.5 1214.4,-127.5\"/>\n<polygon fill=\"black\" stroke=\"black\" points=\"1214.69,-131 1224.69,-127.5 1214.69,-124 1214.69,-131\"/>\n</g>\n<!-- 140522373608496 -->\n<g id=\"node6\" class=\"node\">\n<title>140522373608496</title>\n<polygon fill=\"none\" stroke=\"black\" points=\"0,-165.5 0,-201.5 249,-201.5 249,-165.5 0,-165.5\"/>\n<text text-anchor=\"middle\" x=\"19\" y=\"-179.8\" font-family=\"Times,serif\" font-size=\"14.00\">w1</text>\n<polyline fill=\"none\" stroke=\"black\" points=\"38,-165.5 38,-201.5 \"/>\n<text text-anchor=\"middle\" x=\"91.5\" y=\"-179.8\" font-family=\"Times,serif\" font-size=\"14.00\">data &#45;3.0000</text>\n<polyline fill=\"none\" stroke=\"black\" points=\"145,-165.5 145,-201.5 \"/>\n<text text-anchor=\"middle\" x=\"197\" y=\"-179.8\" font-family=\"Times,serif\" font-size=\"14.00\">grad 1.0000</text>\n</g>\n<!-- 140522373483680* -->\n<g id=\"node9\" class=\"node\">\n<title>140522373483680*</title>\n<ellipse fill=\"none\" stroke=\"black\" cx=\"312\" cy=\"-128.5\" rx=\"27\" ry=\"18\"/>\n<text text-anchor=\"middle\" x=\"312\" y=\"-124.8\" font-family=\"Times,serif\" font-size=\"14.00\">*</text>\n</g>\n<!-- 140522373608496&#45;&gt;140522373483680* -->\n<g id=\"edge14\" class=\"edge\">\n<title>140522373608496&#45;&gt;140522373483680*</title>\n<path fill=\"none\" stroke=\"black\" d=\"M218.13,-165.46C228.63,-162.77 239.1,-159.78 249,-156.5 259.71,-152.96 271.05,-148.16 281.07,-143.54\"/>\n<polygon fill=\"black\" stroke=\"black\" points=\"282.67,-146.66 290.2,-139.21 279.67,-140.33 282.67,-146.66\"/>\n</g>\n<!-- 140522373608544 -->\n<g id=\"node7\" class=\"node\">\n<title>140522373608544</title>\n<polygon fill=\"none\" stroke=\"black\" points=\"820.5,-137.5 820.5,-173.5 1052.5,-173.5 1052.5,-137.5 820.5,-137.5\"/>\n<text text-anchor=\"middle\" x=\"833.5\" y=\"-151.8\" font-family=\"Times,serif\" font-size=\"14.00\">b</text>\n<polyline fill=\"none\" stroke=\"black\" points=\"846.5,-137.5 846.5,-173.5 \"/>\n<text text-anchor=\"middle\" x=\"897.5\" y=\"-151.8\" font-family=\"Times,serif\" font-size=\"14.00\">data 6.8814</text>\n<polyline fill=\"none\" stroke=\"black\" points=\"948.5,-137.5 948.5,-173.5 \"/>\n<text text-anchor=\"middle\" x=\"1000.5\" y=\"-151.8\" font-family=\"Times,serif\" font-size=\"14.00\">grad 0.5000</text>\n</g>\n<!-- 140522373608544&#45;&gt;140522374191136+ -->\n<g id=\"edge7\" class=\"edge\">\n<title>140522373608544&#45;&gt;140522374191136+</title>\n<path fill=\"none\" stroke=\"black\" d=\"M1052.52,-141.09C1079,-137.77 1105.23,-134.49 1125.26,-131.98\"/>\n<polygon fill=\"black\" stroke=\"black\" points=\"1125.94,-135.42 1135.43,-130.7 1125.07,-128.47 1125.94,-135.42\"/>\n</g>\n<!-- 140522373483680 -->\n<g id=\"node8\" class=\"node\">\n<title>140522373483680</title>\n<polygon fill=\"none\" stroke=\"black\" points=\"375,-110.5 375,-146.5 648,-146.5 648,-110.5 375,-110.5\"/>\n<text text-anchor=\"middle\" x=\"406\" y=\"-124.8\" font-family=\"Times,serif\" font-size=\"14.00\">x1*w1</text>\n<polyline fill=\"none\" stroke=\"black\" points=\"437,-110.5 437,-146.5 \"/>\n<text text-anchor=\"middle\" x=\"490.5\" y=\"-124.8\" font-family=\"Times,serif\" font-size=\"14.00\">data &#45;6.0000</text>\n<polyline fill=\"none\" stroke=\"black\" points=\"544,-110.5 544,-146.5 \"/>\n<text text-anchor=\"middle\" x=\"596\" y=\"-124.8\" font-family=\"Times,serif\" font-size=\"14.00\">grad 0.5000</text>\n</g>\n<!-- 140522374191808+ -->\n<g id=\"node11\" class=\"node\">\n<title>140522374191808+</title>\n<ellipse fill=\"none\" stroke=\"black\" cx=\"711\" cy=\"-100.5\" rx=\"27\" ry=\"18\"/>\n<text text-anchor=\"middle\" x=\"711\" y=\"-96.8\" font-family=\"Times,serif\" font-size=\"14.00\">+</text>\n</g>\n<!-- 140522373483680&#45;&gt;140522374191808+ -->\n<g id=\"edge12\" class=\"edge\">\n<title>140522373483680&#45;&gt;140522374191808+</title>\n<path fill=\"none\" stroke=\"black\" d=\"M639.53,-110.49C652.09,-108.71 663.99,-107.02 674.3,-105.56\"/>\n<polygon fill=\"black\" stroke=\"black\" points=\"675.03,-108.99 684.44,-104.12 674.05,-102.06 675.03,-108.99\"/>\n</g>\n<!-- 140522373483680*&#45;&gt;140522373483680 -->\n<g id=\"edge3\" class=\"edge\">\n<title>140522373483680*&#45;&gt;140522373483680</title>\n<path fill=\"none\" stroke=\"black\" d=\"M339.23,-128.5C346.7,-128.5 355.41,-128.5 364.87,-128.5\"/>\n<polygon fill=\"black\" stroke=\"black\" points=\"364.98,-132 374.98,-128.5 364.98,-125 364.98,-132\"/>\n</g>\n<!-- 140522374191808 -->\n<g id=\"node10\" class=\"node\">\n<title>140522374191808</title>\n<polygon fill=\"none\" stroke=\"black\" points=\"774,-82.5 774,-118.5 1099,-118.5 1099,-82.5 774,-82.5\"/>\n<text text-anchor=\"middle\" x=\"831\" y=\"-96.8\" font-family=\"Times,serif\" font-size=\"14.00\">x1w1 + x2w2</text>\n<polyline fill=\"none\" stroke=\"black\" points=\"888,-82.5 888,-118.5 \"/>\n<text text-anchor=\"middle\" x=\"941.5\" y=\"-96.8\" font-family=\"Times,serif\" font-size=\"14.00\">data &#45;6.0000</text>\n<polyline fill=\"none\" stroke=\"black\" points=\"995,-82.5 995,-118.5 \"/>\n<text text-anchor=\"middle\" x=\"1047\" y=\"-96.8\" font-family=\"Times,serif\" font-size=\"14.00\">grad 0.5000</text>\n</g>\n<!-- 140522374191808&#45;&gt;140522374191136+ -->\n<g id=\"edge11\" class=\"edge\">\n<title>140522374191808&#45;&gt;140522374191136+</title>\n<path fill=\"none\" stroke=\"black\" d=\"M1086.58,-118.51C1100.66,-120.21 1113.84,-121.8 1125.09,-123.16\"/>\n<polygon fill=\"black\" stroke=\"black\" points=\"1124.89,-126.66 1135.24,-124.39 1125.73,-119.71 1124.89,-126.66\"/>\n</g>\n<!-- 140522374191808+&#45;&gt;140522374191808 -->\n<g id=\"edge4\" class=\"edge\">\n<title>140522374191808+&#45;&gt;140522374191808</title>\n<path fill=\"none\" stroke=\"black\" d=\"M738.08,-100.5C745.51,-100.5 754.21,-100.5 763.74,-100.5\"/>\n<polygon fill=\"black\" stroke=\"black\" points=\"763.95,-104 773.95,-100.5 763.95,-97 763.95,-104\"/>\n</g>\n<!-- 140522373484256 -->\n<g id=\"node12\" class=\"node\">\n<title>140522373484256</title>\n<polygon fill=\"none\" stroke=\"black\" points=\"377.5,-55.5 377.5,-91.5 645.5,-91.5 645.5,-55.5 377.5,-55.5\"/>\n<text text-anchor=\"middle\" x=\"408.5\" y=\"-69.8\" font-family=\"Times,serif\" font-size=\"14.00\">x2*w2</text>\n<polyline fill=\"none\" stroke=\"black\" points=\"439.5,-55.5 439.5,-91.5 \"/>\n<text text-anchor=\"middle\" x=\"490.5\" y=\"-69.8\" font-family=\"Times,serif\" font-size=\"14.00\">data 0.0000</text>\n<polyline fill=\"none\" stroke=\"black\" points=\"541.5,-55.5 541.5,-91.5 \"/>\n<text text-anchor=\"middle\" x=\"593.5\" y=\"-69.8\" font-family=\"Times,serif\" font-size=\"14.00\">grad 0.5000</text>\n</g>\n<!-- 140522373484256&#45;&gt;140522374191808+ -->\n<g id=\"edge10\" class=\"edge\">\n<title>140522373484256&#45;&gt;140522374191808+</title>\n<path fill=\"none\" stroke=\"black\" d=\"M644.24,-91.51C655.12,-93 665.4,-94.4 674.45,-95.64\"/>\n<polygon fill=\"black\" stroke=\"black\" points=\"674.11,-99.13 684.49,-97.01 675.05,-92.19 674.11,-99.13\"/>\n</g>\n<!-- 140522373484256*&#45;&gt;140522373484256 -->\n<g id=\"edge5\" class=\"edge\">\n<title>140522373484256*&#45;&gt;140522373484256</title>\n<path fill=\"none\" stroke=\"black\" d=\"M339.23,-73.5C347.26,-73.5 356.72,-73.5 366.99,-73.5\"/>\n<polygon fill=\"black\" stroke=\"black\" points=\"367.08,-77 377.08,-73.5 367.08,-70 367.08,-77\"/>\n</g>\n<!-- 140522373331168 -->\n<g id=\"node14\" class=\"node\">\n<title>140522373331168</title>\n<polygon fill=\"none\" stroke=\"black\" points=\"4.5,-0.5 4.5,-36.5 244.5,-36.5 244.5,-0.5 4.5,-0.5\"/>\n<text text-anchor=\"middle\" x=\"21.5\" y=\"-14.8\" font-family=\"Times,serif\" font-size=\"14.00\">x2</text>\n<polyline fill=\"none\" stroke=\"black\" points=\"38.5,-0.5 38.5,-36.5 \"/>\n<text text-anchor=\"middle\" x=\"89.5\" y=\"-14.8\" font-family=\"Times,serif\" font-size=\"14.00\">data 0.0000</text>\n<polyline fill=\"none\" stroke=\"black\" points=\"140.5,-0.5 140.5,-36.5 \"/>\n<text text-anchor=\"middle\" x=\"192.5\" y=\"-14.8\" font-family=\"Times,serif\" font-size=\"14.00\">grad 0.5000</text>\n</g>\n<!-- 140522373331168&#45;&gt;140522373484256* -->\n<g id=\"edge6\" class=\"edge\">\n<title>140522373331168&#45;&gt;140522373484256*</title>\n<path fill=\"none\" stroke=\"black\" d=\"M214.42,-36.55C226.15,-39.54 237.93,-42.87 249,-46.5 259.46,-49.93 270.57,-54.47 280.46,-58.84\"/>\n<polygon fill=\"black\" stroke=\"black\" points=\"279.31,-62.17 289.87,-63.12 282.21,-55.79 279.31,-62.17\"/>\n</g>\n<!-- 140522373331744 -->\n<g id=\"node15\" class=\"node\">\n<title>140522373331744</title>\n<polygon fill=\"none\" stroke=\"black\" points=\"2.5,-110.5 2.5,-146.5 246.5,-146.5 246.5,-110.5 2.5,-110.5\"/>\n<text text-anchor=\"middle\" x=\"19.5\" y=\"-124.8\" font-family=\"Times,serif\" font-size=\"14.00\">x1</text>\n<polyline fill=\"none\" stroke=\"black\" points=\"36.5,-110.5 36.5,-146.5 \"/>\n<text text-anchor=\"middle\" x=\"87.5\" y=\"-124.8\" font-family=\"Times,serif\" font-size=\"14.00\">data 2.0000</text>\n<polyline fill=\"none\" stroke=\"black\" points=\"138.5,-110.5 138.5,-146.5 \"/>\n<text text-anchor=\"middle\" x=\"192.5\" y=\"-124.8\" font-family=\"Times,serif\" font-size=\"14.00\">grad &#45;1.5000</text>\n</g>\n<!-- 140522373331744&#45;&gt;140522373483680* -->\n<g id=\"edge9\" class=\"edge\">\n<title>140522373331744&#45;&gt;140522373483680*</title>\n<path fill=\"none\" stroke=\"black\" d=\"M246.64,-128.5C256.7,-128.5 266.26,-128.5 274.79,-128.5\"/>\n<polygon fill=\"black\" stroke=\"black\" points=\"275,-132 285,-128.5 275,-125 275,-132\"/>\n</g>\n</g>\n</svg>\n",
      "text/plain": [
       "<graphviz.graphs.Digraph at 0x7fcdea1ad280>"
      ]
     },
     "execution_count": 61,
     "metadata": {},
     "output_type": "execute_result"
    }
   ],
   "source": [
    "draw_dot(o)"
   ]
  },
  {
   "attachments": {},
   "cell_type": "markdown",
   "id": "905f74b0",
   "metadata": {},
   "source": [
    "Now, let's redefine our neuron"
   ]
  },
  {
   "cell_type": "code",
   "execution_count": 62,
   "id": "54fcdb39",
   "metadata": {},
   "outputs": [
    {
     "data": {
      "image/svg+xml": "<?xml version=\"1.0\" encoding=\"UTF-8\" standalone=\"no\"?>\n<!DOCTYPE svg PUBLIC \"-//W3C//DTD SVG 1.1//EN\"\n \"http://www.w3.org/Graphics/SVG/1.1/DTD/svg11.dtd\">\n<!-- Generated by graphviz version 2.50.0 (0)\n -->\n<!-- Pages: 1 -->\n<svg width=\"3417pt\" height=\"239pt\"\n viewBox=\"0.00 0.00 3416.60 239.00\" xmlns=\"http://www.w3.org/2000/svg\" xmlns:xlink=\"http://www.w3.org/1999/xlink\">\n<g id=\"graph0\" class=\"graph\" transform=\"scale(1 1) rotate(0) translate(4 235)\">\n<polygon fill=\"white\" stroke=\"transparent\" points=\"-4,4 -4,-235 3412.6,-235 3412.6,4 -4,4\"/>\n<!-- 140522373097408 -->\n<g id=\"node1\" class=\"node\">\n<title>140522373097408</title>\n<polygon fill=\"none\" stroke=\"black\" points=\"0,-194.5 0,-230.5 249,-230.5 249,-194.5 0,-194.5\"/>\n<text text-anchor=\"middle\" x=\"19\" y=\"-208.8\" font-family=\"Times,serif\" font-size=\"14.00\">w1</text>\n<polyline fill=\"none\" stroke=\"black\" points=\"38,-194.5 38,-230.5 \"/>\n<text text-anchor=\"middle\" x=\"91.5\" y=\"-208.8\" font-family=\"Times,serif\" font-size=\"14.00\">data &#45;3.0000</text>\n<polyline fill=\"none\" stroke=\"black\" points=\"145,-194.5 145,-230.5 \"/>\n<text text-anchor=\"middle\" x=\"197\" y=\"-208.8\" font-family=\"Times,serif\" font-size=\"14.00\">grad 1.0000</text>\n</g>\n<!-- 140522373095872* -->\n<g id=\"node28\" class=\"node\">\n<title>140522373095872*</title>\n<ellipse fill=\"none\" stroke=\"black\" cx=\"312\" cy=\"-157.5\" rx=\"27\" ry=\"18\"/>\n<text text-anchor=\"middle\" x=\"312\" y=\"-153.8\" font-family=\"Times,serif\" font-size=\"14.00\">*</text>\n</g>\n<!-- 140522373097408&#45;&gt;140522373095872* -->\n<g id=\"edge18\" class=\"edge\">\n<title>140522373097408&#45;&gt;140522373095872*</title>\n<path fill=\"none\" stroke=\"black\" d=\"M218.13,-194.46C228.63,-191.77 239.1,-188.78 249,-185.5 259.71,-181.96 271.05,-177.16 281.07,-172.54\"/>\n<polygon fill=\"black\" stroke=\"black\" points=\"282.67,-175.66 290.2,-168.21 279.67,-169.33 282.67,-175.66\"/>\n</g>\n<!-- 140522373482000 -->\n<g id=\"node2\" class=\"node\">\n<title>140522373482000</title>\n<polygon fill=\"none\" stroke=\"black\" points=\"2561.6,-82.5 2561.6,-118.5 2788.6,-118.5 2788.6,-82.5 2561.6,-82.5\"/>\n<text text-anchor=\"middle\" x=\"2572.1\" y=\"-96.8\" font-family=\"Times,serif\" font-size=\"14.00\"> </text>\n<polyline fill=\"none\" stroke=\"black\" points=\"2582.6,-82.5 2582.6,-118.5 \"/>\n<text text-anchor=\"middle\" x=\"2633.6\" y=\"-96.8\" font-family=\"Times,serif\" font-size=\"14.00\">data 4.8284</text>\n<polyline fill=\"none\" stroke=\"black\" points=\"2684.6,-82.5 2684.6,-118.5 \"/>\n<text text-anchor=\"middle\" x=\"2736.6\" y=\"-96.8\" font-family=\"Times,serif\" font-size=\"14.00\">grad 0.1464</text>\n</g>\n<!-- 140522373482576* -->\n<g id=\"node7\" class=\"node\">\n<title>140522373482576*</title>\n<ellipse fill=\"none\" stroke=\"black\" cx=\"3114.6\" cy=\"-72.5\" rx=\"27\" ry=\"18\"/>\n<text text-anchor=\"middle\" x=\"3114.6\" y=\"-68.8\" font-family=\"Times,serif\" font-size=\"14.00\">*</text>\n</g>\n<!-- 140522373482000&#45;&gt;140522373482576* -->\n<g id=\"edge16\" class=\"edge\">\n<title>140522373482000&#45;&gt;140522373482576*</title>\n<path fill=\"none\" stroke=\"black\" d=\"M2788.69,-94.17C2863.29,-89.84 2963.32,-83.76 3051.6,-77.5 3060.02,-76.9 3069.08,-76.2 3077.61,-75.52\"/>\n<polygon fill=\"black\" stroke=\"black\" points=\"3077.98,-79 3087.66,-74.7 3077.41,-72.03 3077.98,-79\"/>\n</g>\n<!-- 140522373482000+ -->\n<g id=\"node3\" class=\"node\">\n<title>140522373482000+</title>\n<ellipse fill=\"none\" stroke=\"black\" cx=\"2231.6\" cy=\"-100.5\" rx=\"27\" ry=\"18\"/>\n<text text-anchor=\"middle\" x=\"2231.6\" y=\"-96.8\" font-family=\"Times,serif\" font-size=\"14.00\">+</text>\n</g>\n<!-- 140522373482000+&#45;&gt;140522373482000 -->\n<g id=\"edge1\" class=\"edge\">\n<title>140522373482000+&#45;&gt;140522373482000</title>\n<path fill=\"none\" stroke=\"black\" d=\"M2258.89,-100.5C2315.16,-100.5 2450.31,-100.5 2551.23,-100.5\"/>\n<polygon fill=\"black\" stroke=\"black\" points=\"2551.5,-104 2561.5,-100.5 2551.5,-97 2551.5,-104\"/>\n</g>\n<!-- 140522373097984 -->\n<g id=\"node4\" class=\"node\">\n<title>140522373097984</title>\n<polygon fill=\"none\" stroke=\"black\" points=\"4.5,-84.5 4.5,-120.5 244.5,-120.5 244.5,-84.5 4.5,-84.5\"/>\n<text text-anchor=\"middle\" x=\"21.5\" y=\"-98.8\" font-family=\"Times,serif\" font-size=\"14.00\">x2</text>\n<polyline fill=\"none\" stroke=\"black\" points=\"38.5,-84.5 38.5,-120.5 \"/>\n<text text-anchor=\"middle\" x=\"89.5\" y=\"-98.8\" font-family=\"Times,serif\" font-size=\"14.00\">data 0.0000</text>\n<polyline fill=\"none\" stroke=\"black\" points=\"140.5,-84.5 140.5,-120.5 \"/>\n<text text-anchor=\"middle\" x=\"192.5\" y=\"-98.8\" font-family=\"Times,serif\" font-size=\"14.00\">grad 0.5000</text>\n</g>\n<!-- 140522373608304* -->\n<g id=\"node12\" class=\"node\">\n<title>140522373608304*</title>\n<ellipse fill=\"none\" stroke=\"black\" cx=\"312\" cy=\"-102.5\" rx=\"27\" ry=\"18\"/>\n<text text-anchor=\"middle\" x=\"312\" y=\"-98.8\" font-family=\"Times,serif\" font-size=\"14.00\">*</text>\n</g>\n<!-- 140522373097984&#45;&gt;140522373608304* -->\n<g id=\"edge19\" class=\"edge\">\n<title>140522373097984&#45;&gt;140522373608304*</title>\n<path fill=\"none\" stroke=\"black\" d=\"M244.55,-102.5C255.31,-102.5 265.54,-102.5 274.62,-102.5\"/>\n<polygon fill=\"black\" stroke=\"black\" points=\"274.7,-106 284.7,-102.5 274.7,-99 274.7,-106\"/>\n</g>\n<!-- 140522373481472 -->\n<g id=\"node5\" class=\"node\">\n<title>140522373481472</title>\n<polygon fill=\"none\" stroke=\"black\" points=\"1227.5,-28.5 1227.5,-64.5 1454.5,-64.5 1454.5,-28.5 1227.5,-28.5\"/>\n<text text-anchor=\"middle\" x=\"1238\" y=\"-42.8\" font-family=\"Times,serif\" font-size=\"14.00\"> </text>\n<polyline fill=\"none\" stroke=\"black\" points=\"1248.5,-28.5 1248.5,-64.5 \"/>\n<text text-anchor=\"middle\" x=\"1299.5\" y=\"-42.8\" font-family=\"Times,serif\" font-size=\"14.00\">data 2.0000</text>\n<polyline fill=\"none\" stroke=\"black\" points=\"1350.5,-28.5 1350.5,-64.5 \"/>\n<text text-anchor=\"middle\" x=\"1402.5\" y=\"-42.8\" font-family=\"Times,serif\" font-size=\"14.00\">grad 0.2203</text>\n</g>\n<!-- 140522373483872* -->\n<g id=\"node24\" class=\"node\">\n<title>140522373483872*</title>\n<ellipse fill=\"none\" stroke=\"black\" cx=\"1520\" cy=\"-73.5\" rx=\"27\" ry=\"18\"/>\n<text text-anchor=\"middle\" x=\"1520\" y=\"-69.8\" font-family=\"Times,serif\" font-size=\"14.00\">*</text>\n</g>\n<!-- 140522373481472&#45;&gt;140522373483872* -->\n<g id=\"edge21\" class=\"edge\">\n<title>140522373481472&#45;&gt;140522373483872*</title>\n<path fill=\"none\" stroke=\"black\" d=\"M1454.6,-63.68C1464.87,-65.24 1474.68,-66.74 1483.4,-68.07\"/>\n<polygon fill=\"black\" stroke=\"black\" points=\"1483.05,-71.56 1493.47,-69.61 1484.11,-64.64 1483.05,-71.56\"/>\n</g>\n<!-- 140522373482576 -->\n<g id=\"node6\" class=\"node\">\n<title>140522373482576</title>\n<polygon fill=\"none\" stroke=\"black\" points=\"3177.6,-54.5 3177.6,-90.5 3408.6,-90.5 3408.6,-54.5 3177.6,-54.5\"/>\n<text text-anchor=\"middle\" x=\"3190.1\" y=\"-68.8\" font-family=\"Times,serif\" font-size=\"14.00\">o</text>\n<polyline fill=\"none\" stroke=\"black\" points=\"3202.6,-54.5 3202.6,-90.5 \"/>\n<text text-anchor=\"middle\" x=\"3253.6\" y=\"-68.8\" font-family=\"Times,serif\" font-size=\"14.00\">data 0.7071</text>\n<polyline fill=\"none\" stroke=\"black\" points=\"3304.6,-54.5 3304.6,-90.5 \"/>\n<text text-anchor=\"middle\" x=\"3356.6\" y=\"-68.8\" font-family=\"Times,serif\" font-size=\"14.00\">grad 1.0000</text>\n</g>\n<!-- 140522373482576*&#45;&gt;140522373482576 -->\n<g id=\"edge2\" class=\"edge\">\n<title>140522373482576*&#45;&gt;140522373482576</title>\n<path fill=\"none\" stroke=\"black\" d=\"M3141.64,-72.5C3149.18,-72.5 3157.96,-72.5 3167.41,-72.5\"/>\n<polygon fill=\"black\" stroke=\"black\" points=\"3167.49,-76 3177.49,-72.5 3167.49,-69 3167.49,-76\"/>\n</g>\n<!-- 140522373481040 -->\n<g id=\"node8\" class=\"node\">\n<title>140522373481040</title>\n<polygon fill=\"none\" stroke=\"black\" points=\"2294.6,-27.5 2294.6,-63.5 2525.6,-63.5 2525.6,-27.5 2294.6,-27.5\"/>\n<text text-anchor=\"middle\" x=\"2305.1\" y=\"-41.8\" font-family=\"Times,serif\" font-size=\"14.00\"> </text>\n<polyline fill=\"none\" stroke=\"black\" points=\"2315.6,-27.5 2315.6,-63.5 \"/>\n<text text-anchor=\"middle\" x=\"2366.6\" y=\"-41.8\" font-family=\"Times,serif\" font-size=\"14.00\">data 6.8284</text>\n<polyline fill=\"none\" stroke=\"black\" points=\"2417.6,-27.5 2417.6,-63.5 \"/>\n<text text-anchor=\"middle\" x=\"2471.6\" y=\"-41.8\" font-family=\"Times,serif\" font-size=\"14.00\">grad &#45;0.1036</text>\n</g>\n<!-- 140522373483968**&#45;1 -->\n<g id=\"node21\" class=\"node\">\n<title>140522373483968**&#45;1</title>\n<ellipse fill=\"none\" stroke=\"black\" cx=\"2675.1\" cy=\"-45.5\" rx=\"28.7\" ry=\"18\"/>\n<text text-anchor=\"middle\" x=\"2675.1\" y=\"-41.8\" font-family=\"Times,serif\" font-size=\"14.00\">**&#45;1</text>\n</g>\n<!-- 140522373481040&#45;&gt;140522373483968**&#45;1 -->\n<g id=\"edge14\" class=\"edge\">\n<title>140522373481040&#45;&gt;140522373483968**&#45;1</title>\n<path fill=\"none\" stroke=\"black\" d=\"M2525.69,-45.5C2565.38,-45.5 2607.17,-45.5 2636.25,-45.5\"/>\n<polygon fill=\"black\" stroke=\"black\" points=\"2636.37,-49 2646.37,-45.5 2636.37,-42 2636.37,-49\"/>\n</g>\n<!-- 140522373481040+ -->\n<g id=\"node9\" class=\"node\">\n<title>140522373481040+</title>\n<ellipse fill=\"none\" stroke=\"black\" cx=\"2231.6\" cy=\"-45.5\" rx=\"27\" ry=\"18\"/>\n<text text-anchor=\"middle\" x=\"2231.6\" y=\"-41.8\" font-family=\"Times,serif\" font-size=\"14.00\">+</text>\n</g>\n<!-- 140522373481040+&#45;&gt;140522373481040 -->\n<g id=\"edge3\" class=\"edge\">\n<title>140522373481040+&#45;&gt;140522373481040</title>\n<path fill=\"none\" stroke=\"black\" d=\"M2258.64,-45.5C2266.18,-45.5 2274.96,-45.5 2284.41,-45.5\"/>\n<polygon fill=\"black\" stroke=\"black\" points=\"2284.49,-49 2294.49,-45.5 2284.49,-42 2284.49,-49\"/>\n</g>\n<!-- 140522373095536 -->\n<g id=\"node10\" class=\"node\">\n<title>140522373095536</title>\n<polygon fill=\"none\" stroke=\"black\" points=\"2.5,-29.5 2.5,-65.5 246.5,-65.5 246.5,-29.5 2.5,-29.5\"/>\n<text text-anchor=\"middle\" x=\"21.5\" y=\"-43.8\" font-family=\"Times,serif\" font-size=\"14.00\">w2</text>\n<polyline fill=\"none\" stroke=\"black\" points=\"40.5,-29.5 40.5,-65.5 \"/>\n<text text-anchor=\"middle\" x=\"91.5\" y=\"-43.8\" font-family=\"Times,serif\" font-size=\"14.00\">data 1.0000</text>\n<polyline fill=\"none\" stroke=\"black\" points=\"142.5,-29.5 142.5,-65.5 \"/>\n<text text-anchor=\"middle\" x=\"194.5\" y=\"-43.8\" font-family=\"Times,serif\" font-size=\"14.00\">grad 0.0000</text>\n</g>\n<!-- 140522373095536&#45;&gt;140522373608304* -->\n<g id=\"edge26\" class=\"edge\">\n<title>140522373095536&#45;&gt;140522373608304*</title>\n<path fill=\"none\" stroke=\"black\" d=\"M214.42,-65.55C226.15,-68.54 237.93,-71.87 249,-75.5 259.46,-78.93 270.57,-83.47 280.46,-87.84\"/>\n<polygon fill=\"black\" stroke=\"black\" points=\"279.31,-91.17 289.87,-92.12 282.21,-84.79 279.31,-91.17\"/>\n</g>\n<!-- 140522373608304 -->\n<g id=\"node11\" class=\"node\">\n<title>140522373608304</title>\n<polygon fill=\"none\" stroke=\"black\" points=\"377.5,-84.5 377.5,-120.5 645.5,-120.5 645.5,-84.5 377.5,-84.5\"/>\n<text text-anchor=\"middle\" x=\"408.5\" y=\"-98.8\" font-family=\"Times,serif\" font-size=\"14.00\">x2*w2</text>\n<polyline fill=\"none\" stroke=\"black\" points=\"439.5,-84.5 439.5,-120.5 \"/>\n<text text-anchor=\"middle\" x=\"490.5\" y=\"-98.8\" font-family=\"Times,serif\" font-size=\"14.00\">data 0.0000</text>\n<polyline fill=\"none\" stroke=\"black\" points=\"541.5,-84.5 541.5,-120.5 \"/>\n<text text-anchor=\"middle\" x=\"593.5\" y=\"-98.8\" font-family=\"Times,serif\" font-size=\"14.00\">grad 0.5000</text>\n</g>\n<!-- 140522373483248+ -->\n<g id=\"node16\" class=\"node\">\n<title>140522373483248+</title>\n<ellipse fill=\"none\" stroke=\"black\" cx=\"711\" cy=\"-129.5\" rx=\"27\" ry=\"18\"/>\n<text text-anchor=\"middle\" x=\"711\" y=\"-125.8\" font-family=\"Times,serif\" font-size=\"14.00\">+</text>\n</g>\n<!-- 140522373608304&#45;&gt;140522373483248+ -->\n<g id=\"edge11\" class=\"edge\">\n<title>140522373608304&#45;&gt;140522373483248+</title>\n<path fill=\"none\" stroke=\"black\" d=\"M644.24,-120.51C655.12,-122 665.4,-123.4 674.45,-124.64\"/>\n<polygon fill=\"black\" stroke=\"black\" points=\"674.11,-128.13 684.49,-126.01 675.05,-121.19 674.11,-128.13\"/>\n</g>\n<!-- 140522373608304*&#45;&gt;140522373608304 -->\n<g id=\"edge4\" class=\"edge\">\n<title>140522373608304*&#45;&gt;140522373608304</title>\n<path fill=\"none\" stroke=\"black\" d=\"M339.23,-102.5C347.26,-102.5 356.72,-102.5 366.99,-102.5\"/>\n<polygon fill=\"black\" stroke=\"black\" points=\"367.08,-106 377.08,-102.5 367.08,-99 367.08,-106\"/>\n</g>\n<!-- 140522373481184 -->\n<g id=\"node13\" class=\"node\">\n<title>140522373481184</title>\n<polygon fill=\"none\" stroke=\"black\" points=\"1939.1,-55.5 1939.1,-91.5 2166.1,-91.5 2166.1,-55.5 1939.1,-55.5\"/>\n<text text-anchor=\"middle\" x=\"1949.6\" y=\"-69.8\" font-family=\"Times,serif\" font-size=\"14.00\"> </text>\n<polyline fill=\"none\" stroke=\"black\" points=\"1960.1,-55.5 1960.1,-91.5 \"/>\n<text text-anchor=\"middle\" x=\"2011.1\" y=\"-69.8\" font-family=\"Times,serif\" font-size=\"14.00\">data 5.8284</text>\n<polyline fill=\"none\" stroke=\"black\" points=\"2062.1,-55.5 2062.1,-91.5 \"/>\n<text text-anchor=\"middle\" x=\"2114.1\" y=\"-69.8\" font-family=\"Times,serif\" font-size=\"14.00\">grad 0.0429</text>\n</g>\n<!-- 140522373481184&#45;&gt;140522373482000+ -->\n<g id=\"edge15\" class=\"edge\">\n<title>140522373481184&#45;&gt;140522373482000+</title>\n<path fill=\"none\" stroke=\"black\" d=\"M2166.19,-90.68C2176.47,-92.24 2186.28,-93.74 2195,-95.07\"/>\n<polygon fill=\"black\" stroke=\"black\" points=\"2194.65,-98.56 2205.06,-96.61 2195.7,-91.64 2194.65,-98.56\"/>\n</g>\n<!-- 140522373481184&#45;&gt;140522373481040+ -->\n<g id=\"edge12\" class=\"edge\">\n<title>140522373481184&#45;&gt;140522373481040+</title>\n<path fill=\"none\" stroke=\"black\" d=\"M2166.19,-55.69C2176.47,-54.06 2186.28,-52.51 2195,-51.13\"/>\n<polygon fill=\"black\" stroke=\"black\" points=\"2195.73,-54.56 2205.06,-49.54 2194.64,-47.64 2195.73,-54.56\"/>\n</g>\n<!-- 140522373481184exp -->\n<g id=\"node14\" class=\"node\">\n<title>140522373481184exp</title>\n<ellipse fill=\"none\" stroke=\"black\" cx=\"1873.3\" cy=\"-73.5\" rx=\"27.1\" ry=\"18\"/>\n<text text-anchor=\"middle\" x=\"1873.3\" y=\"-69.8\" font-family=\"Times,serif\" font-size=\"14.00\">exp</text>\n</g>\n<!-- 140522373481184exp&#45;&gt;140522373481184 -->\n<g id=\"edge5\" class=\"edge\">\n<title>140522373481184exp&#45;&gt;140522373481184</title>\n<path fill=\"none\" stroke=\"black\" d=\"M1900.84,-73.5C1908.97,-73.5 1918.49,-73.5 1928.74,-73.5\"/>\n<polygon fill=\"black\" stroke=\"black\" points=\"1928.76,-77 1938.76,-73.5 1928.76,-70 1928.76,-77\"/>\n</g>\n<!-- 140522373483248 -->\n<g id=\"node15\" class=\"node\">\n<title>140522373483248</title>\n<polygon fill=\"none\" stroke=\"black\" points=\"774,-111.5 774,-147.5 1099,-147.5 1099,-111.5 774,-111.5\"/>\n<text text-anchor=\"middle\" x=\"831\" y=\"-125.8\" font-family=\"Times,serif\" font-size=\"14.00\">x1w1 + x2w2</text>\n<polyline fill=\"none\" stroke=\"black\" points=\"888,-111.5 888,-147.5 \"/>\n<text text-anchor=\"middle\" x=\"941.5\" y=\"-125.8\" font-family=\"Times,serif\" font-size=\"14.00\">data &#45;6.0000</text>\n<polyline fill=\"none\" stroke=\"black\" points=\"995,-111.5 995,-147.5 \"/>\n<text text-anchor=\"middle\" x=\"1047\" y=\"-125.8\" font-family=\"Times,serif\" font-size=\"14.00\">grad 0.5000</text>\n</g>\n<!-- 140522373482240+ -->\n<g id=\"node18\" class=\"node\">\n<title>140522373482240+</title>\n<ellipse fill=\"none\" stroke=\"black\" cx=\"1162\" cy=\"-101.5\" rx=\"27\" ry=\"18\"/>\n<text text-anchor=\"middle\" x=\"1162\" y=\"-97.8\" font-family=\"Times,serif\" font-size=\"14.00\">+</text>\n</g>\n<!-- 140522373483248&#45;&gt;140522373482240+ -->\n<g id=\"edge27\" class=\"edge\">\n<title>140522373483248&#45;&gt;140522373482240+</title>\n<path fill=\"none\" stroke=\"black\" d=\"M1081.26,-111.49C1097.41,-109.47 1112.59,-107.56 1125.28,-105.97\"/>\n<polygon fill=\"black\" stroke=\"black\" points=\"1125.84,-109.43 1135.32,-104.72 1124.96,-102.49 1125.84,-109.43\"/>\n</g>\n<!-- 140522373483248+&#45;&gt;140522373483248 -->\n<g id=\"edge6\" class=\"edge\">\n<title>140522373483248+&#45;&gt;140522373483248</title>\n<path fill=\"none\" stroke=\"black\" d=\"M738.08,-129.5C745.51,-129.5 754.21,-129.5 763.74,-129.5\"/>\n<polygon fill=\"black\" stroke=\"black\" points=\"763.95,-133 773.95,-129.5 763.95,-126 763.95,-133\"/>\n</g>\n<!-- 140522373482240 -->\n<g id=\"node17\" class=\"node\">\n<title>140522373482240</title>\n<polygon fill=\"none\" stroke=\"black\" points=\"1225,-83.5 1225,-119.5 1457,-119.5 1457,-83.5 1225,-83.5\"/>\n<text text-anchor=\"middle\" x=\"1238\" y=\"-97.8\" font-family=\"Times,serif\" font-size=\"14.00\">n</text>\n<polyline fill=\"none\" stroke=\"black\" points=\"1251,-83.5 1251,-119.5 \"/>\n<text text-anchor=\"middle\" x=\"1302\" y=\"-97.8\" font-family=\"Times,serif\" font-size=\"14.00\">data 0.8814</text>\n<polyline fill=\"none\" stroke=\"black\" points=\"1353,-83.5 1353,-119.5 \"/>\n<text text-anchor=\"middle\" x=\"1405\" y=\"-97.8\" font-family=\"Times,serif\" font-size=\"14.00\">grad 0.5000</text>\n</g>\n<!-- 140522373482240&#45;&gt;140522373483872* -->\n<g id=\"edge28\" class=\"edge\">\n<title>140522373482240&#45;&gt;140522373483872*</title>\n<path fill=\"none\" stroke=\"black\" d=\"M1456.1,-83.45C1465.88,-81.9 1475.21,-80.43 1483.54,-79.11\"/>\n<polygon fill=\"black\" stroke=\"black\" points=\"1484.19,-82.55 1493.52,-77.53 1483.1,-75.64 1484.19,-82.55\"/>\n</g>\n<!-- 140522373482240+&#45;&gt;140522373482240 -->\n<g id=\"edge7\" class=\"edge\">\n<title>140522373482240+&#45;&gt;140522373482240</title>\n<path fill=\"none\" stroke=\"black\" d=\"M1189.12,-101.5C1196.53,-101.5 1205.14,-101.5 1214.4,-101.5\"/>\n<polygon fill=\"black\" stroke=\"black\" points=\"1214.69,-105 1224.69,-101.5 1214.69,-98 1214.69,-105\"/>\n</g>\n<!-- 140522373480752 -->\n<g id=\"node19\" class=\"node\">\n<title>140522373480752</title>\n<polygon fill=\"none\" stroke=\"black\" points=\"1936.6,-110.5 1936.6,-146.5 2168.6,-146.5 2168.6,-110.5 1936.6,-110.5\"/>\n<text text-anchor=\"middle\" x=\"1947.1\" y=\"-124.8\" font-family=\"Times,serif\" font-size=\"14.00\"> </text>\n<polyline fill=\"none\" stroke=\"black\" points=\"1957.6,-110.5 1957.6,-146.5 \"/>\n<text text-anchor=\"middle\" x=\"2011.1\" y=\"-124.8\" font-family=\"Times,serif\" font-size=\"14.00\">data &#45;1.0000</text>\n<polyline fill=\"none\" stroke=\"black\" points=\"2064.6,-110.5 2064.6,-146.5 \"/>\n<text text-anchor=\"middle\" x=\"2116.6\" y=\"-124.8\" font-family=\"Times,serif\" font-size=\"14.00\">grad 0.1464</text>\n</g>\n<!-- 140522373480752&#45;&gt;140522373482000+ -->\n<g id=\"edge25\" class=\"edge\">\n<title>140522373480752&#45;&gt;140522373482000+</title>\n<path fill=\"none\" stroke=\"black\" d=\"M2167.69,-110.45C2177.48,-108.9 2186.8,-107.43 2195.14,-106.11\"/>\n<polygon fill=\"black\" stroke=\"black\" points=\"2195.79,-109.55 2205.12,-104.53 2194.69,-102.64 2195.79,-109.55\"/>\n</g>\n<!-- 140522373483968 -->\n<g id=\"node20\" class=\"node\">\n<title>140522373483968</title>\n<polygon fill=\"none\" stroke=\"black\" points=\"2824.6,-31.5 2824.6,-67.5 3051.6,-67.5 3051.6,-31.5 2824.6,-31.5\"/>\n<text text-anchor=\"middle\" x=\"2835.1\" y=\"-45.8\" font-family=\"Times,serif\" font-size=\"14.00\"> </text>\n<polyline fill=\"none\" stroke=\"black\" points=\"2845.6,-31.5 2845.6,-67.5 \"/>\n<text text-anchor=\"middle\" x=\"2896.6\" y=\"-45.8\" font-family=\"Times,serif\" font-size=\"14.00\">data 0.1464</text>\n<polyline fill=\"none\" stroke=\"black\" points=\"2947.6,-31.5 2947.6,-67.5 \"/>\n<text text-anchor=\"middle\" x=\"2999.6\" y=\"-45.8\" font-family=\"Times,serif\" font-size=\"14.00\">grad 4.8284</text>\n</g>\n<!-- 140522373483968&#45;&gt;140522373482576* -->\n<g id=\"edge22\" class=\"edge\">\n<title>140522373483968&#45;&gt;140522373482576*</title>\n<path fill=\"none\" stroke=\"black\" d=\"M3052.07,-64.39C3061.17,-65.59 3069.86,-66.74 3077.69,-67.77\"/>\n<polygon fill=\"black\" stroke=\"black\" points=\"3077.43,-71.26 3087.8,-69.1 3078.34,-64.32 3077.43,-71.26\"/>\n</g>\n<!-- 140522373483968**&#45;1&#45;&gt;140522373483968 -->\n<g id=\"edge8\" class=\"edge\">\n<title>140522373483968**&#45;1&#45;&gt;140522373483968</title>\n<path fill=\"none\" stroke=\"black\" d=\"M2704.03,-45.93C2730.75,-46.34 2772.99,-46.98 2814.21,-47.62\"/>\n<polygon fill=\"black\" stroke=\"black\" points=\"2814.32,-51.12 2824.37,-47.77 2814.43,-44.12 2814.32,-51.12\"/>\n</g>\n<!-- 140522373098320 -->\n<g id=\"node22\" class=\"node\">\n<title>140522373098320</title>\n<polygon fill=\"none\" stroke=\"black\" points=\"2.5,-139.5 2.5,-175.5 246.5,-175.5 246.5,-139.5 2.5,-139.5\"/>\n<text text-anchor=\"middle\" x=\"19.5\" y=\"-153.8\" font-family=\"Times,serif\" font-size=\"14.00\">x1</text>\n<polyline fill=\"none\" stroke=\"black\" points=\"36.5,-139.5 36.5,-175.5 \"/>\n<text text-anchor=\"middle\" x=\"87.5\" y=\"-153.8\" font-family=\"Times,serif\" font-size=\"14.00\">data 2.0000</text>\n<polyline fill=\"none\" stroke=\"black\" points=\"138.5,-139.5 138.5,-175.5 \"/>\n<text text-anchor=\"middle\" x=\"192.5\" y=\"-153.8\" font-family=\"Times,serif\" font-size=\"14.00\">grad &#45;1.5000</text>\n</g>\n<!-- 140522373098320&#45;&gt;140522373095872* -->\n<g id=\"edge13\" class=\"edge\">\n<title>140522373098320&#45;&gt;140522373095872*</title>\n<path fill=\"none\" stroke=\"black\" d=\"M246.64,-157.5C256.7,-157.5 266.26,-157.5 274.79,-157.5\"/>\n<polygon fill=\"black\" stroke=\"black\" points=\"275,-161 285,-157.5 275,-154 275,-161\"/>\n</g>\n<!-- 140522373483872 -->\n<g id=\"node23\" class=\"node\">\n<title>140522373483872</title>\n<polygon fill=\"none\" stroke=\"black\" points=\"1583,-55.5 1583,-91.5 1810,-91.5 1810,-55.5 1583,-55.5\"/>\n<text text-anchor=\"middle\" x=\"1593.5\" y=\"-69.8\" font-family=\"Times,serif\" font-size=\"14.00\"> </text>\n<polyline fill=\"none\" stroke=\"black\" points=\"1604,-55.5 1604,-91.5 \"/>\n<text text-anchor=\"middle\" x=\"1655\" y=\"-69.8\" font-family=\"Times,serif\" font-size=\"14.00\">data 1.7627</text>\n<polyline fill=\"none\" stroke=\"black\" points=\"1706,-55.5 1706,-91.5 \"/>\n<text text-anchor=\"middle\" x=\"1758\" y=\"-69.8\" font-family=\"Times,serif\" font-size=\"14.00\">grad 0.2500</text>\n</g>\n<!-- 140522373483872&#45;&gt;140522373481184exp -->\n<g id=\"edge20\" class=\"edge\">\n<title>140522373483872&#45;&gt;140522373481184exp</title>\n<path fill=\"none\" stroke=\"black\" d=\"M1810.18,-73.5C1819.26,-73.5 1827.95,-73.5 1835.79,-73.5\"/>\n<polygon fill=\"black\" stroke=\"black\" points=\"1835.93,-77 1845.93,-73.5 1835.93,-70 1835.93,-77\"/>\n</g>\n<!-- 140522373483872*&#45;&gt;140522373483872 -->\n<g id=\"edge9\" class=\"edge\">\n<title>140522373483872*&#45;&gt;140522373483872</title>\n<path fill=\"none\" stroke=\"black\" d=\"M1547.12,-73.5C1554.67,-73.5 1563.45,-73.5 1572.9,-73.5\"/>\n<polygon fill=\"black\" stroke=\"black\" points=\"1572.95,-77 1582.95,-73.5 1572.95,-70 1572.95,-77\"/>\n</g>\n<!-- 140522373096304 -->\n<g id=\"node25\" class=\"node\">\n<title>140522373096304</title>\n<polygon fill=\"none\" stroke=\"black\" points=\"820.5,-56.5 820.5,-92.5 1052.5,-92.5 1052.5,-56.5 820.5,-56.5\"/>\n<text text-anchor=\"middle\" x=\"833.5\" y=\"-70.8\" font-family=\"Times,serif\" font-size=\"14.00\">b</text>\n<polyline fill=\"none\" stroke=\"black\" points=\"846.5,-56.5 846.5,-92.5 \"/>\n<text text-anchor=\"middle\" x=\"897.5\" y=\"-70.8\" font-family=\"Times,serif\" font-size=\"14.00\">data 6.8814</text>\n<polyline fill=\"none\" stroke=\"black\" points=\"948.5,-56.5 948.5,-92.5 \"/>\n<text text-anchor=\"middle\" x=\"1000.5\" y=\"-70.8\" font-family=\"Times,serif\" font-size=\"14.00\">grad 0.5000</text>\n</g>\n<!-- 140522373096304&#45;&gt;140522373482240+ -->\n<g id=\"edge23\" class=\"edge\">\n<title>140522373096304&#45;&gt;140522373482240+</title>\n<path fill=\"none\" stroke=\"black\" d=\"M1052.52,-88.4C1078.82,-91.57 1104.87,-94.72 1124.85,-97.13\"/>\n<polygon fill=\"black\" stroke=\"black\" points=\"1124.65,-100.63 1135,-98.36 1125.49,-93.68 1124.65,-100.63\"/>\n</g>\n<!-- 140522373483824 -->\n<g id=\"node26\" class=\"node\">\n<title>140522373483824</title>\n<polygon fill=\"none\" stroke=\"black\" points=\"1937.1,-0.5 1937.1,-36.5 2168.1,-36.5 2168.1,-0.5 1937.1,-0.5\"/>\n<text text-anchor=\"middle\" x=\"1947.6\" y=\"-14.8\" font-family=\"Times,serif\" font-size=\"14.00\"> </text>\n<polyline fill=\"none\" stroke=\"black\" points=\"1958.1,-0.5 1958.1,-36.5 \"/>\n<text text-anchor=\"middle\" x=\"2009.1\" y=\"-14.8\" font-family=\"Times,serif\" font-size=\"14.00\">data 1.0000</text>\n<polyline fill=\"none\" stroke=\"black\" points=\"2060.1,-0.5 2060.1,-36.5 \"/>\n<text text-anchor=\"middle\" x=\"2114.1\" y=\"-14.8\" font-family=\"Times,serif\" font-size=\"14.00\">grad &#45;0.1036</text>\n</g>\n<!-- 140522373483824&#45;&gt;140522373481040+ -->\n<g id=\"edge24\" class=\"edge\">\n<title>140522373483824&#45;&gt;140522373481040+</title>\n<path fill=\"none\" stroke=\"black\" d=\"M2168.19,-35.98C2177.71,-37.43 2186.79,-38.82 2194.93,-40.06\"/>\n<polygon fill=\"black\" stroke=\"black\" points=\"2194.63,-43.55 2205.04,-41.6 2195.68,-36.63 2194.63,-43.55\"/>\n</g>\n<!-- 140522373095872 -->\n<g id=\"node27\" class=\"node\">\n<title>140522373095872</title>\n<polygon fill=\"none\" stroke=\"black\" points=\"375,-139.5 375,-175.5 648,-175.5 648,-139.5 375,-139.5\"/>\n<text text-anchor=\"middle\" x=\"406\" y=\"-153.8\" font-family=\"Times,serif\" font-size=\"14.00\">x1*w1</text>\n<polyline fill=\"none\" stroke=\"black\" points=\"437,-139.5 437,-175.5 \"/>\n<text text-anchor=\"middle\" x=\"490.5\" y=\"-153.8\" font-family=\"Times,serif\" font-size=\"14.00\">data &#45;6.0000</text>\n<polyline fill=\"none\" stroke=\"black\" points=\"544,-139.5 544,-175.5 \"/>\n<text text-anchor=\"middle\" x=\"596\" y=\"-153.8\" font-family=\"Times,serif\" font-size=\"14.00\">grad 0.5000</text>\n</g>\n<!-- 140522373095872&#45;&gt;140522373483248+ -->\n<g id=\"edge17\" class=\"edge\">\n<title>140522373095872&#45;&gt;140522373483248+</title>\n<path fill=\"none\" stroke=\"black\" d=\"M639.53,-139.49C652.09,-137.71 663.99,-136.02 674.3,-134.56\"/>\n<polygon fill=\"black\" stroke=\"black\" points=\"675.03,-137.99 684.44,-133.12 674.05,-131.06 675.03,-137.99\"/>\n</g>\n<!-- 140522373095872*&#45;&gt;140522373095872 -->\n<g id=\"edge10\" class=\"edge\">\n<title>140522373095872*&#45;&gt;140522373095872</title>\n<path fill=\"none\" stroke=\"black\" d=\"M339.23,-157.5C346.7,-157.5 355.41,-157.5 364.87,-157.5\"/>\n<polygon fill=\"black\" stroke=\"black\" points=\"364.98,-161 374.98,-157.5 364.98,-154 364.98,-161\"/>\n</g>\n</g>\n</svg>\n",
      "text/plain": [
       "<graphviz.graphs.Digraph at 0x7fcdea2786a0>"
      ]
     },
     "execution_count": 62,
     "metadata": {},
     "output_type": "execute_result"
    }
   ],
   "source": [
    "#--- Inputs 1 & 2\n",
    "x1 = Value(2.0, label='x1')\n",
    "x2 = Value(0.0, label='x2')\n",
    "#---- Weights 1 & 2\n",
    "w1 = Value(-3.0, label='w1')\n",
    "w2 = Value(1.0, label='w2')\n",
    "#--- bias\n",
    "b = Value(6.8813735870195432, label='b')\n",
    "\n",
    "#net sum = x1*w1 + x2*w2 + b\n",
    "x1w1 = x1*w1; x1w1.label = 'x1*w1'\n",
    "x2w2 = x2*w2; x2w2.label = 'x2*w2'\n",
    "x1w1x2w2 = x1w1 + x2w2; x1w1x2w2.label = 'x1w1 + x2w2'\n",
    "n = x1w1x2w2 + b; n.label = 'n'\n",
    "\n",
    "# 'n' goes through activation function to give \"o\"\n",
    "#----\n",
    "e = (2*n).exp()\n",
    "o = (e - 1) / (e + 1)\n",
    "#----\n",
    "\n",
    "o.label='o'\n",
    "o.backward()\n",
    "draw_dot(o)"
   ]
  },
  {
   "attachments": {},
   "cell_type": "markdown",
   "id": "57e1eb9f",
   "metadata": {},
   "source": [
    "The graph is longer than before, but the final outputs (forward pass) in both the new and old graph are the same, and the gradients values obtained after backpropagation are the same for **`w1`**, **`x1`**, **`w2`**, and **`x2`**.\n",
    "\n",
    "Remember, the reason why we went through this exercise was to 1) practice implementing more operations and backward passes in the `Value` class and 2) We can reach the same results regardless of the level of granularity we choose, as we saw with `tanh`.\n",
    "\n",
    "Beautiful, right?! We'll rest for a bit, then continue! 🚀"
   ]
  },
  {
   "attachments": {},
   "cell_type": "markdown",
   "id": "26e2aeda",
   "metadata": {},
   "source": [
    "![Resting Puppy](./images/img-gif-2.gif)"
   ]
  },
  {
   "attachments": {},
   "cell_type": "markdown",
   "id": "e8a3ca94",
   "metadata": {},
   "source": [
    "# Same thing, but with PyTorch\n",
    "\n",
    "We are going to redo the same thing, but this time using [PyTorch](https://pytorch.org/). PyTorch is modern open source deep learning framework and helps us build neural networks rapidly among other things. Are you excited? Well, I am!"
   ]
  },
  {
   "cell_type": "code",
   "execution_count": 63,
   "id": "2e3af7d5",
   "metadata": {},
   "outputs": [
    {
     "name": "stdout",
     "output_type": "stream",
     "text": [
      "0.7071066904050358\n",
      "---\n",
      "x2 0.5000001283844369\n",
      "w2 0.0\n",
      "x1 -1.5000003851533106\n",
      "w1 1.0000002567688737\n"
     ]
    }
   ],
   "source": [
    "import torch\n",
    "\n",
    "x1 = torch.Tensor([2.0]).double()                ; x1.requires_grad = True\n",
    "x2 = torch.Tensor([0.0]).double()                ; x2.requires_grad = True\n",
    "w1 = torch.Tensor([-3.0]).double()               ; w1.requires_grad = True\n",
    "w2 = torch.Tensor([1.0]).double()                ; w2.requires_grad = True\n",
    "b = torch.Tensor([6.8813735870195432]).double()  ; b.requires_grad = True\n",
    "n = x1*w1 + x2*w2 + b\n",
    "o = torch.tanh(n)\n",
    "\n",
    "print(o.data.item())\n",
    "o.backward()\n",
    "\n",
    "print('---')\n",
    "print('x2', x2.grad.item())\n",
    "print('w2', w2.grad.item())\n",
    "print('x1', x1.grad.item())\n",
    "print('w1', w1.grad.item())"
   ]
  },
  {
   "attachments": {},
   "cell_type": "markdown",
   "id": "f319d204",
   "metadata": {},
   "source": [
    "We know what tensors are from `tensors.ipynb` notebook.\n",
    "\n",
    "You would that each tensor contains a single value, that is later casted to a `double`, a double precision float. Which is the default type used in Python. \n",
    "\n",
    "You should also notice that for each tensor, we are setting the `requires_grad` attribute. When set to `True`, this attribute instructs PyTorch to keep track of their gradients. By default, PyTorch set them to `False` because they are leaf nodes.\n",
    "\n",
    "Like in Micrograd, we can access the value and the gradient in a node by using the `data` and the `grad` attribute respectively. The only slight difference is the `item` method that we have to call, to return the **actual** value.\n",
    "\n",
    "Now pay attention to the output. It first displays the forward pass, then displays the gradient the nodes **`w1`**, **`x1`**, **`w2`**, and **`x2`**. If we compare those results with the ones we got manually, we should see that they are identical. PyTorch agrees with us ☺️\n",
    "\n",
    "**Note: We used single elements Tensors. PyTorch can do much better than that. But what we built agrees with PyTorch's API**"
   ]
  },
  {
   "attachments": {},
   "cell_type": "markdown",
   "id": "279ec24f",
   "metadata": {},
   "source": [
    "# Neural Net library & MLP 🧠\n",
    "\n",
    "We have all we need to start building neural networks from scratch. Our goal is to build a small neural net library in Micrograd and leverage it to construct a 2 layer Multi-Layer Perceptron (MLP). I built an MLP for the first time in my `mlp.ipynb` notebook in folder 3. But I use this opportunity to cement, and deepen my understanding even further."
   ]
  },
  {
   "attachments": {},
   "cell_type": "markdown",
   "id": "7a025579",
   "metadata": {},
   "source": [
    "Let's start by defining a class called `Neuron`"
   ]
  },
  {
   "cell_type": "code",
   "execution_count": null,
   "id": "6fc8f617",
   "metadata": {},
   "outputs": [],
   "source": [
    "class Neuron:\n",
    "    def __init__(self, n_input):\n",
    "        self.w = [Value(np.random.uniform(-1,1)) for _ in range(n_input)] #Generate a number of weight btw -1 and 1 for each input\n",
    "        self.b = Value(np.random.uniform(-1,1)) #Generate one random bias btw -1 and 1\n",
    "\n",
    "    def __call__(self, x):\n",
    "        # w (dot) x + b\n",
    "        act = sum((wi*xi for wi, xi in zip(self.w, x)), self.b)\n",
    "        out = act.tanh()\n",
    "        return out\n",
    "    \n",
    "\n",
    "class Layer:\n",
    "    def __init__(self, n_input, n_output):\n",
    "        self.neurons = [Neuron(n_input) for _ in range(n_output)]\n",
    "\n",
    "    def __call__(self, x):\n",
    "        outs = [n(x) for n in self.neurons]\n",
    "        return outs[0] if len(outs) == 1 else outs\n",
    "    \n",
    "    def parameters(self):\n",
    "        return [p for neuron in self.neurons for p in neuron.parameters()]\n",
    "    \n",
    "class MLP:\n",
    "\n",
    "    def __init__(self, n_input, n_outputs):\n",
    "        \"\"\"\n",
    "\n",
    "        Paramaters\n",
    "        -----------\n",
    "        n_input: int\n",
    "            size of input\n",
    "\n",
    "        n_outputs: list\n",
    "            sizes the layers in the MLP\n",
    "        \"\"\"\n",
    "        sizes = [n_input] + n_outputs\n",
    "        self.layers = [Layer(sizes[i], sizes[i + 1]) for i in range(len(n_outputs))]\n",
    "\n",
    "    def __call__(self, x):\n",
    "        for layer in self.layers:\n",
    "            x = layer(x)\n",
    "        \n",
    "        return x\n",
    "    \n",
    "    def parameters(self):\n",
    "        return [p for layer in self.layers for p in layer.parameters()]\n",
    "\n"
   ]
  }
 ],
 "metadata": {
  "kernelspec": {
   "display_name": "Python 3 (ipykernel)",
   "language": "python",
   "name": "python3"
  },
  "language_info": {
   "codemirror_mode": {
    "name": "ipython",
    "version": 3
   },
   "file_extension": ".py",
   "mimetype": "text/x-python",
   "name": "python",
   "nbconvert_exporter": "python",
   "pygments_lexer": "ipython3",
   "version": "3.9.13"
  },
  "vscode": {
   "interpreter": {
    "hash": "916dbcbb3f70747c44a77c7bcd40155683ae19c65e1c03b4aa3499c5328201f1"
   }
  }
 },
 "nbformat": 4,
 "nbformat_minor": 5
}
