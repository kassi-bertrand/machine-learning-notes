{
 "cells": [
  {
   "cell_type": "markdown",
   "id": "282bb953",
   "metadata": {},
   "source": [
    "# Convolutional Neural Networks - Smile Classifier\n",
    "\n",
    "In this notebook, I implement a CNN to classify face images based on smiles. I also explore data augmentation techiniques to enhance the model's performance. Let's jump in right away and load the celebA dataset."
   ]
  },
  {
   "cell_type": "markdown",
   "id": "ddc811d0",
   "metadata": {},
   "source": [
    "# Loading the CelebA dataset\n",
    "\n",
    "CelebFaces Attributes Dataset, or CelebA for short, is an image dataset that identifies celebrity face attributes. It contains 202,599 face images across five landmark locations, with 40 binary attribute annotations for each image. \n",
    "\n",
    "Tought the dataset is available through the PyTorch's `torchvision` module, the link appears to be unstable. So, I downloaded the dataset manually using this [link](https://drive.google.com/file/d/1m8-EBPgi5MRubrm6iQjafK2QMHDBMSfJ/view?usp=sharing)"
   ]
  },
  {
   "cell_type": "code",
   "execution_count": 7,
   "id": "e27a00f3",
   "metadata": {},
   "outputs": [],
   "source": [
    "import torch\n",
    "import torchvision\n",
    "from torchvision import transforms\n",
    "\n",
    "image_path = './dataset'\n",
    "\n",
    "#Load training partition of the dataset\n",
    "celeba_train_dataset = torchvision.datasets.CelebA(\n",
    "    root=image_path, split='train',\n",
    "    target_type='attr', download=False\n",
    ")\n",
    "\n",
    "#Load validation partition of the dataset\n",
    "celeba_valid_dataset = torchvision.datasets.CelebA(\n",
    "    root=image_path, split='valid',\n",
    "    target_type='attr', download=False\n",
    ")\n",
    "\n",
    "#Load testing partition of the dataset\n",
    "celeba_valid_dataset = torchvision.datasets.CelebA(\n",
    "    root=image_path, split='test',\n",
    "    target_type='attr', download=False\n",
    ")"
   ]
  },
  {
   "cell_type": "markdown",
   "id": "b0063f8b",
   "metadata": {},
   "source": [
    "# Data augmentation\n",
    "\n",
    "**Data augmentation** refers to a set of techniques for dealing with cases where the training data is limited. Those techniques let us modify or even synthesize more data to bring more variation in the dataset which is good.\n",
    "\n",
    "To augment our dataset, we need to perform \"transformations\" on it. Remember, in the folder 03 in `mpl-torch.ipynb`, I said the following:\n",
    "\n",
    "> I import the torchvision and **transforms** modules. The second module[transform], as the name suggests, let us perform common transformations on **image** data. According to the documentation, Transforms are common image transformations available in the torchvision.transforms module.\n",
    ">\n",
    ">\n",
    "> Another interesting feature is that transform operations can be **chained** together using `Compose`.\n",
    "\n",
    "Here again, I will use the `transform` module to perform the transformations and use `Compose` to chain those transformations. Let's do this!"
   ]
  },
  {
   "cell_type": "code",
   "execution_count": 19,
   "id": "71f3a9d4",
   "metadata": {},
   "outputs": [
    {
     "data": {
      "text/plain": [
       "torch.Size([162770, 40])"
      ]
     },
     "execution_count": 19,
     "metadata": {},
     "output_type": "execute_result"
    }
   ],
   "source": [
    "celeba_train_dataset.attr.shape"
   ]
  },
  {
   "cell_type": "code",
   "execution_count": null,
   "id": "c10d3a7c",
   "metadata": {},
   "outputs": [],
   "source": []
  }
 ],
 "metadata": {
  "kernelspec": {
   "display_name": "Python 3 (ipykernel)",
   "language": "python",
   "name": "python3"
  },
  "language_info": {
   "codemirror_mode": {
    "name": "ipython",
    "version": 3
   },
   "file_extension": ".py",
   "mimetype": "text/x-python",
   "name": "python",
   "nbconvert_exporter": "python",
   "pygments_lexer": "ipython3",
   "version": "3.9.16"
  }
 },
 "nbformat": 4,
 "nbformat_minor": 5
}
