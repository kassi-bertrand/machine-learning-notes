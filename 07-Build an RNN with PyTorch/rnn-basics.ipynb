{
 "cells": [
  {
   "cell_type": "markdown",
   "id": "bea53193",
   "metadata": {},
   "source": [
    "# Recurrent Neural Networks - Basics\n",
    "\n",
    "A Recurrent Neural Network is a type of neural network able to handle sequential data. But what does it mean for data to be \"sequential\"?"
   ]
  },
  {
   "cell_type": "markdown",
   "id": "85904166",
   "metadata": {},
   "source": [
    "## Introducing sequential data\n",
    "\n",
    "Sequence data, also known as **sequences**, have a unique characteristic compared to other types of data: *Order matters*. Sequence data, as the name suggests, appear in a certain order and individual data points are **not** independent of each other.\n",
    "\n",
    "This is unlike what I have seen so far. In what I am used to, training examples are independent from one another. I learned that this type of data is called: **independent and identically distributed(IID)** data. Due to the independence of the data, it does not matter how training samples are fed into the neural network. \n",
    "\n",
    "When dealing with sequences however, this is no longer true."
   ]
  },
  {
   "cell_type": "markdown",
   "id": "614f3cf2",
   "metadata": {},
   "source": [
    "## Sequential data versus time series data 📃📈\n",
    "\n",
    "Before moving forward and discuss how to represent sequences, I would like to talk about what time series data is, and how different it is from sequential data.\n",
    "\n",
    "**Time Series data** is *a special type* of sequential data. Each data point is associated with time. In other words, samples are captured at **successive timestamps**. Stock prices and voice records for instance, are time series data.\n",
    "\n",
    "On the other hand, **not all sequential data is time series data**. Text data, or DNA sequences for instance, are sequential data because the order is important, but they do *not* qualify as time series data.\n",
    "\n",
    "RNNs can be used to handle both sequential data and time series data."
   ]
  },
  {
   "cell_type": "markdown",
   "id": "f873c4d6",
   "metadata": {},
   "source": [
    "## How is sequential data represented?\n",
    "\n",
    "(In progess)"
   ]
  }
 ],
 "metadata": {
  "kernelspec": {
   "display_name": "Python 3 (ipykernel)",
   "language": "python",
   "name": "python3"
  },
  "language_info": {
   "codemirror_mode": {
    "name": "ipython",
    "version": 3
   },
   "file_extension": ".py",
   "mimetype": "text/x-python",
   "name": "python",
   "nbconvert_exporter": "python",
   "pygments_lexer": "ipython3",
   "version": "3.9.13"
  }
 },
 "nbformat": 4,
 "nbformat_minor": 5
}
