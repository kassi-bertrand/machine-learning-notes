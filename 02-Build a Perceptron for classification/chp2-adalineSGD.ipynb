{
 "cells": [
  {
   "cell_type": "markdown",
   "id": "fab61bea",
   "metadata": {},
   "source": [
    "# Implementation of an Adaline with Stochastic Gradient Descent in Python"
   ]
  },
  {
   "cell_type": "code",
   "execution_count": 1,
   "id": "dd7e48f5",
   "metadata": {},
   "outputs": [],
   "source": [
    "import numpy as np\n",
    "\n",
    "class AdalineSGD(object):\n",
    "    \"\"\"ADAptive LInear NEuron classifier\n",
    "    \n",
    "    Parameters\n",
    "    -----------\n",
    "    eta: float\n",
    "        Learning rate (between 0.0 and 1.0)\n",
    "    \n",
    "    n_iter: int\n",
    "        Number of iterations over the training dataset (the epoch)\n",
    "        \n",
    "    shuffle: bool (default: True)\n",
    "        Shuffles training data every epoch if True to prevent cycles\n",
    "    \n",
    "    random_state: int\n",
    "        Random number generator seed for random weight initialization\n",
    "    \n",
    "    \n",
    "    Attributes\n",
    "    ------------\n",
    "    w_: 1d-array\n",
    "        Weights after fitting\n",
    "        \n",
    "    cost_: list\n",
    "        Sum-of-squares cost function value averaged over all training examples in each epoch\n",
    "    \n",
    "    \"\"\"\n",
    "    def __init__(self, eta=0.01, n_iter=10, shuffle=True, random_state=None):\n",
    "        self.eta = eta\n",
    "        self.n_iter = n_iter\n",
    "        self.w_initialized = False       \n",
    "        self.shuffle = shuffle\n",
    "        self.random_state = random_state\n",
    "        \n",
    "    def fit(self, X, y):\n",
    "        \"\"\"Fit training data.\n",
    "        \n",
    "        Parameters\n",
    "        ------------\n",
    "        X : {array-like}, shape = [n_examples, n_features]\n",
    "            Training vectors, where n_examples is the number of\n",
    "            examples and n_features is the number of features.\n",
    "            \n",
    "        y : array-like, shape = [n_examples]\n",
    "            Target values\n",
    "            \n",
    "        Returns\n",
    "        ----------\n",
    "        self: object\n",
    "        \"\"\"\n",
    "        self._initialize_weights(X.shape[1])\n",
    "        self.cost_ = []\n",
    "        \n",
    "        for i in range(self.n_iter):\n",
    "            if self.shuffle:\n",
    "                X, y = self._shuffle(X, y)\n",
    "            \n",
    "            cost = []\n",
    "            for xi, target in zip(X, y):\n",
    "                cost.append(self._update_weights(xi, target))\n",
    "            \n",
    "            avg_cost = sum(cost) / len(y)\n",
    "            self.cost_.append(avg_cost)\n",
    "        return self\n",
    "    \n",
    "    def partial_fit(self, X, y):\n",
    "        \"\"\"Fit training data WITHOUT reinitializing the weights\"\"\"\n",
    "        \n",
    "        #Initialize the weights in case they haven't been\n",
    "        if not self.w_initialized:\n",
    "            self._initialize_weights(X.shape[1])\n",
    "        \n",
    "        #The user submits MORE than ONE training example\n",
    "        if y.ravel().shape[0] > 1:\n",
    "            for xi, target in zip(X, y):\n",
    "                self._update_weights(xi, target)\n",
    "        \n",
    "        #The user submitted only ONE training example\n",
    "        else:\n",
    "            self._update_weights(X, y)\n",
    "        \n",
    "        return self\n",
    "            \n",
    "            \n",
    "    \n",
    "    def _shuffle(self, X, y):\n",
    "        \"\"\"Shuffle training data\"\"\"\n",
    "        rand_indices = self.rgen.permutation(len(y)) #Form an array of random indices btw 0 and len(y)\n",
    "        return X[rand_indices], y[rand_indices] #return a re-arranged data set\n",
    "    \n",
    "    def _initialize_weights(self, m):\n",
    "        \"\"\"Initialize weights to small random numbers\"\"\"\n",
    "        self.rgen = np.random.RandomState(self.random_state)\n",
    "        self.w_ = self.rgen.normal(loc=0.0, scale=0.01,\n",
    "                                  size=1 + m)\n",
    "        self.w_initialized = True\n",
    "        \n",
    "    def _update_weights(self, xi, target):\n",
    "        \"\"\"Apply Adaline learning rule to update the weights\"\"\"\n",
    "        output = self.activation(self.net_input(xi))\n",
    "        error = (target - output)\n",
    "        self.w_[1:] += self.eta * xi.dot(error)\n",
    "        self.w_[0] += self.eta * error\n",
    "        cost = 0.5 * error**2\n",
    "        return cost\n",
    "    \n",
    "    def net_input(self, X):\n",
    "        \"\"\"Calculate net input (i.e. linear combination)\"\"\"\n",
    "        return np.dot(X, self.w_[1:]) + self.w_[0]\n",
    "    \n",
    "    def activation(self, X):\n",
    "        \"\"\"Compute linear activation (identity function)\"\"\"\n",
    "        return X\n",
    "    \n",
    "    def predict(self, X):\n",
    "        \"\"\"Return class label after unit step\"\"\"\n",
    "        return np.where(self.activation(self.net_input(X))\n",
    "                        >=0.0, 1, -1)"
   ]
  },
  {
   "cell_type": "markdown",
   "id": "7b6fb0c7",
   "metadata": {},
   "source": [
    "# Training the Adaline\n",
    "\n",
    "We'll do exactly like previous time"
   ]
  },
  {
   "cell_type": "markdown",
   "id": "515ce13e",
   "metadata": {},
   "source": [
    "## Loading the Iris dataset into a Panda dataframe"
   ]
  },
  {
   "cell_type": "code",
   "execution_count": 2,
   "id": "c761b110",
   "metadata": {},
   "outputs": [
    {
     "name": "stdout",
     "output_type": "stream",
     "text": [
      "       0    1    2    3               4\n",
      "145  6.7  3.0  5.2  2.3  Iris-virginica\n",
      "146  6.3  2.5  5.0  1.9  Iris-virginica\n",
      "147  6.5  3.0  5.2  2.0  Iris-virginica\n",
      "148  6.2  3.4  5.4  2.3  Iris-virginica\n",
      "149  5.9  3.0  5.1  1.8  Iris-virginica\n"
     ]
    }
   ],
   "source": [
    "import os\n",
    "import pandas as pd\n",
    "\n",
    "#Load the dataset into a Panda dataframe\n",
    "df = pd.read_csv('./iris.data', header=None, encoding='utf-8')\n",
    "\n",
    "#print the last five lines to make sure the data is there\n",
    "print(df.tail())"
   ]
  },
  {
   "cell_type": "markdown",
   "id": "67041a2f",
   "metadata": {},
   "source": [
    "## Forming the training set to feed to the Adaline"
   ]
  },
  {
   "cell_type": "code",
   "execution_count": 3,
   "id": "bad7518a",
   "metadata": {},
   "outputs": [],
   "source": [
    "#Select Setosa and Versicol labels (4th column) and turn them to 1 or -1\n",
    "y = df.iloc[0:100, 4].values\n",
    "y = np.where(y == 'Iris-setosa', -1, 1)\n",
    "\n",
    "#Create the training set\n",
    "X = df.iloc[0:100, [0, 2]].values"
   ]
  },
  {
   "cell_type": "markdown",
   "id": "b4b9250a",
   "metadata": {},
   "source": [
    "## Let's standardize the features of our training set\n",
    "\n",
    "Remember standardizing consists in bringing all of our features on the same scale."
   ]
  },
  {
   "cell_type": "code",
   "execution_count": 4,
   "id": "cf2cdb62",
   "metadata": {},
   "outputs": [],
   "source": [
    "X_std = np.copy(X)\n",
    "X_std[:,0] = (X[:,0] - X[:,0].mean()) / X[:,0].std() #Standardize column 0\n",
    "X_std[:,1] = (X[:,1] - X[:,1].mean()) / X[:,1].std() #Standardize column 1"
   ]
  },
  {
   "cell_type": "markdown",
   "id": "72baa790",
   "metadata": {},
   "source": [
    "# Let's feed the training set into an Adaline\n",
    "\n",
    "Remember, this Adaline implements Stochastic Gradient Descent"
   ]
  },
  {
   "cell_type": "code",
   "execution_count": 5,
   "id": "25b963b0",
   "metadata": {},
   "outputs": [
    {
     "data": {
      "text/plain": [
       "<__main__.AdalineSGD at 0x1f485a07d90>"
      ]
     },
     "execution_count": 5,
     "metadata": {},
     "output_type": "execute_result"
    }
   ],
   "source": [
    "ada_sgd = AdalineSGD(n_iter=15, eta=0.01, random_state=1)\n",
    "ada_sgd.fit(X_std, y)"
   ]
  },
  {
   "cell_type": "markdown",
   "id": "bbf671b0",
   "metadata": {},
   "source": [
    "We just trained our Adaline. Now, let's plot the Average cost (i.e. error) against the epochs to see how our Adaline learned over time."
   ]
  },
  {
   "cell_type": "code",
   "execution_count": 6,
   "id": "ee4a074b",
   "metadata": {},
   "outputs": [
    {
     "data": {
      "image/png": "[encoded data removed]",
      "text/plain": [
       "<Figure size 640x480 with 1 Axes>"
      ]
     },
     "metadata": {},
     "output_type": "display_data"
    }
   ],
   "source": [
    "import matplotlib.pyplot as plt\n",
    "\n",
    "plt.plot(range(1, len(ada_sgd.cost_) + 1), ada_sgd.cost_, marker='o')\n",
    "plt.xlabel('Epochs')\n",
    "plt.ylabel('Average Cost')\n",
    "plt.tight_layout()\n",
    "plt.show()"
   ]
  },
  {
   "cell_type": "markdown",
   "id": "bb52cec5",
   "metadata": {},
   "source": [
    "Beautiful!\n",
    "Look at how the Adaline converges over time. Over time, the average error gets smaller. It is great because it indicates a tighter and tighter fit between our prediction and the truth :)"
   ]
  },
  {
   "cell_type": "code",
   "execution_count": null,
   "id": "8dadd4b8",
   "metadata": {},
   "outputs": [],
   "source": []
  }
 ],
 "metadata": {
  "kernelspec": {
   "display_name": "Python 3 (ipykernel)",
   "language": "python",
   "name": "python3"
  },
  "language_info": {
   "codemirror_mode": {
    "name": "ipython",
    "version": 3
   },
   "file_extension": ".py",
   "mimetype": "text/x-python",
   "name": "python",
   "nbconvert_exporter": "python",
   "pygments_lexer": "ipython3",
   "version": "3.9.13"
  }
 },
 "nbformat": 4,
 "nbformat_minor": 5
}
