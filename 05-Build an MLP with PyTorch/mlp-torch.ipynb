{
 "cells": [
  {
   "attachments": {},
   "cell_type": "markdown",
   "id": "9e97c768",
   "metadata": {},
   "source": [
    "# MLP with PyTorch\n",
    "\n",
    "At this point, I know what MLPs are. We built one from scratch one of the previous folder. In this notebook, I want to implement an MLP again, but using PyTorch. This MLP will trained and evaluated on the MNIST dataset. "
   ]
  },
  {
   "attachments": {},
   "cell_type": "markdown",
   "id": "b95314f9",
   "metadata": {},
   "source": [
    "# The MNIST dataset\n",
    "\n",
    "Conveniently, the MNIST dataset is provided in PyTorch through the `torchvision` module, specifically through the `torchvision.dataset` module.\n",
    "\n",
    "In the following cell, I import the `torchvision` and `transforms` modules. The second module, as the name suggests, let us perform **common transformations on image data**. According to the [documentation](https://pytroch.org/vision/stable/transforms.html), Transforms are common image transformations available in the `torchvision.transforms` module.\n",
    "\n",
    "Another interesting feature is that transform operations can be **chained** together using `Compose`. We will use it in a couple of cells below."
   ]
  },
  {
   "cell_type": "code",
   "execution_count": 1,
   "id": "f0c73c54",
   "metadata": {},
   "outputs": [],
   "source": [
    "import torch\n",
    "import torch.nn as nn\n",
    "import torchvision\n",
    "from torchvision import transforms"
   ]
  },
  {
   "attachments": {},
   "cell_type": "markdown",
   "id": "a484c6d5",
   "metadata": {},
   "source": [
    "With the modules loaded, I want to load the dataset itself, and specify hyperparameters such as the size of the training and testing sets, and size of the mini-batches."
   ]
  },
  {
   "cell_type": "code",
   "execution_count": 2,
   "id": "99200ea8",
   "metadata": {},
   "outputs": [
    {
     "data": {
      "text/plain": [
       "<torch._C.Generator at 0x1e9474acef0>"
      ]
     },
     "execution_count": 2,
     "metadata": {},
     "output_type": "execute_result"
    }
   ],
   "source": [
    "image_path = './'\n",
    "\n",
    "transform = transforms.Compose([\n",
    "    transforms.ToTensor()\n",
    "])\n",
    "\n",
    "mnist_train_dataset = torchvision.datasets.MNIST(\n",
    "    root=image_path, train=True,\n",
    "    transform=transform, download=True \n",
    ")\n",
    "\n",
    "mnist_test_dataset = torchvision.datasets.MNIST(\n",
    "    root=image_path, train=False,\n",
    "    transform=transform, download=True  \n",
    ")\n",
    "\n",
    "batch_size = 64\n",
    "torch.manual_seed(1)"
   ]
  },
  {
   "attachments": {},
   "cell_type": "markdown",
   "id": "374c7899",
   "metadata": {},
   "source": [
    "Okay, what just happened? Since I want to download a dataset I created a `image_path` variable to store the path where I would like images to be stored, should they be downloaded or read from the filesystem, if I do not want the dataset to be downloaded.\n",
    "\n",
    "Then I move on create a `transform` pipeline. Ours only has one operation: `transform.ToTensor()`. The `ToTensor()` method (1)converts the pixel features into a floating type tensor and (2) normalizes the pixel from range [0, 255] to range [0, 1].\n",
    "\n",
    "After that is where I effectively create the training and testing dataset using the MNIST dataset. Since, I do not have it on my machine, I asked PyTorch to download it for me using the `download` paramater. I also want PyTorch to perform the `transform` we created earlier on the images being downloaded. I specify which operation to perform using the `transform` paramater.\n",
    "\n",
    "I finish with specifying the batch size, and manually setting the seed number of random number generation.\n",
    "\n",
    "With that being done, we cannot use the dataset just yet. We must pass the `Dataset` objects (`mnist_train_dataset` and `mnist_test_dataset`) into a dataset a `DataLoader` object. Remember through a `DataLoader`, we can properly iterate over a given dataset. Okay, let's do it:"
   ]
  },
  {
   "cell_type": "code",
   "execution_count": 3,
   "id": "2bf5fdb1",
   "metadata": {},
   "outputs": [],
   "source": [
    "from torch.utils.data import DataLoader\n",
    "train_dl = DataLoader(mnist_train_dataset,\n",
    "                      batch_size, shuffle=True)"
   ]
  },
  {
   "attachments": {},
   "cell_type": "markdown",
   "id": "41b962fe",
   "metadata": {},
   "source": [
    "We successfully created the data loader, with batches of 64 samples. Let's move on :)"
   ]
  },
  {
   "attachments": {},
   "cell_type": "markdown",
   "id": "7b769876",
   "metadata": {},
   "source": [
    "# Building the Model\n",
    "\n",
    "This section of the notebook is concerned with building the MLP to classify digits from the dataset we downloaded earlier.\n",
    "\n",
    "Our MLP will have:\n",
    "\n",
    "- an input layer\n",
    "- a hidden layer (32 activation units)\n",
    "- a hidden layer (16 activation units)\n",
    "- an output layer"
   ]
  },
  {
   "attachments": {},
   "cell_type": "markdown",
   "id": "55c2ac1a",
   "metadata": {},
   "source": [
    "Let's define the above layers in code"
   ]
  },
  {
   "cell_type": "code",
   "execution_count": 4,
   "id": "b9b11fb6",
   "metadata": {},
   "outputs": [],
   "source": [
    "hidden_units = [32, 16] #number of activation units in EACH hidden layer\n",
    "image_size = mnist_train_dataset[0][0].shape #mnist_train_dataset[0] is a tuple (image[tensor], label)\n",
    "input_size = image_size[0] * image_size[1] * image_size[2] #number of channels * image height * image width\n",
    "\n",
    "# all the layers in the network \n",
    "all_layers = [nn.Flatten()]\n",
    "for hidden_unit  in hidden_units:\n",
    "    layer = nn.Linear(input_size, hidden_unit)\n",
    "    all_layers.append(layer)\n",
    "    all_layers.append(nn.ReLU())\n",
    "    input_size = hidden_unit\n",
    "\n",
    "all_layers.append(nn.Linear(hidden_units[-1], 10)) #output layer"
   ]
  },
  {
   "attachments": {},
   "cell_type": "markdown",
   "id": "4bcd48ea",
   "metadata": {},
   "source": [
    "We successfully created all the layers in the network, and we stored them all into the an array called: `all_layers`.\n",
    "\n",
    "Let's now create a model containing the layers we just created."
   ]
  },
  {
   "cell_type": "code",
   "execution_count": 5,
   "id": "cb5cb075",
   "metadata": {},
   "outputs": [],
   "source": [
    "model = nn.Sequential(*all_layers)"
   ]
  },
  {
   "attachments": {},
   "cell_type": "markdown",
   "id": "4ea3e7a4",
   "metadata": {},
   "source": [
    "That's it. Done! Since each layer comes one after the other in an MLP, we use the `torch.nn.Sequential` module to place those layers *sequentially*.\n",
    "\n",
    "Let's print the model and see all the layers we inserted."
   ]
  },
  {
   "cell_type": "code",
   "execution_count": 6,
   "id": "f44aa88d",
   "metadata": {},
   "outputs": [
    {
     "data": {
      "text/plain": [
       "Sequential(\n",
       "  (0): Flatten(start_dim=1, end_dim=-1)\n",
       "  (1): Linear(in_features=784, out_features=32, bias=True)\n",
       "  (2): ReLU()\n",
       "  (3): Linear(in_features=32, out_features=16, bias=True)\n",
       "  (4): ReLU()\n",
       "  (5): Linear(in_features=16, out_features=10, bias=True)\n",
       ")"
      ]
     },
     "execution_count": 6,
     "metadata": {},
     "output_type": "execute_result"
    }
   ],
   "source": [
    "model"
   ]
  },
  {
   "attachments": {},
   "cell_type": "markdown",
   "id": "a004cc03",
   "metadata": {},
   "source": [
    "When an image, represented by a $(1 \\times 28 \\times 28)$ vector, gets fed into the network  the `Flatten` layer flattens it to a $(1 \\times 784)$ vector.\n",
    "\n",
    "This flattened vector goes through the first `Linear` layer. This is the **input** layer. It turns the $(1 \\times 784)$ to a $(1 \\times 32)$ vector. `(1)`\n",
    "\n",
    "Right after that, the vector goes through a `RELU` activation function. The size of the vector remains the same: $(1 \\times 32)$\n",
    "\n",
    "The $(1 \\times 32)$ vector goes through a second `Linear` layer, which downsizes it to a $(1 \\times 16)$ vector. This vector also goes through, a `RELU` activation.\n",
    "\n",
    "Lastly, the $(1 \\times 16)$ vector goes through the last `Linear` layer. The output layer. Which turns the $(1 \\times 16)$ matrix into a $(1 \\times 10)$ vector. Which is our prediction."
   ]
  },
  {
   "attachments": {},
   "cell_type": "markdown",
   "id": "b48f6025",
   "metadata": {},
   "source": [
    "Let's now train the model"
   ]
  },
  {
   "cell_type": "code",
   "execution_count": 7,
   "id": "91cb42bf",
   "metadata": {},
   "outputs": [
    {
     "name": "stdout",
     "output_type": "stream",
     "text": [
      "Epoch 0, Accuracy: 0.8514\n",
      "Epoch 1, Accuracy: 0.9287\n",
      "Epoch 2, Accuracy: 0.9422\n",
      "Epoch 3, Accuracy: 0.9492\n",
      "Epoch 4, Accuracy: 0.9538\n",
      "Epoch 5, Accuracy: 0.9584\n",
      "Epoch 6, Accuracy: 0.9622\n",
      "Epoch 7, Accuracy: 0.9647\n",
      "Epoch 8, Accuracy: 0.9673\n",
      "Epoch 9, Accuracy: 0.9688\n",
      "Epoch 10, Accuracy: 0.9710\n",
      "Epoch 11, Accuracy: 0.9720\n",
      "Epoch 12, Accuracy: 0.9737\n",
      "Epoch 13, Accuracy: 0.9750\n",
      "Epoch 14, Accuracy: 0.9769\n",
      "Epoch 15, Accuracy: 0.9780\n",
      "Epoch 16, Accuracy: 0.9788\n",
      "Epoch 17, Accuracy: 0.9799\n",
      "Epoch 18, Accuracy: 0.9813\n",
      "Epoch 19, Accuracy: 0.9816\n"
     ]
    }
   ],
   "source": [
    "loss_fn = nn.CrossEntropyLoss()\n",
    "optimizer = torch.optim.Adam(model.parameters(), lr=0.001)\n",
    "num_epochs = 20\n",
    "\n",
    "for epoch in range(num_epochs):\n",
    "    accuracy_hist_train = 0\n",
    "    for x_batch, y_batch in train_dl:\n",
    "        #compute forward pass and loss value\n",
    "        pred = model(x_batch)\n",
    "        loss = loss_fn(pred, y_batch)\n",
    "        \n",
    "        #compute gradients through backpropagation\n",
    "        loss.backward()\n",
    "\n",
    "        #update weights based on gradients, then reset the gradients to zero \n",
    "        optimizer.step()\n",
    "        optimizer.zero_grad()\n",
    "\n",
    "        #how correct was our model on this batch?\n",
    "        is_correct = (\n",
    "            torch.argmax(pred, dim=1) == y_batch\n",
    "        ).float()\n",
    "\n",
    "        #Number of times model was correct on this batch\n",
    "        accuracy_hist_train += is_correct.sum()\n",
    "    \n",
    "    accuracy_hist_train /= len(train_dl.dataset)\n",
    "    print(f'Epoch {epoch} Accuracy: '\n",
    "          f'{accuracy_hist_train:.4f}')"
   ]
  },
  {
   "attachments": {},
   "cell_type": "markdown",
   "id": "1a459235",
   "metadata": {},
   "source": [
    "Cool, our model finished training. The model acheived a 9..% accuracy on training set, but let's see how well it performs on the testing set which is data it has never seen before."
   ]
  },
  {
   "cell_type": "code",
   "execution_count": 9,
   "id": "80518c7d",
   "metadata": {},
   "outputs": [
    {
     "name": "stdout",
     "output_type": "stream",
     "text": [
      "Accuracy on Test set: 0.9605\n"
     ]
    }
   ],
   "source": [
    "pred = model(mnist_test_dataset.data.float())\n",
    "\n",
    "is_correct = (\n",
    "    torch.argmax(pred, dim=1) == mnist_test_dataset.targets\n",
    ").float()\n",
    "\n",
    "print(f'Accuracy on Test set: {is_correct.mean():.4f}')"
   ]
  },
  {
   "attachments": {},
   "cell_type": "markdown",
   "id": "a7d98605",
   "metadata": {},
   "source": [
    "That's it!\n",
    "\n",
    "We successfully trained and evaluated our model on the MNIST dataset. The performance on the training set is 2% higher, than the performance on the testing set. I think the model generalizes fairly well."
   ]
  },
  {
   "attachments": {},
   "cell_type": "markdown",
   "id": "7b0a7e43",
   "metadata": {},
   "source": [
    "#  Potential Experiments\n",
    "\n",
    "Here are few ideas to further the exploration:\n",
    "\n",
    "1. Feed foward only ONE training example through the network. What is the shape of the output vector? Can you also print its values?\n",
    "\n",
    "2. We used `RELU` as our activation function. Modify the model so it uses sigmoid instead. Does it affect the model performance on the testing set?\n",
    "\n",
    "3. Using the model we built, can you reset it and graph the weights as the model learns. See how they change over time? Might be a cool visual."
   ]
  }
 ],
 "metadata": {
  "kernelspec": {
   "display_name": "Python 3 (ipykernel)",
   "language": "python",
   "name": "python3"
  },
  "language_info": {
   "codemirror_mode": {
    "name": "ipython",
    "version": 3
   },
   "file_extension": ".py",
   "mimetype": "text/x-python",
   "name": "python",
   "nbconvert_exporter": "python",
   "pygments_lexer": "ipython3",
   "version": "3.9.13"
  }
 },
 "nbformat": 4,
 "nbformat_minor": 5
}
