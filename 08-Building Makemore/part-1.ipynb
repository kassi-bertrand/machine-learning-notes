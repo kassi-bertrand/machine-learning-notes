{
 "cells": [
  {
   "cell_type": "markdown",
   "id": "9785ca99",
   "metadata": {},
   "source": [
    "# Makemore - Part 1\n",
    "\n",
    "Like previously mentioned, Makemore makes \"more\" of things you provide to it. Simple as that. This Jupyter notebook, is my first step in the journey in building **Makemore**. Let's do this!"
   ]
  },
  {
   "cell_type": "markdown",
   "id": "0f3bc090",
   "metadata": {},
   "source": [
    "Under the hood, Andrej said, Makemore is a **character-level language model**. It means that Makemore will model sequences of characters. In order words, Makemore tries to predict the next character, based on previous characters. Another way to put this, would be to say that Makemore tries to answer the following question:\n",
    "\n",
    "> Based on the previous characters, what character is likely to come **next**?\n",
    "\n",
    "To provide contrast, ChatGPT is a *token-level language model*. It attempts to predict the next token (i.e. words) based on the previous tokens.\n",
    "\n",
    "Without further talking, let's start the building with loading the dataset `names.txt`."
   ]
  },
  {
   "cell_type": "markdown",
   "id": "7efc3448",
   "metadata": {},
   "source": [
    "## Loading the dataset\n",
    "\n",
    "In this section of the notebook, I load in the dataset contained in `names.txt` in a string, split it to get individual words, then insert them in a Python list."
   ]
  },
  {
   "cell_type": "code",
   "execution_count": 1,
   "id": "0b7c3f01",
   "metadata": {},
   "outputs": [],
   "source": [
    "words = open('names.txt', 'r').read().splitlines()"
   ]
  },
  {
   "cell_type": "markdown",
   "id": "84ef4478",
   "metadata": {},
   "source": [
    "And we can go ahead and display the first 10 element of the list. Just to see..."
   ]
  },
  {
   "cell_type": "code",
   "execution_count": 2,
   "id": "acf74047",
   "metadata": {
    "scrolled": true
   },
   "outputs": [
    {
     "data": {
      "text/plain": [
       "['emma',\n",
       " 'olivia',\n",
       " 'ava',\n",
       " 'isabella',\n",
       " 'sophia',\n",
       " 'charlotte',\n",
       " 'mia',\n",
       " 'amelia',\n",
       " 'harper',\n",
       " 'evelyn']"
      ]
     },
     "execution_count": 2,
     "metadata": {},
     "output_type": "execute_result"
    }
   ],
   "source": [
    "words[:10]"
   ]
  }
 ],
 "metadata": {
  "kernelspec": {
   "display_name": "Python 3 (ipykernel)",
   "language": "python",
   "name": "python3"
  },
  "language_info": {
   "codemirror_mode": {
    "name": "ipython",
    "version": 3
   },
   "file_extension": ".py",
   "mimetype": "text/x-python",
   "name": "python",
   "nbconvert_exporter": "python",
   "pygments_lexer": "ipython3",
   "version": "3.11.4"
  }
 },
 "nbformat": 4,
 "nbformat_minor": 5
}
