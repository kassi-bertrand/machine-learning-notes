{
 "cells": [
  {
   "cell_type": "markdown",
   "id": "1e03b5aa",
   "metadata": {},
   "source": [
    "# Introduction\n",
    "\n",
    "This notebook is the third in the Makemore series. In part 2, we implemented a character-level language model using the MLP described in [Bengio et al. 2003](https://www.jmlr.org/papers/volume3/bengio03a/bengio03a.pdf). Our goal, is to graduate to a more complex neural networks such as an RNN with its variations (GRUs, LSTMs). But for this third part of the tutorial, Andrej decided to have us stick around MLPs for a bit longer. Why? **To get a deep and intuitive understanding of the activations in the neural network during training, and especially the gradients that are flowing backward, how they behave, and what they look like**. \n",
    "\n",
    "This understanding, Andrej said, is instrumental in understanding the development of architectures such as the RNN, and its variants. While Recurrent Neural Networks (RNNs) very expressive and a \"general\" approximator and can in theory implement all the algorithms, Andrej said that will see they are not easily optimizable using the gradient-based techniques we used so far. And the key reason why has to do with the activations, the gradients and how they behave during training. A lot of the variants since the original RNN, Andrej said, have tried to improve this situation.\n",
    "\n",
    "That is the path Andrej would like us to take, and I am ready for it. Let's do this!"
   ]
  },
  {
   "cell_type": "markdown",
   "id": "7bdfc8f7",
   "metadata": {},
   "source": [
    "# Starter code\n",
    "\n",
    "The code we set out to use in this part is very similar to what we used in `part-2`, but Andrej cleaned it up a little bit. So, I am copying his version of the code."
   ]
  },
  {
   "cell_type": "code",
   "execution_count": 1,
   "id": "a0b4ba3d",
   "metadata": {},
   "outputs": [],
   "source": [
    "import torch\n",
    "import torch.nn.functional as F\n",
    "import matplotlib.pyplot as plt # for making figures\n",
    "%matplotlib inline"
   ]
  },
  {
   "cell_type": "code",
   "execution_count": 2,
   "id": "c69db7fa",
   "metadata": {},
   "outputs": [
    {
     "data": {
      "text/plain": [
       "['emma', 'olivia', 'ava', 'isabella', 'sophia', 'charlotte', 'mia', 'amelia']"
      ]
     },
     "execution_count": 2,
     "metadata": {},
     "output_type": "execute_result"
    }
   ],
   "source": [
    "# read in all the words\n",
    "words = open('names.txt', 'r').read().splitlines()\n",
    "words[:8]"
   ]
  },
  {
   "cell_type": "code",
   "execution_count": 3,
   "id": "687db020",
   "metadata": {},
   "outputs": [
    {
     "data": {
      "text/plain": [
       "32033"
      ]
     },
     "execution_count": 3,
     "metadata": {},
     "output_type": "execute_result"
    }
   ],
   "source": [
    "len(words)"
   ]
  },
  {
   "cell_type": "code",
   "execution_count": 4,
   "id": "298d79cc",
   "metadata": {},
   "outputs": [
    {
     "name": "stdout",
     "output_type": "stream",
     "text": [
      "{1: 'a', 2: 'b', 3: 'c', 4: 'd', 5: 'e', 6: 'f', 7: 'g', 8: 'h', 9: 'i', 10: 'j', 11: 'k', 12: 'l', 13: 'm', 14: 'n', 15: 'o', 16: 'p', 17: 'q', 18: 'r', 19: 's', 20: 't', 21: 'u', 22: 'v', 23: 'w', 24: 'x', 25: 'y', 26: 'z', 0: '.'}\n",
      "27\n"
     ]
    }
   ],
   "source": [
    "# build the vocabulary of characters and mappings to/from integers\n",
    "chars = sorted(list(set(''.join(words))))\n",
    "stoi = {s:i+1 for i,s in enumerate(chars)}\n",
    "stoi['.'] = 0\n",
    "itos = {i:s for s,i in stoi.items()}\n",
    "vocab_size = len(itos)\n",
    "print(itos)\n",
    "print(vocab_size)"
   ]
  },
  {
   "cell_type": "code",
   "execution_count": 5,
   "id": "f54232a6",
   "metadata": {},
   "outputs": [
    {
     "name": "stdout",
     "output_type": "stream",
     "text": [
      "torch.Size([182625, 3]) torch.Size([182625])\n",
      "torch.Size([22655, 3]) torch.Size([22655])\n",
      "torch.Size([22866, 3]) torch.Size([22866])\n"
     ]
    }
   ],
   "source": [
    "# build the dataset\n",
    "block_size = 3 # context length: how many characters do we take to predict the next one?\n",
    "\n",
    "def build_dataset(words):\n",
    "    \n",
    "    X, Y = [], []\n",
    "    for w in words:\n",
    "        context = [0] * block_size\n",
    "        \n",
    "        for ch in w + '.':\n",
    "            ix = stoi[ch]\n",
    "            X.append(context)\n",
    "            Y.append(ix)\n",
    "            context = context[1:] + [ix] # crop and append\n",
    "\n",
    "    X = torch.tensor(X)\n",
    "    Y = torch.tensor(Y)\n",
    "    print(X.shape, Y.shape)\n",
    "    return X, Y\n",
    "\n",
    "import random\n",
    "random.seed(42)\n",
    "random.shuffle(words)\n",
    "n1 = int(0.8*len(words))\n",
    "n2 = int(0.9*len(words))\n",
    "\n",
    "# Split into train, dev, and test sets\n",
    "Xtr,  Ytr  = build_dataset(words[:n1])     # 80%\n",
    "Xdev, Ydev = build_dataset(words[n1:n2])   # 10%\n",
    "Xte,  Yte  = build_dataset(words[n2:])     # 10%"
   ]
  },
  {
   "cell_type": "code",
   "execution_count": 6,
   "id": "26662aa8",
   "metadata": {},
   "outputs": [
    {
     "name": "stdout",
     "output_type": "stream",
     "text": [
      "11897\n"
     ]
    }
   ],
   "source": [
    "# MLP revisited\n",
    "n_embed = 10 # the dimensionality of the character embeding vectors\n",
    "n_hidden = 200 # the number of neurons in the hidden layer of the MLP\n",
    "\n",
    "g = torch.Generator().manual_seed(2147483647) # for reproducibility\n",
    "C = torch.randn((vocab_size, n_embed),              generator=g)\n",
    "W1 = torch.randn((n_embed * block_size, n_hidden),  generator=g)\n",
    "b1 = torch.randn(n_hidden,                          generator=g)\n",
    "W2 = torch.randn((n_hidden, vocab_size),            generator=g)\n",
    "b2 = torch.randn(vocab_size,                        generator=g)\n",
    "\n",
    "parameters = [C, W1, b1, W2, b2]\n",
    "print(sum(p.nelement() for p in parameters)) # number of parameters in total\n",
    "for p in parameters:\n",
    "    p.requires_grad = True"
   ]
  },
  {
   "cell_type": "code",
   "execution_count": 7,
   "id": "4b3447e7",
   "metadata": {},
   "outputs": [
    {
     "name": "stdout",
     "output_type": "stream",
     "text": [
      "      0/ 200000: 27.8817\n",
      "  10000/ 200000: 2.8263\n",
      "  20000/ 200000: 2.5130\n",
      "  30000/ 200000: 2.8010\n",
      "  40000/ 200000: 2.0541\n",
      "  50000/ 200000: 2.6152\n",
      "  60000/ 200000: 2.3549\n",
      "  70000/ 200000: 2.0835\n",
      "  80000/ 200000: 2.2652\n",
      "  90000/ 200000: 2.2635\n",
      " 100000/ 200000: 2.0810\n",
      " 110000/ 200000: 2.3367\n",
      " 120000/ 200000: 1.9650\n",
      " 130000/ 200000: 2.4398\n",
      " 140000/ 200000: 2.1524\n",
      " 150000/ 200000: 2.1201\n",
      " 160000/ 200000: 2.0399\n",
      " 170000/ 200000: 1.8172\n",
      " 180000/ 200000: 2.0771\n",
      " 190000/ 200000: 1.7632\n"
     ]
    }
   ],
   "source": [
    "# Same optimization as last time\n",
    "max_steps = 200000\n",
    "batch_size = 32\n",
    "lossi = []\n",
    "\n",
    "for i in range(max_steps):\n",
    "    \n",
    "    # minibatch construct\n",
    "    ix = torch.randint(0, Xtr.shape[0], (batch_size,), generator=g)\n",
    "    Xb, Yb = Xtr[ix], Ytr[ix] # batch X, Y\n",
    "    \n",
    "    # forward pass\n",
    "    emb = C[Xb] # embed the characters into vectors\n",
    "    embcat = emb.view(emb.shape[0], -1) # concatenate the vectors\n",
    "    hpreact = embcat @ W1 + b1 # hidden layer pre-activation\n",
    "    h = torch.tanh(hpreact) # hidden layer\n",
    "    logits = h @ W2 + b2 # output layer\n",
    "    loss = F.cross_entropy(logits, Yb) # loss function\n",
    "    \n",
    "    # backward pass\n",
    "    for p in parameters:\n",
    "        p.grad = None\n",
    "    loss.backward()\n",
    "    \n",
    "    # update\n",
    "    lr = 0.1 if i < 100000 else 0.01 # step learning rate decay\n",
    "    for p in parameters:\n",
    "        p.data += -lr * p.grad\n",
    "        \n",
    "    # track stats\n",
    "    if i % 10000 == 0: # print every once in a white (multiple)\n",
    "        print(f'{i:7d}/{max_steps:7d}: {loss.item():.4f}')\n",
    "    lossi.append(loss.log10().item())"
   ]
  },
  {
   "cell_type": "code",
   "execution_count": 8,
   "id": "25c7c2bc",
   "metadata": {},
   "outputs": [
    {
     "data": {
      "text/plain": [
       "[<matplotlib.lines.Line2D at 0x1274ef0d0>]"
      ]
     },
     "execution_count": 8,
     "metadata": {},
     "output_type": "execute_result"
    },
    {
     "data": {
      "image/png": "[encoded data removed]",
      "text/plain": [
       "<Figure size 640x480 with 1 Axes>"
      ]
     },
     "metadata": {},
     "output_type": "display_data"
    }
   ],
   "source": [
    "plt.plot(lossi)"
   ]
  },
  {
   "cell_type": "code",
   "execution_count": 9,
   "id": "4eac5e72",
   "metadata": {},
   "outputs": [
    {
     "name": "stdout",
     "output_type": "stream",
     "text": [
      "train 2.1261181831359863\n",
      "val 2.1693320274353027\n"
     ]
    }
   ],
   "source": [
    "@torch.no_grad() # this decorator disables gradient tracking\n",
    "def split_loss(split):\n",
    "    x,y = {\n",
    "        'train': (Xtr, Ytr),\n",
    "        'val': (Xdev, Ydev),\n",
    "        'test': (Xte, Yte),\n",
    "    }[split]\n",
    "    emb = C[x] # (N, block_size, n_embd)\n",
    "    embcat = emb.view(emb.shape[0], -1) # concat into (N, block_size * n_embd)\n",
    "    h = torch.tanh(embcat @ W1 + b1) # (N, n_hidden)\n",
    "    logits = h @ W2 + b2 # (N, vocab_size)\n",
    "    loss = F.cross_entropy(logits, y)\n",
    "    print(split, loss.item())\n",
    "    \n",
    "split_loss('train')\n",
    "split_loss('val')"
   ]
  },
  {
   "cell_type": "code",
   "execution_count": 10,
   "id": "d248c973",
   "metadata": {},
   "outputs": [
    {
     "name": "stdout",
     "output_type": "stream",
     "text": [
      "carlah.\n",
      "amorie.\n",
      "khi.\n",
      "myli.\n",
      "taty.\n",
      "salayson.\n",
      "mahnen.\n",
      "den.\n",
      "art.\n",
      "kaeli.\n",
      "nellara.\n",
      "chaiir.\n",
      "kaleigh.\n",
      "ham.\n",
      "jorn.\n",
      "quint.\n",
      "salin.\n",
      "alianni.\n",
      "wazthoniearynix.\n",
      "kaelissuli.\n"
     ]
    }
   ],
   "source": [
    "# sample from the model\n",
    "g = torch.Generator().manual_seed(2147483647 + 10)\n",
    "\n",
    "for _ in range(20):\n",
    "    \n",
    "    out = []\n",
    "    context = [0] * block_size # initialize with \"...\"\n",
    "    while True:\n",
    "        # forward pass the neural net\n",
    "        emb = C[torch.tensor([context])] # (1, block_size, n_embd)\n",
    "        h = torch.tanh(emb.view(1, -1) @ W1 + b1)\n",
    "        logits = h @ W2 + b2\n",
    "        probs = F.softmax(logits, dim=1)\n",
    "        # sample from the distribution\n",
    "        ix = torch.multinomial(probs, num_samples=1, generator=g).item()\n",
    "        # shift context window and incorporates the previously made prediction, \"ix\"\n",
    "        context = context[1:] + [ix]\n",
    "        out.append(ix)\n",
    "        # if we sample the special '.' token, break\n",
    "        if ix == 0:\n",
    "            break\n",
    "    \n",
    "    print(''.join(itos[i] for i in out)) # decode and print the generated word"
   ]
  },
  {
   "cell_type": "markdown",
   "id": "f866dd45",
   "metadata": {},
   "source": [
    "# Fixing the initial loss\n",
    "\n",
    "With our starting code written, the first thing Andrej brought up was the **initialization**. Our network, he said, is improperly initialized for several reasons. While looking at the following:\n",
    "\n",
    "```\n",
    " 0/ 200000: 27.8817\n",
    "  10000/ 200000: 2.8263\n",
    "  20000/ 200000: 2.5130\n",
    "  30000/ 200000: 2.8010\n",
    "  40000/ 200000: 2.0541\n",
    "  50000/ 200000: 2.6152\n",
    "  60000/ 200000: 2.3549\n",
    "  70000/ 200000: 2.0835\n",
    "  80000/ 200000: 2.2652\n",
    "  90000/ 200000: 2.2635\n",
    " 100000/ 200000: 2.0810\n",
    " 110000/ 200000: 2.3367\n",
    " 120000/ 200000: 1.9650\n",
    " 130000/ 200000: 2.4398\n",
    " 140000/ 200000: 2.1524\n",
    " 150000/ 200000: 2.1201\n",
    " 160000/ 200000: 2.0399\n",
    " 170000/ 200000: 1.8172\n",
    " 180000/ 200000: 2.0771\n",
    " 190000/ 200000: 1.7632\n",
    "```\n",
    "On the $0^{th}$ iteration, a loss of $27.8$ was recorded. This loss rapidly falls to $2$, and then later goes to $1$. This rapid fall, Andrej pointed out, reveals that the weights' initialization is messed up. In training of neural nets, he continued, it is almost always the case to have an idea of what loss to expect at initialization, and that depends on the loss function and the problem setup.\n",
    "\n",
    "In our case, Andrej did not expect $27$ as a loss, but rather smaller number that we'll soon calculate together.\n",
    "\n",
    "At initialization, Andrej said, there are $27$ possible characters that could come next for any training example. At such an early stage, however, we have no reason to believe that one character is more likely than another. As a result, we'd expect the probability distribution coming out of the network to be uniform, effectively assigning the same probability to the $27$ characters. In other words, we'd expect that the probabilities be equal or close to $\\frac{1}{27}$, at initialization. And the loss should be:"
   ]
  },
  {
   "cell_type": "code",
   "execution_count": 11,
   "id": "ea5447b4",
   "metadata": {},
   "outputs": [
    {
     "data": {
      "text/plain": [
       "tensor(3.2958)"
      ]
     },
     "execution_count": 11,
     "metadata": {},
     "output_type": "execute_result"
    }
   ],
   "source": [
    "-torch.tensor(1/27.0).log()"
   ]
  },
  {
   "cell_type": "markdown",
   "id": "b3251682",
   "metadata": {},
   "source": [
    "This is the loss value to be expected at initialization, $3.2958$. It is much lower than the $27$ we got earlier. What is happening is that at initialization the neural net produces probability distributions that are all \"messed up\" (the term Andrej used). The network assigns a very high probability to certain characters, while assigning a very low probability to others. The network is very confidently wrong. Thus resulting a very high loss."
   ]
  },
  {
   "cell_type": "markdown",
   "id": "799dd019",
   "metadata": {},
   "source": [
    "To further illustrate this, Andrej proposed to consider 4-dimensional example of the issue."
   ]
  },
  {
   "cell_type": "code",
   "execution_count": 12,
   "id": "6924d747",
   "metadata": {},
   "outputs": [
    {
     "data": {
      "text/plain": [
       "(tensor([0.2500, 0.2500, 0.2500, 0.2500]), tensor(1.3863))"
      ]
     },
     "execution_count": 12,
     "metadata": {},
     "output_type": "execute_result"
    }
   ],
   "source": [
    "# 4-dimensional example of the issue\n",
    "logits = torch.tensor([0.0, 0.0, 0.0, 0.0])\n",
    "#logits = torch.randn(4) # randomly pick 4 logits out of a normal distribution\n",
    "#logits = torch.randn(4) # randomly pick 4 extreme logits\n",
    "probs = torch.softmax(logits, dim=0)\n",
    "loss = -probs[2].log()\n",
    "probs, loss"
   ]
  },
  {
   "cell_type": "markdown",
   "id": "5858a53b",
   "metadata": {},
   "source": [
    "In the scenario where we have only 4 characters, so four possible predictions, and _we have logits coming out of the neural network that are very close to zero_. Taking the softmax results in a uniform (i.e. difused ) probability distribution. If the correct label is, say $2$, then the loss is given by `-probs[2].log()` which is equal to $1.3863$. It is low, right?\n",
    "\n",
    "So, if by \"chance\", at initialization the network assigns a high probability to the correct label, then the resulting loss will be low. Conversely, if the network assigns a high probability to the wrong label, then the resulting loss will be high. To illustrate this, Andrej randomly picked four logits out of a normal distribution (so somewhat close to zero) and the resulting was low... when he picked some extreme logit values, the resulting loss was much higher. Try playing around with the values in the `logits` tensor and see how it affects the loss.\n",
    "\n",
    "All of that to say: **We want the network to be output a somewhat uniform probability distribution at initialization. In other words, we want the network to produce somewhat equal logits (zeroes) at initialization**.\n",
    "\n",
    "The reason why we acheive a high loss on the first iteration like we saw is because the logits the network produced are extreme, and the network assigns a high probability to the wrong label. So, the million dollar question is:\n",
    "\n",
    "> How do we initialized the network weights such that logits come out closer to zero?\n",
    "\n",
    "First, the logits of the network are calculated by matrix-multiplying the hidden state `h` with `w2`, and then adding the bias `b2`. `b2` is initialized with random numbers, but because we want to be close to zero a set of random biases is undesirable. So, we scale `b2` with zero instead, to ensure that initialization the tensor contains only zeroes.\n",
    "\n",
    "Second, we want to make `w2` as well. So we also scale down the matrix by `0.01`. Andrej said it is undesirable to initialize weight matrices to zero, and said he will show us why a little later.\n",
    "\n",
    "With all those changes the new neural network looks like this:"
   ]
  },
  {
   "cell_type": "code",
   "execution_count": 13,
   "id": "0f934099",
   "metadata": {},
   "outputs": [
    {
     "name": "stdout",
     "output_type": "stream",
     "text": [
      "11897\n"
     ]
    }
   ],
   "source": [
    "# MLP revisited\n",
    "n_embed = 10 # the dimensionality of the character embeding vectors\n",
    "n_hidden = 200 # the number of neurons in the hidden layer of the MLP\n",
    "\n",
    "g = torch.Generator().manual_seed(2147483647) # for reproducibility\n",
    "C = torch.randn((vocab_size, n_embed),              generator=g)\n",
    "W1 = torch.randn((n_embed * block_size, n_hidden),  generator=g)\n",
    "b1 = torch.randn(n_hidden,                          generator=g)\n",
    "W2 = torch.randn((n_hidden, vocab_size),            generator=g) * 0.01 # NOT ZERO\n",
    "b2 = torch.randn(vocab_size,                        generator=g) * 0 # ZERO\n",
    "\n",
    "parameters = [C, W1, b1, W2, b2]\n",
    "print(sum(p.nelement() for p in parameters)) # number of parameters in total\n",
    "for p in parameters:\n",
    "    p.requires_grad = True"
   ]
  },
  {
   "cell_type": "code",
   "execution_count": 14,
   "id": "e1050c24",
   "metadata": {},
   "outputs": [
    {
     "name": "stdout",
     "output_type": "stream",
     "text": [
      "      0/ 200000: 3.3221\n",
      "  10000/ 200000: 2.1900\n",
      "  20000/ 200000: 2.4196\n",
      "  30000/ 200000: 2.6067\n",
      "  40000/ 200000: 2.0601\n",
      "  50000/ 200000: 2.4988\n",
      "  60000/ 200000: 2.3902\n",
      "  70000/ 200000: 2.1344\n",
      "  80000/ 200000: 2.3369\n",
      "  90000/ 200000: 2.1299\n",
      " 100000/ 200000: 1.8329\n",
      " 110000/ 200000: 2.2053\n",
      " 120000/ 200000: 1.8540\n",
      " 130000/ 200000: 2.4566\n",
      " 140000/ 200000: 2.1879\n",
      " 150000/ 200000: 2.1118\n",
      " 160000/ 200000: 1.8956\n",
      " 170000/ 200000: 1.8645\n",
      " 180000/ 200000: 2.0326\n",
      " 190000/ 200000: 1.8417\n"
     ]
    }
   ],
   "source": [
    "# Same optimization as last time\n",
    "max_steps = 200000\n",
    "batch_size = 32\n",
    "lossi = []\n",
    "\n",
    "for i in range(max_steps):\n",
    "    \n",
    "    # minibatch construct\n",
    "    ix = torch.randint(0, Xtr.shape[0], (batch_size,), generator=g)\n",
    "    Xb, Yb = Xtr[ix], Ytr[ix] # batch X, Y\n",
    "    \n",
    "    # forward pass\n",
    "    emb = C[Xb] # embed the characters into vectors\n",
    "    embcat = emb.view(emb.shape[0], -1) # concatenate the vectors\n",
    "    hpreact = embcat @ W1 + b1 # hidden layer pre-activation\n",
    "    h = torch.tanh(hpreact) # hidden layer\n",
    "    logits = h @ W2 + b2 # output layer\n",
    "    loss = F.cross_entropy(logits, Yb) # loss function\n",
    "    \n",
    "    # backward pass\n",
    "    for p in parameters:\n",
    "        p.grad = None\n",
    "    loss.backward()\n",
    "    \n",
    "    # update\n",
    "    lr = 0.1 if i < 100000 else 0.01 # step learning rate decay\n",
    "    for p in parameters:\n",
    "        p.data += -lr * p.grad\n",
    "        \n",
    "    # track stats\n",
    "    if i % 10000 == 0: # print every once in a white (multiple)\n",
    "        print(f'{i:7d}/{max_steps:7d}: {loss.item():.4f}')\n",
    "    lossi.append(loss.log10().item())"
   ]
  },
  {
   "cell_type": "markdown",
   "id": "58cb1e3b",
   "metadata": {},
   "source": [
    "Right of the bat, we can see that the loss at the $0^{th}$ is much closer to our calculation $\\frac{1}{27}$. We get a loss of $3.3221$, which is a better starting point. Similarly, the loss plot, no longer has this \"hockey\" shape appearance. "
   ]
  },
  {
   "cell_type": "code",
   "execution_count": 15,
   "id": "34189e63",
   "metadata": {},
   "outputs": [
    {
     "data": {
      "text/plain": [
       "[<matplotlib.lines.Line2D at 0x125cbfc40>]"
      ]
     },
     "execution_count": 15,
     "metadata": {},
     "output_type": "execute_result"
    },
    {
     "data": {
      "image/png": "[encoded data removed]",
      "text/plain": [
       "<Figure size 640x480 with 1 Axes>"
      ]
     },
     "metadata": {},
     "output_type": "display_data"
    }
   ],
   "source": [
    "plt.plot(lossi)"
   ]
  },
  {
   "cell_type": "markdown",
   "id": "18de58bd",
   "metadata": {},
   "source": [
    "When the loss had that \"hockey\" shape appearance, Andrej said, the optimization first **squashed the logits near ZERO**, then **re-arrange the logits** towards right predictions. In other words, during optimization the weights are updated such that the network start producing logits that are closer to zero. And like we saw earlier, this is desirable.\n",
    "\n",
    "So, by initiliazing the `b2` and `W2` to zero, and something close to zeros, we skip the easy gains observed at the beginning of training like before. Instead, we are getting the hard gains of the actual training of the neural net. For this reason, we no longer see this \"hockey\" stick appearance, but rather something that is decreasing veryyy slowly.\n",
    "\n",
    "Now, two good things are now happening according to Andrej:\n",
    "\n",
    "1. Loss at initialization is close to what we expect.\n",
    "\n",
    "2. The loss curve no longer looks like a hockey stick\n",
    "\n",
    "**NOTE: This is something to look out for, for ANY neural network we might train**"
   ]
  },
  {
   "cell_type": "markdown",
   "id": "5f779f93",
   "metadata": {},
   "source": [
    "# Fixing the saturated `tanh`\n",
    "\n",
    "Fixing the initial loss, and the loss curve was the first problem. Now, we are looking at the second problem. This problem, Andrej said, is deeper lurking in the neural network. So, this is something I should pay attention to.\n",
    "\n",
    "The logits are now okay, but the problem is now on the values of `h`, the tensor containing the activations of the hidden layer. Let's display the values in this tensor."
   ]
  },
  {
   "cell_type": "code",
   "execution_count": 16,
   "id": "3da84c53",
   "metadata": {},
   "outputs": [
    {
     "data": {
      "text/plain": [
       "tensor([[ 0.7100, -0.7878, -0.7424,  ..., -1.0000,  1.0000,  1.0000],\n",
       "        [-0.5614, -1.0000, -1.0000,  ..., -0.8078,  0.9971, -0.9209],\n",
       "        [-1.0000,  0.9940, -1.0000,  ...,  0.3851, -0.9303,  0.3262],\n",
       "        ...,\n",
       "        [-0.9992, -1.0000, -0.9999,  ..., -0.4351, -0.8976, -0.3768],\n",
       "        [ 0.9939,  0.8976,  1.0000,  ..., -0.9538, -1.0000,  0.9987],\n",
       "        [-1.0000, -0.9995, -1.0000,  ..., -0.6408, -0.8208,  0.5101]],\n",
       "       grad_fn=<TanhBackward0>)"
      ]
     },
     "execution_count": 16,
     "metadata": {},
     "output_type": "execute_result"
    }
   ],
   "source": [
    "h"
   ]
  },
  {
   "cell_type": "markdown",
   "id": "b5f9d3d1",
   "metadata": {},
   "source": [
    "Though, it is it hard to see... Andrej pointed out that **a lot of activations in the hidden layer are either $1$ or $-1$**. `torch.tanh` he continued is a \"squashing\" function. It takes a wide range of values and squashes them into the range $(-1, 1)$, and does so smoothly. Following in Andrej footsteps, let's look at the histogram to get a better idea of the distribution of the values inside the tensor."
   ]
  },
  {
   "cell_type": "code",
   "execution_count": 17,
   "id": "d3b85632",
   "metadata": {},
   "outputs": [
    {
     "data": {
      "text/plain": [
       "(torch.Size([32, 200]), torch.Size([6400]))"
      ]
     },
     "execution_count": 17,
     "metadata": {},
     "output_type": "execute_result"
    }
   ],
   "source": [
    "h.view(-1) # h is (32 x 200). h.view(-1) stretches out the tensor into a 1-D tensor.\n",
    "h.shape, h.view(-1).shape"
   ]
  },
  {
   "cell_type": "code",
   "execution_count": 18,
   "id": "8ea2e72d",
   "metadata": {},
   "outputs": [
    {
     "data": {
      "text/plain": [
       "(array([2165.,  152.,   94.,   59.,   51.,   49.,   48.,   36.,   35.,\n",
       "          33.,   42.,   31.,   45.,   30.,   37.,   24.,   17.,   20.,\n",
       "          20.,   14.,   28.,   17.,   12.,   22.,   34.,   20.,   22.,\n",
       "          15.,    8.,   26.,   23.,   22.,   24.,   28.,   40.,   15.,\n",
       "          23.,   36.,   20.,   27.,   21.,   25.,   30.,   53.,   45.,\n",
       "          64.,   64.,   88.,  115., 2431.]),\n",
       " array([-1.  , -0.96, -0.92, -0.88, -0.84, -0.8 , -0.76, -0.72, -0.68,\n",
       "        -0.64, -0.6 , -0.56, -0.52, -0.48, -0.44, -0.4 , -0.36, -0.32,\n",
       "        -0.28, -0.24, -0.2 , -0.16, -0.12, -0.08, -0.04,  0.  ,  0.04,\n",
       "         0.08,  0.12,  0.16,  0.2 ,  0.24,  0.28,  0.32,  0.36,  0.4 ,\n",
       "         0.44,  0.48,  0.52,  0.56,  0.6 ,  0.64,  0.68,  0.72,  0.76,\n",
       "         0.8 ,  0.84,  0.88,  0.92,  0.96,  1.  ]),\n",
       " <BarContainer object of 50 artists>)"
      ]
     },
     "execution_count": 18,
     "metadata": {},
     "output_type": "execute_result"
    },
    {
     "data": {
      "image/png": "[encoded data removed]",
      "text/plain": [
       "<Figure size 640x480 with 1 Axes>"
      ]
     },
     "metadata": {},
     "output_type": "display_data"
    }
   ],
   "source": [
    "plt.hist(h.view(-1).tolist(), 50) # 50 bins"
   ]
  },
  {
   "cell_type": "markdown",
   "id": "ed182e8c",
   "metadata": {},
   "source": [
    "Looking at the histogram, we can immediately see what Andrej said: *A lot of activations in the hidden layer are either $1$ or $-1$*, and because of that Andrej called the `tanh` function **very active**. I do not know what that means. But right after, he suggested we look at the preactivation values of the hidden layer; the values that we get before we feed them to the `tanh` function."
   ]
  },
  {
   "cell_type": "code",
   "execution_count": 19,
   "id": "76087142",
   "metadata": {},
   "outputs": [
    {
     "data": {
      "text/plain": [
       "(array([  1.,   0.,   0.,   1.,   3.,   0.,   4.,   6.,   8.,  10.,  11.,\n",
       "         20.,  26.,  51.,  67.,  76., 121., 155., 178., 223., 255., 301.,\n",
       "        333., 348., 449., 557., 501., 375., 362., 311., 300., 278., 225.,\n",
       "        215., 166., 106., 111.,  89.,  48.,  35.,  24.,  19.,  17.,   7.,\n",
       "          3.,   3.,   0.,   0.,   0.,   1.]),\n",
       " array([-26.79976654, -25.76174088, -24.72371521, -23.68568954,\n",
       "        -22.64766388, -21.60963821, -20.57161255, -19.53358688,\n",
       "        -18.49556122, -17.45753555, -16.41950989, -15.38148422,\n",
       "        -14.34345856, -13.30543289, -12.26740723, -11.22938156,\n",
       "        -10.1913559 ,  -9.15333023,  -8.11530457,  -7.0772789 ,\n",
       "         -6.03925323,  -5.00122757,  -3.9632019 ,  -2.92517624,\n",
       "         -1.88715057,  -0.84912491,   0.18890076,   1.22692642,\n",
       "          2.26495209,   3.30297775,   4.34100342,   5.37902908,\n",
       "          6.41705475,   7.45508041,   8.49310608,   9.53113174,\n",
       "         10.56915741,  11.60718307,  12.64520874,  13.68323441,\n",
       "         14.72126007,  15.75928574,  16.7973114 ,  17.83533707,\n",
       "         18.87336273,  19.9113884 ,  20.94941406,  21.98743973,\n",
       "         23.02546539,  24.06349106,  25.10151672]),\n",
       " <BarContainer object of 50 artists>)"
      ]
     },
     "execution_count": 19,
     "metadata": {},
     "output_type": "execute_result"
    },
    {
     "data": {
      "image/png": "[encoded data removed]",
      "text/plain": [
       "<Figure size 640x480 with 1 Axes>"
      ]
     },
     "metadata": {},
     "output_type": "display_data"
    }
   ],
   "source": [
    "plt.hist(hpreact.view(-1).tolist(), 50) # 50 bins"
   ]
  },
  {
   "cell_type": "markdown",
   "id": "93aa37ab",
   "metadata": {},
   "source": [
    "The distribution of the pre-activations is very broad taking values between $-20$ and $20$. When those values goes through the `tanh` all those values get squashed and caped at $-1$ and $1$.\n",
    "\n",
    "But coming back and looking at the distribution of `tanh` activations, we can see that we have lots of extreme values. Since I am new to neural nets, I do not see an issue with this observation. But as I continue, I will understand why this is an undesirable scenario.\n",
    "\n",
    "During backpropagation, we start at the loss and backpropagate through the network. Then we reach the hidden layer that we also have to backpropagate through. This layer contains $200$ neurons for each example. So Andrej suggested we look at what happens during `tanh` during the backward pass. We went back to our code in micrograd, which mine is withing the `Baby steps with PyTorch`, specifically in the `micrograd.ipynb` notebook. The code looked like this\n",
    "\n",
    "```py\n",
    "    def tanh(self):\n",
    "        x = self.data\n",
    "        t = (math.exp(2*x) - 1)/(math.exp(2*x) + 1)\n",
    "        out = Value(t, (self, ), _op='tanh')\n",
    "\n",
    "        def _backward():\n",
    "            self.grad += (1 - t**2) * out.grad\n",
    "\n",
    "        out._backward = _backward\n",
    "        return out\n",
    "```\n",
    "\n",
    "When backpropagating through a `tanh` we multiply `out.grad` with the local gradient local gradient `(1 - t**2)`. So, *What happens when the output of our `tanh` is very close to $-1$ or $-1$*? If $t = 1$ for instance, the term `(1 - t**2)` goes to zero... and no matter what `out.grad` is we are \"killing\" the gradient, and consequently stopping the backpropagation through the `tanh` unit. Same scenario happens when $t = -1$... `out.grad` can longer flow backward. It stops right there.\n",
    "\n",
    "Andrej continued and said that when the output of a `tanh` neuron is very close to $1$ we are in this fat region of the curve:\n",
    "\n",
    "[IMAGE HERE]\n",
    "\n",
    "Thus changing the inputs of this neuron is **not** going to impact the output of this neuron too much since it is located in this flat region. Therefore the loss will likely not change as well. Another way to put this would be that computing the net input of the weights and biases attached to this neuron result in a value so big that passing this value in a $tanh$ function lends us into the flat regions of the $tanh$ curve, and slowly changing those weights and biases attached to the neuron only let us move ever so slightly in the same region. The consquence? Despite those updates, the output of the neuron does not really change. So, those updates essentially have zero effect on the loss. If those updates do not affect the loss, then those updates do not improve the overall performance of our network. That's one way to say *the gradient is basically zero. We say it **\"vanishes\"***. Let's see at another way to look at it.\n",
    "\n",
    "When $t = 0$, we get `out.grad`. It means that when the output of the `tanh` unit (i.e. neuron) is exactly zero, then `out.grad` is just passed through... it just flows through the `tanh` unit during backprop. So when $t=0$, it's a bit like the `tanh` unit is \"inactive\", and the gradient just passes through \"unharmed\". But the more the output of this `tanh` unit lends in the flat tails of the $tanh$ function, the more the gradient (`out.grad`) is \"squashed\" (i.e. scaled down). So, Andrej says that _the gradient flowing through `tanh` can only decrease_; and the amount by which it decreases it proportional to this quantity `(1 - t**2)`.\n",
    "\n",
    "So coming back to our MLP. The concern is if almost all of our activations are in the flat tails on the $tanh$ curve, then the gradient flowing back through the network will get \"destroyed\".\n",
    "\n",
    "Andrej gave us this code, to plot a graph that will let us see how often the activations in the `h` tensor are in the flat regions"
   ]
  },
  {
   "cell_type": "code",
   "execution_count": 20,
   "id": "5cbf4587",
   "metadata": {},
   "outputs": [
    {
     "data": {
      "text/plain": [
       "<matplotlib.image.AxesImage at 0x134cf3970>"
      ]
     },
     "execution_count": 20,
     "metadata": {},
     "output_type": "execute_result"
    },
    {
     "data": {
      "image/png": "[encoded data removed]",
      "text/plain": [
       "<Figure size 2000x1000 with 1 Axes>"
      ]
     },
     "metadata": {},
     "output_type": "display_data"
    }
   ],
   "source": [
    "plt.figure(figsize=(20,10))\n",
    "plt.imshow(h.abs() > 0.99, cmap='gray', interpolation='nearest')"
   ]
  },
  {
   "cell_type": "markdown",
   "id": "dbbd14b9",
   "metadata": {},
   "source": [
    "We just printed a boolean tensor. In such tensor, a white represents white is `True` and black is `False`. 32 training examples, and 200 neurons. We can see that a lot of this is white, which means that all those `tanh` neurons were very \"active\". Thus in all those cases, the backward gradient gets \"destroyed\". What a waste!\n",
    "\n",
    "Also, for every one of this $200$ neuron... if it was the case that an entire column was white, it would mean that **all of the examples in this batch lands in one of the tails of the `tanh`**. It might be that the neuron is initialized in such a way that no single example fall in the \"okay\" part of the $tanh$ curve, but fall in one the tail parts. Such neuron will **never learn**. It is a **dead neuron**. Andrej did not locate a \"dead\" neuron in our case here, but this an instance I can find myself in... thus information is good. And this information is true not only for $tanh$, but some other non-linearities as well.\n",
    "\n",
    "Since we do have dead neurons in our 200, it means that _there are_ some examples that activate them in the \"okay\" part of the $tanh$ curve, which implies some gradients will actually flow through the neuron, and that it will learn from those. But it is not optimal, espcially during iniitialization. So, what is happening the preactivations values in the `hpreact` following through `tanh` are too extreme, they are too large... so printing the `tanh` distribution looks like what we saw, it is too saturated in both sides of the `tanh`. And like we saw this is not something that we want because it means that less training is happening for these neurons.\n",
    "\n",
    "Enough describing the problem. How do we fix this? We want `hpreact` to be closer to zero. Simple as that. Let's do this. We obtain `hpreact` by using `W1` and `b1`. So, let's bring them closer to zero."
   ]
  },
  {
   "cell_type": "code",
   "execution_count": 21,
   "id": "6489e7ba",
   "metadata": {},
   "outputs": [
    {
     "name": "stdout",
     "output_type": "stream",
     "text": [
      "11897\n"
     ]
    }
   ],
   "source": [
    "# MLP revisited\n",
    "n_embed = 10 # the dimensionality of the character embeding vectors\n",
    "n_hidden = 200 # the number of neurons in the hidden layer of the MLP\n",
    "\n",
    "g = torch.Generator().manual_seed(2147483647) # for reproducibility\n",
    "C = torch.randn((vocab_size, n_embed),              generator=g)\n",
    "W1 = torch.randn((n_embed * block_size, n_hidden),  generator=g) * 0.1 # SCALE DOWN THE WEIGHTS\n",
    "b1 = torch.randn(n_hidden,                          generator=g) * 0.01 # TO GET A LITTLE BIT OF ENTROPY (ANDREJ'S RECOMMENDATION)\n",
    "W2 = torch.randn((n_hidden, vocab_size),            generator=g) * 0.01\n",
    "b2 = torch.randn(vocab_size,                        generator=g) * 0\n",
    "\n",
    "parameters = [C, W1, b1, W2, b2]\n",
    "print(sum(p.nelement() for p in parameters)) # number of parameters in total\n",
    "for p in parameters:\n",
    "    p.requires_grad = True"
   ]
  },
  {
   "cell_type": "code",
   "execution_count": 22,
   "id": "80d8dcc2",
   "metadata": {},
   "outputs": [
    {
     "name": "stdout",
     "output_type": "stream",
     "text": [
      "      0/ 200000: 3.3069\n"
     ]
    }
   ],
   "source": [
    "# Same optimization as last time\n",
    "max_steps = 200000\n",
    "batch_size = 32\n",
    "lossi = []\n",
    "\n",
    "for i in range(max_steps):\n",
    "    \n",
    "    # minibatch construct\n",
    "    ix = torch.randint(0, Xtr.shape[0], (batch_size,), generator=g)\n",
    "    Xb, Yb = Xtr[ix], Ytr[ix] # batch X, Y\n",
    "    \n",
    "    # forward pass\n",
    "    emb = C[Xb] # embed the characters into vectors\n",
    "    embcat = emb.view(emb.shape[0], -1) # concatenate the vectors\n",
    "    hpreact = embcat @ W1 + b1 # hidden layer pre-activation\n",
    "    h = torch.tanh(hpreact) # hidden layer\n",
    "    logits = h @ W2 + b2 # output layer\n",
    "    loss = F.cross_entropy(logits, Yb) # loss function\n",
    "    \n",
    "    # backward pass\n",
    "    for p in parameters:\n",
    "        p.grad = None\n",
    "    loss.backward()\n",
    "    \n",
    "    # update\n",
    "    lr = 0.1 if i < 100000 else 0.01 # step learning rate decay\n",
    "    for p in parameters:\n",
    "        p.data += -lr * p.grad\n",
    "        \n",
    "    # track stats\n",
    "    if i % 10000 == 0: # print every once in a white (multiple)\n",
    "        print(f'{i:7d}/{max_steps:7d}: {loss.item():.4f}')\n",
    "    lossi.append(loss.log10().item())\n",
    "    \n",
    "    break # stop after first batch"
   ]
  },
  {
   "cell_type": "code",
   "execution_count": 23,
   "id": "eb6a0a2f",
   "metadata": {
    "scrolled": false
   },
   "outputs": [
    {
     "data": {
      "text/plain": [
       "(array([  6.,  17.,  20.,  30.,  49.,  61.,  72.,  89.,  87.,  99., 135.,\n",
       "        121., 153., 134., 138., 140., 174., 163., 179., 184., 138., 196.,\n",
       "        183., 226., 165., 212., 191., 175., 201., 211., 189., 186., 166.,\n",
       "        178., 183., 156., 194., 155., 171., 140., 139., 122., 102.,  96.,\n",
       "         81.,  72.,  41.,  39.,  23.,  18.]),\n",
       " array([-0.95476669, -0.91695139, -0.87913609, -0.84132079, -0.80350549,\n",
       "        -0.76569019, -0.72787489, -0.69005959, -0.65224429, -0.61442899,\n",
       "        -0.57661369, -0.53879839, -0.50098309, -0.46316779, -0.42535249,\n",
       "        -0.38753719, -0.34972189, -0.31190659, -0.27409129, -0.23627599,\n",
       "        -0.19846069, -0.16064539, -0.12283009, -0.08501479, -0.04719949,\n",
       "        -0.00938419,  0.02843112,  0.06624642,  0.10406172,  0.14187702,\n",
       "         0.17969232,  0.21750762,  0.25532292,  0.29313822,  0.33095352,\n",
       "         0.36876882,  0.40658412,  0.44439942,  0.48221472,  0.52003002,\n",
       "         0.55784532,  0.59566062,  0.63347592,  0.67129122,  0.70910652,\n",
       "         0.74692182,  0.78473712,  0.82255242,  0.86036772,  0.89818302,\n",
       "         0.93599832]),\n",
       " <BarContainer object of 50 artists>)"
      ]
     },
     "execution_count": 23,
     "metadata": {},
     "output_type": "execute_result"
    },
    {
     "data": {
      "image/png": "[encoded data removed]",
      "text/plain": [
       "<Figure size 640x480 with 1 Axes>"
      ]
     },
     "metadata": {},
     "output_type": "display_data"
    }
   ],
   "source": [
    "plt.hist(h.view(-1).tolist(), 50) # 50 bins"
   ]
  },
  {
   "cell_type": "markdown",
   "id": "d33c66ab",
   "metadata": {},
   "source": [
    "Since we multiplied `W1` by `0.1`, the distribution of `h` is looking much better. That's because the preactivation values now lies in the $(-1.5, 1.5)$ interval. These values are less extreme compared to what we had before."
   ]
  },
  {
   "cell_type": "code",
   "execution_count": 24,
   "id": "83059930",
   "metadata": {},
   "outputs": [
    {
     "data": {
      "text/plain": [
       "(array([  1.,   2.,   0.,   1.,   5.,   3.,  10.,   7.,  12.,  12.,  24.,\n",
       "         39.,  40.,  76.,  66.,  98., 127., 171., 191., 203., 231., 275.,\n",
       "        310., 288., 360., 368., 384., 352., 363., 338., 304., 281., 287.,\n",
       "        229., 207., 166., 137., 101.,  90.,  74.,  46.,  28.,  28.,  21.,\n",
       "         11.,   8.,  11.,   5.,   2.,   7.]),\n",
       " array([-1.88309646, -1.81133983, -1.73958321, -1.66782659, -1.59606997,\n",
       "        -1.52431334, -1.45255672, -1.3808001 , -1.30904347, -1.23728685,\n",
       "        -1.16553023, -1.09377361, -1.02201698, -0.95026036, -0.87850374,\n",
       "        -0.80674711, -0.73499049, -0.66323387, -0.59147725, -0.51972062,\n",
       "        -0.447964  , -0.37620738, -0.30445076, -0.23269413, -0.16093751,\n",
       "        -0.08918089, -0.01742426,  0.05433236,  0.12608898,  0.1978456 ,\n",
       "         0.26960223,  0.34135885,  0.41311547,  0.4848721 ,  0.55662872,\n",
       "         0.62838534,  0.70014196,  0.77189859,  0.84365521,  0.91541183,\n",
       "         0.98716846,  1.05892508,  1.1306817 ,  1.20243832,  1.27419495,\n",
       "         1.34595157,  1.41770819,  1.48946481,  1.56122144,  1.63297806,\n",
       "         1.70473468]),\n",
       " <BarContainer object of 50 artists>)"
      ]
     },
     "execution_count": 24,
     "metadata": {},
     "output_type": "execute_result"
    },
    {
     "data": {
      "image/png": "[encoded data removed]",
      "text/plain": [
       "<Figure size 640x480 with 1 Axes>"
      ]
     },
     "metadata": {},
     "output_type": "display_data"
    }
   ],
   "source": [
    "plt.hist(hpreact.view(-1).tolist(), 50) # 50 bins"
   ]
  },
  {
   "cell_type": "markdown",
   "id": "6131bf76",
   "metadata": {},
   "source": [
    "We can once again printout the black and white matrix like earlier to compare, and this time we'd much much less white appearing:"
   ]
  },
  {
   "cell_type": "code",
   "execution_count": 25,
   "id": "8b287e6b",
   "metadata": {},
   "outputs": [
    {
     "data": {
      "text/plain": [
       "<matplotlib.image.AxesImage at 0x134ef40a0>"
      ]
     },
     "execution_count": 25,
     "metadata": {},
     "output_type": "execute_result"
    },
    {
     "data": {
      "image/png": "[encoded data removed]",
      "text/plain": [
       "<Figure size 2000x1000 with 1 Axes>"
      ]
     },
     "metadata": {},
     "output_type": "display_data"
    }
   ],
   "source": [
    "plt.figure(figsize=(20,10))\n",
    "plt.imshow(h.abs() > 0.99, cmap='gray', interpolation='nearest')"
   ]
  },
  {
   "cell_type": "markdown",
   "id": "6941540b",
   "metadata": {},
   "source": [
    "Well, there is no white! Lol. It means that for all examples in this batch, the gradient is able flow through each neurons in the hidden layer. No neurons in the hidden layer saturated above `0.99` in either direction. In other words, all $200$ neurons in the hidden layer are learning something from each example in the batch.\n",
    "\n",
    "After explaining this Andrej re-initialized and ran the network for the full optimization, not just the first batch."
   ]
  },
  {
   "cell_type": "code",
   "execution_count": 26,
   "id": "31053cb4",
   "metadata": {},
   "outputs": [
    {
     "name": "stdout",
     "output_type": "stream",
     "text": [
      "11897\n"
     ]
    }
   ],
   "source": [
    "# MLP revisited\n",
    "n_embed = 10 # the dimensionality of the character embeding vectors\n",
    "n_hidden = 200 # the number of neurons in the hidden layer of the MLP\n",
    "\n",
    "g = torch.Generator().manual_seed(2147483647) # for reproducibility\n",
    "C = torch.randn((vocab_size, n_embed),              generator=g)\n",
    "W1 = torch.randn((n_embed * block_size, n_hidden),  generator=g) * 0.2 # ANDREJ CHANGED THE VALUE\n",
    "b1 = torch.randn(n_hidden,                          generator=g) * 0.01\n",
    "W2 = torch.randn((n_hidden, vocab_size),            generator=g) * 0.01\n",
    "b2 = torch.randn(vocab_size,                        generator=g) * 0\n",
    "\n",
    "parameters = [C, W1, b1, W2, b2]\n",
    "print(sum(p.nelement() for p in parameters)) # number of parameters in total\n",
    "for p in parameters:\n",
    "    p.requires_grad = True"
   ]
  },
  {
   "cell_type": "code",
   "execution_count": 27,
   "id": "5e59c1e9",
   "metadata": {
    "scrolled": true
   },
   "outputs": [
    {
     "name": "stdout",
     "output_type": "stream",
     "text": [
      "      0/ 200000: 3.3135\n",
      "  10000/ 200000: 2.1648\n",
      "  20000/ 200000: 2.3061\n",
      "  30000/ 200000: 2.4541\n",
      "  40000/ 200000: 1.9787\n",
      "  50000/ 200000: 2.2930\n",
      "  60000/ 200000: 2.4232\n",
      "  70000/ 200000: 2.0680\n",
      "  80000/ 200000: 2.3095\n",
      "  90000/ 200000: 2.1207\n",
      " 100000/ 200000: 1.8269\n",
      " 110000/ 200000: 2.2045\n",
      " 120000/ 200000: 1.9797\n",
      " 130000/ 200000: 2.3946\n",
      " 140000/ 200000: 2.1000\n",
      " 150000/ 200000: 2.1948\n",
      " 160000/ 200000: 1.8619\n",
      " 170000/ 200000: 1.7809\n",
      " 180000/ 200000: 1.9673\n",
      " 190000/ 200000: 1.8295\n"
     ]
    }
   ],
   "source": [
    "# Same optimization as last time\n",
    "max_steps = 200000\n",
    "batch_size = 32\n",
    "lossi = []\n",
    "\n",
    "for i in range(max_steps):\n",
    "    \n",
    "    # minibatch construct\n",
    "    ix = torch.randint(0, Xtr.shape[0], (batch_size,), generator=g)\n",
    "    Xb, Yb = Xtr[ix], Ytr[ix] # batch X, Y\n",
    "    \n",
    "    # forward pass\n",
    "    emb = C[Xb] # embed the characters into vectors\n",
    "    embcat = emb.view(emb.shape[0], -1) # concatenate the vectors\n",
    "    hpreact = embcat @ W1 + b1 # hidden layer pre-activation\n",
    "    h = torch.tanh(hpreact) # hidden layer\n",
    "    logits = h @ W2 + b2 # output layer\n",
    "    loss = F.cross_entropy(logits, Yb) # loss function\n",
    "    \n",
    "    # backward pass\n",
    "    for p in parameters:\n",
    "        p.grad = None\n",
    "    loss.backward()\n",
    "    \n",
    "    # update\n",
    "    lr = 0.1 if i < 100000 else 0.01 # step learning rate decay\n",
    "    for p in parameters:\n",
    "        p.data += -lr * p.grad\n",
    "        \n",
    "    # track stats\n",
    "    if i % 10000 == 0: # print every once in a white (multiple)\n",
    "        print(f'{i:7d}/{max_steps:7d}: {loss.item():.4f}')\n",
    "    lossi.append(loss.log10().item())"
   ]
  },
  {
   "cell_type": "code",
   "execution_count": 28,
   "id": "ade30eea",
   "metadata": {},
   "outputs": [
    {
     "name": "stdout",
     "output_type": "stream",
     "text": [
      "train 2.0355966091156006\n",
      "val 2.102678060531616\n"
     ]
    }
   ],
   "source": [
    "split_loss('train')\n",
    "split_loss('val')"
   ]
  },
  {
   "cell_type": "raw",
   "id": "47cf2441",
   "metadata": {},
   "source": [
    "# The different losses\n",
    "\n",
    "# Original\n",
    "\n",
    "train 2.1261181831359863\n",
    "val 2.1693320274353027\n",
    "\n",
    "# fix softmax being cinfiendly wrong:\n",
    "# I have not written code to record it\n",
    "\n",
    "# fix tanh layer too saturateed at init:\n",
    "train 2.0355966091156006\n",
    "val 2.102678060531616"
   ]
  },
  {
   "cell_type": "markdown",
   "id": "ee3b8a40",
   "metadata": {},
   "source": [
    "Compared to the orignal loss values, desaturating the `tanh` resulted in an improvement. It is happening because our initialization is better, so the network spends more time doing \"productive\" training. All of the things I went through is to illustrate the impact of initialization on performance.\n",
    "\n",
    "Because we are working with a shallow network (one-layer MLP), Andrej said the optimization problem is easy and very forgiving. so, even though our initialization was trash, the network was able to learn and improv. This, Andrej said, **is not the case in general**. We should see this become more clear as we work our way through bigger and deeper networks. So, I need to be aware and careful."
   ]
  },
  {
   "cell_type": "markdown",
   "id": "92e0aaac",
   "metadata": {},
   "source": [
    "# Calculating the init scale: \"Kaiming init\"\n",
    "\n",
    "Looking back at the manipulation we performed when initializing the network in the previous section:\n",
    "\n",
    "```py\n",
    "# MLP revisited\n",
    "n_embed = 10 # the dimensionality of the character embeding vectors\n",
    "n_hidden = 200 # the number of neurons in the hidden layer of the MLP\n",
    "\n",
    "g = torch.Generator().manual_seed(2147483647) # for reproducibility\n",
    "C = torch.randn((vocab_size, n_embed),              generator=g)\n",
    "W1 = torch.randn((n_embed * block_size, n_hidden),  generator=g) * 0.2 # ANDREJ CHANGED THE VALUE\n",
    "b1 = torch.randn(n_hidden,                          generator=g) * 0.01\n",
    "W2 = torch.randn((n_hidden, vocab_size),            generator=g) * 0.01\n",
    "b2 = torch.randn(vocab_size,                        generator=g) * 0\n",
    "```\n",
    "\n",
    "We scaled down that the \"weight\" and \"biases\" matrices. But I just copied Andrej; I copied the same value as him. But how did he choose those \"magic\" numbers (i.e. constants). Plus, how are going to go about this if we have a large neural network with lots of layers? No one does this by hand. There is exist principled ways of setting this scales, and this is what this section is about. \n",
    "\n",
    "To motivate the discussion Andrej gave us the following piece of code:"
   ]
  },
  {
   "cell_type": "code",
   "execution_count": 31,
   "id": "91ace355",
   "metadata": {},
   "outputs": [
    {
     "name": "stdout",
     "output_type": "stream",
     "text": [
      "tensor(-0.0016) tensor(1.0096)\n",
      "tensor(0.0024) tensor(3.3316)\n"
     ]
    },
    {
     "data": {
      "text/plain": [
       "(array([6.75159873e-06, 0.00000000e+00, 6.75159873e-06, 1.35031975e-05,\n",
       "        1.35031975e-05, 4.05095924e-05, 4.72611911e-05, 1.62038370e-04,\n",
       "        1.89044765e-04, 3.64586332e-04, 7.22421065e-04, 1.10051059e-03,\n",
       "        1.77567047e-03, 2.86942946e-03, 4.63159673e-03, 7.00815949e-03,\n",
       "        1.07823032e-02, 1.67034553e-02, 2.43800230e-02, 3.51690778e-02,\n",
       "        4.92056516e-02, 6.31612062e-02, 8.19779118e-02, 9.99574193e-02,\n",
       "        1.15762912e-01, 1.25147634e-01, 1.28084580e-01, 1.21123681e-01,\n",
       "        1.09510931e-01, 9.17542268e-02, 7.33021075e-02, 5.59369955e-02,\n",
       "        4.11037331e-02, 3.02539139e-02, 2.06058793e-02, 1.36922422e-02,\n",
       "        8.77707836e-03, 5.79962331e-03, 3.85516288e-03, 2.36981116e-03,\n",
       "        1.16802658e-03, 7.89937052e-04, 3.84841128e-04, 2.29554357e-04,\n",
       "        2.02547962e-04, 7.42675861e-05, 5.40127899e-05, 2.70063949e-05,\n",
       "        6.75159873e-06, 1.35031975e-05]),\n",
       " array([-19.44420815, -18.70364281, -17.96307747, -17.22251213,\n",
       "        -16.48194679, -15.74138145, -15.00081612, -14.26025078,\n",
       "        -13.51968544, -12.7791201 , -12.03855476, -11.29798943,\n",
       "        -10.55742409,  -9.81685875,  -9.07629341,  -8.33572807,\n",
       "         -7.59516273,  -6.8545974 ,  -6.11403206,  -5.37346672,\n",
       "         -4.63290138,  -3.89233604,  -3.15177071,  -2.41120537,\n",
       "         -1.67064003,  -0.93007469,  -0.18950935,   0.55105598,\n",
       "          1.29162132,   2.03218666,   2.772752  ,   3.51331734,\n",
       "          4.25388268,   4.99444801,   5.73501335,   6.47557869,\n",
       "          7.21614403,   7.95670937,   8.6972747 ,   9.43784004,\n",
       "         10.17840538,  10.91897072,  11.65953606,  12.40010139,\n",
       "         13.14066673,  13.88123207,  14.62179741,  15.36236275,\n",
       "         16.10292809,  16.84349342,  17.58405876]),\n",
       " <BarContainer object of 50 artists>)"
      ]
     },
     "execution_count": 31,
     "metadata": {},
     "output_type": "execute_result"
    },
    {
     "data": {
      "image/png": "[encoded data removed]",
      "text/plain": [
       "<Figure size 2000x500 with 2 Axes>"
      ]
     },
     "metadata": {},
     "output_type": "display_data"
    }
   ],
   "source": [
    "x = torch.randn(1000, 10)\n",
    "w = torch.randn(10, 200)\n",
    "y = x @ w\n",
    "print(x.mean(), x.std())\n",
    "print(y.mean(), y.std())\n",
    "plt.figure(figsize=(20, 5))\n",
    "plt.subplot(121)\n",
    "plt.hist(x.view(-1).tolist(), 50, density=True)\n",
    "plt.subplot(122)\n",
    "plt.hist(y.view(-1).tolist(), 50, density=True)"
   ]
  },
  {
   "cell_type": "markdown",
   "id": "79997b11",
   "metadata": {},
   "source": [
    "In the previous code snippet, `x` represents the input. It is made of 1000 examples, that are each 10-dimensional. `w` on the other hand, is the weight matrix of the hidden layer. This layer is made up of 200 neurons, each with 10 inputs . Both `x`, and `y` are randomly initialized using numbers drawn from a Gaussian distribution. Then `y = x @ w` computes the preactivation of the neurons in the hidden layer. \n",
    "\n",
    "If `x` and `w` are made of uniform Gaussian and we matrix-multiply both, then what it is the mean and standard deviations of these Gaussians? In the beginning the input, `x` is a normal Gaussian distribution with a mean of 0 and a standard deviation of 1.\n",
    "\n",
    "> REMEMBER: The Standard deviation is a measure of spread of the distribution\n",
    "\n",
    "But after the matrix-multiplication, we notice that the mean of `y` stays roughly the same, but the standard deviation has expanded to 3! The input standard deviation was 1, but now has grown to three. It means that **the Gaussian distribution observed on the left is expanding**! This is undesirable. Andrej said that we want most of the neural network to have roughly similar activations, unit Gaussian distributions throughout the neural network. \n",
    "\n",
    "The question now is: **How do we scale the values in `w` so that the mean and standard deviation of `y` are preserved? That is for the standard deviation to be `1`** Intuitively scaling the values in `w` by a large number (say `5`) causes the standard deviation to increase, indicating that some values in `y` are taking extreme values. Conversly, scaling the values in `w` by a small number (say `0.2`) causes the standard deviation to shrink.\n",
    "\n",
    "It turns out, Andrej said, that the correct answer mathematically when you work out through the variance of the matrix-multiplication `x @ w` is that we should divide by the square root of the \"fan-in\". The \"fan in\" is the number of inputs in the hidden layer, so we are supposed to divide by $\\sqrt{10}$."
   ]
  },
  {
   "cell_type": "code",
   "execution_count": 32,
   "id": "64102068",
   "metadata": {},
   "outputs": [
    {
     "name": "stdout",
     "output_type": "stream",
     "text": [
      "tensor(0.0009) tensor(1.0018)\n",
      "tensor(0.0003) tensor(1.0057)\n"
     ]
    },
    {
     "data": {
      "text/plain": [
       "(array([6.68564795e-05, 4.45709864e-05, 8.91419727e-05, 1.11427466e-04,\n",
       "        1.55998452e-04, 4.01138877e-04, 6.23993809e-04, 1.04741818e-03,\n",
       "        1.40398607e-03, 2.25083481e-03, 4.30110018e-03, 6.88621739e-03,\n",
       "        1.05410383e-02, 1.63352665e-02, 2.40460471e-02, 3.78853384e-02,\n",
       "        5.72291465e-02, 8.18100455e-02, 1.17154838e-01, 1.60945832e-01,\n",
       "        2.18264120e-01, 2.79148088e-01, 3.36042952e-01, 3.94698370e-01,\n",
       "        4.30689441e-01, 4.34500261e-01, 4.02453721e-01, 3.52199934e-01,\n",
       "        2.96174204e-01, 2.26955463e-01, 1.68812611e-01, 1.26180462e-01,\n",
       "        8.80499836e-02, 6.02822591e-02, 4.16738722e-02, 2.88151427e-02,\n",
       "        1.94329501e-02, 1.12096031e-02, 6.81936091e-03, 4.59081160e-03,\n",
       "        2.65197369e-03, 1.62684100e-03, 1.13656015e-03, 6.90850289e-04,\n",
       "        3.11996905e-04, 1.33712959e-04, 1.11427466e-04, 8.91419727e-05,\n",
       "        0.00000000e+00, 2.22854932e-05]),\n",
       " array([-5.6324749 , -5.4081137 , -5.1837525 , -4.9593913 , -4.7350301 ,\n",
       "        -4.5106689 , -4.2863077 , -4.0619465 , -3.8375853 , -3.6132241 ,\n",
       "        -3.3888629 , -3.1645017 , -2.9401405 , -2.71577929, -2.49141809,\n",
       "        -2.26705689, -2.04269569, -1.81833449, -1.59397329, -1.36961209,\n",
       "        -1.14525089, -0.92088969, -0.69652849, -0.47216729, -0.24780609,\n",
       "        -0.02344489,  0.20091631,  0.42527751,  0.64963871,  0.87399991,\n",
       "         1.09836111,  1.32272231,  1.54708351,  1.77144471,  1.99580591,\n",
       "         2.22016711,  2.44452831,  2.66888951,  2.89325071,  3.11761191,\n",
       "         3.34197311,  3.56633431,  3.79069551,  4.01505672,  4.23941792,\n",
       "         4.46377912,  4.68814032,  4.91250152,  5.13686272,  5.36122392,\n",
       "         5.58558512]),\n",
       " <BarContainer object of 50 artists>)"
      ]
     },
     "execution_count": 32,
     "metadata": {},
     "output_type": "execute_result"
    },
    {
     "data": {
      "image/png": "[encoded data removed]",
      "text/plain": [
       "<Figure size 2000x500 with 2 Axes>"
      ]
     },
     "metadata": {},
     "output_type": "display_data"
    }
   ],
   "source": [
    "x = torch.randn(1000, 10)\n",
    "w = torch.randn(10, 200) / 10 ** 0.5\n",
    "y = x @ w\n",
    "print(x.mean(), x.std())\n",
    "print(y.mean(), y.std())\n",
    "plt.figure(figsize=(20, 5))\n",
    "plt.subplot(121)\n",
    "plt.hist(x.view(-1).tolist(), 50, density=True)\n",
    "plt.subplot(122)\n",
    "plt.hist(y.view(-1).tolist(), 50, density=True)"
   ]
  },
  {
   "cell_type": "markdown",
   "id": "6b503985",
   "metadata": {},
   "source": [
    "When performing the division, we see that the standard deviation of `y` is similar to `x`'s which is $1$. Andrej said many people in their papers have explored ways to best initialize neural networks. In this case of MLPs, we can have fairly deep networks that have several non-linearities. We want to make sure the activations are well-behaved; that is they do not expand to infinity or shrink all the way to zero. So, **How do we initialize the weights to that these activations take on reasonable values**?\n",
    "\n",
    "In this [paper](https://arxiv.org/pdf/1502.01852.pdf) provides detail on this question and is often referenced in the litterature. They studied CNN, and the `ReLU` and `PReLU` non-linearities, not the `tanh` that we are using. But Andrej said the analysis is very similar.\n",
    "\n",
    "The kaiming initialization described in the paper is implemented in PyTorch as well as `torch.nn.init.kaiming_normal`. Andrej said that it is the most common way of initializing neural network nowadays. Honestly, Andrej went very fast during this section; on purpose apparently. This paper came out 7 years ago, and that time, initializing neural network was tricky. You had to actually be very careful with the activations, their ranges, and histogram. You had to very careful for the neural net to train because everything was fragile, especially when the network was deep. But since then, inovations like *residual connections, the use of normalization layers (batch, layer, group normaization), better optimizers (not just SGD that we have been using so far) like \"RMS prop\" and \"Adam\"* that made neural networks more stable and less behaved thus lessining the importance of initialiazing neural networks **exactly right**. All of these inovations that Andrej mentioned made it less important to precisely calibrate the initialization of the neural network.\n",
    "\n",
    "In practice, Andrej said he normalizes the weights of his networks by the square root of the \"fan in\". Now, if we want to be accurate, we would use the `kaiming_normal` I mentioned earlier. So, if we are to apply this to our network we would do:"
   ]
  },
  {
   "cell_type": "code",
   "execution_count": 38,
   "id": "906a9b47",
   "metadata": {},
   "outputs": [
    {
     "name": "stdout",
     "output_type": "stream",
     "text": [
      "11897\n"
     ]
    }
   ],
   "source": [
    "# MLP revisited\n",
    "n_embed = 10 # the dimensionality of the character embeding vectors\n",
    "n_hidden = 200 # the number of neurons in the hidden layer of the MLP\n",
    "\n",
    "g = torch.Generator().manual_seed(2147483647) # for reproducibility\n",
    "C = torch.randn((vocab_size, n_embed),              generator=g)\n",
    "W1 = torch.randn((n_embed * block_size, n_hidden),  generator=g) * (5/3) /((n_embed * block_size)**0.5) # kaiming init for tanh\n",
    "b1 = torch.randn(n_hidden,                          generator=g) * 0.01\n",
    "W2 = torch.randn((n_hidden, vocab_size),            generator=g) * 0.01\n",
    "b2 = torch.randn(vocab_size,                        generator=g) * 0\n",
    "\n",
    "parameters = [C, W1, b1, W2, b2]\n",
    "print(sum(p.nelement() for p in parameters)) # number of parameters in total\n",
    "for p in parameters:\n",
    "    p.requires_grad = True"
   ]
  },
  {
   "cell_type": "code",
   "execution_count": 39,
   "id": "afbd3ff4",
   "metadata": {},
   "outputs": [
    {
     "name": "stdout",
     "output_type": "stream",
     "text": [
      "      0/ 200000: 3.3179\n",
      "  10000/ 200000: 2.1910\n",
      "  20000/ 200000: 2.3270\n",
      "  30000/ 200000: 2.5396\n",
      "  40000/ 200000: 1.9468\n",
      "  50000/ 200000: 2.3331\n",
      "  60000/ 200000: 2.3852\n",
      "  70000/ 200000: 2.1173\n",
      "  80000/ 200000: 2.3159\n",
      "  90000/ 200000: 2.2010\n",
      " 100000/ 200000: 1.8591\n",
      " 110000/ 200000: 2.0881\n",
      " 120000/ 200000: 1.9389\n",
      " 130000/ 200000: 2.3913\n",
      " 140000/ 200000: 2.0949\n",
      " 150000/ 200000: 2.1458\n",
      " 160000/ 200000: 1.7824\n",
      " 170000/ 200000: 1.7249\n",
      " 180000/ 200000: 1.9752\n",
      " 190000/ 200000: 1.8614\n"
     ]
    }
   ],
   "source": [
    "# Same optimization as last time\n",
    "max_steps = 200000\n",
    "batch_size = 32\n",
    "lossi = []\n",
    "\n",
    "for i in range(max_steps):\n",
    "    \n",
    "    # minibatch construct\n",
    "    ix = torch.randint(0, Xtr.shape[0], (batch_size,), generator=g)\n",
    "    Xb, Yb = Xtr[ix], Ytr[ix] # batch X, Y\n",
    "    \n",
    "    # forward pass\n",
    "    emb = C[Xb] # embed the characters into vectors\n",
    "    embcat = emb.view(emb.shape[0], -1) # concatenate the vectors\n",
    "    hpreact = embcat @ W1 + b1 # hidden layer pre-activation\n",
    "    h = torch.tanh(hpreact) # hidden layer\n",
    "    logits = h @ W2 + b2 # output layer\n",
    "    loss = F.cross_entropy(logits, Yb) # loss function\n",
    "    \n",
    "    # backward pass\n",
    "    for p in parameters:\n",
    "        p.grad = None\n",
    "    loss.backward()\n",
    "    \n",
    "    # update\n",
    "    lr = 0.1 if i < 100000 else 0.01 # step learning rate decay\n",
    "    for p in parameters:\n",
    "        p.data += -lr * p.grad\n",
    "        \n",
    "    # track stats\n",
    "    if i % 10000 == 0: # print every once in a white (multiple)\n",
    "        print(f'{i:7d}/{max_steps:7d}: {loss.item():.4f}')\n",
    "    lossi.append(loss.log10().item())"
   ]
  },
  {
   "cell_type": "code",
   "execution_count": 40,
   "id": "a79534a2",
   "metadata": {},
   "outputs": [
    {
     "name": "stdout",
     "output_type": "stream",
     "text": [
      "train 2.0376641750335693\n",
      "val 2.106989622116089\n"
     ]
    }
   ],
   "source": [
    "split_loss('train')\n",
    "split_loss('val')"
   ]
  },
  {
   "cell_type": "markdown",
   "id": "5f3b76ce",
   "metadata": {},
   "source": [
    "Training the network after using the \"kaiming init\" lends us in roughly the same spot as before. But the big deal Andrej told us is that this time we are not using `0.2` which is a magic number, but rather a semi-principled way to scale us to much bigger network."
   ]
  },
  {
   "cell_type": "markdown",
   "id": "9e31e498",
   "metadata": {},
   "source": [
    "# Batch Normalization\n",
    "\n",
    "(TO BE CONTINUED)"
   ]
  },
  {
   "cell_type": "code",
   "execution_count": null,
   "id": "aad9ec1a",
   "metadata": {},
   "outputs": [],
   "source": []
  }
 ],
 "metadata": {
  "kernelspec": {
   "display_name": "Python 3 (ipykernel)",
   "language": "python",
   "name": "python3"
  },
  "language_info": {
   "codemirror_mode": {
    "name": "ipython",
    "version": 3
   },
   "file_extension": ".py",
   "mimetype": "text/x-python",
   "name": "python",
   "nbconvert_exporter": "python",
   "pygments_lexer": "ipython3",
   "version": "3.10.9"
  }
 },
 "nbformat": 4,
 "nbformat_minor": 5
}
