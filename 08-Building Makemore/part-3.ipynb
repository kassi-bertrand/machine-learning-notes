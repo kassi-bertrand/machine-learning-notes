{
 "cells": [
  {
   "cell_type": "markdown",
   "id": "1e03b5aa",
   "metadata": {},
   "source": [
    "# Introduction\n",
    "\n",
    "This notebook is the third in the Makemore series. In part 2, we implemented a character-level language model using the MLP described in [Bengio et al. 2003](https://www.jmlr.org/papers/volume3/bengio03a/bengio03a.pdf). Our goal, is to graduate to a more complex neural networks such as an RNN with its variations (GRUs, LSTMs). But for this third part of the tutorial, Andrej decided to have us stick around MLPs for a bit longer. Why? **To get a deep and intuitive understanding of the activations in the neural network during training, and especially the gradients that are flowing backward, how they behave, and what they look like**. \n",
    "\n",
    "This understanding, Andrej said, is instrumental in understanding the development of architectures such as the RNN, and its variants. While Recurrent Neural Networks (RNNs) very expressive and a \"general\" approximator and can in theory implement all the algorithms, Andrej said that will see they are not easily optimizable using the gradient-based techniques we used so far. And the key reason why has to do with the activations, the gradients and how they behave during training. A lot of the variants since the original RNN, Andrej said, have tried to improve this situation.\n",
    "\n",
    "That is the path Andrej would like us to take, and I am ready for it. Let's do this!"
   ]
  },
  {
   "cell_type": "markdown",
   "id": "7bdfc8f7",
   "metadata": {},
   "source": [
    "# Starter code\n",
    "\n",
    "The code we set out to use in this part is very similar to what we used in `part-2`, but Andrej cleaned it up a little bit. So, I am copying his version of the code."
   ]
  },
  {
   "cell_type": "code",
   "execution_count": 1,
   "id": "a0b4ba3d",
   "metadata": {},
   "outputs": [],
   "source": [
    "import torch\n",
    "import torch.nn.functional as F\n",
    "import matplotlib.pyplot as plt # for making figures\n",
    "%matplotlib inline"
   ]
  },
  {
   "cell_type": "code",
   "execution_count": 2,
   "id": "c69db7fa",
   "metadata": {},
   "outputs": [
    {
     "data": {
      "text/plain": [
       "['emma', 'olivia', 'ava', 'isabella', 'sophia', 'charlotte', 'mia', 'amelia']"
      ]
     },
     "execution_count": 2,
     "metadata": {},
     "output_type": "execute_result"
    }
   ],
   "source": [
    "# read in all the words\n",
    "words = open('names.txt', 'r').read().splitlines()\n",
    "words[:8]"
   ]
  },
  {
   "cell_type": "code",
   "execution_count": 3,
   "id": "687db020",
   "metadata": {},
   "outputs": [
    {
     "data": {
      "text/plain": [
       "32033"
      ]
     },
     "execution_count": 3,
     "metadata": {},
     "output_type": "execute_result"
    }
   ],
   "source": [
    "len(words)"
   ]
  },
  {
   "cell_type": "code",
   "execution_count": 4,
   "id": "298d79cc",
   "metadata": {},
   "outputs": [
    {
     "name": "stdout",
     "output_type": "stream",
     "text": [
      "{1: 'a', 2: 'b', 3: 'c', 4: 'd', 5: 'e', 6: 'f', 7: 'g', 8: 'h', 9: 'i', 10: 'j', 11: 'k', 12: 'l', 13: 'm', 14: 'n', 15: 'o', 16: 'p', 17: 'q', 18: 'r', 19: 's', 20: 't', 21: 'u', 22: 'v', 23: 'w', 24: 'x', 25: 'y', 26: 'z', 0: '.'}\n",
      "27\n"
     ]
    }
   ],
   "source": [
    "# build the vocabulary of characters and mappings to/from integers\n",
    "chars = sorted(list(set(''.join(words))))\n",
    "stoi = {s:i+1 for i,s in enumerate(chars)}\n",
    "stoi['.'] = 0\n",
    "itos = {i:s for s,i in stoi.items()}\n",
    "vocab_size = len(itos)\n",
    "print(itos)\n",
    "print(vocab_size)"
   ]
  },
  {
   "cell_type": "code",
   "execution_count": 5,
   "id": "f54232a6",
   "metadata": {},
   "outputs": [
    {
     "name": "stdout",
     "output_type": "stream",
     "text": [
      "torch.Size([182625, 3]) torch.Size([182625])\n",
      "torch.Size([22655, 3]) torch.Size([22655])\n",
      "torch.Size([22866, 3]) torch.Size([22866])\n"
     ]
    }
   ],
   "source": [
    "# build the dataset\n",
    "block_size = 3 # context length: how many characters do we take to predict the next one?\n",
    "\n",
    "def build_dataset(words):\n",
    "    \n",
    "    X, Y = [], []\n",
    "    for w in words:\n",
    "        context = [0] * block_size\n",
    "        \n",
    "        for ch in w + '.':\n",
    "            ix = stoi[ch]\n",
    "            X.append(context)\n",
    "            Y.append(ix)\n",
    "            context = context[1:] + [ix] # crop and append\n",
    "\n",
    "    X = torch.tensor(X)\n",
    "    Y = torch.tensor(Y)\n",
    "    print(X.shape, Y.shape)\n",
    "    return X, Y\n",
    "\n",
    "import random\n",
    "random.seed(42)\n",
    "random.shuffle(words)\n",
    "n1 = int(0.8*len(words))\n",
    "n2 = int(0.9*len(words))\n",
    "\n",
    "# Split into train, dev, and test sets\n",
    "Xtr,  Ytr  = build_dataset(words[:n1])     # 80%\n",
    "Xdev, Ydev = build_dataset(words[n1:n2])   # 10%\n",
    "Xte,  Yte  = build_dataset(words[n2:])     # 10%"
   ]
  },
  {
   "cell_type": "code",
   "execution_count": 6,
   "id": "26662aa8",
   "metadata": {},
   "outputs": [
    {
     "name": "stdout",
     "output_type": "stream",
     "text": [
      "11897\n"
     ]
    }
   ],
   "source": [
    "# MLP revisiter\n",
    "n_embed = 10 # the dimensionality of the character embeding vectors\n",
    "n_hidden = 200 # the number of neurons in the hidden layer of the MLP\n",
    "\n",
    "g = torch.Generator().manual_seed(2147483647) # for reproducibility\n",
    "C = torch.randn((vocab_size, n_embed),              generator=g)\n",
    "W1 = torch.randn((n_embed * block_size, n_hidden),  generator=g)\n",
    "b1 = torch.randn(n_hidden,                          generator=g)\n",
    "W2 = torch.randn((n_hidden, vocab_size),            generator=g)\n",
    "b2 = torch.randn(vocab_size,                        generator=g)\n",
    "\n",
    "parameters = [C, W1, b1, W2, b2]\n",
    "print(sum(p.nelement() for p in parameters)) # number of parameters in total\n",
    "for p in parameters:\n",
    "    p.requires_grad = True"
   ]
  },
  {
   "cell_type": "code",
   "execution_count": 7,
   "id": "4b3447e7",
   "metadata": {},
   "outputs": [
    {
     "name": "stdout",
     "output_type": "stream",
     "text": [
      "      0/ 200000: 27.8817\n",
      "  10000/ 200000: 2.8263\n",
      "  20000/ 200000: 2.5130\n",
      "  30000/ 200000: 2.8010\n",
      "  40000/ 200000: 2.0541\n",
      "  50000/ 200000: 2.6152\n",
      "  60000/ 200000: 2.3549\n",
      "  70000/ 200000: 2.0835\n",
      "  80000/ 200000: 2.2652\n",
      "  90000/ 200000: 2.2635\n",
      " 100000/ 200000: 2.0810\n",
      " 110000/ 200000: 2.3367\n",
      " 120000/ 200000: 1.9650\n",
      " 130000/ 200000: 2.4398\n",
      " 140000/ 200000: 2.1524\n",
      " 150000/ 200000: 2.1201\n",
      " 160000/ 200000: 2.0399\n",
      " 170000/ 200000: 1.8172\n",
      " 180000/ 200000: 2.0771\n",
      " 190000/ 200000: 1.7632\n"
     ]
    }
   ],
   "source": [
    "# Same optimization as last time\n",
    "max_steps = 200000\n",
    "batch_size = 32\n",
    "lossi = []\n",
    "\n",
    "for i in range(max_steps):\n",
    "    \n",
    "    # minibatch construct\n",
    "    ix = torch.randint(0, Xtr.shape[0], (batch_size,), generator=g)\n",
    "    Xb, Yb = Xtr[ix], Ytr[ix] # batch X, Y\n",
    "    \n",
    "    # forward pass\n",
    "    emb = C[Xb] # embed the characters into vectors\n",
    "    embcat = emb.view(emb.shape[0], -1) # concatenate the vectors\n",
    "    hpreact = embcat @ W1 + b1 # hidden layer pre-activation\n",
    "    h = torch.tanh(hpreact) # hidden layer\n",
    "    logits = h @ W2 + b2 # output layer\n",
    "    loss = F.cross_entropy(logits, Yb) # loss function\n",
    "    \n",
    "    # backward pass\n",
    "    for p in parameters:\n",
    "        p.grad = None\n",
    "    loss.backward()\n",
    "    \n",
    "    # update\n",
    "    lr = 0.1 if i < 100000 else 0.01 # step learning rate decay\n",
    "    for p in parameters:\n",
    "        p.data += -lr * p.grad\n",
    "        \n",
    "    # track stats\n",
    "    if i % 10000 == 0: # print every once in a white (multiple)\n",
    "        print(f'{i:7d}/{max_steps:7d}: {loss.item():.4f}')\n",
    "    lossi.append(loss.log10().item())"
   ]
  },
  {
   "cell_type": "code",
   "execution_count": 8,
   "id": "25c7c2bc",
   "metadata": {},
   "outputs": [
    {
     "data": {
      "text/plain": [
       "[<matplotlib.lines.Line2D at 0x142e43d90>]"
      ]
     },
     "execution_count": 8,
     "metadata": {},
     "output_type": "execute_result"
    },
    {
     "data": {
      "image/png": "[encoded data removed]",
      "text/plain": [
       "<Figure size 640x480 with 1 Axes>"
      ]
     },
     "metadata": {},
     "output_type": "display_data"
    }
   ],
   "source": [
    "plt.plot(lossi)"
   ]
  },
  {
   "cell_type": "code",
   "execution_count": 9,
   "id": "4eac5e72",
   "metadata": {},
   "outputs": [
    {
     "name": "stdout",
     "output_type": "stream",
     "text": [
      "train 2.1261181831359863\n",
      "val 2.1693320274353027\n"
     ]
    }
   ],
   "source": [
    "@torch.no_grad() # this decorator disables gradient tracking\n",
    "def split_loss(split):\n",
    "    x,y = {\n",
    "        'train': (Xtr, Ytr),\n",
    "        'val': (Xdev, Ydev),\n",
    "        'test': (Xte, Yte),\n",
    "    }[split]\n",
    "    emb = C[x] # (N, block_size, n_embd)\n",
    "    embcat = emb.view(emb.shape[0], -1) # concat into (N, block_size * n_embd)\n",
    "    h = torch.tanh(embcat @ W1 + b1) # (N, n_hidden)\n",
    "    logits = h @ W2 + b2 # (N, vocab_size)\n",
    "    loss = F.cross_entropy(logits, y)\n",
    "    print(split, loss.item())\n",
    "    \n",
    "split_loss('train')\n",
    "split_loss('val')"
   ]
  },
  {
   "cell_type": "code",
   "execution_count": 10,
   "id": "d248c973",
   "metadata": {},
   "outputs": [
    {
     "name": "stdout",
     "output_type": "stream",
     "text": [
      "carlah.\n",
      "amorie.\n",
      "khi.\n",
      "myli.\n",
      "taty.\n",
      "salayson.\n",
      "mahnen.\n",
      "den.\n",
      "art.\n",
      "kaeli.\n",
      "nellara.\n",
      "chaiir.\n",
      "kaleigh.\n",
      "ham.\n",
      "jorn.\n",
      "quint.\n",
      "salin.\n",
      "alianni.\n",
      "wazthoniearynix.\n",
      "kaelissuli.\n"
     ]
    }
   ],
   "source": [
    "# sample from the model\n",
    "g = torch.Generator().manual_seed(2147483647 + 10)\n",
    "\n",
    "for _ in range(20):\n",
    "    \n",
    "    out = []\n",
    "    context = [0] * block_size # initialize with \"...\"\n",
    "    while True:\n",
    "        # forward pass the neural net\n",
    "        emb = C[torch.tensor([context])] # (1, block_size, n_embd)\n",
    "        h = torch.tanh(emb.view(1, -1) @ W1 + b1)\n",
    "        logits = h @ W2 + b2\n",
    "        probs = F.softmax(logits, dim=1)\n",
    "        # sample from the distribution\n",
    "        ix = torch.multinomial(probs, num_samples=1, generator=g).item()\n",
    "        # shift context window and incorporates the previously made prediction, \"ix\"\n",
    "        context = context[1:] + [ix]\n",
    "        out.append(ix)\n",
    "        # if we sample the special '.' token, break\n",
    "        if ix == 0:\n",
    "            break\n",
    "    \n",
    "    print(''.join(itos[i] for i in out)) # decode and print the generated word"
   ]
  },
  {
   "cell_type": "markdown",
   "id": "f866dd45",
   "metadata": {},
   "source": [
    "# Fixing the initial loss\n",
    "\n",
    "With our starting code written, the first thing Andrej brought up was the **initialization**. Our network, he said, is improperly initialized for several reasons. While looking at the following:\n",
    "\n",
    "```\n",
    " 0/ 200000: 27.8817\n",
    "  10000/ 200000: 2.8263\n",
    "  20000/ 200000: 2.5130\n",
    "  30000/ 200000: 2.8010\n",
    "  40000/ 200000: 2.0541\n",
    "  50000/ 200000: 2.6152\n",
    "  60000/ 200000: 2.3549\n",
    "  70000/ 200000: 2.0835\n",
    "  80000/ 200000: 2.2652\n",
    "  90000/ 200000: 2.2635\n",
    " 100000/ 200000: 2.0810\n",
    " 110000/ 200000: 2.3367\n",
    " 120000/ 200000: 1.9650\n",
    " 130000/ 200000: 2.4398\n",
    " 140000/ 200000: 2.1524\n",
    " 150000/ 200000: 2.1201\n",
    " 160000/ 200000: 2.0399\n",
    " 170000/ 200000: 1.8172\n",
    " 180000/ 200000: 2.0771\n",
    " 190000/ 200000: 1.7632\n",
    "```\n",
    "On the $0^{th}$ iteration, a loss of $27.8$ was recorded. This loss rapidly falls to $2$, and then later goes to $1$. This rapid fall, Andrej pointed out, reveals that the weights' initialization is messed up. In training of neural nets, he continued, it is almost always the case to have an idea of what loss to expect at initialization, and that depends on the loss function and the problem setup.\n",
    "\n",
    "In our case, Andrej did not expecting $27$ as a loss, but rather smaller number, and that we'll soon calculate together.\n",
    "\n",
    "At initialization, Andrej said, there are $27$ possible characters that could come next for any training example. At initalization however, we have no reason to believe that one character is more likely than another. As a result, we'd expect the probability distribution coming out of the network to be uniform, effectively assigning the same probability to the $27$ characters.\n",
    "\n",
    "(TO BE CONTINUED)"
   ]
  },
  {
   "cell_type": "code",
   "execution_count": null,
   "id": "ea5447b4",
   "metadata": {},
   "outputs": [],
   "source": []
  }
 ],
 "metadata": {
  "kernelspec": {
   "display_name": "Python 3 (ipykernel)",
   "language": "python",
   "name": "python3"
  },
  "language_info": {
   "codemirror_mode": {
    "name": "ipython",
    "version": 3
   },
   "file_extension": ".py",
   "mimetype": "text/x-python",
   "name": "python",
   "nbconvert_exporter": "python",
   "pygments_lexer": "ipython3",
   "version": "3.10.9"
  }
 },
 "nbformat": 4,
 "nbformat_minor": 5
}
